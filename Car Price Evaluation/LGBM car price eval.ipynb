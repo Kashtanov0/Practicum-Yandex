{
 "cells": [
  {
   "cell_type": "markdown",
   "metadata": {},
   "source": [
    "# Car Price Evaluation"
   ]
  },
  {
   "cell_type": "markdown",
   "metadata": {},
   "source": [
    "The used car sales service \"Not Beaten, Not Painted\" is developing an application to attract new customers. In it, you can quickly find out the market value of your car. You have historical data: technical characteristics, configurations, and car prices. You need to build a model to determine the price.\n",
    "\n",
    "The customer cares about:\n",
    "\n",
    "- prediction quality;\n",
    "- prediction speed;\n",
    "- training time."
   ]
  },
  {
   "cell_type": "markdown",
   "metadata": {},
   "source": [
    "**Goal: Train a model to determine the market value of a car using a gradient boosting algorithm and compare its quality and speed with simpler models.**"
   ]
  },
  {
   "cell_type": "markdown",
   "metadata": {},
   "source": [
    "**Data description:**\n",
    "\n",
    "*Features*\n",
    "   * **DateCrawled** — date the listing was downloaded from the database\n",
    "   * **VehicleType** — type of car body\n",
    "   * **RegistrationYear** — year the car was registered\n",
    "   * **Gearbox** — type of gearbox\n",
    "   * **Power** — power (hp)\n",
    "   * **Model** — car model\n",
    "   * **Kilometer** — mileage (km)\n",
    "   * **RegistrationMonth** — month the car was registered\n",
    "   * **FuelType** — type of fuel\n",
    "   * **Brand** — car brand\n",
    "   * **Repaired** — whether the car was repaired or not\n",
    "   * **DateCreated** — date the listing was created\n",
    "   * **NumberOfPictures** — number of car photos\n",
    "   * **PostalCode** — owner's postal code\n",
    "   * **LastSeen** — date of last user activity\n",
    "\n",
    "*Target*\n",
    "   * **Price** — price (euro)"
   ]
  },
  {
   "cell_type": "code",
   "execution_count": 1,
   "metadata": {
    "scrolled": false
   },
   "outputs": [
    {
     "name": "stdout",
     "output_type": "stream",
     "text": [
      "Requirement already satisfied: pandas==2.2.2 in c:\\users\\datre\\appdata\\local\\programs\\python\\python311\\lib\\site-packages (from -r requirements.txt (line 1)) (2.2.2)\n",
      "Requirement already satisfied: numpy==1.26.4 in c:\\users\\datre\\appdata\\local\\programs\\python\\python311\\lib\\site-packages (from -r requirements.txt (line 2)) (1.26.4)\n",
      "Requirement already satisfied: scikit-learn==1.4.2 in c:\\users\\datre\\appdata\\local\\programs\\python\\python311\\lib\\site-packages (from -r requirements.txt (line 3)) (1.4.2)\n",
      "Requirement already satisfied: missingno==0.5.2 in c:\\users\\datre\\appdata\\local\\programs\\python\\python311\\lib\\site-packages (from -r requirements.txt (line 4)) (0.5.2)\n",
      "Requirement already satisfied: seaborn==0.13.2 in c:\\users\\datre\\appdata\\local\\programs\\python\\python311\\lib\\site-packages (from -r requirements.txt (line 5)) (0.13.2)\n",
      "Requirement already satisfied: matplotlib==3.8.4 in c:\\users\\datre\\appdata\\local\\programs\\python\\python311\\lib\\site-packages (from -r requirements.txt (line 6)) (3.8.4)\n",
      "Requirement already satisfied: lightgbm==4.1.0 in c:\\users\\datre\\appdata\\local\\programs\\python\\python311\\lib\\site-packages (from -r requirements.txt (line 7)) (4.1.0)\n",
      "Requirement already satisfied: phik==0.12.4 in c:\\users\\datre\\appdata\\local\\programs\\python\\python311\\lib\\site-packages (from -r requirements.txt (line 8)) (0.12.4)\n",
      "Requirement already satisfied: python-dateutil>=2.8.2 in c:\\users\\datre\\appdata\\local\\programs\\python\\python311\\lib\\site-packages (from pandas==2.2.2->-r requirements.txt (line 1)) (2.9.0.post0)\n",
      "Requirement already satisfied: pytz>=2020.1 in c:\\users\\datre\\appdata\\local\\programs\\python\\python311\\lib\\site-packages (from pandas==2.2.2->-r requirements.txt (line 1)) (2025.2)\n",
      "Requirement already satisfied: tzdata>=2022.7 in c:\\users\\datre\\appdata\\local\\programs\\python\\python311\\lib\\site-packages (from pandas==2.2.2->-r requirements.txt (line 1)) (2025.2)\n",
      "Requirement already satisfied: scipy>=1.6.0 in c:\\users\\datre\\appdata\\local\\programs\\python\\python311\\lib\\site-packages (from scikit-learn==1.4.2->-r requirements.txt (line 3)) (1.11.4)\n",
      "Requirement already satisfied: joblib>=1.2.0 in c:\\users\\datre\\appdata\\local\\programs\\python\\python311\\lib\\site-packages (from scikit-learn==1.4.2->-r requirements.txt (line 3)) (1.5.1)\n",
      "Requirement already satisfied: threadpoolctl>=2.0.0 in c:\\users\\datre\\appdata\\local\\programs\\python\\python311\\lib\\site-packages (from scikit-learn==1.4.2->-r requirements.txt (line 3)) (3.6.0)\n",
      "Requirement already satisfied: contourpy>=1.0.1 in c:\\users\\datre\\appdata\\local\\programs\\python\\python311\\lib\\site-packages (from matplotlib==3.8.4->-r requirements.txt (line 6)) (1.3.2)\n",
      "Requirement already satisfied: cycler>=0.10 in c:\\users\\datre\\appdata\\local\\programs\\python\\python311\\lib\\site-packages (from matplotlib==3.8.4->-r requirements.txt (line 6)) (0.12.1)\n",
      "Requirement already satisfied: fonttools>=4.22.0 in c:\\users\\datre\\appdata\\local\\programs\\python\\python311\\lib\\site-packages (from matplotlib==3.8.4->-r requirements.txt (line 6)) (4.58.2)\n",
      "Requirement already satisfied: kiwisolver>=1.3.1 in c:\\users\\datre\\appdata\\local\\programs\\python\\python311\\lib\\site-packages (from matplotlib==3.8.4->-r requirements.txt (line 6)) (1.4.8)\n",
      "Requirement already satisfied: packaging>=20.0 in c:\\users\\datre\\appdata\\local\\programs\\python\\python311\\lib\\site-packages (from matplotlib==3.8.4->-r requirements.txt (line 6)) (25.0)\n",
      "Requirement already satisfied: pillow>=8 in c:\\users\\datre\\appdata\\local\\programs\\python\\python311\\lib\\site-packages (from matplotlib==3.8.4->-r requirements.txt (line 6)) (11.2.1)\n",
      "Requirement already satisfied: pyparsing>=2.3.1 in c:\\users\\datre\\appdata\\local\\programs\\python\\python311\\lib\\site-packages (from matplotlib==3.8.4->-r requirements.txt (line 6)) (3.2.3)\n",
      "Requirement already satisfied: six>=1.5 in c:\\users\\datre\\appdata\\local\\programs\\python\\python311\\lib\\site-packages (from python-dateutil>=2.8.2->pandas==2.2.2->-r requirements.txt (line 1)) (1.17.0)\n",
      "Note: you may need to restart the kernel to use updated packages.\n"
     ]
    },
    {
     "name": "stderr",
     "output_type": "stream",
     "text": [
      "WARNING: Ignoring invalid distribution ~ip (C:\\Users\\datre\\AppData\\Local\\Programs\\Python\\Python311\\Lib\\site-packages)\n",
      "WARNING: Ignoring invalid distribution ~orch (C:\\Users\\datre\\AppData\\Local\\Programs\\Python\\Python311\\Lib\\site-packages)\n",
      "WARNING: Ignoring invalid distribution ~umpy (C:\\Users\\datre\\AppData\\Local\\Programs\\Python\\Python311\\Lib\\site-packages)\n",
      "WARNING: Ignoring invalid distribution ~ip (C:\\Users\\datre\\AppData\\Local\\Programs\\Python\\Python311\\Lib\\site-packages)\n",
      "WARNING: Ignoring invalid distribution ~orch (C:\\Users\\datre\\AppData\\Local\\Programs\\Python\\Python311\\Lib\\site-packages)\n",
      "WARNING: Ignoring invalid distribution ~umpy (C:\\Users\\datre\\AppData\\Local\\Programs\\Python\\Python311\\Lib\\site-packages)\n",
      "WARNING: Ignoring invalid distribution ~ip (C:\\Users\\datre\\AppData\\Local\\Programs\\Python\\Python311\\Lib\\site-packages)\n",
      "WARNING: Ignoring invalid distribution ~orch (C:\\Users\\datre\\AppData\\Local\\Programs\\Python\\Python311\\Lib\\site-packages)\n",
      "WARNING: Ignoring invalid distribution ~umpy (C:\\Users\\datre\\AppData\\Local\\Programs\\Python\\Python311\\Lib\\site-packages)\n"
     ]
    }
   ],
   "source": [
    "pip install -r requirements.txt"
   ]
  },
  {
   "cell_type": "code",
   "execution_count": 2,
   "metadata": {},
   "outputs": [],
   "source": [
    "from sklearn.pipeline import Pipeline\n",
    "from sklearn.linear_model import Ridge\n",
    "from sklearn.preprocessing import (\n",
    "    StandardScaler, \n",
    "    OneHotEncoder, \n",
    "    OrdinalEncoder, \n",
    "    MinMaxScaler,\n",
    "    LabelEncoder\n",
    ")\n",
    "from sklearn.model_selection import train_test_split, RandomizedSearchCV, GridSearchCV \n",
    "from sklearn.impute import SimpleImputer \n",
    "from sklearn.compose import ColumnTransformer\n",
    "from sklearn.metrics import (\n",
    "    accuracy_score, \n",
    "    confusion_matrix, \n",
    "    r2_score,\n",
    "    precision_score,\n",
    "    recall_score,\n",
    "    mean_squared_error,\n",
    "    mean_absolute_error,\n",
    "    roc_auc_score,\n",
    "    make_scorer\n",
    ")\n",
    "\n",
    "from warnings import simplefilter\n",
    "\n",
    "simplefilter(action='ignore', category=FutureWarning)\n",
    "\n",
    "import pandas as pd\n",
    "import numpy as np\n",
    "import missingno as msno\n",
    "import seaborn as sns\n",
    "import matplotlib.pyplot as plt\n",
    "import lightgbm as lgb\n",
    "import phik\n",
    "import re"
   ]
  },
  {
   "cell_type": "code",
   "execution_count": 3,
   "metadata": {},
   "outputs": [],
   "source": [
    "RANDOM_STATE = 44\n",
    "TEST_SIZE = 0.25"
   ]
  },
  {
   "cell_type": "markdown",
   "metadata": {},
   "source": [
    "## Data Preparation"
   ]
  },
  {
   "cell_type": "markdown",
   "metadata": {},
   "source": [
    "### Data Loading"
   ]
  },
  {
   "cell_type": "code",
   "execution_count": 4,
   "metadata": {
    "scrolled": false
   },
   "outputs": [
    {
     "data": {
      "text/html": [
       "<div>\n",
       "<style scoped>\n",
       "    .dataframe tbody tr th:only-of-type {\n",
       "        vertical-align: middle;\n",
       "    }\n",
       "\n",
       "    .dataframe tbody tr th {\n",
       "        vertical-align: top;\n",
       "    }\n",
       "\n",
       "    .dataframe thead th {\n",
       "        text-align: right;\n",
       "    }\n",
       "</style>\n",
       "<table border=\"1\" class=\"dataframe\">\n",
       "  <thead>\n",
       "    <tr style=\"text-align: right;\">\n",
       "      <th></th>\n",
       "      <th>DateCrawled</th>\n",
       "      <th>Price</th>\n",
       "      <th>VehicleType</th>\n",
       "      <th>RegistrationYear</th>\n",
       "      <th>Gearbox</th>\n",
       "      <th>Power</th>\n",
       "      <th>Model</th>\n",
       "      <th>Kilometer</th>\n",
       "      <th>RegistrationMonth</th>\n",
       "      <th>FuelType</th>\n",
       "      <th>Brand</th>\n",
       "      <th>Repaired</th>\n",
       "      <th>DateCreated</th>\n",
       "      <th>NumberOfPictures</th>\n",
       "      <th>PostalCode</th>\n",
       "      <th>LastSeen</th>\n",
       "    </tr>\n",
       "  </thead>\n",
       "  <tbody>\n",
       "    <tr>\n",
       "      <th>0</th>\n",
       "      <td>2016-03-24 11:52:17</td>\n",
       "      <td>480</td>\n",
       "      <td>NaN</td>\n",
       "      <td>1993</td>\n",
       "      <td>manual</td>\n",
       "      <td>0</td>\n",
       "      <td>golf</td>\n",
       "      <td>150000</td>\n",
       "      <td>0</td>\n",
       "      <td>petrol</td>\n",
       "      <td>volkswagen</td>\n",
       "      <td>NaN</td>\n",
       "      <td>2016-03-24</td>\n",
       "      <td>0</td>\n",
       "      <td>70435</td>\n",
       "      <td>2016-04-07 03:16:57</td>\n",
       "    </tr>\n",
       "    <tr>\n",
       "      <th>1</th>\n",
       "      <td>2016-03-24 10:58:45</td>\n",
       "      <td>18300</td>\n",
       "      <td>coupe</td>\n",
       "      <td>2011</td>\n",
       "      <td>manual</td>\n",
       "      <td>190</td>\n",
       "      <td>NaN</td>\n",
       "      <td>125000</td>\n",
       "      <td>5</td>\n",
       "      <td>gasoline</td>\n",
       "      <td>audi</td>\n",
       "      <td>yes</td>\n",
       "      <td>2016-03-24</td>\n",
       "      <td>0</td>\n",
       "      <td>66954</td>\n",
       "      <td>2016-04-07 01:46:50</td>\n",
       "    </tr>\n",
       "    <tr>\n",
       "      <th>2</th>\n",
       "      <td>2016-03-14 12:52:21</td>\n",
       "      <td>9800</td>\n",
       "      <td>suv</td>\n",
       "      <td>2004</td>\n",
       "      <td>auto</td>\n",
       "      <td>163</td>\n",
       "      <td>grand</td>\n",
       "      <td>125000</td>\n",
       "      <td>8</td>\n",
       "      <td>gasoline</td>\n",
       "      <td>jeep</td>\n",
       "      <td>NaN</td>\n",
       "      <td>2016-03-14</td>\n",
       "      <td>0</td>\n",
       "      <td>90480</td>\n",
       "      <td>2016-04-05 12:47:46</td>\n",
       "    </tr>\n",
       "    <tr>\n",
       "      <th>3</th>\n",
       "      <td>2016-03-17 16:54:04</td>\n",
       "      <td>1500</td>\n",
       "      <td>small</td>\n",
       "      <td>2001</td>\n",
       "      <td>manual</td>\n",
       "      <td>75</td>\n",
       "      <td>golf</td>\n",
       "      <td>150000</td>\n",
       "      <td>6</td>\n",
       "      <td>petrol</td>\n",
       "      <td>volkswagen</td>\n",
       "      <td>no</td>\n",
       "      <td>2016-03-17</td>\n",
       "      <td>0</td>\n",
       "      <td>91074</td>\n",
       "      <td>2016-03-17 17:40:17</td>\n",
       "    </tr>\n",
       "    <tr>\n",
       "      <th>4</th>\n",
       "      <td>2016-03-31 17:25:20</td>\n",
       "      <td>3600</td>\n",
       "      <td>small</td>\n",
       "      <td>2008</td>\n",
       "      <td>manual</td>\n",
       "      <td>69</td>\n",
       "      <td>fabia</td>\n",
       "      <td>90000</td>\n",
       "      <td>7</td>\n",
       "      <td>gasoline</td>\n",
       "      <td>skoda</td>\n",
       "      <td>no</td>\n",
       "      <td>2016-03-31</td>\n",
       "      <td>0</td>\n",
       "      <td>60437</td>\n",
       "      <td>2016-04-06 10:17:21</td>\n",
       "    </tr>\n",
       "  </tbody>\n",
       "</table>\n",
       "</div>"
      ],
      "text/plain": [
       "          DateCrawled  Price VehicleType  RegistrationYear Gearbox  Power  \\\n",
       "0 2016-03-24 11:52:17    480         NaN              1993  manual      0   \n",
       "1 2016-03-24 10:58:45  18300       coupe              2011  manual    190   \n",
       "2 2016-03-14 12:52:21   9800         suv              2004    auto    163   \n",
       "3 2016-03-17 16:54:04   1500       small              2001  manual     75   \n",
       "4 2016-03-31 17:25:20   3600       small              2008  manual     69   \n",
       "\n",
       "   Model  Kilometer  RegistrationMonth  FuelType       Brand Repaired  \\\n",
       "0   golf     150000                  0    petrol  volkswagen      NaN   \n",
       "1    NaN     125000                  5  gasoline        audi      yes   \n",
       "2  grand     125000                  8  gasoline        jeep      NaN   \n",
       "3   golf     150000                  6    petrol  volkswagen       no   \n",
       "4  fabia      90000                  7  gasoline       skoda       no   \n",
       "\n",
       "  DateCreated  NumberOfPictures  PostalCode            LastSeen  \n",
       "0  2016-03-24                 0       70435 2016-04-07 03:16:57  \n",
       "1  2016-03-24                 0       66954 2016-04-07 01:46:50  \n",
       "2  2016-03-14                 0       90480 2016-04-05 12:47:46  \n",
       "3  2016-03-17                 0       91074 2016-03-17 17:40:17  \n",
       "4  2016-03-31                 0       60437 2016-04-06 10:17:21  "
      ]
     },
     "execution_count": 4,
     "metadata": {},
     "output_type": "execute_result"
    }
   ],
   "source": [
    "df = pd.read_csv('autos.csv', parse_dates=['DateCrawled','DateCreated','LastSeen'])\n",
    "df.head()"
   ]
  },
  {
   "cell_type": "code",
   "execution_count": 5,
   "metadata": {},
   "outputs": [
    {
     "name": "stdout",
     "output_type": "stream",
     "text": [
      "<class 'pandas.core.frame.DataFrame'>\n",
      "RangeIndex: 354369 entries, 0 to 354368\n",
      "Data columns (total 16 columns):\n",
      " #   Column             Non-Null Count   Dtype         \n",
      "---  ------             --------------   -----         \n",
      " 0   DateCrawled        354369 non-null  datetime64[ns]\n",
      " 1   Price              354369 non-null  int64         \n",
      " 2   VehicleType        316879 non-null  object        \n",
      " 3   RegistrationYear   354369 non-null  int64         \n",
      " 4   Gearbox            334536 non-null  object        \n",
      " 5   Power              354369 non-null  int64         \n",
      " 6   Model              334664 non-null  object        \n",
      " 7   Kilometer          354369 non-null  int64         \n",
      " 8   RegistrationMonth  354369 non-null  int64         \n",
      " 9   FuelType           321474 non-null  object        \n",
      " 10  Brand              354369 non-null  object        \n",
      " 11  Repaired           283215 non-null  object        \n",
      " 12  DateCreated        354369 non-null  datetime64[ns]\n",
      " 13  NumberOfPictures   354369 non-null  int64         \n",
      " 14  PostalCode         354369 non-null  int64         \n",
      " 15  LastSeen           354369 non-null  datetime64[ns]\n",
      "dtypes: datetime64[ns](3), int64(7), object(6)\n",
      "memory usage: 43.3+ MB\n"
     ]
    }
   ],
   "source": [
    "df.info()"
   ]
  },
  {
   "cell_type": "markdown",
   "metadata": {},
   "source": [
    "**Features are in the correct format, column names are in camelCase.**"
   ]
  },
  {
   "cell_type": "code",
   "execution_count": 6,
   "metadata": {
    "scrolled": true
   },
   "outputs": [
    {
     "data": {
      "text/html": [
       "<div>\n",
       "<style scoped>\n",
       "    .dataframe tbody tr th:only-of-type {\n",
       "        vertical-align: middle;\n",
       "    }\n",
       "\n",
       "    .dataframe tbody tr th {\n",
       "        vertical-align: top;\n",
       "    }\n",
       "\n",
       "    .dataframe thead th {\n",
       "        text-align: right;\n",
       "    }\n",
       "</style>\n",
       "<table border=\"1\" class=\"dataframe\">\n",
       "  <thead>\n",
       "    <tr style=\"text-align: right;\">\n",
       "      <th></th>\n",
       "      <th>date_crawled</th>\n",
       "      <th>price</th>\n",
       "      <th>vehicle_type</th>\n",
       "      <th>registration_year</th>\n",
       "      <th>gearbox</th>\n",
       "      <th>power</th>\n",
       "      <th>model</th>\n",
       "      <th>kilometer</th>\n",
       "      <th>registration_month</th>\n",
       "      <th>fuel_type</th>\n",
       "      <th>brand</th>\n",
       "      <th>repaired</th>\n",
       "      <th>date_created</th>\n",
       "      <th>number_of_pictures</th>\n",
       "      <th>postal_code</th>\n",
       "      <th>last_seen</th>\n",
       "    </tr>\n",
       "  </thead>\n",
       "  <tbody>\n",
       "    <tr>\n",
       "      <th>0</th>\n",
       "      <td>2016-03-24 11:52:17</td>\n",
       "      <td>480</td>\n",
       "      <td>NaN</td>\n",
       "      <td>1993</td>\n",
       "      <td>manual</td>\n",
       "      <td>0</td>\n",
       "      <td>golf</td>\n",
       "      <td>150000</td>\n",
       "      <td>0</td>\n",
       "      <td>petrol</td>\n",
       "      <td>volkswagen</td>\n",
       "      <td>NaN</td>\n",
       "      <td>2016-03-24</td>\n",
       "      <td>0</td>\n",
       "      <td>70435</td>\n",
       "      <td>2016-04-07 03:16:57</td>\n",
       "    </tr>\n",
       "    <tr>\n",
       "      <th>1</th>\n",
       "      <td>2016-03-24 10:58:45</td>\n",
       "      <td>18300</td>\n",
       "      <td>coupe</td>\n",
       "      <td>2011</td>\n",
       "      <td>manual</td>\n",
       "      <td>190</td>\n",
       "      <td>NaN</td>\n",
       "      <td>125000</td>\n",
       "      <td>5</td>\n",
       "      <td>gasoline</td>\n",
       "      <td>audi</td>\n",
       "      <td>yes</td>\n",
       "      <td>2016-03-24</td>\n",
       "      <td>0</td>\n",
       "      <td>66954</td>\n",
       "      <td>2016-04-07 01:46:50</td>\n",
       "    </tr>\n",
       "    <tr>\n",
       "      <th>2</th>\n",
       "      <td>2016-03-14 12:52:21</td>\n",
       "      <td>9800</td>\n",
       "      <td>suv</td>\n",
       "      <td>2004</td>\n",
       "      <td>auto</td>\n",
       "      <td>163</td>\n",
       "      <td>grand</td>\n",
       "      <td>125000</td>\n",
       "      <td>8</td>\n",
       "      <td>gasoline</td>\n",
       "      <td>jeep</td>\n",
       "      <td>NaN</td>\n",
       "      <td>2016-03-14</td>\n",
       "      <td>0</td>\n",
       "      <td>90480</td>\n",
       "      <td>2016-04-05 12:47:46</td>\n",
       "    </tr>\n",
       "    <tr>\n",
       "      <th>3</th>\n",
       "      <td>2016-03-17 16:54:04</td>\n",
       "      <td>1500</td>\n",
       "      <td>small</td>\n",
       "      <td>2001</td>\n",
       "      <td>manual</td>\n",
       "      <td>75</td>\n",
       "      <td>golf</td>\n",
       "      <td>150000</td>\n",
       "      <td>6</td>\n",
       "      <td>petrol</td>\n",
       "      <td>volkswagen</td>\n",
       "      <td>no</td>\n",
       "      <td>2016-03-17</td>\n",
       "      <td>0</td>\n",
       "      <td>91074</td>\n",
       "      <td>2016-03-17 17:40:17</td>\n",
       "    </tr>\n",
       "    <tr>\n",
       "      <th>4</th>\n",
       "      <td>2016-03-31 17:25:20</td>\n",
       "      <td>3600</td>\n",
       "      <td>small</td>\n",
       "      <td>2008</td>\n",
       "      <td>manual</td>\n",
       "      <td>69</td>\n",
       "      <td>fabia</td>\n",
       "      <td>90000</td>\n",
       "      <td>7</td>\n",
       "      <td>gasoline</td>\n",
       "      <td>skoda</td>\n",
       "      <td>no</td>\n",
       "      <td>2016-03-31</td>\n",
       "      <td>0</td>\n",
       "      <td>60437</td>\n",
       "      <td>2016-04-06 10:17:21</td>\n",
       "    </tr>\n",
       "  </tbody>\n",
       "</table>\n",
       "</div>"
      ],
      "text/plain": [
       "         date_crawled  price vehicle_type  registration_year gearbox  power  \\\n",
       "0 2016-03-24 11:52:17    480          NaN               1993  manual      0   \n",
       "1 2016-03-24 10:58:45  18300        coupe               2011  manual    190   \n",
       "2 2016-03-14 12:52:21   9800          suv               2004    auto    163   \n",
       "3 2016-03-17 16:54:04   1500        small               2001  manual     75   \n",
       "4 2016-03-31 17:25:20   3600        small               2008  manual     69   \n",
       "\n",
       "   model  kilometer  registration_month fuel_type       brand repaired  \\\n",
       "0   golf     150000                   0    petrol  volkswagen      NaN   \n",
       "1    NaN     125000                   5  gasoline        audi      yes   \n",
       "2  grand     125000                   8  gasoline        jeep      NaN   \n",
       "3   golf     150000                   6    petrol  volkswagen       no   \n",
       "4  fabia      90000                   7  gasoline       skoda       no   \n",
       "\n",
       "  date_created  number_of_pictures  postal_code           last_seen  \n",
       "0   2016-03-24                   0        70435 2016-04-07 03:16:57  \n",
       "1   2016-03-24                   0        66954 2016-04-07 01:46:50  \n",
       "2   2016-03-14                   0        90480 2016-04-05 12:47:46  \n",
       "3   2016-03-17                   0        91074 2016-03-17 17:40:17  \n",
       "4   2016-03-31                   0        60437 2016-04-06 10:17:21  "
      ]
     },
     "execution_count": 6,
     "metadata": {},
     "output_type": "execute_result"
    }
   ],
   "source": [
    "df = df.rename(columns=lambda x: re.sub(r'(?<!^)([A-Z])', r'_\\1', x).lower())\n",
    "df.head()"
   ]
  },
  {
   "cell_type": "markdown",
   "metadata": {},
   "source": [
    "**Changed to snake_case.**"
   ]
  },
  {
   "cell_type": "code",
   "execution_count": 7,
   "metadata": {},
   "outputs": [
    {
     "data": {
      "text/plain": [
       "date_crawled          False\n",
       "price                 False\n",
       "vehicle_type           True\n",
       "registration_year     False\n",
       "gearbox                True\n",
       "power                 False\n",
       "model                  True\n",
       "kilometer             False\n",
       "registration_month    False\n",
       "fuel_type              True\n",
       "brand                 False\n",
       "repaired               True\n",
       "date_created          False\n",
       "number_of_pictures    False\n",
       "postal_code           False\n",
       "last_seen             False\n",
       "dtype: bool"
      ]
     },
     "execution_count": 7,
     "metadata": {},
     "output_type": "execute_result"
    }
   ],
   "source": [
    "df.isnull().any()"
   ]
  },
  {
   "cell_type": "code",
   "execution_count": 8,
   "metadata": {
    "scrolled": true
   },
   "outputs": [
    {
     "name": "stdout",
     "output_type": "stream",
     "text": [
      "\n"
     ]
    },
    {
     "data": {
      "image/png": "[encoded data removed]",
      "text/plain": [
       "<Figure size 2500x1000 with 3 Axes>"
      ]
     },
     "metadata": {},
     "output_type": "display_data"
    }
   ],
   "source": [
    "msno.bar(df)\n",
    "plt.title(\"Гистограмма не пропущенных значений\")\n",
    "print()"
   ]
  },
  {
   "cell_type": "markdown",
   "metadata": {},
   "source": [
    "**There are missing values in VehicleType, Gearbox, Model, FuelType, Repaired, most in Repaired.**"
   ]
  },
  {
   "cell_type": "markdown",
   "metadata": {},
   "source": [
    "### Data Preprocessing"
   ]
  },
  {
   "cell_type": "markdown",
   "metadata": {},
   "source": [
    "**First, let's look at the unique values of categorical features for typos.**"
   ]
  },
  {
   "cell_type": "code",
   "execution_count": 9,
   "metadata": {},
   "outputs": [
    {
     "name": "stdout",
     "output_type": "stream",
     "text": [
      "vehicle_type : [nan 'coupe' 'suv' 'small' 'sedan' 'convertible' 'bus' 'wagon' 'other']\n",
      "gearbox : ['manual' 'auto' nan]\n",
      "model : ['golf' nan 'grand' 'fabia' '3er' '2_reihe' 'other' 'c_max' '3_reihe'\n",
      " 'passat' 'navara' 'ka' 'polo' 'twingo' 'a_klasse' 'scirocco' '5er'\n",
      " 'meriva' 'arosa' 'c4' 'civic' 'transporter' 'punto' 'e_klasse' 'clio'\n",
      " 'kadett' 'kangoo' 'corsa' 'one' 'fortwo' '1er' 'b_klasse' 'signum'\n",
      " 'astra' 'a8' 'jetta' 'fiesta' 'c_klasse' 'micra' 'vito' 'sprinter' '156'\n",
      " 'escort' 'forester' 'xc_reihe' 'scenic' 'a4' 'a1' 'insignia' 'combo'\n",
      " 'focus' 'tt' 'a6' 'jazz' 'omega' 'slk' '7er' '80' '147' '100' 'z_reihe'\n",
      " 'sportage' 'sorento' 'v40' 'ibiza' 'mustang' 'eos' 'touran' 'getz' 'a3'\n",
      " 'almera' 'megane' 'lupo' 'r19' 'zafira' 'caddy' 'mondeo' 'cordoba' 'colt'\n",
      " 'impreza' 'vectra' 'berlingo' 'tiguan' 'i_reihe' 'espace' 'sharan'\n",
      " '6_reihe' 'panda' 'up' 'seicento' 'ceed' '5_reihe' 'yeti' 'octavia' 'mii'\n",
      " 'rx_reihe' '6er' 'modus' 'fox' 'matiz' 'beetle' 'c1' 'rio' 'touareg'\n",
      " 'logan' 'spider' 'cuore' 's_max' 'a2' 'galaxy' 'c3' 'viano' 's_klasse'\n",
      " '1_reihe' 'avensis' 'roomster' 'sl' 'kaefer' 'santa' 'cooper' 'leon'\n",
      " '4_reihe' 'a5' '500' 'laguna' 'ptcruiser' 'clk' 'primera' 'x_reihe'\n",
      " 'exeo' '159' 'transit' 'juke' 'qashqai' 'carisma' 'accord' 'corolla'\n",
      " 'lanos' 'phaeton' 'verso' 'swift' 'rav' 'picanto' 'boxster' 'kalos'\n",
      " 'superb' 'stilo' 'alhambra' 'mx_reihe' 'roadster' 'ypsilon' 'cayenne'\n",
      " 'galant' 'justy' '90' 'sirion' 'crossfire' 'agila' 'duster' 'cr_reihe'\n",
      " 'v50' 'c_reihe' 'v_klasse' 'm_klasse' 'yaris' 'c5' 'aygo' 'cc' 'carnival'\n",
      " 'fusion' '911' 'bora' 'forfour' 'm_reihe' 'cl' 'tigra' '300c' 'spark'\n",
      " 'v70' 'kuga' 'x_type' 'ducato' 's_type' 'x_trail' 'toledo' 'altea'\n",
      " 'voyager' 'calibra' 'bravo' 'antara' 'tucson' 'citigo' 'jimny' 'wrangler'\n",
      " 'lybra' 'q7' 'lancer' 'captiva' 'c2' 'discovery' 'freelander' 'sandero'\n",
      " 'note' '900' 'cherokee' 'clubman' 'samara' 'defender' '601' 'cx_reihe'\n",
      " 'legacy' 'pajero' 'auris' 'niva' 's60' 'nubira' 'vivaro' 'g_klasse'\n",
      " 'lodgy' '850' 'range_rover' 'q3' 'serie_2' 'glk' 'charade' 'croma'\n",
      " 'outlander' 'doblo' 'musa' 'move' '9000' 'v60' '145' 'aveo' '200' 'b_max'\n",
      " 'range_rover_sport' 'terios' 'rangerover' 'q5' 'range_rover_evoque'\n",
      " 'materia' 'delta' 'gl' 'kalina' 'amarok' 'elefantino' 'i3' 'kappa'\n",
      " 'serie_3' 'serie_1']\n",
      "fuel_type : ['petrol' 'gasoline' nan 'lpg' 'other' 'hybrid' 'cng' 'electric']\n",
      "brand : ['volkswagen' 'audi' 'jeep' 'skoda' 'bmw' 'peugeot' 'ford' 'mazda'\n",
      " 'nissan' 'renault' 'mercedes_benz' 'opel' 'seat' 'citroen' 'honda' 'fiat'\n",
      " 'mini' 'smart' 'hyundai' 'sonstige_autos' 'alfa_romeo' 'subaru' 'volvo'\n",
      " 'mitsubishi' 'kia' 'suzuki' 'lancia' 'toyota' 'chevrolet' 'dacia'\n",
      " 'daihatsu' 'trabant' 'saab' 'chrysler' 'jaguar' 'daewoo' 'porsche'\n",
      " 'rover' 'land_rover' 'lada']\n",
      "repaired : [nan 'yes' 'no']\n"
     ]
    }
   ],
   "source": [
    "for col in df.loc[:, ~df.columns.isin(['date_crawled', 'date_created', 'last_seen'])].select_dtypes(exclude='number').columns:\n",
    "    print(col,':',df[col].unique())"
   ]
  },
  {
   "cell_type": "markdown",
   "metadata": {},
   "source": [
    "**In fuel_type, \"petrol\" and \"gasoline\" are the same, replace with \"gasoline\".**"
   ]
  },
  {
   "cell_type": "code",
   "execution_count": 10,
   "metadata": {},
   "outputs": [],
   "source": [
    "df['fuel_type'].replace(to_replace='petrol', value='gasoline', inplace=True)"
   ]
  },
  {
   "cell_type": "markdown",
   "metadata": {},
   "source": [
    "**Let's look at the percentage of missing values:**"
   ]
  },
  {
   "cell_type": "code",
   "execution_count": 11,
   "metadata": {
    "scrolled": true
   },
   "outputs": [
    {
     "data": {
      "text/plain": [
       "repaired              20.1\n",
       "vehicle_type          10.6\n",
       "fuel_type              9.3\n",
       "gearbox                5.6\n",
       "model                  5.6\n",
       "date_crawled           0.0\n",
       "price                  0.0\n",
       "registration_year      0.0\n",
       "power                  0.0\n",
       "kilometer              0.0\n",
       "registration_month     0.0\n",
       "brand                  0.0\n",
       "date_created           0.0\n",
       "number_of_pictures     0.0\n",
       "postal_code            0.0\n",
       "last_seen              0.0\n",
       "dtype: float64"
      ]
     },
     "execution_count": 11,
     "metadata": {},
     "output_type": "execute_result"
    }
   ],
   "source": [
    "round(df.isnull().sum() / df.shape[0] * 100, 1).sort_values(ascending=False)"
   ]
  },
  {
   "cell_type": "markdown",
   "metadata": {},
   "source": [
    "**Immediately remove rows with missing model, try to find missing values in gear-box, vehicle_type, and fuel_type from similar brand/model combinations.**"
   ]
  },
  {
   "cell_type": "code",
   "execution_count": 12,
   "metadata": {},
   "outputs": [],
   "source": [
    "df = df.dropna(subset=['model'])"
   ]
  },
  {
   "cell_type": "code",
   "execution_count": 13,
   "metadata": {
    "scrolled": true
   },
   "outputs": [
    {
     "data": {
      "text/html": [
       "<div>\n",
       "<style scoped>\n",
       "    .dataframe tbody tr th:only-of-type {\n",
       "        vertical-align: middle;\n",
       "    }\n",
       "\n",
       "    .dataframe tbody tr th {\n",
       "        vertical-align: top;\n",
       "    }\n",
       "\n",
       "    .dataframe thead th {\n",
       "        text-align: right;\n",
       "    }\n",
       "</style>\n",
       "<table border=\"1\" class=\"dataframe\">\n",
       "  <thead>\n",
       "    <tr style=\"text-align: right;\">\n",
       "      <th></th>\n",
       "      <th>brand</th>\n",
       "      <th>model</th>\n",
       "      <th>gearbox</th>\n",
       "      <th>vehicle_type</th>\n",
       "      <th>fuel_type</th>\n",
       "    </tr>\n",
       "  </thead>\n",
       "  <tbody>\n",
       "    <tr>\n",
       "      <th>0</th>\n",
       "      <td>alfa_romeo</td>\n",
       "      <td>145</td>\n",
       "      <td>manual</td>\n",
       "      <td>small</td>\n",
       "      <td>gasoline</td>\n",
       "    </tr>\n",
       "    <tr>\n",
       "      <th>1</th>\n",
       "      <td>alfa_romeo</td>\n",
       "      <td>147</td>\n",
       "      <td>manual</td>\n",
       "      <td>sedan</td>\n",
       "      <td>gasoline</td>\n",
       "    </tr>\n",
       "    <tr>\n",
       "      <th>2</th>\n",
       "      <td>alfa_romeo</td>\n",
       "      <td>156</td>\n",
       "      <td>manual</td>\n",
       "      <td>wagon</td>\n",
       "      <td>gasoline</td>\n",
       "    </tr>\n",
       "    <tr>\n",
       "      <th>3</th>\n",
       "      <td>alfa_romeo</td>\n",
       "      <td>159</td>\n",
       "      <td>manual</td>\n",
       "      <td>wagon</td>\n",
       "      <td>gasoline</td>\n",
       "    </tr>\n",
       "    <tr>\n",
       "      <th>4</th>\n",
       "      <td>alfa_romeo</td>\n",
       "      <td>other</td>\n",
       "      <td>manual</td>\n",
       "      <td>sedan</td>\n",
       "      <td>gasoline</td>\n",
       "    </tr>\n",
       "    <tr>\n",
       "      <th>...</th>\n",
       "      <td>...</td>\n",
       "      <td>...</td>\n",
       "      <td>...</td>\n",
       "      <td>...</td>\n",
       "      <td>...</td>\n",
       "    </tr>\n",
       "    <tr>\n",
       "      <th>297</th>\n",
       "      <td>volvo</td>\n",
       "      <td>v40</td>\n",
       "      <td>manual</td>\n",
       "      <td>wagon</td>\n",
       "      <td>gasoline</td>\n",
       "    </tr>\n",
       "    <tr>\n",
       "      <th>298</th>\n",
       "      <td>volvo</td>\n",
       "      <td>v50</td>\n",
       "      <td>manual</td>\n",
       "      <td>wagon</td>\n",
       "      <td>gasoline</td>\n",
       "    </tr>\n",
       "    <tr>\n",
       "      <th>299</th>\n",
       "      <td>volvo</td>\n",
       "      <td>v60</td>\n",
       "      <td>manual</td>\n",
       "      <td>wagon</td>\n",
       "      <td>gasoline</td>\n",
       "    </tr>\n",
       "    <tr>\n",
       "      <th>300</th>\n",
       "      <td>volvo</td>\n",
       "      <td>v70</td>\n",
       "      <td>manual</td>\n",
       "      <td>wagon</td>\n",
       "      <td>gasoline</td>\n",
       "    </tr>\n",
       "    <tr>\n",
       "      <th>301</th>\n",
       "      <td>volvo</td>\n",
       "      <td>xc_reihe</td>\n",
       "      <td>auto</td>\n",
       "      <td>suv</td>\n",
       "      <td>gasoline</td>\n",
       "    </tr>\n",
       "  </tbody>\n",
       "</table>\n",
       "<p>302 rows × 5 columns</p>\n",
       "</div>"
      ],
      "text/plain": [
       "          brand     model gearbox vehicle_type fuel_type\n",
       "0    alfa_romeo       145  manual        small  gasoline\n",
       "1    alfa_romeo       147  manual        sedan  gasoline\n",
       "2    alfa_romeo       156  manual        wagon  gasoline\n",
       "3    alfa_romeo       159  manual        wagon  gasoline\n",
       "4    alfa_romeo     other  manual        sedan  gasoline\n",
       "..          ...       ...     ...          ...       ...\n",
       "297       volvo       v40  manual        wagon  gasoline\n",
       "298       volvo       v50  manual        wagon  gasoline\n",
       "299       volvo       v60  manual        wagon  gasoline\n",
       "300       volvo       v70  manual        wagon  gasoline\n",
       "301       volvo  xc_reihe    auto          suv  gasoline\n",
       "\n",
       "[302 rows x 5 columns]"
      ]
     },
     "execution_count": 13,
     "metadata": {},
     "output_type": "execute_result"
    }
   ],
   "source": [
    "df_nan_replace = df.groupby(['brand', 'model'])[['gearbox', 'vehicle_type', 'fuel_type']]\\\n",
    ".apply(pd.DataFrame.mode)\n",
    "df_nan_replace = df_nan_replace.reset_index().drop('level_2', axis=1)\n",
    "df_nan_replace"
   ]
  },
  {
   "cell_type": "code",
   "execution_count": 14,
   "metadata": {},
   "outputs": [
    {
     "data": {
      "text/html": [
       "<div>\n",
       "<style scoped>\n",
       "    .dataframe tbody tr th:only-of-type {\n",
       "        vertical-align: middle;\n",
       "    }\n",
       "\n",
       "    .dataframe tbody tr th {\n",
       "        vertical-align: top;\n",
       "    }\n",
       "\n",
       "    .dataframe thead th {\n",
       "        text-align: right;\n",
       "    }\n",
       "</style>\n",
       "<table border=\"1\" class=\"dataframe\">\n",
       "  <thead>\n",
       "    <tr style=\"text-align: right;\">\n",
       "      <th></th>\n",
       "      <th>date_crawled</th>\n",
       "      <th>price</th>\n",
       "      <th>registration_year</th>\n",
       "      <th>power</th>\n",
       "      <th>model</th>\n",
       "      <th>kilometer</th>\n",
       "      <th>registration_month</th>\n",
       "      <th>brand</th>\n",
       "      <th>repaired</th>\n",
       "      <th>date_created</th>\n",
       "      <th>number_of_pictures</th>\n",
       "      <th>postal_code</th>\n",
       "      <th>last_seen</th>\n",
       "      <th>gearbox</th>\n",
       "      <th>vehicle_type</th>\n",
       "      <th>fuel_type</th>\n",
       "    </tr>\n",
       "  </thead>\n",
       "  <tbody>\n",
       "    <tr>\n",
       "      <th>0</th>\n",
       "      <td>2016-03-28 19:45:38</td>\n",
       "      <td>80</td>\n",
       "      <td>2000</td>\n",
       "      <td>0</td>\n",
       "      <td>145</td>\n",
       "      <td>150000</td>\n",
       "      <td>0</td>\n",
       "      <td>alfa_romeo</td>\n",
       "      <td>NaN</td>\n",
       "      <td>2016-03-28</td>\n",
       "      <td>0</td>\n",
       "      <td>24351</td>\n",
       "      <td>2016-03-30 11:18:44</td>\n",
       "      <td>manual</td>\n",
       "      <td>small</td>\n",
       "      <td>gasoline</td>\n",
       "    </tr>\n",
       "    <tr>\n",
       "      <th>1</th>\n",
       "      <td>2016-04-04 14:39:09</td>\n",
       "      <td>600</td>\n",
       "      <td>1998</td>\n",
       "      <td>140</td>\n",
       "      <td>145</td>\n",
       "      <td>150000</td>\n",
       "      <td>1</td>\n",
       "      <td>alfa_romeo</td>\n",
       "      <td>NaN</td>\n",
       "      <td>2016-04-04</td>\n",
       "      <td>0</td>\n",
       "      <td>34314</td>\n",
       "      <td>2016-04-06 15:46:04</td>\n",
       "      <td>manual</td>\n",
       "      <td>small</td>\n",
       "      <td>gasoline</td>\n",
       "    </tr>\n",
       "    <tr>\n",
       "      <th>2</th>\n",
       "      <td>2016-03-17 10:49:03</td>\n",
       "      <td>750</td>\n",
       "      <td>1999</td>\n",
       "      <td>103</td>\n",
       "      <td>145</td>\n",
       "      <td>100000</td>\n",
       "      <td>3</td>\n",
       "      <td>alfa_romeo</td>\n",
       "      <td>no</td>\n",
       "      <td>2016-03-17</td>\n",
       "      <td>0</td>\n",
       "      <td>93053</td>\n",
       "      <td>2016-04-06 09:15:41</td>\n",
       "      <td>manual</td>\n",
       "      <td>sedan</td>\n",
       "      <td>gasoline</td>\n",
       "    </tr>\n",
       "    <tr>\n",
       "      <th>3</th>\n",
       "      <td>2016-03-31 18:49:57</td>\n",
       "      <td>400</td>\n",
       "      <td>1997</td>\n",
       "      <td>0</td>\n",
       "      <td>145</td>\n",
       "      <td>150000</td>\n",
       "      <td>11</td>\n",
       "      <td>alfa_romeo</td>\n",
       "      <td>yes</td>\n",
       "      <td>2016-03-31</td>\n",
       "      <td>0</td>\n",
       "      <td>74842</td>\n",
       "      <td>2016-04-06 12:46:35</td>\n",
       "      <td>manual</td>\n",
       "      <td>small</td>\n",
       "      <td>gasoline</td>\n",
       "    </tr>\n",
       "    <tr>\n",
       "      <th>4</th>\n",
       "      <td>2016-03-24 13:49:02</td>\n",
       "      <td>333</td>\n",
       "      <td>1999</td>\n",
       "      <td>120</td>\n",
       "      <td>145</td>\n",
       "      <td>70000</td>\n",
       "      <td>2</td>\n",
       "      <td>alfa_romeo</td>\n",
       "      <td>no</td>\n",
       "      <td>2016-03-24</td>\n",
       "      <td>0</td>\n",
       "      <td>6648</td>\n",
       "      <td>2016-04-01 08:46:40</td>\n",
       "      <td>manual</td>\n",
       "      <td>small</td>\n",
       "      <td>gasoline</td>\n",
       "    </tr>\n",
       "  </tbody>\n",
       "</table>\n",
       "</div>"
      ],
      "text/plain": [
       "         date_crawled  price  registration_year  power model  kilometer  \\\n",
       "0 2016-03-28 19:45:38     80               2000      0   145     150000   \n",
       "1 2016-04-04 14:39:09    600               1998    140   145     150000   \n",
       "2 2016-03-17 10:49:03    750               1999    103   145     100000   \n",
       "3 2016-03-31 18:49:57    400               1997      0   145     150000   \n",
       "4 2016-03-24 13:49:02    333               1999    120   145      70000   \n",
       "\n",
       "   registration_month       brand repaired date_created  number_of_pictures  \\\n",
       "0                   0  alfa_romeo      NaN   2016-03-28                   0   \n",
       "1                   1  alfa_romeo      NaN   2016-04-04                   0   \n",
       "2                   3  alfa_romeo       no   2016-03-17                   0   \n",
       "3                  11  alfa_romeo      yes   2016-03-31                   0   \n",
       "4                   2  alfa_romeo       no   2016-03-24                   0   \n",
       "\n",
       "   postal_code           last_seen gearbox vehicle_type fuel_type  \n",
       "0        24351 2016-03-30 11:18:44  manual        small  gasoline  \n",
       "1        34314 2016-04-06 15:46:04  manual        small  gasoline  \n",
       "2        93053 2016-04-06 09:15:41  manual        sedan  gasoline  \n",
       "3        74842 2016-04-06 12:46:35  manual        small  gasoline  \n",
       "4         6648 2016-04-01 08:46:40  manual        small  gasoline  "
      ]
     },
     "execution_count": 14,
     "metadata": {},
     "output_type": "execute_result"
    }
   ],
   "source": [
    "df = pd.merge(df, df_nan_replace, on=['brand', 'model'], how='outer', suffixes=('_old', ''))\n",
    "for col in ['gearbox', 'vehicle_type', 'fuel_type']:\n",
    "    df[col] = df[f'{col}_old'].combine_first(df[col])\n",
    "df = df.drop(columns=[f'{col}_old' for col in ['gearbox', 'vehicle_type', 'fuel_type']])\n",
    "\n",
    "df.head()"
   ]
  },
  {
   "cell_type": "code",
   "execution_count": 15,
   "metadata": {
    "scrolled": false
   },
   "outputs": [
    {
     "data": {
      "text/plain": [
       "date_crawled              0\n",
       "price                     0\n",
       "registration_year         0\n",
       "power                     0\n",
       "model                     0\n",
       "kilometer                 0\n",
       "registration_month        0\n",
       "brand                     0\n",
       "repaired              62127\n",
       "date_created              0\n",
       "number_of_pictures        0\n",
       "postal_code               0\n",
       "last_seen                 0\n",
       "gearbox                  14\n",
       "vehicle_type              0\n",
       "fuel_type                16\n",
       "dtype: int64"
      ]
     },
     "execution_count": 15,
     "metadata": {},
     "output_type": "execute_result"
    }
   ],
   "source": [
    "df.isna().sum()"
   ]
  },
  {
   "cell_type": "markdown",
   "metadata": {},
   "source": [
    "**Filled missing values, for Repaired, since assigning a value to 20% of the dataset may distort predictions, just drop remaining missing values.**"
   ]
  },
  {
   "cell_type": "code",
   "execution_count": 16,
   "metadata": {},
   "outputs": [
    {
     "data": {
      "text/plain": [
       "date_crawled          0\n",
       "price                 0\n",
       "registration_year     0\n",
       "power                 0\n",
       "model                 0\n",
       "kilometer             0\n",
       "registration_month    0\n",
       "brand                 0\n",
       "repaired              0\n",
       "date_created          0\n",
       "number_of_pictures    0\n",
       "postal_code           0\n",
       "last_seen             0\n",
       "gearbox               0\n",
       "vehicle_type          0\n",
       "fuel_type             0\n",
       "dtype: int64"
      ]
     },
     "execution_count": 16,
     "metadata": {},
     "output_type": "execute_result"
    }
   ],
   "source": [
    "#df['Repaired'] = df['Repaired'].fillna('no')\n",
    "df = df.dropna()\n",
    "df.isna().sum()"
   ]
  },
  {
   "cell_type": "markdown",
   "metadata": {},
   "source": [
    "**Check for duplicates.**"
   ]
  },
  {
   "cell_type": "code",
   "execution_count": 17,
   "metadata": {},
   "outputs": [
    {
     "data": {
      "text/plain": [
       "116"
      ]
     },
     "execution_count": 17,
     "metadata": {},
     "output_type": "execute_result"
    }
   ],
   "source": [
    "df.duplicated().sum()"
   ]
  },
  {
   "cell_type": "code",
   "execution_count": 18,
   "metadata": {},
   "outputs": [],
   "source": [
    "df = df.drop_duplicates()"
   ]
  },
  {
   "cell_type": "code",
   "execution_count": 19,
   "metadata": {},
   "outputs": [
    {
     "data": {
      "text/plain": [
       "0"
      ]
     },
     "execution_count": 19,
     "metadata": {},
     "output_type": "execute_result"
    }
   ],
   "source": [
    "df.duplicated().sum()"
   ]
  },
  {
   "cell_type": "markdown",
   "metadata": {},
   "source": [
    "### Exploratory Data Analysis"
   ]
  },
  {
   "cell_type": "markdown",
   "metadata": {},
   "source": [
    "**Explore numerical features for outliers and anomalies.**"
   ]
  },
  {
   "cell_type": "code",
   "execution_count": 20,
   "metadata": {},
   "outputs": [],
   "source": [
    "numeric = ['price',\n",
    "           'registration_year',\n",
    "           'power', \n",
    "           'kilometer',\n",
    "           'number_of_pictures']"
   ]
  },
  {
   "cell_type": "code",
   "execution_count": 21,
   "metadata": {},
   "outputs": [
    {
     "name": "stdout",
     "output_type": "stream",
     "text": [
      "\n"
     ]
    },
    {
     "data": {
      "image/png": "[encoded data removed]",
      "text/plain": [
       "<Figure size 1500x1500 with 6 Axes>"
      ]
     },
     "metadata": {},
     "output_type": "display_data"
    }
   ],
   "source": [
    "df[numeric].hist(figsize=(15,15))\n",
    "print()"
   ]
  },
  {
   "cell_type": "markdown",
   "metadata": {},
   "source": [
    "**number_of_pictures only takes value 0, drop this column.**"
   ]
  },
  {
   "cell_type": "code",
   "execution_count": 22,
   "metadata": {},
   "outputs": [
    {
     "data": {
      "text/html": [
       "<div>\n",
       "<style scoped>\n",
       "    .dataframe tbody tr th:only-of-type {\n",
       "        vertical-align: middle;\n",
       "    }\n",
       "\n",
       "    .dataframe tbody tr th {\n",
       "        vertical-align: top;\n",
       "    }\n",
       "\n",
       "    .dataframe thead th {\n",
       "        text-align: right;\n",
       "    }\n",
       "</style>\n",
       "<table border=\"1\" class=\"dataframe\">\n",
       "  <thead>\n",
       "    <tr style=\"text-align: right;\">\n",
       "      <th></th>\n",
       "      <th>date_crawled</th>\n",
       "      <th>price</th>\n",
       "      <th>registration_year</th>\n",
       "      <th>power</th>\n",
       "      <th>model</th>\n",
       "      <th>kilometer</th>\n",
       "      <th>registration_month</th>\n",
       "      <th>brand</th>\n",
       "      <th>repaired</th>\n",
       "      <th>date_created</th>\n",
       "      <th>postal_code</th>\n",
       "      <th>last_seen</th>\n",
       "      <th>gearbox</th>\n",
       "      <th>vehicle_type</th>\n",
       "      <th>fuel_type</th>\n",
       "    </tr>\n",
       "  </thead>\n",
       "  <tbody>\n",
       "    <tr>\n",
       "      <th>2</th>\n",
       "      <td>2016-03-17 10:49:03</td>\n",
       "      <td>750</td>\n",
       "      <td>1999</td>\n",
       "      <td>103</td>\n",
       "      <td>145</td>\n",
       "      <td>100000</td>\n",
       "      <td>3</td>\n",
       "      <td>alfa_romeo</td>\n",
       "      <td>no</td>\n",
       "      <td>2016-03-17</td>\n",
       "      <td>93053</td>\n",
       "      <td>2016-04-06 09:15:41</td>\n",
       "      <td>manual</td>\n",
       "      <td>sedan</td>\n",
       "      <td>gasoline</td>\n",
       "    </tr>\n",
       "    <tr>\n",
       "      <th>3</th>\n",
       "      <td>2016-03-31 18:49:57</td>\n",
       "      <td>400</td>\n",
       "      <td>1997</td>\n",
       "      <td>0</td>\n",
       "      <td>145</td>\n",
       "      <td>150000</td>\n",
       "      <td>11</td>\n",
       "      <td>alfa_romeo</td>\n",
       "      <td>yes</td>\n",
       "      <td>2016-03-31</td>\n",
       "      <td>74842</td>\n",
       "      <td>2016-04-06 12:46:35</td>\n",
       "      <td>manual</td>\n",
       "      <td>small</td>\n",
       "      <td>gasoline</td>\n",
       "    </tr>\n",
       "    <tr>\n",
       "      <th>4</th>\n",
       "      <td>2016-03-24 13:49:02</td>\n",
       "      <td>333</td>\n",
       "      <td>1999</td>\n",
       "      <td>120</td>\n",
       "      <td>145</td>\n",
       "      <td>70000</td>\n",
       "      <td>2</td>\n",
       "      <td>alfa_romeo</td>\n",
       "      <td>no</td>\n",
       "      <td>2016-03-24</td>\n",
       "      <td>6648</td>\n",
       "      <td>2016-04-01 08:46:40</td>\n",
       "      <td>manual</td>\n",
       "      <td>small</td>\n",
       "      <td>gasoline</td>\n",
       "    </tr>\n",
       "    <tr>\n",
       "      <th>5</th>\n",
       "      <td>2016-03-28 20:51:02</td>\n",
       "      <td>600</td>\n",
       "      <td>1996</td>\n",
       "      <td>103</td>\n",
       "      <td>145</td>\n",
       "      <td>100000</td>\n",
       "      <td>8</td>\n",
       "      <td>alfa_romeo</td>\n",
       "      <td>no</td>\n",
       "      <td>2016-03-28</td>\n",
       "      <td>24217</td>\n",
       "      <td>2016-04-07 03:44:34</td>\n",
       "      <td>manual</td>\n",
       "      <td>small</td>\n",
       "      <td>gasoline</td>\n",
       "    </tr>\n",
       "    <tr>\n",
       "      <th>7</th>\n",
       "      <td>2016-03-29 12:56:11</td>\n",
       "      <td>125</td>\n",
       "      <td>2016</td>\n",
       "      <td>103</td>\n",
       "      <td>145</td>\n",
       "      <td>150000</td>\n",
       "      <td>8</td>\n",
       "      <td>alfa_romeo</td>\n",
       "      <td>yes</td>\n",
       "      <td>2016-03-29</td>\n",
       "      <td>82293</td>\n",
       "      <td>2016-04-05 22:46:23</td>\n",
       "      <td>manual</td>\n",
       "      <td>small</td>\n",
       "      <td>gasoline</td>\n",
       "    </tr>\n",
       "  </tbody>\n",
       "</table>\n",
       "</div>"
      ],
      "text/plain": [
       "         date_crawled  price  registration_year  power model  kilometer  \\\n",
       "2 2016-03-17 10:49:03    750               1999    103   145     100000   \n",
       "3 2016-03-31 18:49:57    400               1997      0   145     150000   \n",
       "4 2016-03-24 13:49:02    333               1999    120   145      70000   \n",
       "5 2016-03-28 20:51:02    600               1996    103   145     100000   \n",
       "7 2016-03-29 12:56:11    125               2016    103   145     150000   \n",
       "\n",
       "   registration_month       brand repaired date_created  postal_code  \\\n",
       "2                   3  alfa_romeo       no   2016-03-17        93053   \n",
       "3                  11  alfa_romeo      yes   2016-03-31        74842   \n",
       "4                   2  alfa_romeo       no   2016-03-24         6648   \n",
       "5                   8  alfa_romeo       no   2016-03-28        24217   \n",
       "7                   8  alfa_romeo      yes   2016-03-29        82293   \n",
       "\n",
       "            last_seen gearbox vehicle_type fuel_type  \n",
       "2 2016-04-06 09:15:41  manual        sedan  gasoline  \n",
       "3 2016-04-06 12:46:35  manual        small  gasoline  \n",
       "4 2016-04-01 08:46:40  manual        small  gasoline  \n",
       "5 2016-04-07 03:44:34  manual        small  gasoline  \n",
       "7 2016-04-05 22:46:23  manual        small  gasoline  "
      ]
     },
     "execution_count": 22,
     "metadata": {},
     "output_type": "execute_result"
    }
   ],
   "source": [
    "df = df.drop('number_of_pictures', axis=1)\n",
    "df.head()"
   ]
  },
  {
   "cell_type": "markdown",
   "metadata": {},
   "source": [
    "**Look at power, registration_year in detail, likely outliers.**"
   ]
  },
  {
   "cell_type": "code",
   "execution_count": 23,
   "metadata": {},
   "outputs": [
    {
     "data": {
      "text/plain": [
       "count    272564.000000\n",
       "mean        116.698071\n",
       "std         161.194553\n",
       "min           0.000000\n",
       "25%          75.000000\n",
       "50%         109.000000\n",
       "75%         147.000000\n",
       "max       20000.000000\n",
       "Name: power, dtype: float64"
      ]
     },
     "execution_count": 23,
     "metadata": {},
     "output_type": "execute_result"
    }
   ],
   "source": [
    "df['power'].describe()"
   ]
  },
  {
   "cell_type": "code",
   "execution_count": 24,
   "metadata": {},
   "outputs": [
    {
     "data": {
      "text/html": [
       "<div>\n",
       "<style scoped>\n",
       "    .dataframe tbody tr th:only-of-type {\n",
       "        vertical-align: middle;\n",
       "    }\n",
       "\n",
       "    .dataframe tbody tr th {\n",
       "        vertical-align: top;\n",
       "    }\n",
       "\n",
       "    .dataframe thead th {\n",
       "        text-align: right;\n",
       "    }\n",
       "</style>\n",
       "<table border=\"1\" class=\"dataframe\">\n",
       "  <thead>\n",
       "    <tr style=\"text-align: right;\">\n",
       "      <th></th>\n",
       "      <th>date_crawled</th>\n",
       "      <th>price</th>\n",
       "      <th>registration_year</th>\n",
       "      <th>power</th>\n",
       "      <th>model</th>\n",
       "      <th>kilometer</th>\n",
       "      <th>registration_month</th>\n",
       "      <th>brand</th>\n",
       "      <th>repaired</th>\n",
       "      <th>date_created</th>\n",
       "      <th>postal_code</th>\n",
       "      <th>last_seen</th>\n",
       "      <th>gearbox</th>\n",
       "      <th>vehicle_type</th>\n",
       "      <th>fuel_type</th>\n",
       "    </tr>\n",
       "  </thead>\n",
       "  <tbody>\n",
       "    <tr>\n",
       "      <th>139480</th>\n",
       "      <td>2016-03-09 15:43:53</td>\n",
       "      <td>4300</td>\n",
       "      <td>1999</td>\n",
       "      <td>20000</td>\n",
       "      <td>clk</td>\n",
       "      <td>150000</td>\n",
       "      <td>1</td>\n",
       "      <td>mercedes_benz</td>\n",
       "      <td>no</td>\n",
       "      <td>2016-03-09</td>\n",
       "      <td>19406</td>\n",
       "      <td>2016-03-30 08:47:08</td>\n",
       "      <td>auto</td>\n",
       "      <td>coupe</td>\n",
       "      <td>gasoline</td>\n",
       "    </tr>\n",
       "    <tr>\n",
       "      <th>60196</th>\n",
       "      <td>2016-03-09 08:53:11</td>\n",
       "      <td>1500</td>\n",
       "      <td>1997</td>\n",
       "      <td>19312</td>\n",
       "      <td>5er</td>\n",
       "      <td>150000</td>\n",
       "      <td>1</td>\n",
       "      <td>bmw</td>\n",
       "      <td>no</td>\n",
       "      <td>2016-03-09</td>\n",
       "      <td>21129</td>\n",
       "      <td>2016-04-07 11:44:34</td>\n",
       "      <td>manual</td>\n",
       "      <td>wagon</td>\n",
       "      <td>gasoline</td>\n",
       "    </tr>\n",
       "    <tr>\n",
       "      <th>56500</th>\n",
       "      <td>2016-03-25 14:55:49</td>\n",
       "      <td>2100</td>\n",
       "      <td>2001</td>\n",
       "      <td>19208</td>\n",
       "      <td>5er</td>\n",
       "      <td>150000</td>\n",
       "      <td>5</td>\n",
       "      <td>bmw</td>\n",
       "      <td>yes</td>\n",
       "      <td>2016-03-25</td>\n",
       "      <td>59556</td>\n",
       "      <td>2016-03-30 05:16:18</td>\n",
       "      <td>manual</td>\n",
       "      <td>wagon</td>\n",
       "      <td>gasoline</td>\n",
       "    </tr>\n",
       "    <tr>\n",
       "      <th>57943</th>\n",
       "      <td>2016-03-20 16:51:48</td>\n",
       "      <td>6000</td>\n",
       "      <td>2004</td>\n",
       "      <td>17700</td>\n",
       "      <td>5er</td>\n",
       "      <td>150000</td>\n",
       "      <td>7</td>\n",
       "      <td>bmw</td>\n",
       "      <td>no</td>\n",
       "      <td>2016-03-20</td>\n",
       "      <td>26316</td>\n",
       "      <td>2016-04-06 22:45:56</td>\n",
       "      <td>auto</td>\n",
       "      <td>wagon</td>\n",
       "      <td>gasoline</td>\n",
       "    </tr>\n",
       "    <tr>\n",
       "      <th>3282</th>\n",
       "      <td>2016-03-09 18:57:50</td>\n",
       "      <td>1700</td>\n",
       "      <td>1995</td>\n",
       "      <td>17410</td>\n",
       "      <td>80</td>\n",
       "      <td>5000</td>\n",
       "      <td>0</td>\n",
       "      <td>audi</td>\n",
       "      <td>yes</td>\n",
       "      <td>2016-03-09</td>\n",
       "      <td>23562</td>\n",
       "      <td>2016-03-15 07:17:06</td>\n",
       "      <td>manual</td>\n",
       "      <td>wagon</td>\n",
       "      <td>gasoline</td>\n",
       "    </tr>\n",
       "  </tbody>\n",
       "</table>\n",
       "</div>"
      ],
      "text/plain": [
       "              date_crawled  price  registration_year  power model  kilometer  \\\n",
       "139480 2016-03-09 15:43:53   4300               1999  20000   clk     150000   \n",
       "60196  2016-03-09 08:53:11   1500               1997  19312   5er     150000   \n",
       "56500  2016-03-25 14:55:49   2100               2001  19208   5er     150000   \n",
       "57943  2016-03-20 16:51:48   6000               2004  17700   5er     150000   \n",
       "3282   2016-03-09 18:57:50   1700               1995  17410    80       5000   \n",
       "\n",
       "        registration_month          brand repaired date_created  postal_code  \\\n",
       "139480                   1  mercedes_benz       no   2016-03-09        19406   \n",
       "60196                    1            bmw       no   2016-03-09        21129   \n",
       "56500                    5            bmw      yes   2016-03-25        59556   \n",
       "57943                    7            bmw       no   2016-03-20        26316   \n",
       "3282                     0           audi      yes   2016-03-09        23562   \n",
       "\n",
       "                 last_seen gearbox vehicle_type fuel_type  \n",
       "139480 2016-03-30 08:47:08    auto        coupe  gasoline  \n",
       "60196  2016-04-07 11:44:34  manual        wagon  gasoline  \n",
       "56500  2016-03-30 05:16:18  manual        wagon  gasoline  \n",
       "57943  2016-04-06 22:45:56    auto        wagon  gasoline  \n",
       "3282   2016-03-15 07:17:06  manual        wagon  gasoline  "
      ]
     },
     "execution_count": 24,
     "metadata": {},
     "output_type": "execute_result"
    }
   ],
   "source": [
    "df.sort_values(by='power', ascending=False).head(5)"
   ]
  },
  {
   "cell_type": "code",
   "execution_count": 25,
   "metadata": {},
   "outputs": [
    {
     "data": {
      "image/png": "[encoded data removed]",
      "text/plain": [
       "<Figure size 640x480 with 1 Axes>"
      ]
     },
     "metadata": {},
     "output_type": "display_data"
    }
   ],
   "source": [
    "sns.boxplot(data=df['power'].reset_index(drop=True))\n",
    "plt.xlabel('Мощность в л.с.')\n",
    "plt.title('Диаграмма размаха значений мощности автомобилей');"
   ]
  },
  {
   "cell_type": "markdown",
   "metadata": {},
   "source": [
    "**Many outliers, check values > 400 hp or = 0**"
   ]
  },
  {
   "cell_type": "code",
   "execution_count": 26,
   "metadata": {
    "scrolled": true
   },
   "outputs": [
    {
     "data": {
      "text/html": [
       "<div>\n",
       "<style scoped>\n",
       "    .dataframe tbody tr th:only-of-type {\n",
       "        vertical-align: middle;\n",
       "    }\n",
       "\n",
       "    .dataframe tbody tr th {\n",
       "        vertical-align: top;\n",
       "    }\n",
       "\n",
       "    .dataframe thead th {\n",
       "        text-align: right;\n",
       "    }\n",
       "</style>\n",
       "<table border=\"1\" class=\"dataframe\">\n",
       "  <thead>\n",
       "    <tr style=\"text-align: right;\">\n",
       "      <th></th>\n",
       "      <th>date_crawled</th>\n",
       "      <th>price</th>\n",
       "      <th>registration_year</th>\n",
       "      <th>power</th>\n",
       "      <th>model</th>\n",
       "      <th>kilometer</th>\n",
       "      <th>registration_month</th>\n",
       "      <th>brand</th>\n",
       "      <th>repaired</th>\n",
       "      <th>date_created</th>\n",
       "      <th>postal_code</th>\n",
       "      <th>last_seen</th>\n",
       "      <th>gearbox</th>\n",
       "      <th>vehicle_type</th>\n",
       "      <th>fuel_type</th>\n",
       "    </tr>\n",
       "  </thead>\n",
       "  <tbody>\n",
       "    <tr>\n",
       "      <th>145452</th>\n",
       "      <td>2016-04-02 11:49:32</td>\n",
       "      <td>20000</td>\n",
       "      <td>2011</td>\n",
       "      <td>0</td>\n",
       "      <td>e_klasse</td>\n",
       "      <td>150000</td>\n",
       "      <td>7</td>\n",
       "      <td>mercedes_benz</td>\n",
       "      <td>no</td>\n",
       "      <td>2016-04-02</td>\n",
       "      <td>28717</td>\n",
       "      <td>2016-04-06 09:46:00</td>\n",
       "      <td>auto</td>\n",
       "      <td>sedan</td>\n",
       "      <td>gasoline</td>\n",
       "    </tr>\n",
       "    <tr>\n",
       "      <th>329879</th>\n",
       "      <td>2016-03-22 12:55:40</td>\n",
       "      <td>20000</td>\n",
       "      <td>2009</td>\n",
       "      <td>0</td>\n",
       "      <td>transporter</td>\n",
       "      <td>150000</td>\n",
       "      <td>9</td>\n",
       "      <td>volkswagen</td>\n",
       "      <td>no</td>\n",
       "      <td>2016-03-22</td>\n",
       "      <td>78315</td>\n",
       "      <td>2016-03-31 09:44:21</td>\n",
       "      <td>manual</td>\n",
       "      <td>bus</td>\n",
       "      <td>gasoline</td>\n",
       "    </tr>\n",
       "    <tr>\n",
       "      <th>62722</th>\n",
       "      <td>2016-03-31 17:48:20</td>\n",
       "      <td>20000</td>\n",
       "      <td>2006</td>\n",
       "      <td>507</td>\n",
       "      <td>m_reihe</td>\n",
       "      <td>150000</td>\n",
       "      <td>6</td>\n",
       "      <td>bmw</td>\n",
       "      <td>no</td>\n",
       "      <td>2016-03-31</td>\n",
       "      <td>94032</td>\n",
       "      <td>2016-04-02 13:18:22</td>\n",
       "      <td>auto</td>\n",
       "      <td>sedan</td>\n",
       "      <td>gasoline</td>\n",
       "    </tr>\n",
       "    <tr>\n",
       "      <th>62692</th>\n",
       "      <td>2016-03-05 18:58:19</td>\n",
       "      <td>20000</td>\n",
       "      <td>2006</td>\n",
       "      <td>507</td>\n",
       "      <td>m_reihe</td>\n",
       "      <td>150000</td>\n",
       "      <td>6</td>\n",
       "      <td>bmw</td>\n",
       "      <td>no</td>\n",
       "      <td>2016-03-05</td>\n",
       "      <td>94032</td>\n",
       "      <td>2016-03-30 21:47:45</td>\n",
       "      <td>auto</td>\n",
       "      <td>sedan</td>\n",
       "      <td>gasoline</td>\n",
       "    </tr>\n",
       "    <tr>\n",
       "      <th>151115</th>\n",
       "      <td>2016-04-04 11:47:12</td>\n",
       "      <td>20000</td>\n",
       "      <td>2003</td>\n",
       "      <td>500</td>\n",
       "      <td>s_klasse</td>\n",
       "      <td>80000</td>\n",
       "      <td>12</td>\n",
       "      <td>mercedes_benz</td>\n",
       "      <td>no</td>\n",
       "      <td>2016-04-04</td>\n",
       "      <td>71272</td>\n",
       "      <td>2016-04-06 12:46:20</td>\n",
       "      <td>auto</td>\n",
       "      <td>sedan</td>\n",
       "      <td>gasoline</td>\n",
       "    </tr>\n",
       "    <tr>\n",
       "      <th>...</th>\n",
       "      <td>...</td>\n",
       "      <td>...</td>\n",
       "      <td>...</td>\n",
       "      <td>...</td>\n",
       "      <td>...</td>\n",
       "      <td>...</td>\n",
       "      <td>...</td>\n",
       "      <td>...</td>\n",
       "      <td>...</td>\n",
       "      <td>...</td>\n",
       "      <td>...</td>\n",
       "      <td>...</td>\n",
       "      <td>...</td>\n",
       "      <td>...</td>\n",
       "      <td>...</td>\n",
       "    </tr>\n",
       "    <tr>\n",
       "      <th>304847</th>\n",
       "      <td>2016-03-13 01:57:17</td>\n",
       "      <td>0</td>\n",
       "      <td>1994</td>\n",
       "      <td>0</td>\n",
       "      <td>passat</td>\n",
       "      <td>150000</td>\n",
       "      <td>6</td>\n",
       "      <td>volkswagen</td>\n",
       "      <td>no</td>\n",
       "      <td>2016-03-13</td>\n",
       "      <td>4158</td>\n",
       "      <td>2016-04-06 10:46:46</td>\n",
       "      <td>manual</td>\n",
       "      <td>wagon</td>\n",
       "      <td>gasoline</td>\n",
       "    </tr>\n",
       "    <tr>\n",
       "      <th>304789</th>\n",
       "      <td>2016-04-02 01:37:13</td>\n",
       "      <td>0</td>\n",
       "      <td>1995</td>\n",
       "      <td>0</td>\n",
       "      <td>passat</td>\n",
       "      <td>150000</td>\n",
       "      <td>5</td>\n",
       "      <td>volkswagen</td>\n",
       "      <td>no</td>\n",
       "      <td>2016-04-02</td>\n",
       "      <td>44359</td>\n",
       "      <td>2016-04-02 08:47:58</td>\n",
       "      <td>manual</td>\n",
       "      <td>wagon</td>\n",
       "      <td>gasoline</td>\n",
       "    </tr>\n",
       "    <tr>\n",
       "      <th>95313</th>\n",
       "      <td>2016-03-17 20:41:55</td>\n",
       "      <td>0</td>\n",
       "      <td>2018</td>\n",
       "      <td>0</td>\n",
       "      <td>focus</td>\n",
       "      <td>150000</td>\n",
       "      <td>10</td>\n",
       "      <td>ford</td>\n",
       "      <td>no</td>\n",
       "      <td>2016-03-17</td>\n",
       "      <td>18147</td>\n",
       "      <td>2016-03-17 20:41:55</td>\n",
       "      <td>manual</td>\n",
       "      <td>wagon</td>\n",
       "      <td>gasoline</td>\n",
       "    </tr>\n",
       "    <tr>\n",
       "      <th>193053</th>\n",
       "      <td>2016-03-07 09:53:32</td>\n",
       "      <td>0</td>\n",
       "      <td>2002</td>\n",
       "      <td>0</td>\n",
       "      <td>omega</td>\n",
       "      <td>150000</td>\n",
       "      <td>4</td>\n",
       "      <td>opel</td>\n",
       "      <td>yes</td>\n",
       "      <td>2016-03-07</td>\n",
       "      <td>45892</td>\n",
       "      <td>2016-04-06 20:44:57</td>\n",
       "      <td>manual</td>\n",
       "      <td>wagon</td>\n",
       "      <td>lpg</td>\n",
       "    </tr>\n",
       "    <tr>\n",
       "      <th>244415</th>\n",
       "      <td>2016-03-21 19:25:20</td>\n",
       "      <td>0</td>\n",
       "      <td>2017</td>\n",
       "      <td>0</td>\n",
       "      <td>other</td>\n",
       "      <td>40000</td>\n",
       "      <td>11</td>\n",
       "      <td>skoda</td>\n",
       "      <td>no</td>\n",
       "      <td>2016-03-21</td>\n",
       "      <td>65321</td>\n",
       "      <td>2016-03-23 09:33:29</td>\n",
       "      <td>manual</td>\n",
       "      <td>small</td>\n",
       "      <td>gasoline</td>\n",
       "    </tr>\n",
       "  </tbody>\n",
       "</table>\n",
       "<p>17356 rows × 15 columns</p>\n",
       "</div>"
      ],
      "text/plain": [
       "              date_crawled  price  registration_year  power        model  \\\n",
       "145452 2016-04-02 11:49:32  20000               2011      0     e_klasse   \n",
       "329879 2016-03-22 12:55:40  20000               2009      0  transporter   \n",
       "62722  2016-03-31 17:48:20  20000               2006    507      m_reihe   \n",
       "62692  2016-03-05 18:58:19  20000               2006    507      m_reihe   \n",
       "151115 2016-04-04 11:47:12  20000               2003    500     s_klasse   \n",
       "...                    ...    ...                ...    ...          ...   \n",
       "304847 2016-03-13 01:57:17      0               1994      0       passat   \n",
       "304789 2016-04-02 01:37:13      0               1995      0       passat   \n",
       "95313  2016-03-17 20:41:55      0               2018      0        focus   \n",
       "193053 2016-03-07 09:53:32      0               2002      0        omega   \n",
       "244415 2016-03-21 19:25:20      0               2017      0        other   \n",
       "\n",
       "        kilometer  registration_month          brand repaired date_created  \\\n",
       "145452     150000                   7  mercedes_benz       no   2016-04-02   \n",
       "329879     150000                   9     volkswagen       no   2016-03-22   \n",
       "62722      150000                   6            bmw       no   2016-03-31   \n",
       "62692      150000                   6            bmw       no   2016-03-05   \n",
       "151115      80000                  12  mercedes_benz       no   2016-04-04   \n",
       "...           ...                 ...            ...      ...          ...   \n",
       "304847     150000                   6     volkswagen       no   2016-03-13   \n",
       "304789     150000                   5     volkswagen       no   2016-04-02   \n",
       "95313      150000                  10           ford       no   2016-03-17   \n",
       "193053     150000                   4           opel      yes   2016-03-07   \n",
       "244415      40000                  11          skoda       no   2016-03-21   \n",
       "\n",
       "        postal_code           last_seen gearbox vehicle_type fuel_type  \n",
       "145452        28717 2016-04-06 09:46:00    auto        sedan  gasoline  \n",
       "329879        78315 2016-03-31 09:44:21  manual          bus  gasoline  \n",
       "62722         94032 2016-04-02 13:18:22    auto        sedan  gasoline  \n",
       "62692         94032 2016-03-30 21:47:45    auto        sedan  gasoline  \n",
       "151115        71272 2016-04-06 12:46:20    auto        sedan  gasoline  \n",
       "...             ...                 ...     ...          ...       ...  \n",
       "304847         4158 2016-04-06 10:46:46  manual        wagon  gasoline  \n",
       "304789        44359 2016-04-02 08:47:58  manual        wagon  gasoline  \n",
       "95313         18147 2016-03-17 20:41:55  manual        wagon  gasoline  \n",
       "193053        45892 2016-04-06 20:44:57  manual        wagon       lpg  \n",
       "244415        65321 2016-03-23 09:33:29  manual        small  gasoline  \n",
       "\n",
       "[17356 rows x 15 columns]"
      ]
     },
     "execution_count": 26,
     "metadata": {},
     "output_type": "execute_result"
    }
   ],
   "source": [
    "df.query('power > 400 or power < 10').sort_values(by='price', ascending=False)"
   ]
  },
  {
   "cell_type": "markdown",
   "metadata": {},
   "source": [
    "**Since it's hard to manually assess plausibility, just remove these entries.**"
   ]
  },
  {
   "cell_type": "code",
   "execution_count": 27,
   "metadata": {},
   "outputs": [],
   "source": [
    "df = df.query('power <= 400 and power > 10')"
   ]
  },
  {
   "cell_type": "code",
   "execution_count": 28,
   "metadata": {},
   "outputs": [
    {
     "data": {
      "text/plain": [
       "count    255200.000000\n",
       "mean        121.358926\n",
       "std          52.296211\n",
       "min          11.000000\n",
       "25%          80.000000\n",
       "50%         115.000000\n",
       "75%         150.000000\n",
       "max         400.000000\n",
       "Name: power, dtype: float64"
      ]
     },
     "execution_count": 28,
     "metadata": {},
     "output_type": "execute_result"
    }
   ],
   "source": [
    "df['power'].describe()"
   ]
  },
  {
   "cell_type": "code",
   "execution_count": 29,
   "metadata": {},
   "outputs": [
    {
     "data": {
      "image/png": "[encoded data removed]",
      "text/plain": [
       "<Figure size 640x480 with 1 Axes>"
      ]
     },
     "metadata": {},
     "output_type": "display_data"
    }
   ],
   "source": [
    "sns.boxplot(data=df['power'].reset_index(drop=True))\n",
    "plt.ylabel('Мощность в л.с.')\n",
    "plt.title('Диаграмма размаха значений мощности автомобилей');"
   ]
  },
  {
   "cell_type": "code",
   "execution_count": 30,
   "metadata": {},
   "outputs": [
    {
     "data": {
      "image/png": "[encoded data removed]",
      "text/plain": [
       "<Figure size 640x480 with 1 Axes>"
      ]
     },
     "metadata": {},
     "output_type": "display_data"
    }
   ],
   "source": [
    "df['power'].hist()\n",
    "plt.ylabel('Количество автомобилей')\n",
    "plt.xlabel('Мощность в л.с.')\n",
    "plt.title('Распределение значений мощности автомобилей');"
   ]
  },
  {
   "cell_type": "markdown",
   "metadata": {},
   "source": [
    "**Leave as is, there may be sports cars with ~400 hp.**"
   ]
  },
  {
   "cell_type": "markdown",
   "metadata": {},
   "source": [
    "**Next, look at registration_year.**"
   ]
  },
  {
   "cell_type": "code",
   "execution_count": 31,
   "metadata": {},
   "outputs": [
    {
     "data": {
      "text/plain": [
       "count    255200.000000\n",
       "mean       2003.481995\n",
       "std          17.713259\n",
       "min        1910.000000\n",
       "25%        1999.000000\n",
       "50%        2004.000000\n",
       "75%        2008.000000\n",
       "max        9000.000000\n",
       "Name: registration_year, dtype: float64"
      ]
     },
     "execution_count": 31,
     "metadata": {},
     "output_type": "execute_result"
    }
   ],
   "source": [
    "df['registration_year'].describe()"
   ]
  },
  {
   "cell_type": "code",
   "execution_count": 32,
   "metadata": {
    "scrolled": true
   },
   "outputs": [
    {
     "data": {
      "text/html": [
       "<div>\n",
       "<style scoped>\n",
       "    .dataframe tbody tr th:only-of-type {\n",
       "        vertical-align: middle;\n",
       "    }\n",
       "\n",
       "    .dataframe tbody tr th {\n",
       "        vertical-align: top;\n",
       "    }\n",
       "\n",
       "    .dataframe thead th {\n",
       "        text-align: right;\n",
       "    }\n",
       "</style>\n",
       "<table border=\"1\" class=\"dataframe\">\n",
       "  <thead>\n",
       "    <tr style=\"text-align: right;\">\n",
       "      <th></th>\n",
       "      <th>date_crawled</th>\n",
       "      <th>price</th>\n",
       "      <th>registration_year</th>\n",
       "      <th>power</th>\n",
       "      <th>model</th>\n",
       "      <th>kilometer</th>\n",
       "      <th>registration_month</th>\n",
       "      <th>brand</th>\n",
       "      <th>repaired</th>\n",
       "      <th>date_created</th>\n",
       "      <th>postal_code</th>\n",
       "      <th>last_seen</th>\n",
       "      <th>gearbox</th>\n",
       "      <th>vehicle_type</th>\n",
       "      <th>fuel_type</th>\n",
       "    </tr>\n",
       "  </thead>\n",
       "  <tbody>\n",
       "    <tr>\n",
       "      <th>141973</th>\n",
       "      <td>2016-04-07 14:36:58</td>\n",
       "      <td>3500</td>\n",
       "      <td>1999</td>\n",
       "      <td>143</td>\n",
       "      <td>e_klasse</td>\n",
       "      <td>150000</td>\n",
       "      <td>8</td>\n",
       "      <td>mercedes_benz</td>\n",
       "      <td>no</td>\n",
       "      <td>2016-04-07</td>\n",
       "      <td>64846</td>\n",
       "      <td>2016-04-07 14:36:58</td>\n",
       "      <td>manual</td>\n",
       "      <td>sedan</td>\n",
       "      <td>gasoline</td>\n",
       "    </tr>\n",
       "    <tr>\n",
       "      <th>115954</th>\n",
       "      <td>2016-04-07 14:36:56</td>\n",
       "      <td>8650</td>\n",
       "      <td>1992</td>\n",
       "      <td>121</td>\n",
       "      <td>wrangler</td>\n",
       "      <td>125000</td>\n",
       "      <td>5</td>\n",
       "      <td>jeep</td>\n",
       "      <td>no</td>\n",
       "      <td>2016-04-07</td>\n",
       "      <td>20357</td>\n",
       "      <td>2016-04-07 14:36:56</td>\n",
       "      <td>manual</td>\n",
       "      <td>suv</td>\n",
       "      <td>gasoline</td>\n",
       "    </tr>\n",
       "    <tr>\n",
       "      <th>26531</th>\n",
       "      <td>2016-04-07 14:36:55</td>\n",
       "      <td>15200</td>\n",
       "      <td>2008</td>\n",
       "      <td>190</td>\n",
       "      <td>a6</td>\n",
       "      <td>150000</td>\n",
       "      <td>9</td>\n",
       "      <td>audi</td>\n",
       "      <td>no</td>\n",
       "      <td>2016-04-07</td>\n",
       "      <td>81476</td>\n",
       "      <td>2016-04-07 14:36:55</td>\n",
       "      <td>manual</td>\n",
       "      <td>wagon</td>\n",
       "      <td>gasoline</td>\n",
       "    </tr>\n",
       "    <tr>\n",
       "      <th>45222</th>\n",
       "      <td>2016-04-07 14:36:53</td>\n",
       "      <td>6990</td>\n",
       "      <td>1979</td>\n",
       "      <td>143</td>\n",
       "      <td>3er</td>\n",
       "      <td>150000</td>\n",
       "      <td>6</td>\n",
       "      <td>bmw</td>\n",
       "      <td>no</td>\n",
       "      <td>2016-04-07</td>\n",
       "      <td>71336</td>\n",
       "      <td>2016-04-07 14:36:53</td>\n",
       "      <td>auto</td>\n",
       "      <td>coupe</td>\n",
       "      <td>gasoline</td>\n",
       "    </tr>\n",
       "    <tr>\n",
       "      <th>77068</th>\n",
       "      <td>2016-04-07 14:36:46</td>\n",
       "      <td>1500</td>\n",
       "      <td>2005</td>\n",
       "      <td>69</td>\n",
       "      <td>doblo</td>\n",
       "      <td>150000</td>\n",
       "      <td>1</td>\n",
       "      <td>fiat</td>\n",
       "      <td>no</td>\n",
       "      <td>2016-04-07</td>\n",
       "      <td>52076</td>\n",
       "      <td>2016-04-07 14:36:46</td>\n",
       "      <td>manual</td>\n",
       "      <td>bus</td>\n",
       "      <td>gasoline</td>\n",
       "    </tr>\n",
       "  </tbody>\n",
       "</table>\n",
       "</div>"
      ],
      "text/plain": [
       "              date_crawled  price  registration_year  power     model  \\\n",
       "141973 2016-04-07 14:36:58   3500               1999    143  e_klasse   \n",
       "115954 2016-04-07 14:36:56   8650               1992    121  wrangler   \n",
       "26531  2016-04-07 14:36:55  15200               2008    190        a6   \n",
       "45222  2016-04-07 14:36:53   6990               1979    143       3er   \n",
       "77068  2016-04-07 14:36:46   1500               2005     69     doblo   \n",
       "\n",
       "        kilometer  registration_month          brand repaired date_created  \\\n",
       "141973     150000                   8  mercedes_benz       no   2016-04-07   \n",
       "115954     125000                   5           jeep       no   2016-04-07   \n",
       "26531      150000                   9           audi       no   2016-04-07   \n",
       "45222      150000                   6            bmw       no   2016-04-07   \n",
       "77068      150000                   1           fiat       no   2016-04-07   \n",
       "\n",
       "        postal_code           last_seen gearbox vehicle_type fuel_type  \n",
       "141973        64846 2016-04-07 14:36:58  manual        sedan  gasoline  \n",
       "115954        20357 2016-04-07 14:36:56  manual          suv  gasoline  \n",
       "26531         81476 2016-04-07 14:36:55  manual        wagon  gasoline  \n",
       "45222         71336 2016-04-07 14:36:53    auto        coupe  gasoline  \n",
       "77068         52076 2016-04-07 14:36:46  manual          bus  gasoline  "
      ]
     },
     "execution_count": 32,
     "metadata": {},
     "output_type": "execute_result"
    }
   ],
   "source": [
    "df.sort_values(by='date_crawled', ascending=False).head()"
   ]
  },
  {
   "cell_type": "markdown",
   "metadata": {},
   "source": [
    "**2016-04-06 is the upper limit for registration date.**"
   ]
  },
  {
   "cell_type": "code",
   "execution_count": 33,
   "metadata": {},
   "outputs": [
    {
     "data": {
      "text/html": [
       "<div>\n",
       "<style scoped>\n",
       "    .dataframe tbody tr th:only-of-type {\n",
       "        vertical-align: middle;\n",
       "    }\n",
       "\n",
       "    .dataframe tbody tr th {\n",
       "        vertical-align: top;\n",
       "    }\n",
       "\n",
       "    .dataframe thead th {\n",
       "        text-align: right;\n",
       "    }\n",
       "</style>\n",
       "<table border=\"1\" class=\"dataframe\">\n",
       "  <thead>\n",
       "    <tr style=\"text-align: right;\">\n",
       "      <th></th>\n",
       "      <th>date_crawled</th>\n",
       "      <th>price</th>\n",
       "      <th>registration_year</th>\n",
       "      <th>power</th>\n",
       "      <th>model</th>\n",
       "      <th>kilometer</th>\n",
       "      <th>registration_month</th>\n",
       "      <th>brand</th>\n",
       "      <th>repaired</th>\n",
       "      <th>date_created</th>\n",
       "      <th>postal_code</th>\n",
       "      <th>last_seen</th>\n",
       "      <th>gearbox</th>\n",
       "      <th>vehicle_type</th>\n",
       "      <th>fuel_type</th>\n",
       "    </tr>\n",
       "  </thead>\n",
       "  <tbody>\n",
       "    <tr>\n",
       "      <th>258366</th>\n",
       "      <td>2016-03-07 22:58:46</td>\n",
       "      <td>3400</td>\n",
       "      <td>1910</td>\n",
       "      <td>90</td>\n",
       "      <td>beetle</td>\n",
       "      <td>90000</td>\n",
       "      <td>4</td>\n",
       "      <td>volkswagen</td>\n",
       "      <td>no</td>\n",
       "      <td>2016-03-07</td>\n",
       "      <td>34308</td>\n",
       "      <td>2016-03-12 08:16:51</td>\n",
       "      <td>manual</td>\n",
       "      <td>small</td>\n",
       "      <td>gasoline</td>\n",
       "    </tr>\n",
       "    <tr>\n",
       "      <th>194169</th>\n",
       "      <td>2016-04-03 19:47:42</td>\n",
       "      <td>0</td>\n",
       "      <td>1910</td>\n",
       "      <td>170</td>\n",
       "      <td>omega</td>\n",
       "      <td>150000</td>\n",
       "      <td>1</td>\n",
       "      <td>opel</td>\n",
       "      <td>no</td>\n",
       "      <td>2016-04-03</td>\n",
       "      <td>32425</td>\n",
       "      <td>2016-04-05 20:44:38</td>\n",
       "      <td>manual</td>\n",
       "      <td>wagon</td>\n",
       "      <td>gasoline</td>\n",
       "    </tr>\n",
       "    <tr>\n",
       "      <th>70245</th>\n",
       "      <td>2016-03-14 14:00:30</td>\n",
       "      <td>8750</td>\n",
       "      <td>1923</td>\n",
       "      <td>11</td>\n",
       "      <td>c3</td>\n",
       "      <td>5000</td>\n",
       "      <td>0</td>\n",
       "      <td>citroen</td>\n",
       "      <td>no</td>\n",
       "      <td>2016-03-14</td>\n",
       "      <td>27299</td>\n",
       "      <td>2016-04-05 16:44:28</td>\n",
       "      <td>manual</td>\n",
       "      <td>convertible</td>\n",
       "      <td>gasoline</td>\n",
       "    </tr>\n",
       "    <tr>\n",
       "      <th>63090</th>\n",
       "      <td>2016-03-09 16:52:31</td>\n",
       "      <td>11500</td>\n",
       "      <td>1929</td>\n",
       "      <td>15</td>\n",
       "      <td>other</td>\n",
       "      <td>5000</td>\n",
       "      <td>1</td>\n",
       "      <td>bmw</td>\n",
       "      <td>yes</td>\n",
       "      <td>2016-03-09</td>\n",
       "      <td>70569</td>\n",
       "      <td>2016-04-07 06:44:38</td>\n",
       "      <td>manual</td>\n",
       "      <td>convertible</td>\n",
       "      <td>gasoline</td>\n",
       "    </tr>\n",
       "    <tr>\n",
       "      <th>63026</th>\n",
       "      <td>2016-03-09 16:51:17</td>\n",
       "      <td>11500</td>\n",
       "      <td>1929</td>\n",
       "      <td>15</td>\n",
       "      <td>other</td>\n",
       "      <td>5000</td>\n",
       "      <td>1</td>\n",
       "      <td>bmw</td>\n",
       "      <td>yes</td>\n",
       "      <td>2016-03-09</td>\n",
       "      <td>70569</td>\n",
       "      <td>2016-04-07 06:17:11</td>\n",
       "      <td>manual</td>\n",
       "      <td>convertible</td>\n",
       "      <td>gasoline</td>\n",
       "    </tr>\n",
       "    <tr>\n",
       "      <th>...</th>\n",
       "      <td>...</td>\n",
       "      <td>...</td>\n",
       "      <td>...</td>\n",
       "      <td>...</td>\n",
       "      <td>...</td>\n",
       "      <td>...</td>\n",
       "      <td>...</td>\n",
       "      <td>...</td>\n",
       "      <td>...</td>\n",
       "      <td>...</td>\n",
       "      <td>...</td>\n",
       "      <td>...</td>\n",
       "      <td>...</td>\n",
       "      <td>...</td>\n",
       "      <td>...</td>\n",
       "    </tr>\n",
       "    <tr>\n",
       "      <th>78102</th>\n",
       "      <td>2016-03-21 18:50:47</td>\n",
       "      <td>11000</td>\n",
       "      <td>1969</td>\n",
       "      <td>50</td>\n",
       "      <td>other</td>\n",
       "      <td>100000</td>\n",
       "      <td>5</td>\n",
       "      <td>fiat</td>\n",
       "      <td>no</td>\n",
       "      <td>2016-03-21</td>\n",
       "      <td>35759</td>\n",
       "      <td>2016-04-05 19:47:58</td>\n",
       "      <td>manual</td>\n",
       "      <td>convertible</td>\n",
       "      <td>gasoline</td>\n",
       "    </tr>\n",
       "    <tr>\n",
       "      <th>194612</th>\n",
       "      <td>2016-04-03 16:44:50</td>\n",
       "      <td>5222</td>\n",
       "      <td>1969</td>\n",
       "      <td>90</td>\n",
       "      <td>other</td>\n",
       "      <td>90000</td>\n",
       "      <td>7</td>\n",
       "      <td>opel</td>\n",
       "      <td>no</td>\n",
       "      <td>2016-04-03</td>\n",
       "      <td>29525</td>\n",
       "      <td>2016-04-05 15:46:59</td>\n",
       "      <td>manual</td>\n",
       "      <td>sedan</td>\n",
       "      <td>gasoline</td>\n",
       "    </tr>\n",
       "    <tr>\n",
       "      <th>212939</th>\n",
       "      <td>2016-03-10 14:51:00</td>\n",
       "      <td>2000</td>\n",
       "      <td>1969</td>\n",
       "      <td>76</td>\n",
       "      <td>4_reihe</td>\n",
       "      <td>70000</td>\n",
       "      <td>3</td>\n",
       "      <td>peugeot</td>\n",
       "      <td>no</td>\n",
       "      <td>2016-03-10</td>\n",
       "      <td>26871</td>\n",
       "      <td>2016-04-07 13:16:43</td>\n",
       "      <td>manual</td>\n",
       "      <td>sedan</td>\n",
       "      <td>gasoline</td>\n",
       "    </tr>\n",
       "    <tr>\n",
       "      <th>213712</th>\n",
       "      <td>2016-03-15 04:36:17</td>\n",
       "      <td>1</td>\n",
       "      <td>6500</td>\n",
       "      <td>120</td>\n",
       "      <td>other</td>\n",
       "      <td>10000</td>\n",
       "      <td>9</td>\n",
       "      <td>peugeot</td>\n",
       "      <td>no</td>\n",
       "      <td>2016-03-15</td>\n",
       "      <td>13409</td>\n",
       "      <td>2016-03-23 14:16:33</td>\n",
       "      <td>manual</td>\n",
       "      <td>bus</td>\n",
       "      <td>gasoline</td>\n",
       "    </tr>\n",
       "    <tr>\n",
       "      <th>232965</th>\n",
       "      <td>2016-03-19 15:57:44</td>\n",
       "      <td>0</td>\n",
       "      <td>9000</td>\n",
       "      <td>170</td>\n",
       "      <td>9000</td>\n",
       "      <td>150000</td>\n",
       "      <td>2</td>\n",
       "      <td>saab</td>\n",
       "      <td>no</td>\n",
       "      <td>2016-03-19</td>\n",
       "      <td>32457</td>\n",
       "      <td>2016-03-21 21:18:11</td>\n",
       "      <td>auto</td>\n",
       "      <td>sedan</td>\n",
       "      <td>gasoline</td>\n",
       "    </tr>\n",
       "  </tbody>\n",
       "</table>\n",
       "<p>415 rows × 15 columns</p>\n",
       "</div>"
      ],
      "text/plain": [
       "              date_crawled  price  registration_year  power    model  \\\n",
       "258366 2016-03-07 22:58:46   3400               1910     90   beetle   \n",
       "194169 2016-04-03 19:47:42      0               1910    170    omega   \n",
       "70245  2016-03-14 14:00:30   8750               1923     11       c3   \n",
       "63090  2016-03-09 16:52:31  11500               1929     15    other   \n",
       "63026  2016-03-09 16:51:17  11500               1929     15    other   \n",
       "...                    ...    ...                ...    ...      ...   \n",
       "78102  2016-03-21 18:50:47  11000               1969     50    other   \n",
       "194612 2016-04-03 16:44:50   5222               1969     90    other   \n",
       "212939 2016-03-10 14:51:00   2000               1969     76  4_reihe   \n",
       "213712 2016-03-15 04:36:17      1               6500    120    other   \n",
       "232965 2016-03-19 15:57:44      0               9000    170     9000   \n",
       "\n",
       "        kilometer  registration_month       brand repaired date_created  \\\n",
       "258366      90000                   4  volkswagen       no   2016-03-07   \n",
       "194169     150000                   1        opel       no   2016-04-03   \n",
       "70245        5000                   0     citroen       no   2016-03-14   \n",
       "63090        5000                   1         bmw      yes   2016-03-09   \n",
       "63026        5000                   1         bmw      yes   2016-03-09   \n",
       "...           ...                 ...         ...      ...          ...   \n",
       "78102      100000                   5        fiat       no   2016-03-21   \n",
       "194612      90000                   7        opel       no   2016-04-03   \n",
       "212939      70000                   3     peugeot       no   2016-03-10   \n",
       "213712      10000                   9     peugeot       no   2016-03-15   \n",
       "232965     150000                   2        saab       no   2016-03-19   \n",
       "\n",
       "        postal_code           last_seen gearbox vehicle_type fuel_type  \n",
       "258366        34308 2016-03-12 08:16:51  manual        small  gasoline  \n",
       "194169        32425 2016-04-05 20:44:38  manual        wagon  gasoline  \n",
       "70245         27299 2016-04-05 16:44:28  manual  convertible  gasoline  \n",
       "63090         70569 2016-04-07 06:44:38  manual  convertible  gasoline  \n",
       "63026         70569 2016-04-07 06:17:11  manual  convertible  gasoline  \n",
       "...             ...                 ...     ...          ...       ...  \n",
       "78102         35759 2016-04-05 19:47:58  manual  convertible  gasoline  \n",
       "194612        29525 2016-04-05 15:46:59  manual        sedan  gasoline  \n",
       "212939        26871 2016-04-07 13:16:43  manual        sedan  gasoline  \n",
       "213712        13409 2016-03-23 14:16:33  manual          bus  gasoline  \n",
       "232965        32457 2016-03-21 21:18:11    auto        sedan  gasoline  \n",
       "\n",
       "[415 rows x 15 columns]"
      ]
     },
     "execution_count": 33,
     "metadata": {},
     "output_type": "execute_result"
    }
   ],
   "source": [
    "df.query('registration_year > 2019 or registration_year < 1970').sort_values(by='registration_year')"
   ]
  },
  {
   "cell_type": "markdown",
   "metadata": {},
   "source": [
    "**Remove years before 1970 and after 2016 as implausible and rare.**"
   ]
  },
  {
   "cell_type": "code",
   "execution_count": 34,
   "metadata": {},
   "outputs": [],
   "source": [
    "df = df.query('registration_year <= 2016 and registration_year >= 1970')"
   ]
  },
  {
   "cell_type": "code",
   "execution_count": null,
   "metadata": {},
   "outputs": [
    {
     "data": {
      "text/plain": [
       "''"
      ]
     },
     "execution_count": 35,
     "metadata": {},
     "output_type": "execute_result"
    },
    {
     "data": {
      "image/png": "[encoded data removed]",
      "text/plain": [
       "<Figure size 640x480 with 1 Axes>"
      ]
     },
     "metadata": {},
     "output_type": "display_data"
    }
   ],
   "source": [
    "df['registration_year'].hist()\n",
    "plt.ylabel('Количество автомобилей')\n",
    "plt.xlabel('Год регистрации')\n",
    "plt.title('Распределение значений годов регистрации автомобилей');"
   ]
  },
  {
   "cell_type": "markdown",
   "metadata": {},
   "source": [
    "**Now look at the target Price.**"
   ]
  },
  {
   "cell_type": "code",
   "execution_count": 36,
   "metadata": {},
   "outputs": [
    {
     "data": {
      "text/plain": [
       "count    249088.000000\n",
       "mean       5083.482320\n",
       "std        4694.663287\n",
       "min           0.000000\n",
       "25%        1450.000000\n",
       "50%        3499.000000\n",
       "75%        7490.000000\n",
       "max       20000.000000\n",
       "Name: price, dtype: float64"
      ]
     },
     "execution_count": 36,
     "metadata": {},
     "output_type": "execute_result"
    }
   ],
   "source": [
    "df['price'].describe()"
   ]
  },
  {
   "cell_type": "code",
   "execution_count": 37,
   "metadata": {},
   "outputs": [
    {
     "data": {
      "text/html": [
       "<div>\n",
       "<style scoped>\n",
       "    .dataframe tbody tr th:only-of-type {\n",
       "        vertical-align: middle;\n",
       "    }\n",
       "\n",
       "    .dataframe tbody tr th {\n",
       "        vertical-align: top;\n",
       "    }\n",
       "\n",
       "    .dataframe thead th {\n",
       "        text-align: right;\n",
       "    }\n",
       "</style>\n",
       "<table border=\"1\" class=\"dataframe\">\n",
       "  <thead>\n",
       "    <tr style=\"text-align: right;\">\n",
       "      <th></th>\n",
       "      <th>date_crawled</th>\n",
       "      <th>price</th>\n",
       "      <th>registration_year</th>\n",
       "      <th>power</th>\n",
       "      <th>model</th>\n",
       "      <th>kilometer</th>\n",
       "      <th>registration_month</th>\n",
       "      <th>brand</th>\n",
       "      <th>repaired</th>\n",
       "      <th>date_created</th>\n",
       "      <th>postal_code</th>\n",
       "      <th>last_seen</th>\n",
       "      <th>gearbox</th>\n",
       "      <th>vehicle_type</th>\n",
       "      <th>fuel_type</th>\n",
       "    </tr>\n",
       "  </thead>\n",
       "  <tbody>\n",
       "    <tr>\n",
       "      <th>186</th>\n",
       "      <td>2016-03-25 10:36:20</td>\n",
       "      <td>0</td>\n",
       "      <td>2002</td>\n",
       "      <td>105</td>\n",
       "      <td>147</td>\n",
       "      <td>125000</td>\n",
       "      <td>3</td>\n",
       "      <td>alfa_romeo</td>\n",
       "      <td>yes</td>\n",
       "      <td>2016-03-25</td>\n",
       "      <td>95152</td>\n",
       "      <td>2016-04-06 09:45:32</td>\n",
       "      <td>manual</td>\n",
       "      <td>small</td>\n",
       "      <td>gasoline</td>\n",
       "    </tr>\n",
       "    <tr>\n",
       "      <th>364</th>\n",
       "      <td>2016-03-25 11:48:36</td>\n",
       "      <td>0</td>\n",
       "      <td>2002</td>\n",
       "      <td>150</td>\n",
       "      <td>147</td>\n",
       "      <td>150000</td>\n",
       "      <td>3</td>\n",
       "      <td>alfa_romeo</td>\n",
       "      <td>yes</td>\n",
       "      <td>2016-03-25</td>\n",
       "      <td>66424</td>\n",
       "      <td>2016-04-04 11:44:40</td>\n",
       "      <td>manual</td>\n",
       "      <td>coupe</td>\n",
       "      <td>gasoline</td>\n",
       "    </tr>\n",
       "    <tr>\n",
       "      <th>651</th>\n",
       "      <td>2016-03-10 22:36:21</td>\n",
       "      <td>0</td>\n",
       "      <td>1998</td>\n",
       "      <td>150</td>\n",
       "      <td>156</td>\n",
       "      <td>150000</td>\n",
       "      <td>1</td>\n",
       "      <td>alfa_romeo</td>\n",
       "      <td>yes</td>\n",
       "      <td>2016-03-10</td>\n",
       "      <td>84088</td>\n",
       "      <td>2016-03-11 07:43:34</td>\n",
       "      <td>manual</td>\n",
       "      <td>sedan</td>\n",
       "      <td>gasoline</td>\n",
       "    </tr>\n",
       "    <tr>\n",
       "      <th>683</th>\n",
       "      <td>2016-03-16 19:52:39</td>\n",
       "      <td>0</td>\n",
       "      <td>1998</td>\n",
       "      <td>145</td>\n",
       "      <td>156</td>\n",
       "      <td>150000</td>\n",
       "      <td>9</td>\n",
       "      <td>alfa_romeo</td>\n",
       "      <td>no</td>\n",
       "      <td>2016-03-16</td>\n",
       "      <td>96268</td>\n",
       "      <td>2016-03-20 20:49:02</td>\n",
       "      <td>manual</td>\n",
       "      <td>sedan</td>\n",
       "      <td>gasoline</td>\n",
       "    </tr>\n",
       "    <tr>\n",
       "      <th>698</th>\n",
       "      <td>2016-03-21 18:43:22</td>\n",
       "      <td>0</td>\n",
       "      <td>1999</td>\n",
       "      <td>136</td>\n",
       "      <td>156</td>\n",
       "      <td>150000</td>\n",
       "      <td>1</td>\n",
       "      <td>alfa_romeo</td>\n",
       "      <td>yes</td>\n",
       "      <td>2016-03-21</td>\n",
       "      <td>72131</td>\n",
       "      <td>2016-04-06 19:47:45</td>\n",
       "      <td>manual</td>\n",
       "      <td>sedan</td>\n",
       "      <td>gasoline</td>\n",
       "    </tr>\n",
       "    <tr>\n",
       "      <th>...</th>\n",
       "      <td>...</td>\n",
       "      <td>...</td>\n",
       "      <td>...</td>\n",
       "      <td>...</td>\n",
       "      <td>...</td>\n",
       "      <td>...</td>\n",
       "      <td>...</td>\n",
       "      <td>...</td>\n",
       "      <td>...</td>\n",
       "      <td>...</td>\n",
       "      <td>...</td>\n",
       "      <td>...</td>\n",
       "      <td>...</td>\n",
       "      <td>...</td>\n",
       "      <td>...</td>\n",
       "    </tr>\n",
       "    <tr>\n",
       "      <th>334134</th>\n",
       "      <td>2016-03-29 07:36:18</td>\n",
       "      <td>0</td>\n",
       "      <td>1999</td>\n",
       "      <td>265</td>\n",
       "      <td>v70</td>\n",
       "      <td>150000</td>\n",
       "      <td>5</td>\n",
       "      <td>volvo</td>\n",
       "      <td>no</td>\n",
       "      <td>2016-03-29</td>\n",
       "      <td>59071</td>\n",
       "      <td>2016-03-29 08:56:09</td>\n",
       "      <td>auto</td>\n",
       "      <td>wagon</td>\n",
       "      <td>gasoline</td>\n",
       "    </tr>\n",
       "    <tr>\n",
       "      <th>334178</th>\n",
       "      <td>2016-03-28 18:59:11</td>\n",
       "      <td>0</td>\n",
       "      <td>1998</td>\n",
       "      <td>192</td>\n",
       "      <td>v70</td>\n",
       "      <td>150000</td>\n",
       "      <td>8</td>\n",
       "      <td>volvo</td>\n",
       "      <td>no</td>\n",
       "      <td>2016-03-28</td>\n",
       "      <td>49696</td>\n",
       "      <td>2016-04-01 04:46:04</td>\n",
       "      <td>manual</td>\n",
       "      <td>wagon</td>\n",
       "      <td>gasoline</td>\n",
       "    </tr>\n",
       "    <tr>\n",
       "      <th>334377</th>\n",
       "      <td>2016-04-02 15:43:47</td>\n",
       "      <td>0</td>\n",
       "      <td>1998</td>\n",
       "      <td>192</td>\n",
       "      <td>v70</td>\n",
       "      <td>150000</td>\n",
       "      <td>5</td>\n",
       "      <td>volvo</td>\n",
       "      <td>no</td>\n",
       "      <td>2016-04-02</td>\n",
       "      <td>49692</td>\n",
       "      <td>2016-04-06 14:16:50</td>\n",
       "      <td>manual</td>\n",
       "      <td>wagon</td>\n",
       "      <td>gasoline</td>\n",
       "    </tr>\n",
       "    <tr>\n",
       "      <th>334399</th>\n",
       "      <td>2016-03-06 13:47:26</td>\n",
       "      <td>0</td>\n",
       "      <td>1997</td>\n",
       "      <td>144</td>\n",
       "      <td>v70</td>\n",
       "      <td>150000</td>\n",
       "      <td>2</td>\n",
       "      <td>volvo</td>\n",
       "      <td>yes</td>\n",
       "      <td>2016-03-06</td>\n",
       "      <td>88239</td>\n",
       "      <td>2016-04-06 05:46:27</td>\n",
       "      <td>manual</td>\n",
       "      <td>wagon</td>\n",
       "      <td>gasoline</td>\n",
       "    </tr>\n",
       "    <tr>\n",
       "      <th>334531</th>\n",
       "      <td>2016-03-08 16:55:38</td>\n",
       "      <td>0</td>\n",
       "      <td>1996</td>\n",
       "      <td>150</td>\n",
       "      <td>v70</td>\n",
       "      <td>150000</td>\n",
       "      <td>8</td>\n",
       "      <td>volvo</td>\n",
       "      <td>no</td>\n",
       "      <td>2016-03-08</td>\n",
       "      <td>21423</td>\n",
       "      <td>2016-03-30 12:45:15</td>\n",
       "      <td>auto</td>\n",
       "      <td>wagon</td>\n",
       "      <td>gasoline</td>\n",
       "    </tr>\n",
       "  </tbody>\n",
       "</table>\n",
       "<p>4295 rows × 15 columns</p>\n",
       "</div>"
      ],
      "text/plain": [
       "              date_crawled  price  registration_year  power model  kilometer  \\\n",
       "186    2016-03-25 10:36:20      0               2002    105   147     125000   \n",
       "364    2016-03-25 11:48:36      0               2002    150   147     150000   \n",
       "651    2016-03-10 22:36:21      0               1998    150   156     150000   \n",
       "683    2016-03-16 19:52:39      0               1998    145   156     150000   \n",
       "698    2016-03-21 18:43:22      0               1999    136   156     150000   \n",
       "...                    ...    ...                ...    ...   ...        ...   \n",
       "334134 2016-03-29 07:36:18      0               1999    265   v70     150000   \n",
       "334178 2016-03-28 18:59:11      0               1998    192   v70     150000   \n",
       "334377 2016-04-02 15:43:47      0               1998    192   v70     150000   \n",
       "334399 2016-03-06 13:47:26      0               1997    144   v70     150000   \n",
       "334531 2016-03-08 16:55:38      0               1996    150   v70     150000   \n",
       "\n",
       "        registration_month       brand repaired date_created  postal_code  \\\n",
       "186                      3  alfa_romeo      yes   2016-03-25        95152   \n",
       "364                      3  alfa_romeo      yes   2016-03-25        66424   \n",
       "651                      1  alfa_romeo      yes   2016-03-10        84088   \n",
       "683                      9  alfa_romeo       no   2016-03-16        96268   \n",
       "698                      1  alfa_romeo      yes   2016-03-21        72131   \n",
       "...                    ...         ...      ...          ...          ...   \n",
       "334134                   5       volvo       no   2016-03-29        59071   \n",
       "334178                   8       volvo       no   2016-03-28        49696   \n",
       "334377                   5       volvo       no   2016-04-02        49692   \n",
       "334399                   2       volvo      yes   2016-03-06        88239   \n",
       "334531                   8       volvo       no   2016-03-08        21423   \n",
       "\n",
       "                 last_seen gearbox vehicle_type fuel_type  \n",
       "186    2016-04-06 09:45:32  manual        small  gasoline  \n",
       "364    2016-04-04 11:44:40  manual        coupe  gasoline  \n",
       "651    2016-03-11 07:43:34  manual        sedan  gasoline  \n",
       "683    2016-03-20 20:49:02  manual        sedan  gasoline  \n",
       "698    2016-04-06 19:47:45  manual        sedan  gasoline  \n",
       "...                    ...     ...          ...       ...  \n",
       "334134 2016-03-29 08:56:09    auto        wagon  gasoline  \n",
       "334178 2016-04-01 04:46:04  manual        wagon  gasoline  \n",
       "334377 2016-04-06 14:16:50  manual        wagon  gasoline  \n",
       "334399 2016-04-06 05:46:27  manual        wagon  gasoline  \n",
       "334531 2016-03-30 12:45:15    auto        wagon  gasoline  \n",
       "\n",
       "[4295 rows x 15 columns]"
      ]
     },
     "execution_count": 37,
     "metadata": {},
     "output_type": "execute_result"
    }
   ],
   "source": [
    "df.query('price < 100')"
   ]
  },
  {
   "cell_type": "markdown",
   "metadata": {},
   "source": [
    "**Since the model doesn't need to decide if a car should be given away for free, just remove these entries.**"
   ]
  },
  {
   "cell_type": "code",
   "execution_count": 38,
   "metadata": {},
   "outputs": [],
   "source": [
    "df = df.query('price >= 100')"
   ]
  },
  {
   "cell_type": "code",
   "execution_count": 39,
   "metadata": {},
   "outputs": [
    {
     "data": {
      "text/plain": [
       "244793"
      ]
     },
     "execution_count": 39,
     "metadata": {},
     "output_type": "execute_result"
    }
   ],
   "source": [
    "df.shape[0]"
   ]
  },
  {
   "cell_type": "markdown",
   "metadata": {},
   "source": [
    "**After filtering, 250,000 entries remain.**"
   ]
  },
  {
   "cell_type": "markdown",
   "metadata": {},
   "source": [
    "### Correlation Analysis"
   ]
  },
  {
   "cell_type": "markdown",
   "metadata": {},
   "source": [
    "**Do a simple correlation analysis, plot a heatmap of phi_k correlation coefficients.**"
   ]
  },
  {
   "cell_type": "code",
   "execution_count": 40,
   "metadata": {},
   "outputs": [
    {
     "data": {
      "text/plain": [
       "Index(['price', 'registration_year', 'power', 'kilometer',\n",
       "       'registration_month', 'postal_code'],\n",
       "      dtype='object')"
      ]
     },
     "execution_count": 40,
     "metadata": {},
     "output_type": "execute_result"
    }
   ],
   "source": [
    "df.select_dtypes(include='number').columns"
   ]
  },
  {
   "cell_type": "code",
   "execution_count": 41,
   "metadata": {},
   "outputs": [
    {
     "name": "stdout",
     "output_type": "stream",
     "text": [
      "\n"
     ]
    },
    {
     "data": {
      "image/png": "[encoded data removed]",
      "text/plain": [
       "<Figure size 1500x1500 with 2 Axes>"
      ]
     },
     "metadata": {},
     "output_type": "display_data"
    }
   ],
   "source": [
    "interval_cols = ['price', \n",
    "                 'registration_year', \n",
    "                 'power', \n",
    "                 'kilometer',\n",
    "                 'registration_month']\n",
    "\n",
    "to_drop = ['postal_code',\n",
    "           'last_seen',\n",
    "           'date_crawled',\n",
    "           'date_created',\n",
    "           'registration_month']\n",
    "\n",
    "fig, ax = plt.subplots(figsize=(15,15))\n",
    "plt.title('Карта кэоффициентов корреляции')\n",
    "sns.heatmap(df.drop(to_drop, axis=1).phik_matrix(interval_cols=interval_cols),\n",
    "            annot=True, \n",
    "            fmt='.2f',\n",
    "            ax=ax) \n",
    "print()"
   ]
  },
  {
   "cell_type": "markdown",
   "metadata": {},
   "source": [
    "**Most correlated with Price are RegistrationYear, Model, and Power. Brand and Model are highly correlated, keep only Brand.**"
   ]
  },
  {
   "cell_type": "code",
   "execution_count": 42,
   "metadata": {},
   "outputs": [],
   "source": [
    "df = df.drop(to_drop, axis=1).reset_index(drop=True)"
   ]
  },
  {
   "cell_type": "markdown",
   "metadata": {},
   "source": [
    "**Data preprocessing summary: Dates converted to correct type, columns renamed to snake_case, dropped non-informative number_of_pictures. Outliers and anomalies filtered, duplicates removed. Correlation analysis showed strong correlation between brand and model (logical).**"
   ]
  },
  {
   "cell_type": "markdown",
   "metadata": {},
   "source": [
    "## Model Training"
   ]
  },
  {
   "cell_type": "markdown",
   "metadata": {},
   "source": [
    "**We will use LightGBM and LinearRegression. Hyperparameter search will be done in a pipeline.**"
   ]
  },
  {
   "cell_type": "markdown",
   "metadata": {},
   "source": [
    "**First, select features for training and those to scale/encode.**"
   ]
  },
  {
   "cell_type": "code",
   "execution_count": 43,
   "metadata": {},
   "outputs": [
    {
     "data": {
      "text/plain": [
       "Index(['model', 'brand', 'repaired', 'gearbox', 'vehicle_type', 'fuel_type'], dtype='object')"
      ]
     },
     "execution_count": 43,
     "metadata": {},
     "output_type": "execute_result"
    }
   ],
   "source": [
    "df.select_dtypes(exclude='number').columns"
   ]
  },
  {
   "cell_type": "code",
   "execution_count": 44,
   "metadata": {},
   "outputs": [
    {
     "data": {
      "text/plain": [
       "Index(['price', 'registration_year', 'power', 'kilometer'], dtype='object')"
      ]
     },
     "execution_count": 44,
     "metadata": {},
     "output_type": "execute_result"
    }
   ],
   "source": [
    "df.select_dtypes(include='number').columns"
   ]
  },
  {
   "cell_type": "code",
   "execution_count": 45,
   "metadata": {},
   "outputs": [],
   "source": [
    "ohe_columns = ['repaired', 'brand', 'vehicle_type', 'gearbox', 'fuel_type']\n",
    "num_columns = ['registration_year', 'power', 'kilometer']\n",
    "df[ohe_columns] = df[ohe_columns].astype('category')"
   ]
  },
  {
   "cell_type": "code",
   "execution_count": 46,
   "metadata": {},
   "outputs": [
    {
     "name": "stdout",
     "output_type": "stream",
     "text": [
      "<class 'pandas.core.frame.DataFrame'>\n",
      "RangeIndex: 244793 entries, 0 to 244792\n",
      "Data columns (total 10 columns):\n",
      " #   Column             Non-Null Count   Dtype   \n",
      "---  ------             --------------   -----   \n",
      " 0   price              244793 non-null  int64   \n",
      " 1   registration_year  244793 non-null  int64   \n",
      " 2   power              244793 non-null  int64   \n",
      " 3   model              244793 non-null  object  \n",
      " 4   kilometer          244793 non-null  int64   \n",
      " 5   brand              244793 non-null  category\n",
      " 6   repaired           244793 non-null  category\n",
      " 7   gearbox            244793 non-null  category\n",
      " 8   vehicle_type       244793 non-null  category\n",
      " 9   fuel_type          244793 non-null  category\n",
      "dtypes: category(5), int64(4), object(1)\n",
      "memory usage: 10.5+ MB\n"
     ]
    }
   ],
   "source": [
    "df.info()"
   ]
  },
  {
   "cell_type": "markdown",
   "metadata": {},
   "source": [
    "**Split data into train and test sets.**"
   ]
  },
  {
   "cell_type": "code",
   "execution_count": 47,
   "metadata": {},
   "outputs": [
    {
     "data": {
      "text/plain": [
       "((183594, 8), (61199, 8))"
      ]
     },
     "execution_count": 47,
     "metadata": {},
     "output_type": "execute_result"
    }
   ],
   "source": [
    "X_train, X_test, y_train, y_test = train_test_split(\n",
    "    df.drop(['price', 'model'], axis=1),\n",
    "    df['price'],\n",
    "    test_size = TEST_SIZE, \n",
    "    random_state = RANDOM_STATE)\n",
    "\n",
    "X_train.shape, X_test.shape"
   ]
  },
  {
   "cell_type": "markdown",
   "metadata": {},
   "source": [
    "**Start creating pipelines for scaling and encoding.**"
   ]
  },
  {
   "cell_type": "code",
   "execution_count": 48,
   "metadata": {},
   "outputs": [],
   "source": [
    "ohe_pipe = Pipeline(\n",
    "    [('simpleImputer_ohe', SimpleImputer(missing_values=np.nan, strategy='most_frequent')),\n",
    "     ('ohe', OneHotEncoder(drop='first', handle_unknown='error', sparse_output=False))\n",
    "    ]\n",
    "    )"
   ]
  },
  {
   "cell_type": "markdown",
   "metadata": {},
   "source": [
    "**Combine pipelines for feature processing.**"
   ]
  },
  {
   "cell_type": "code",
   "execution_count": 49,
   "metadata": {},
   "outputs": [],
   "source": [
    "data_preprocessor_ridge = ColumnTransformer(\n",
    "    [('ohe', ohe_pipe, ohe_columns),\n",
    "     ('num', MinMaxScaler(), num_columns)\n",
    "    ], \n",
    "    remainder='passthrough'\n",
    ")"
   ]
  },
  {
   "cell_type": "markdown",
   "metadata": {},
   "source": [
    "**Create the final pipeline.**"
   ]
  },
  {
   "cell_type": "code",
   "execution_count": 50,
   "metadata": {},
   "outputs": [],
   "source": [
    "\n",
    "\n",
    "pipe_final_ridge = Pipeline([\n",
    "    ('preprocessor', data_preprocessor_ridge),\n",
    "    ('models', Ridge())\n",
    "])"
   ]
  },
  {
   "cell_type": "markdown",
   "metadata": {},
   "source": [
    "**Create a dictionary with models and hyperparameters for search.**"
   ]
  },
  {
   "cell_type": "code",
   "execution_count": 51,
   "metadata": {},
   "outputs": [],
   "source": [
    "model = lgb.LGBMRegressor(n_estimators=20, num_leaves=70,\n",
    "                                 verbose=3,\n",
    "                                 random_state=RANDOM_STATE)\n",
    "param_grid_lgbm = [\n",
    "    {\n",
    "        'learning_rate': [0.01, 0.05, 0.1],\n",
    "        'max_depth': [5, 10, 15]\n",
    "          \n",
    "    }]\n",
    "param_grid_ridge = [    \n",
    "    {\n",
    "        'models': [Ridge()],\n",
    "        'models__alpha': [0.1, 0.5, 1, 2.5, 3.5,  5, 10],\n",
    "        'preprocessor__num': [StandardScaler(), MinMaxScaler()]   \n",
    "    }\n",
    "]"
   ]
  },
  {
   "cell_type": "markdown",
   "metadata": {},
   "source": [
    "**Create custom RMSE metric.**"
   ]
  },
  {
   "cell_type": "code",
   "execution_count": 52,
   "metadata": {},
   "outputs": [],
   "source": [
    "def rmse(y_true, y_pred):\n",
    "    return np.sqrt(mean_squared_error(y_true, y_pred))"
   ]
  },
  {
   "cell_type": "code",
   "execution_count": 53,
   "metadata": {
    "scrolled": true
   },
   "outputs": [],
   "source": [
    "rmse_scorer = make_scorer(rmse, greater_is_better=False)"
   ]
  },
  {
   "cell_type": "code",
   "execution_count": 54,
   "metadata": {},
   "outputs": [
    {
     "name": "stdout",
     "output_type": "stream",
     "text": [
      "CPU times: total: 1.33 s\n",
      "Wall time: 5.11 s\n"
     ]
    },
    {
     "data": {
      "text/html": [
       "<style>#sk-container-id-1 {\n",
       "  /* Definition of color scheme common for light and dark mode */\n",
       "  --sklearn-color-text: black;\n",
       "  --sklearn-color-line: gray;\n",
       "  /* Definition of color scheme for unfitted estimators */\n",
       "  --sklearn-color-unfitted-level-0: #fff5e6;\n",
       "  --sklearn-color-unfitted-level-1: #f6e4d2;\n",
       "  --sklearn-color-unfitted-level-2: #ffe0b3;\n",
       "  --sklearn-color-unfitted-level-3: chocolate;\n",
       "  /* Definition of color scheme for fitted estimators */\n",
       "  --sklearn-color-fitted-level-0: #f0f8ff;\n",
       "  --sklearn-color-fitted-level-1: #d4ebff;\n",
       "  --sklearn-color-fitted-level-2: #b3dbfd;\n",
       "  --sklearn-color-fitted-level-3: cornflowerblue;\n",
       "\n",
       "  /* Specific color for light theme */\n",
       "  --sklearn-color-text-on-default-background: var(--sg-text-color, var(--theme-code-foreground, var(--jp-content-font-color1, black)));\n",
       "  --sklearn-color-background: var(--sg-background-color, var(--theme-background, var(--jp-layout-color0, white)));\n",
       "  --sklearn-color-border-box: var(--sg-text-color, var(--theme-code-foreground, var(--jp-content-font-color1, black)));\n",
       "  --sklearn-color-icon: #696969;\n",
       "\n",
       "  @media (prefers-color-scheme: dark) {\n",
       "    /* Redefinition of color scheme for dark theme */\n",
       "    --sklearn-color-text-on-default-background: var(--sg-text-color, var(--theme-code-foreground, var(--jp-content-font-color1, white)));\n",
       "    --sklearn-color-background: var(--sg-background-color, var(--theme-background, var(--jp-layout-color0, #111)));\n",
       "    --sklearn-color-border-box: var(--sg-text-color, var(--theme-code-foreground, var(--jp-content-font-color1, white)));\n",
       "    --sklearn-color-icon: #878787;\n",
       "  }\n",
       "}\n",
       "\n",
       "#sk-container-id-1 {\n",
       "  color: var(--sklearn-color-text);\n",
       "}\n",
       "\n",
       "#sk-container-id-1 pre {\n",
       "  padding: 0;\n",
       "}\n",
       "\n",
       "#sk-container-id-1 input.sk-hidden--visually {\n",
       "  border: 0;\n",
       "  clip: rect(1px 1px 1px 1px);\n",
       "  clip: rect(1px, 1px, 1px, 1px);\n",
       "  height: 1px;\n",
       "  margin: -1px;\n",
       "  overflow: hidden;\n",
       "  padding: 0;\n",
       "  position: absolute;\n",
       "  width: 1px;\n",
       "}\n",
       "\n",
       "#sk-container-id-1 div.sk-dashed-wrapped {\n",
       "  border: 1px dashed var(--sklearn-color-line);\n",
       "  margin: 0 0.4em 0.5em 0.4em;\n",
       "  box-sizing: border-box;\n",
       "  padding-bottom: 0.4em;\n",
       "  background-color: var(--sklearn-color-background);\n",
       "}\n",
       "\n",
       "#sk-container-id-1 div.sk-container {\n",
       "  /* jupyter's `normalize.less` sets `[hidden] { display: none; }`\n",
       "     but bootstrap.min.css set `[hidden] { display: none !important; }`\n",
       "     so we also need the `!important` here to be able to override the\n",
       "     default hidden behavior on the sphinx rendered scikit-learn.org.\n",
       "     See: https://github.com/scikit-learn/scikit-learn/issues/21755 */\n",
       "  display: inline-block !important;\n",
       "  position: relative;\n",
       "}\n",
       "\n",
       "#sk-container-id-1 div.sk-text-repr-fallback {\n",
       "  display: none;\n",
       "}\n",
       "\n",
       "div.sk-parallel-item,\n",
       "div.sk-serial,\n",
       "div.sk-item {\n",
       "  /* draw centered vertical line to link estimators */\n",
       "  background-image: linear-gradient(var(--sklearn-color-text-on-default-background), var(--sklearn-color-text-on-default-background));\n",
       "  background-size: 2px 100%;\n",
       "  background-repeat: no-repeat;\n",
       "  background-position: center center;\n",
       "}\n",
       "\n",
       "/* Parallel-specific style estimator block */\n",
       "\n",
       "#sk-container-id-1 div.sk-parallel-item::after {\n",
       "  content: \"\";\n",
       "  width: 100%;\n",
       "  border-bottom: 2px solid var(--sklearn-color-text-on-default-background);\n",
       "  flex-grow: 1;\n",
       "}\n",
       "\n",
       "#sk-container-id-1 div.sk-parallel {\n",
       "  display: flex;\n",
       "  align-items: stretch;\n",
       "  justify-content: center;\n",
       "  background-color: var(--sklearn-color-background);\n",
       "  position: relative;\n",
       "}\n",
       "\n",
       "#sk-container-id-1 div.sk-parallel-item {\n",
       "  display: flex;\n",
       "  flex-direction: column;\n",
       "}\n",
       "\n",
       "#sk-container-id-1 div.sk-parallel-item:first-child::after {\n",
       "  align-self: flex-end;\n",
       "  width: 50%;\n",
       "}\n",
       "\n",
       "#sk-container-id-1 div.sk-parallel-item:last-child::after {\n",
       "  align-self: flex-start;\n",
       "  width: 50%;\n",
       "}\n",
       "\n",
       "#sk-container-id-1 div.sk-parallel-item:only-child::after {\n",
       "  width: 0;\n",
       "}\n",
       "\n",
       "/* Serial-specific style estimator block */\n",
       "\n",
       "#sk-container-id-1 div.sk-serial {\n",
       "  display: flex;\n",
       "  flex-direction: column;\n",
       "  align-items: center;\n",
       "  background-color: var(--sklearn-color-background);\n",
       "  padding-right: 1em;\n",
       "  padding-left: 1em;\n",
       "}\n",
       "\n",
       "\n",
       "/* Toggleable style: style used for estimator/Pipeline/ColumnTransformer box that is\n",
       "clickable and can be expanded/collapsed.\n",
       "- Pipeline and ColumnTransformer use this feature and define the default style\n",
       "- Estimators will overwrite some part of the style using the `sk-estimator` class\n",
       "*/\n",
       "\n",
       "/* Pipeline and ColumnTransformer style (default) */\n",
       "\n",
       "#sk-container-id-1 div.sk-toggleable {\n",
       "  /* Default theme specific background. It is overwritten whether we have a\n",
       "  specific estimator or a Pipeline/ColumnTransformer */\n",
       "  background-color: var(--sklearn-color-background);\n",
       "}\n",
       "\n",
       "/* Toggleable label */\n",
       "#sk-container-id-1 label.sk-toggleable__label {\n",
       "  cursor: pointer;\n",
       "  display: block;\n",
       "  width: 100%;\n",
       "  margin-bottom: 0;\n",
       "  padding: 0.5em;\n",
       "  box-sizing: border-box;\n",
       "  text-align: center;\n",
       "}\n",
       "\n",
       "#sk-container-id-1 label.sk-toggleable__label-arrow:before {\n",
       "  /* Arrow on the left of the label */\n",
       "  content: \"▸\";\n",
       "  float: left;\n",
       "  margin-right: 0.25em;\n",
       "  color: var(--sklearn-color-icon);\n",
       "}\n",
       "\n",
       "#sk-container-id-1 label.sk-toggleable__label-arrow:hover:before {\n",
       "  color: var(--sklearn-color-text);\n",
       "}\n",
       "\n",
       "/* Toggleable content - dropdown */\n",
       "\n",
       "#sk-container-id-1 div.sk-toggleable__content {\n",
       "  max-height: 0;\n",
       "  max-width: 0;\n",
       "  overflow: hidden;\n",
       "  text-align: left;\n",
       "  /* unfitted */\n",
       "  background-color: var(--sklearn-color-unfitted-level-0);\n",
       "}\n",
       "\n",
       "#sk-container-id-1 div.sk-toggleable__content.fitted {\n",
       "  /* fitted */\n",
       "  background-color: var(--sklearn-color-fitted-level-0);\n",
       "}\n",
       "\n",
       "#sk-container-id-1 div.sk-toggleable__content pre {\n",
       "  margin: 0.2em;\n",
       "  border-radius: 0.25em;\n",
       "  color: var(--sklearn-color-text);\n",
       "  /* unfitted */\n",
       "  background-color: var(--sklearn-color-unfitted-level-0);\n",
       "}\n",
       "\n",
       "#sk-container-id-1 div.sk-toggleable__content.fitted pre {\n",
       "  /* unfitted */\n",
       "  background-color: var(--sklearn-color-fitted-level-0);\n",
       "}\n",
       "\n",
       "#sk-container-id-1 input.sk-toggleable__control:checked~div.sk-toggleable__content {\n",
       "  /* Expand drop-down */\n",
       "  max-height: 200px;\n",
       "  max-width: 100%;\n",
       "  overflow: auto;\n",
       "}\n",
       "\n",
       "#sk-container-id-1 input.sk-toggleable__control:checked~label.sk-toggleable__label-arrow:before {\n",
       "  content: \"▾\";\n",
       "}\n",
       "\n",
       "/* Pipeline/ColumnTransformer-specific style */\n",
       "\n",
       "#sk-container-id-1 div.sk-label input.sk-toggleable__control:checked~label.sk-toggleable__label {\n",
       "  color: var(--sklearn-color-text);\n",
       "  background-color: var(--sklearn-color-unfitted-level-2);\n",
       "}\n",
       "\n",
       "#sk-container-id-1 div.sk-label.fitted input.sk-toggleable__control:checked~label.sk-toggleable__label {\n",
       "  background-color: var(--sklearn-color-fitted-level-2);\n",
       "}\n",
       "\n",
       "/* Estimator-specific style */\n",
       "\n",
       "/* Colorize estimator box */\n",
       "#sk-container-id-1 div.sk-estimator input.sk-toggleable__control:checked~label.sk-toggleable__label {\n",
       "  /* unfitted */\n",
       "  background-color: var(--sklearn-color-unfitted-level-2);\n",
       "}\n",
       "\n",
       "#sk-container-id-1 div.sk-estimator.fitted input.sk-toggleable__control:checked~label.sk-toggleable__label {\n",
       "  /* fitted */\n",
       "  background-color: var(--sklearn-color-fitted-level-2);\n",
       "}\n",
       "\n",
       "#sk-container-id-1 div.sk-label label.sk-toggleable__label,\n",
       "#sk-container-id-1 div.sk-label label {\n",
       "  /* The background is the default theme color */\n",
       "  color: var(--sklearn-color-text-on-default-background);\n",
       "}\n",
       "\n",
       "/* On hover, darken the color of the background */\n",
       "#sk-container-id-1 div.sk-label:hover label.sk-toggleable__label {\n",
       "  color: var(--sklearn-color-text);\n",
       "  background-color: var(--sklearn-color-unfitted-level-2);\n",
       "}\n",
       "\n",
       "/* Label box, darken color on hover, fitted */\n",
       "#sk-container-id-1 div.sk-label.fitted:hover label.sk-toggleable__label.fitted {\n",
       "  color: var(--sklearn-color-text);\n",
       "  background-color: var(--sklearn-color-fitted-level-2);\n",
       "}\n",
       "\n",
       "/* Estimator label */\n",
       "\n",
       "#sk-container-id-1 div.sk-label label {\n",
       "  font-family: monospace;\n",
       "  font-weight: bold;\n",
       "  display: inline-block;\n",
       "  line-height: 1.2em;\n",
       "}\n",
       "\n",
       "#sk-container-id-1 div.sk-label-container {\n",
       "  text-align: center;\n",
       "}\n",
       "\n",
       "/* Estimator-specific */\n",
       "#sk-container-id-1 div.sk-estimator {\n",
       "  font-family: monospace;\n",
       "  border: 1px dotted var(--sklearn-color-border-box);\n",
       "  border-radius: 0.25em;\n",
       "  box-sizing: border-box;\n",
       "  margin-bottom: 0.5em;\n",
       "  /* unfitted */\n",
       "  background-color: var(--sklearn-color-unfitted-level-0);\n",
       "}\n",
       "\n",
       "#sk-container-id-1 div.sk-estimator.fitted {\n",
       "  /* fitted */\n",
       "  background-color: var(--sklearn-color-fitted-level-0);\n",
       "}\n",
       "\n",
       "/* on hover */\n",
       "#sk-container-id-1 div.sk-estimator:hover {\n",
       "  /* unfitted */\n",
       "  background-color: var(--sklearn-color-unfitted-level-2);\n",
       "}\n",
       "\n",
       "#sk-container-id-1 div.sk-estimator.fitted:hover {\n",
       "  /* fitted */\n",
       "  background-color: var(--sklearn-color-fitted-level-2);\n",
       "}\n",
       "\n",
       "/* Specification for estimator info (e.g. \"i\" and \"?\") */\n",
       "\n",
       "/* Common style for \"i\" and \"?\" */\n",
       "\n",
       ".sk-estimator-doc-link,\n",
       "a:link.sk-estimator-doc-link,\n",
       "a:visited.sk-estimator-doc-link {\n",
       "  float: right;\n",
       "  font-size: smaller;\n",
       "  line-height: 1em;\n",
       "  font-family: monospace;\n",
       "  background-color: var(--sklearn-color-background);\n",
       "  border-radius: 1em;\n",
       "  height: 1em;\n",
       "  width: 1em;\n",
       "  text-decoration: none !important;\n",
       "  margin-left: 1ex;\n",
       "  /* unfitted */\n",
       "  border: var(--sklearn-color-unfitted-level-1) 1pt solid;\n",
       "  color: var(--sklearn-color-unfitted-level-1);\n",
       "}\n",
       "\n",
       ".sk-estimator-doc-link.fitted,\n",
       "a:link.sk-estimator-doc-link.fitted,\n",
       "a:visited.sk-estimator-doc-link.fitted {\n",
       "  /* fitted */\n",
       "  border: var(--sklearn-color-fitted-level-1) 1pt solid;\n",
       "  color: var(--sklearn-color-fitted-level-1);\n",
       "}\n",
       "\n",
       "/* On hover */\n",
       "div.sk-estimator:hover .sk-estimator-doc-link:hover,\n",
       ".sk-estimator-doc-link:hover,\n",
       "div.sk-label-container:hover .sk-estimator-doc-link:hover,\n",
       ".sk-estimator-doc-link:hover {\n",
       "  /* unfitted */\n",
       "  background-color: var(--sklearn-color-unfitted-level-3);\n",
       "  color: var(--sklearn-color-background);\n",
       "  text-decoration: none;\n",
       "}\n",
       "\n",
       "div.sk-estimator.fitted:hover .sk-estimator-doc-link.fitted:hover,\n",
       ".sk-estimator-doc-link.fitted:hover,\n",
       "div.sk-label-container:hover .sk-estimator-doc-link.fitted:hover,\n",
       ".sk-estimator-doc-link.fitted:hover {\n",
       "  /* fitted */\n",
       "  background-color: var(--sklearn-color-fitted-level-3);\n",
       "  color: var(--sklearn-color-background);\n",
       "  text-decoration: none;\n",
       "}\n",
       "\n",
       "/* Span, style for the box shown on hovering the info icon */\n",
       ".sk-estimator-doc-link span {\n",
       "  display: none;\n",
       "  z-index: 9999;\n",
       "  position: relative;\n",
       "  font-weight: normal;\n",
       "  right: .2ex;\n",
       "  padding: .5ex;\n",
       "  margin: .5ex;\n",
       "  width: min-content;\n",
       "  min-width: 20ex;\n",
       "  max-width: 50ex;\n",
       "  color: var(--sklearn-color-text);\n",
       "  box-shadow: 2pt 2pt 4pt #999;\n",
       "  /* unfitted */\n",
       "  background: var(--sklearn-color-unfitted-level-0);\n",
       "  border: .5pt solid var(--sklearn-color-unfitted-level-3);\n",
       "}\n",
       "\n",
       ".sk-estimator-doc-link.fitted span {\n",
       "  /* fitted */\n",
       "  background: var(--sklearn-color-fitted-level-0);\n",
       "  border: var(--sklearn-color-fitted-level-3);\n",
       "}\n",
       "\n",
       ".sk-estimator-doc-link:hover span {\n",
       "  display: block;\n",
       "}\n",
       "\n",
       "/* \"?\"-specific style due to the `<a>` HTML tag */\n",
       "\n",
       "#sk-container-id-1 a.estimator_doc_link {\n",
       "  float: right;\n",
       "  font-size: 1rem;\n",
       "  line-height: 1em;\n",
       "  font-family: monospace;\n",
       "  background-color: var(--sklearn-color-background);\n",
       "  border-radius: 1rem;\n",
       "  height: 1rem;\n",
       "  width: 1rem;\n",
       "  text-decoration: none;\n",
       "  /* unfitted */\n",
       "  color: var(--sklearn-color-unfitted-level-1);\n",
       "  border: var(--sklearn-color-unfitted-level-1) 1pt solid;\n",
       "}\n",
       "\n",
       "#sk-container-id-1 a.estimator_doc_link.fitted {\n",
       "  /* fitted */\n",
       "  border: var(--sklearn-color-fitted-level-1) 1pt solid;\n",
       "  color: var(--sklearn-color-fitted-level-1);\n",
       "}\n",
       "\n",
       "/* On hover */\n",
       "#sk-container-id-1 a.estimator_doc_link:hover {\n",
       "  /* unfitted */\n",
       "  background-color: var(--sklearn-color-unfitted-level-3);\n",
       "  color: var(--sklearn-color-background);\n",
       "  text-decoration: none;\n",
       "}\n",
       "\n",
       "#sk-container-id-1 a.estimator_doc_link.fitted:hover {\n",
       "  /* fitted */\n",
       "  background-color: var(--sklearn-color-fitted-level-3);\n",
       "}\n",
       "</style><div id=\"sk-container-id-1\" class=\"sk-top-container\"><div class=\"sk-text-repr-fallback\"><pre>GridSearchCV(cv=3,\n",
       "             estimator=Pipeline(steps=[(&#x27;preprocessor&#x27;,\n",
       "                                        ColumnTransformer(remainder=&#x27;passthrough&#x27;,\n",
       "                                                          transformers=[(&#x27;ohe&#x27;,\n",
       "                                                                         Pipeline(steps=[(&#x27;simpleImputer_ohe&#x27;,\n",
       "                                                                                          SimpleImputer(strategy=&#x27;most_frequent&#x27;)),\n",
       "                                                                                         (&#x27;ohe&#x27;,\n",
       "                                                                                          OneHotEncoder(drop=&#x27;first&#x27;,\n",
       "                                                                                                        sparse_output=False))]),\n",
       "                                                                         [&#x27;repaired&#x27;,\n",
       "                                                                          &#x27;brand&#x27;,\n",
       "                                                                          &#x27;vehicle_type&#x27;,\n",
       "                                                                          &#x27;gearbox&#x27;,\n",
       "                                                                          &#x27;fuel_type&#x27;]),\n",
       "                                                                        (&#x27;num&#x27;,\n",
       "                                                                         MinMaxScaler(),\n",
       "                                                                         [&#x27;registration_year&#x27;,\n",
       "                                                                          &#x27;power&#x27;,\n",
       "                                                                          &#x27;kilometer&#x27;])])),\n",
       "                                       (&#x27;models&#x27;, Ridge())]),\n",
       "             n_jobs=-1,\n",
       "             param_grid=[{&#x27;models&#x27;: [Ridge()],\n",
       "                          &#x27;models__alpha&#x27;: [0.1, 0.5, 1, 2.5, 3.5, 5, 10],\n",
       "                          &#x27;preprocessor__num&#x27;: [StandardScaler(),\n",
       "                                                MinMaxScaler()]}],\n",
       "             scoring=make_scorer(rmse, greater_is_better=False, response_method=&#x27;predict&#x27;))</pre><b>In a Jupyter environment, please rerun this cell to show the HTML representation or trust the notebook. <br />On GitHub, the HTML representation is unable to render, please try loading this page with nbviewer.org.</b></div><div class=\"sk-container\" hidden><div class=\"sk-item sk-dashed-wrapped\"><div class=\"sk-label-container\"><div class=\"sk-label fitted sk-toggleable\"><input class=\"sk-toggleable__control sk-hidden--visually\" id=\"sk-estimator-id-1\" type=\"checkbox\" ><label for=\"sk-estimator-id-1\" class=\"sk-toggleable__label fitted sk-toggleable__label-arrow fitted\">&nbsp;&nbsp;GridSearchCV<a class=\"sk-estimator-doc-link fitted\" rel=\"noreferrer\" target=\"_blank\" href=\"https://scikit-learn.org/1.4/modules/generated/sklearn.model_selection.GridSearchCV.html\">?<span>Documentation for GridSearchCV</span></a><span class=\"sk-estimator-doc-link fitted\">i<span>Fitted</span></span></label><div class=\"sk-toggleable__content fitted\"><pre>GridSearchCV(cv=3,\n",
       "             estimator=Pipeline(steps=[(&#x27;preprocessor&#x27;,\n",
       "                                        ColumnTransformer(remainder=&#x27;passthrough&#x27;,\n",
       "                                                          transformers=[(&#x27;ohe&#x27;,\n",
       "                                                                         Pipeline(steps=[(&#x27;simpleImputer_ohe&#x27;,\n",
       "                                                                                          SimpleImputer(strategy=&#x27;most_frequent&#x27;)),\n",
       "                                                                                         (&#x27;ohe&#x27;,\n",
       "                                                                                          OneHotEncoder(drop=&#x27;first&#x27;,\n",
       "                                                                                                        sparse_output=False))]),\n",
       "                                                                         [&#x27;repaired&#x27;,\n",
       "                                                                          &#x27;brand&#x27;,\n",
       "                                                                          &#x27;vehicle_type&#x27;,\n",
       "                                                                          &#x27;gearbox&#x27;,\n",
       "                                                                          &#x27;fuel_type&#x27;]),\n",
       "                                                                        (&#x27;num&#x27;,\n",
       "                                                                         MinMaxScaler(),\n",
       "                                                                         [&#x27;registration_year&#x27;,\n",
       "                                                                          &#x27;power&#x27;,\n",
       "                                                                          &#x27;kilometer&#x27;])])),\n",
       "                                       (&#x27;models&#x27;, Ridge())]),\n",
       "             n_jobs=-1,\n",
       "             param_grid=[{&#x27;models&#x27;: [Ridge()],\n",
       "                          &#x27;models__alpha&#x27;: [0.1, 0.5, 1, 2.5, 3.5, 5, 10],\n",
       "                          &#x27;preprocessor__num&#x27;: [StandardScaler(),\n",
       "                                                MinMaxScaler()]}],\n",
       "             scoring=make_scorer(rmse, greater_is_better=False, response_method=&#x27;predict&#x27;))</pre></div> </div></div><div class=\"sk-parallel\"><div class=\"sk-parallel-item\"><div class=\"sk-item\"><div class=\"sk-label-container\"><div class=\"sk-label fitted sk-toggleable\"><input class=\"sk-toggleable__control sk-hidden--visually\" id=\"sk-estimator-id-2\" type=\"checkbox\" ><label for=\"sk-estimator-id-2\" class=\"sk-toggleable__label fitted sk-toggleable__label-arrow fitted\">estimator: Pipeline</label><div class=\"sk-toggleable__content fitted\"><pre>Pipeline(steps=[(&#x27;preprocessor&#x27;,\n",
       "                 ColumnTransformer(remainder=&#x27;passthrough&#x27;,\n",
       "                                   transformers=[(&#x27;ohe&#x27;,\n",
       "                                                  Pipeline(steps=[(&#x27;simpleImputer_ohe&#x27;,\n",
       "                                                                   SimpleImputer(strategy=&#x27;most_frequent&#x27;)),\n",
       "                                                                  (&#x27;ohe&#x27;,\n",
       "                                                                   OneHotEncoder(drop=&#x27;first&#x27;,\n",
       "                                                                                 sparse_output=False))]),\n",
       "                                                  [&#x27;repaired&#x27;, &#x27;brand&#x27;,\n",
       "                                                   &#x27;vehicle_type&#x27;, &#x27;gearbox&#x27;,\n",
       "                                                   &#x27;fuel_type&#x27;]),\n",
       "                                                 (&#x27;num&#x27;, MinMaxScaler(),\n",
       "                                                  [&#x27;registration_year&#x27;, &#x27;power&#x27;,\n",
       "                                                   &#x27;kilometer&#x27;])])),\n",
       "                (&#x27;models&#x27;, Ridge())])</pre></div> </div></div><div class=\"sk-serial\"><div class=\"sk-item\"><div class=\"sk-serial\"><div class=\"sk-item sk-dashed-wrapped\"><div class=\"sk-label-container\"><div class=\"sk-label fitted sk-toggleable\"><input class=\"sk-toggleable__control sk-hidden--visually\" id=\"sk-estimator-id-3\" type=\"checkbox\" ><label for=\"sk-estimator-id-3\" class=\"sk-toggleable__label fitted sk-toggleable__label-arrow fitted\">&nbsp;preprocessor: ColumnTransformer<a class=\"sk-estimator-doc-link fitted\" rel=\"noreferrer\" target=\"_blank\" href=\"https://scikit-learn.org/1.4/modules/generated/sklearn.compose.ColumnTransformer.html\">?<span>Documentation for preprocessor: ColumnTransformer</span></a></label><div class=\"sk-toggleable__content fitted\"><pre>ColumnTransformer(remainder=&#x27;passthrough&#x27;,\n",
       "                  transformers=[(&#x27;ohe&#x27;,\n",
       "                                 Pipeline(steps=[(&#x27;simpleImputer_ohe&#x27;,\n",
       "                                                  SimpleImputer(strategy=&#x27;most_frequent&#x27;)),\n",
       "                                                 (&#x27;ohe&#x27;,\n",
       "                                                  OneHotEncoder(drop=&#x27;first&#x27;,\n",
       "                                                                sparse_output=False))]),\n",
       "                                 [&#x27;repaired&#x27;, &#x27;brand&#x27;, &#x27;vehicle_type&#x27;,\n",
       "                                  &#x27;gearbox&#x27;, &#x27;fuel_type&#x27;]),\n",
       "                                (&#x27;num&#x27;, MinMaxScaler(),\n",
       "                                 [&#x27;registration_year&#x27;, &#x27;power&#x27;, &#x27;kilometer&#x27;])])</pre></div> </div></div><div class=\"sk-parallel\"><div class=\"sk-parallel-item\"><div class=\"sk-item\"><div class=\"sk-label-container\"><div class=\"sk-label fitted sk-toggleable\"><input class=\"sk-toggleable__control sk-hidden--visually\" id=\"sk-estimator-id-4\" type=\"checkbox\" ><label for=\"sk-estimator-id-4\" class=\"sk-toggleable__label fitted sk-toggleable__label-arrow fitted\">ohe</label><div class=\"sk-toggleable__content fitted\"><pre>[&#x27;repaired&#x27;, &#x27;brand&#x27;, &#x27;vehicle_type&#x27;, &#x27;gearbox&#x27;, &#x27;fuel_type&#x27;]</pre></div> </div></div><div class=\"sk-serial\"><div class=\"sk-item\"><div class=\"sk-serial\"><div class=\"sk-item\"><div class=\"sk-estimator fitted sk-toggleable\"><input class=\"sk-toggleable__control sk-hidden--visually\" id=\"sk-estimator-id-5\" type=\"checkbox\" ><label for=\"sk-estimator-id-5\" class=\"sk-toggleable__label fitted sk-toggleable__label-arrow fitted\">&nbsp;SimpleImputer<a class=\"sk-estimator-doc-link fitted\" rel=\"noreferrer\" target=\"_blank\" href=\"https://scikit-learn.org/1.4/modules/generated/sklearn.impute.SimpleImputer.html\">?<span>Documentation for SimpleImputer</span></a></label><div class=\"sk-toggleable__content fitted\"><pre>SimpleImputer(strategy=&#x27;most_frequent&#x27;)</pre></div> </div></div><div class=\"sk-item\"><div class=\"sk-estimator fitted sk-toggleable\"><input class=\"sk-toggleable__control sk-hidden--visually\" id=\"sk-estimator-id-6\" type=\"checkbox\" ><label for=\"sk-estimator-id-6\" class=\"sk-toggleable__label fitted sk-toggleable__label-arrow fitted\">&nbsp;OneHotEncoder<a class=\"sk-estimator-doc-link fitted\" rel=\"noreferrer\" target=\"_blank\" href=\"https://scikit-learn.org/1.4/modules/generated/sklearn.preprocessing.OneHotEncoder.html\">?<span>Documentation for OneHotEncoder</span></a></label><div class=\"sk-toggleable__content fitted\"><pre>OneHotEncoder(drop=&#x27;first&#x27;, sparse_output=False)</pre></div> </div></div></div></div></div></div></div><div class=\"sk-parallel-item\"><div class=\"sk-item\"><div class=\"sk-label-container\"><div class=\"sk-label fitted sk-toggleable\"><input class=\"sk-toggleable__control sk-hidden--visually\" id=\"sk-estimator-id-7\" type=\"checkbox\" ><label for=\"sk-estimator-id-7\" class=\"sk-toggleable__label fitted sk-toggleable__label-arrow fitted\">num</label><div class=\"sk-toggleable__content fitted\"><pre>[&#x27;registration_year&#x27;, &#x27;power&#x27;, &#x27;kilometer&#x27;]</pre></div> </div></div><div class=\"sk-serial\"><div class=\"sk-item\"><div class=\"sk-estimator fitted sk-toggleable\"><input class=\"sk-toggleable__control sk-hidden--visually\" id=\"sk-estimator-id-8\" type=\"checkbox\" ><label for=\"sk-estimator-id-8\" class=\"sk-toggleable__label fitted sk-toggleable__label-arrow fitted\">&nbsp;MinMaxScaler<a class=\"sk-estimator-doc-link fitted\" rel=\"noreferrer\" target=\"_blank\" href=\"https://scikit-learn.org/1.4/modules/generated/sklearn.preprocessing.MinMaxScaler.html\">?<span>Documentation for MinMaxScaler</span></a></label><div class=\"sk-toggleable__content fitted\"><pre>MinMaxScaler()</pre></div> </div></div></div></div></div><div class=\"sk-parallel-item\"><div class=\"sk-item\"><div class=\"sk-label-container\"><div class=\"sk-label fitted sk-toggleable\"><input class=\"sk-toggleable__control sk-hidden--visually\" id=\"sk-estimator-id-9\" type=\"checkbox\" ><label for=\"sk-estimator-id-9\" class=\"sk-toggleable__label fitted sk-toggleable__label-arrow fitted\">remainder</label><div class=\"sk-toggleable__content fitted\"><pre></pre></div> </div></div><div class=\"sk-serial\"><div class=\"sk-item\"><div class=\"sk-estimator fitted sk-toggleable\"><input class=\"sk-toggleable__control sk-hidden--visually\" id=\"sk-estimator-id-10\" type=\"checkbox\" ><label for=\"sk-estimator-id-10\" class=\"sk-toggleable__label fitted sk-toggleable__label-arrow fitted\">passthrough</label><div class=\"sk-toggleable__content fitted\"><pre>passthrough</pre></div> </div></div></div></div></div></div></div><div class=\"sk-item\"><div class=\"sk-estimator fitted sk-toggleable\"><input class=\"sk-toggleable__control sk-hidden--visually\" id=\"sk-estimator-id-11\" type=\"checkbox\" ><label for=\"sk-estimator-id-11\" class=\"sk-toggleable__label fitted sk-toggleable__label-arrow fitted\">&nbsp;Ridge<a class=\"sk-estimator-doc-link fitted\" rel=\"noreferrer\" target=\"_blank\" href=\"https://scikit-learn.org/1.4/modules/generated/sklearn.linear_model.Ridge.html\">?<span>Documentation for Ridge</span></a></label><div class=\"sk-toggleable__content fitted\"><pre>Ridge()</pre></div> </div></div></div></div></div></div></div></div></div></div></div>"
      ],
      "text/plain": [
       "GridSearchCV(cv=3,\n",
       "             estimator=Pipeline(steps=[('preprocessor',\n",
       "                                        ColumnTransformer(remainder='passthrough',\n",
       "                                                          transformers=[('ohe',\n",
       "                                                                         Pipeline(steps=[('simpleImputer_ohe',\n",
       "                                                                                          SimpleImputer(strategy='most_frequent')),\n",
       "                                                                                         ('ohe',\n",
       "                                                                                          OneHotEncoder(drop='first',\n",
       "                                                                                                        sparse_output=False))]),\n",
       "                                                                         ['repaired',\n",
       "                                                                          'brand',\n",
       "                                                                          'vehicle_type',\n",
       "                                                                          'gearbox',\n",
       "                                                                          'fuel_type']),\n",
       "                                                                        ('num',\n",
       "                                                                         MinMaxScaler(),\n",
       "                                                                         ['registration_year',\n",
       "                                                                          'power',\n",
       "                                                                          'kilometer'])])),\n",
       "                                       ('models', Ridge())]),\n",
       "             n_jobs=-1,\n",
       "             param_grid=[{'models': [Ridge()],\n",
       "                          'models__alpha': [0.1, 0.5, 1, 2.5, 3.5, 5, 10],\n",
       "                          'preprocessor__num': [StandardScaler(),\n",
       "                                                MinMaxScaler()]}],\n",
       "             scoring=make_scorer(rmse, greater_is_better=False, response_method='predict'))"
      ]
     },
     "execution_count": 54,
     "metadata": {},
     "output_type": "execute_result"
    }
   ],
   "source": [
    "%%time\n",
    "grid_search_ridge = GridSearchCV(\n",
    "    pipe_final_ridge,\n",
    "    param_grid_ridge,\n",
    "    scoring=rmse_scorer,\n",
    "    cv=3,\n",
    "    n_jobs=-1\n",
    ")\n",
    "grid_search_ridge.fit(X_train, y_train)"
   ]
  },
  {
   "cell_type": "code",
   "execution_count": 55,
   "metadata": {
    "scrolled": true
   },
   "outputs": [
    {
     "data": {
      "text/html": [
       "<style>#sk-container-id-2 {\n",
       "  /* Definition of color scheme common for light and dark mode */\n",
       "  --sklearn-color-text: black;\n",
       "  --sklearn-color-line: gray;\n",
       "  /* Definition of color scheme for unfitted estimators */\n",
       "  --sklearn-color-unfitted-level-0: #fff5e6;\n",
       "  --sklearn-color-unfitted-level-1: #f6e4d2;\n",
       "  --sklearn-color-unfitted-level-2: #ffe0b3;\n",
       "  --sklearn-color-unfitted-level-3: chocolate;\n",
       "  /* Definition of color scheme for fitted estimators */\n",
       "  --sklearn-color-fitted-level-0: #f0f8ff;\n",
       "  --sklearn-color-fitted-level-1: #d4ebff;\n",
       "  --sklearn-color-fitted-level-2: #b3dbfd;\n",
       "  --sklearn-color-fitted-level-3: cornflowerblue;\n",
       "\n",
       "  /* Specific color for light theme */\n",
       "  --sklearn-color-text-on-default-background: var(--sg-text-color, var(--theme-code-foreground, var(--jp-content-font-color1, black)));\n",
       "  --sklearn-color-background: var(--sg-background-color, var(--theme-background, var(--jp-layout-color0, white)));\n",
       "  --sklearn-color-border-box: var(--sg-text-color, var(--theme-code-foreground, var(--jp-content-font-color1, black)));\n",
       "  --sklearn-color-icon: #696969;\n",
       "\n",
       "  @media (prefers-color-scheme: dark) {\n",
       "    /* Redefinition of color scheme for dark theme */\n",
       "    --sklearn-color-text-on-default-background: var(--sg-text-color, var(--theme-code-foreground, var(--jp-content-font-color1, white)));\n",
       "    --sklearn-color-background: var(--sg-background-color, var(--theme-background, var(--jp-layout-color0, #111)));\n",
       "    --sklearn-color-border-box: var(--sg-text-color, var(--theme-code-foreground, var(--jp-content-font-color1, white)));\n",
       "    --sklearn-color-icon: #878787;\n",
       "  }\n",
       "}\n",
       "\n",
       "#sk-container-id-2 {\n",
       "  color: var(--sklearn-color-text);\n",
       "}\n",
       "\n",
       "#sk-container-id-2 pre {\n",
       "  padding: 0;\n",
       "}\n",
       "\n",
       "#sk-container-id-2 input.sk-hidden--visually {\n",
       "  border: 0;\n",
       "  clip: rect(1px 1px 1px 1px);\n",
       "  clip: rect(1px, 1px, 1px, 1px);\n",
       "  height: 1px;\n",
       "  margin: -1px;\n",
       "  overflow: hidden;\n",
       "  padding: 0;\n",
       "  position: absolute;\n",
       "  width: 1px;\n",
       "}\n",
       "\n",
       "#sk-container-id-2 div.sk-dashed-wrapped {\n",
       "  border: 1px dashed var(--sklearn-color-line);\n",
       "  margin: 0 0.4em 0.5em 0.4em;\n",
       "  box-sizing: border-box;\n",
       "  padding-bottom: 0.4em;\n",
       "  background-color: var(--sklearn-color-background);\n",
       "}\n",
       "\n",
       "#sk-container-id-2 div.sk-container {\n",
       "  /* jupyter's `normalize.less` sets `[hidden] { display: none; }`\n",
       "     but bootstrap.min.css set `[hidden] { display: none !important; }`\n",
       "     so we also need the `!important` here to be able to override the\n",
       "     default hidden behavior on the sphinx rendered scikit-learn.org.\n",
       "     See: https://github.com/scikit-learn/scikit-learn/issues/21755 */\n",
       "  display: inline-block !important;\n",
       "  position: relative;\n",
       "}\n",
       "\n",
       "#sk-container-id-2 div.sk-text-repr-fallback {\n",
       "  display: none;\n",
       "}\n",
       "\n",
       "div.sk-parallel-item,\n",
       "div.sk-serial,\n",
       "div.sk-item {\n",
       "  /* draw centered vertical line to link estimators */\n",
       "  background-image: linear-gradient(var(--sklearn-color-text-on-default-background), var(--sklearn-color-text-on-default-background));\n",
       "  background-size: 2px 100%;\n",
       "  background-repeat: no-repeat;\n",
       "  background-position: center center;\n",
       "}\n",
       "\n",
       "/* Parallel-specific style estimator block */\n",
       "\n",
       "#sk-container-id-2 div.sk-parallel-item::after {\n",
       "  content: \"\";\n",
       "  width: 100%;\n",
       "  border-bottom: 2px solid var(--sklearn-color-text-on-default-background);\n",
       "  flex-grow: 1;\n",
       "}\n",
       "\n",
       "#sk-container-id-2 div.sk-parallel {\n",
       "  display: flex;\n",
       "  align-items: stretch;\n",
       "  justify-content: center;\n",
       "  background-color: var(--sklearn-color-background);\n",
       "  position: relative;\n",
       "}\n",
       "\n",
       "#sk-container-id-2 div.sk-parallel-item {\n",
       "  display: flex;\n",
       "  flex-direction: column;\n",
       "}\n",
       "\n",
       "#sk-container-id-2 div.sk-parallel-item:first-child::after {\n",
       "  align-self: flex-end;\n",
       "  width: 50%;\n",
       "}\n",
       "\n",
       "#sk-container-id-2 div.sk-parallel-item:last-child::after {\n",
       "  align-self: flex-start;\n",
       "  width: 50%;\n",
       "}\n",
       "\n",
       "#sk-container-id-2 div.sk-parallel-item:only-child::after {\n",
       "  width: 0;\n",
       "}\n",
       "\n",
       "/* Serial-specific style estimator block */\n",
       "\n",
       "#sk-container-id-2 div.sk-serial {\n",
       "  display: flex;\n",
       "  flex-direction: column;\n",
       "  align-items: center;\n",
       "  background-color: var(--sklearn-color-background);\n",
       "  padding-right: 1em;\n",
       "  padding-left: 1em;\n",
       "}\n",
       "\n",
       "\n",
       "/* Toggleable style: style used for estimator/Pipeline/ColumnTransformer box that is\n",
       "clickable and can be expanded/collapsed.\n",
       "- Pipeline and ColumnTransformer use this feature and define the default style\n",
       "- Estimators will overwrite some part of the style using the `sk-estimator` class\n",
       "*/\n",
       "\n",
       "/* Pipeline and ColumnTransformer style (default) */\n",
       "\n",
       "#sk-container-id-2 div.sk-toggleable {\n",
       "  /* Default theme specific background. It is overwritten whether we have a\n",
       "  specific estimator or a Pipeline/ColumnTransformer */\n",
       "  background-color: var(--sklearn-color-background);\n",
       "}\n",
       "\n",
       "/* Toggleable label */\n",
       "#sk-container-id-2 label.sk-toggleable__label {\n",
       "  cursor: pointer;\n",
       "  display: block;\n",
       "  width: 100%;\n",
       "  margin-bottom: 0;\n",
       "  padding: 0.5em;\n",
       "  box-sizing: border-box;\n",
       "  text-align: center;\n",
       "}\n",
       "\n",
       "#sk-container-id-2 label.sk-toggleable__label-arrow:before {\n",
       "  /* Arrow on the left of the label */\n",
       "  content: \"▸\";\n",
       "  float: left;\n",
       "  margin-right: 0.25em;\n",
       "  color: var(--sklearn-color-icon);\n",
       "}\n",
       "\n",
       "#sk-container-id-2 label.sk-toggleable__label-arrow:hover:before {\n",
       "  color: var(--sklearn-color-text);\n",
       "}\n",
       "\n",
       "/* Toggleable content - dropdown */\n",
       "\n",
       "#sk-container-id-2 div.sk-toggleable__content {\n",
       "  max-height: 0;\n",
       "  max-width: 0;\n",
       "  overflow: hidden;\n",
       "  text-align: left;\n",
       "  /* unfitted */\n",
       "  background-color: var(--sklearn-color-unfitted-level-0);\n",
       "}\n",
       "\n",
       "#sk-container-id-2 div.sk-toggleable__content.fitted {\n",
       "  /* fitted */\n",
       "  background-color: var(--sklearn-color-fitted-level-0);\n",
       "}\n",
       "\n",
       "#sk-container-id-2 div.sk-toggleable__content pre {\n",
       "  margin: 0.2em;\n",
       "  border-radius: 0.25em;\n",
       "  color: var(--sklearn-color-text);\n",
       "  /* unfitted */\n",
       "  background-color: var(--sklearn-color-unfitted-level-0);\n",
       "}\n",
       "\n",
       "#sk-container-id-2 div.sk-toggleable__content.fitted pre {\n",
       "  /* unfitted */\n",
       "  background-color: var(--sklearn-color-fitted-level-0);\n",
       "}\n",
       "\n",
       "#sk-container-id-2 input.sk-toggleable__control:checked~div.sk-toggleable__content {\n",
       "  /* Expand drop-down */\n",
       "  max-height: 200px;\n",
       "  max-width: 100%;\n",
       "  overflow: auto;\n",
       "}\n",
       "\n",
       "#sk-container-id-2 input.sk-toggleable__control:checked~label.sk-toggleable__label-arrow:before {\n",
       "  content: \"▾\";\n",
       "}\n",
       "\n",
       "/* Pipeline/ColumnTransformer-specific style */\n",
       "\n",
       "#sk-container-id-2 div.sk-label input.sk-toggleable__control:checked~label.sk-toggleable__label {\n",
       "  color: var(--sklearn-color-text);\n",
       "  background-color: var(--sklearn-color-unfitted-level-2);\n",
       "}\n",
       "\n",
       "#sk-container-id-2 div.sk-label.fitted input.sk-toggleable__control:checked~label.sk-toggleable__label {\n",
       "  background-color: var(--sklearn-color-fitted-level-2);\n",
       "}\n",
       "\n",
       "/* Estimator-specific style */\n",
       "\n",
       "/* Colorize estimator box */\n",
       "#sk-container-id-2 div.sk-estimator input.sk-toggleable__control:checked~label.sk-toggleable__label {\n",
       "  /* unfitted */\n",
       "  background-color: var(--sklearn-color-unfitted-level-2);\n",
       "}\n",
       "\n",
       "#sk-container-id-2 div.sk-estimator.fitted input.sk-toggleable__control:checked~label.sk-toggleable__label {\n",
       "  /* fitted */\n",
       "  background-color: var(--sklearn-color-fitted-level-2);\n",
       "}\n",
       "\n",
       "#sk-container-id-2 div.sk-label label.sk-toggleable__label,\n",
       "#sk-container-id-2 div.sk-label label {\n",
       "  /* The background is the default theme color */\n",
       "  color: var(--sklearn-color-text-on-default-background);\n",
       "}\n",
       "\n",
       "/* On hover, darken the color of the background */\n",
       "#sk-container-id-2 div.sk-label:hover label.sk-toggleable__label {\n",
       "  color: var(--sklearn-color-text);\n",
       "  background-color: var(--sklearn-color-unfitted-level-2);\n",
       "}\n",
       "\n",
       "/* Label box, darken color on hover, fitted */\n",
       "#sk-container-id-2 div.sk-label.fitted:hover label.sk-toggleable__label.fitted {\n",
       "  color: var(--sklearn-color-text);\n",
       "  background-color: var(--sklearn-color-fitted-level-2);\n",
       "}\n",
       "\n",
       "/* Estimator label */\n",
       "\n",
       "#sk-container-id-2 div.sk-label label {\n",
       "  font-family: monospace;\n",
       "  font-weight: bold;\n",
       "  display: inline-block;\n",
       "  line-height: 1.2em;\n",
       "}\n",
       "\n",
       "#sk-container-id-2 div.sk-label-container {\n",
       "  text-align: center;\n",
       "}\n",
       "\n",
       "/* Estimator-specific */\n",
       "#sk-container-id-2 div.sk-estimator {\n",
       "  font-family: monospace;\n",
       "  border: 1px dotted var(--sklearn-color-border-box);\n",
       "  border-radius: 0.25em;\n",
       "  box-sizing: border-box;\n",
       "  margin-bottom: 0.5em;\n",
       "  /* unfitted */\n",
       "  background-color: var(--sklearn-color-unfitted-level-0);\n",
       "}\n",
       "\n",
       "#sk-container-id-2 div.sk-estimator.fitted {\n",
       "  /* fitted */\n",
       "  background-color: var(--sklearn-color-fitted-level-0);\n",
       "}\n",
       "\n",
       "/* on hover */\n",
       "#sk-container-id-2 div.sk-estimator:hover {\n",
       "  /* unfitted */\n",
       "  background-color: var(--sklearn-color-unfitted-level-2);\n",
       "}\n",
       "\n",
       "#sk-container-id-2 div.sk-estimator.fitted:hover {\n",
       "  /* fitted */\n",
       "  background-color: var(--sklearn-color-fitted-level-2);\n",
       "}\n",
       "\n",
       "/* Specification for estimator info (e.g. \"i\" and \"?\") */\n",
       "\n",
       "/* Common style for \"i\" and \"?\" */\n",
       "\n",
       ".sk-estimator-doc-link,\n",
       "a:link.sk-estimator-doc-link,\n",
       "a:visited.sk-estimator-doc-link {\n",
       "  float: right;\n",
       "  font-size: smaller;\n",
       "  line-height: 1em;\n",
       "  font-family: monospace;\n",
       "  background-color: var(--sklearn-color-background);\n",
       "  border-radius: 1em;\n",
       "  height: 1em;\n",
       "  width: 1em;\n",
       "  text-decoration: none !important;\n",
       "  margin-left: 1ex;\n",
       "  /* unfitted */\n",
       "  border: var(--sklearn-color-unfitted-level-1) 1pt solid;\n",
       "  color: var(--sklearn-color-unfitted-level-1);\n",
       "}\n",
       "\n",
       ".sk-estimator-doc-link.fitted,\n",
       "a:link.sk-estimator-doc-link.fitted,\n",
       "a:visited.sk-estimator-doc-link.fitted {\n",
       "  /* fitted */\n",
       "  border: var(--sklearn-color-fitted-level-1) 1pt solid;\n",
       "  color: var(--sklearn-color-fitted-level-1);\n",
       "}\n",
       "\n",
       "/* On hover */\n",
       "div.sk-estimator:hover .sk-estimator-doc-link:hover,\n",
       ".sk-estimator-doc-link:hover,\n",
       "div.sk-label-container:hover .sk-estimator-doc-link:hover,\n",
       ".sk-estimator-doc-link:hover {\n",
       "  /* unfitted */\n",
       "  background-color: var(--sklearn-color-unfitted-level-3);\n",
       "  color: var(--sklearn-color-background);\n",
       "  text-decoration: none;\n",
       "}\n",
       "\n",
       "div.sk-estimator.fitted:hover .sk-estimator-doc-link.fitted:hover,\n",
       ".sk-estimator-doc-link.fitted:hover,\n",
       "div.sk-label-container:hover .sk-estimator-doc-link.fitted:hover,\n",
       ".sk-estimator-doc-link.fitted:hover {\n",
       "  /* fitted */\n",
       "  background-color: var(--sklearn-color-fitted-level-3);\n",
       "  color: var(--sklearn-color-background);\n",
       "  text-decoration: none;\n",
       "}\n",
       "\n",
       "/* Span, style for the box shown on hovering the info icon */\n",
       ".sk-estimator-doc-link span {\n",
       "  display: none;\n",
       "  z-index: 9999;\n",
       "  position: relative;\n",
       "  font-weight: normal;\n",
       "  right: .2ex;\n",
       "  padding: .5ex;\n",
       "  margin: .5ex;\n",
       "  width: min-content;\n",
       "  min-width: 20ex;\n",
       "  max-width: 50ex;\n",
       "  color: var(--sklearn-color-text);\n",
       "  box-shadow: 2pt 2pt 4pt #999;\n",
       "  /* unfitted */\n",
       "  background: var(--sklearn-color-unfitted-level-0);\n",
       "  border: .5pt solid var(--sklearn-color-unfitted-level-3);\n",
       "}\n",
       "\n",
       ".sk-estimator-doc-link.fitted span {\n",
       "  /* fitted */\n",
       "  background: var(--sklearn-color-fitted-level-0);\n",
       "  border: var(--sklearn-color-fitted-level-3);\n",
       "}\n",
       "\n",
       ".sk-estimator-doc-link:hover span {\n",
       "  display: block;\n",
       "}\n",
       "\n",
       "/* \"?\"-specific style due to the `<a>` HTML tag */\n",
       "\n",
       "#sk-container-id-2 a.estimator_doc_link {\n",
       "  float: right;\n",
       "  font-size: 1rem;\n",
       "  line-height: 1em;\n",
       "  font-family: monospace;\n",
       "  background-color: var(--sklearn-color-background);\n",
       "  border-radius: 1rem;\n",
       "  height: 1rem;\n",
       "  width: 1rem;\n",
       "  text-decoration: none;\n",
       "  /* unfitted */\n",
       "  color: var(--sklearn-color-unfitted-level-1);\n",
       "  border: var(--sklearn-color-unfitted-level-1) 1pt solid;\n",
       "}\n",
       "\n",
       "#sk-container-id-2 a.estimator_doc_link.fitted {\n",
       "  /* fitted */\n",
       "  border: var(--sklearn-color-fitted-level-1) 1pt solid;\n",
       "  color: var(--sklearn-color-fitted-level-1);\n",
       "}\n",
       "\n",
       "/* On hover */\n",
       "#sk-container-id-2 a.estimator_doc_link:hover {\n",
       "  /* unfitted */\n",
       "  background-color: var(--sklearn-color-unfitted-level-3);\n",
       "  color: var(--sklearn-color-background);\n",
       "  text-decoration: none;\n",
       "}\n",
       "\n",
       "#sk-container-id-2 a.estimator_doc_link.fitted:hover {\n",
       "  /* fitted */\n",
       "  background-color: var(--sklearn-color-fitted-level-3);\n",
       "}\n",
       "</style><div id=\"sk-container-id-2\" class=\"sk-top-container\"><div class=\"sk-text-repr-fallback\"><pre>Pipeline(steps=[(&#x27;preprocessor&#x27;,\n",
       "                 ColumnTransformer(remainder=&#x27;passthrough&#x27;,\n",
       "                                   transformers=[(&#x27;ohe&#x27;,\n",
       "                                                  Pipeline(steps=[(&#x27;simpleImputer_ohe&#x27;,\n",
       "                                                                   SimpleImputer(strategy=&#x27;most_frequent&#x27;)),\n",
       "                                                                  (&#x27;ohe&#x27;,\n",
       "                                                                   OneHotEncoder(drop=&#x27;first&#x27;,\n",
       "                                                                                 sparse_output=False))]),\n",
       "                                                  [&#x27;repaired&#x27;, &#x27;brand&#x27;,\n",
       "                                                   &#x27;vehicle_type&#x27;, &#x27;gearbox&#x27;,\n",
       "                                                   &#x27;fuel_type&#x27;]),\n",
       "                                                 (&#x27;num&#x27;, StandardScaler(),\n",
       "                                                  [&#x27;registration_year&#x27;, &#x27;power&#x27;,\n",
       "                                                   &#x27;kilometer&#x27;])])),\n",
       "                (&#x27;models&#x27;, Ridge(alpha=1))])</pre><b>In a Jupyter environment, please rerun this cell to show the HTML representation or trust the notebook. <br />On GitHub, the HTML representation is unable to render, please try loading this page with nbviewer.org.</b></div><div class=\"sk-container\" hidden><div class=\"sk-item sk-dashed-wrapped\"><div class=\"sk-label-container\"><div class=\"sk-label fitted sk-toggleable\"><input class=\"sk-toggleable__control sk-hidden--visually\" id=\"sk-estimator-id-12\" type=\"checkbox\" ><label for=\"sk-estimator-id-12\" class=\"sk-toggleable__label fitted sk-toggleable__label-arrow fitted\">&nbsp;&nbsp;Pipeline<a class=\"sk-estimator-doc-link fitted\" rel=\"noreferrer\" target=\"_blank\" href=\"https://scikit-learn.org/1.4/modules/generated/sklearn.pipeline.Pipeline.html\">?<span>Documentation for Pipeline</span></a><span class=\"sk-estimator-doc-link fitted\">i<span>Fitted</span></span></label><div class=\"sk-toggleable__content fitted\"><pre>Pipeline(steps=[(&#x27;preprocessor&#x27;,\n",
       "                 ColumnTransformer(remainder=&#x27;passthrough&#x27;,\n",
       "                                   transformers=[(&#x27;ohe&#x27;,\n",
       "                                                  Pipeline(steps=[(&#x27;simpleImputer_ohe&#x27;,\n",
       "                                                                   SimpleImputer(strategy=&#x27;most_frequent&#x27;)),\n",
       "                                                                  (&#x27;ohe&#x27;,\n",
       "                                                                   OneHotEncoder(drop=&#x27;first&#x27;,\n",
       "                                                                                 sparse_output=False))]),\n",
       "                                                  [&#x27;repaired&#x27;, &#x27;brand&#x27;,\n",
       "                                                   &#x27;vehicle_type&#x27;, &#x27;gearbox&#x27;,\n",
       "                                                   &#x27;fuel_type&#x27;]),\n",
       "                                                 (&#x27;num&#x27;, StandardScaler(),\n",
       "                                                  [&#x27;registration_year&#x27;, &#x27;power&#x27;,\n",
       "                                                   &#x27;kilometer&#x27;])])),\n",
       "                (&#x27;models&#x27;, Ridge(alpha=1))])</pre></div> </div></div><div class=\"sk-serial\"><div class=\"sk-item sk-dashed-wrapped\"><div class=\"sk-label-container\"><div class=\"sk-label fitted sk-toggleable\"><input class=\"sk-toggleable__control sk-hidden--visually\" id=\"sk-estimator-id-13\" type=\"checkbox\" ><label for=\"sk-estimator-id-13\" class=\"sk-toggleable__label fitted sk-toggleable__label-arrow fitted\">&nbsp;preprocessor: ColumnTransformer<a class=\"sk-estimator-doc-link fitted\" rel=\"noreferrer\" target=\"_blank\" href=\"https://scikit-learn.org/1.4/modules/generated/sklearn.compose.ColumnTransformer.html\">?<span>Documentation for preprocessor: ColumnTransformer</span></a></label><div class=\"sk-toggleable__content fitted\"><pre>ColumnTransformer(remainder=&#x27;passthrough&#x27;,\n",
       "                  transformers=[(&#x27;ohe&#x27;,\n",
       "                                 Pipeline(steps=[(&#x27;simpleImputer_ohe&#x27;,\n",
       "                                                  SimpleImputer(strategy=&#x27;most_frequent&#x27;)),\n",
       "                                                 (&#x27;ohe&#x27;,\n",
       "                                                  OneHotEncoder(drop=&#x27;first&#x27;,\n",
       "                                                                sparse_output=False))]),\n",
       "                                 [&#x27;repaired&#x27;, &#x27;brand&#x27;, &#x27;vehicle_type&#x27;,\n",
       "                                  &#x27;gearbox&#x27;, &#x27;fuel_type&#x27;]),\n",
       "                                (&#x27;num&#x27;, StandardScaler(),\n",
       "                                 [&#x27;registration_year&#x27;, &#x27;power&#x27;, &#x27;kilometer&#x27;])])</pre></div> </div></div><div class=\"sk-parallel\"><div class=\"sk-parallel-item\"><div class=\"sk-item\"><div class=\"sk-label-container\"><div class=\"sk-label fitted sk-toggleable\"><input class=\"sk-toggleable__control sk-hidden--visually\" id=\"sk-estimator-id-14\" type=\"checkbox\" ><label for=\"sk-estimator-id-14\" class=\"sk-toggleable__label fitted sk-toggleable__label-arrow fitted\">ohe</label><div class=\"sk-toggleable__content fitted\"><pre>[&#x27;repaired&#x27;, &#x27;brand&#x27;, &#x27;vehicle_type&#x27;, &#x27;gearbox&#x27;, &#x27;fuel_type&#x27;]</pre></div> </div></div><div class=\"sk-serial\"><div class=\"sk-item\"><div class=\"sk-serial\"><div class=\"sk-item\"><div class=\"sk-estimator fitted sk-toggleable\"><input class=\"sk-toggleable__control sk-hidden--visually\" id=\"sk-estimator-id-15\" type=\"checkbox\" ><label for=\"sk-estimator-id-15\" class=\"sk-toggleable__label fitted sk-toggleable__label-arrow fitted\">&nbsp;SimpleImputer<a class=\"sk-estimator-doc-link fitted\" rel=\"noreferrer\" target=\"_blank\" href=\"https://scikit-learn.org/1.4/modules/generated/sklearn.impute.SimpleImputer.html\">?<span>Documentation for SimpleImputer</span></a></label><div class=\"sk-toggleable__content fitted\"><pre>SimpleImputer(strategy=&#x27;most_frequent&#x27;)</pre></div> </div></div><div class=\"sk-item\"><div class=\"sk-estimator fitted sk-toggleable\"><input class=\"sk-toggleable__control sk-hidden--visually\" id=\"sk-estimator-id-16\" type=\"checkbox\" ><label for=\"sk-estimator-id-16\" class=\"sk-toggleable__label fitted sk-toggleable__label-arrow fitted\">&nbsp;OneHotEncoder<a class=\"sk-estimator-doc-link fitted\" rel=\"noreferrer\" target=\"_blank\" href=\"https://scikit-learn.org/1.4/modules/generated/sklearn.preprocessing.OneHotEncoder.html\">?<span>Documentation for OneHotEncoder</span></a></label><div class=\"sk-toggleable__content fitted\"><pre>OneHotEncoder(drop=&#x27;first&#x27;, sparse_output=False)</pre></div> </div></div></div></div></div></div></div><div class=\"sk-parallel-item\"><div class=\"sk-item\"><div class=\"sk-label-container\"><div class=\"sk-label fitted sk-toggleable\"><input class=\"sk-toggleable__control sk-hidden--visually\" id=\"sk-estimator-id-17\" type=\"checkbox\" ><label for=\"sk-estimator-id-17\" class=\"sk-toggleable__label fitted sk-toggleable__label-arrow fitted\">num</label><div class=\"sk-toggleable__content fitted\"><pre>[&#x27;registration_year&#x27;, &#x27;power&#x27;, &#x27;kilometer&#x27;]</pre></div> </div></div><div class=\"sk-serial\"><div class=\"sk-item\"><div class=\"sk-estimator fitted sk-toggleable\"><input class=\"sk-toggleable__control sk-hidden--visually\" id=\"sk-estimator-id-18\" type=\"checkbox\" ><label for=\"sk-estimator-id-18\" class=\"sk-toggleable__label fitted sk-toggleable__label-arrow fitted\">&nbsp;StandardScaler<a class=\"sk-estimator-doc-link fitted\" rel=\"noreferrer\" target=\"_blank\" href=\"https://scikit-learn.org/1.4/modules/generated/sklearn.preprocessing.StandardScaler.html\">?<span>Documentation for StandardScaler</span></a></label><div class=\"sk-toggleable__content fitted\"><pre>StandardScaler()</pre></div> </div></div></div></div></div><div class=\"sk-parallel-item\"><div class=\"sk-item\"><div class=\"sk-label-container\"><div class=\"sk-label fitted sk-toggleable\"><input class=\"sk-toggleable__control sk-hidden--visually\" id=\"sk-estimator-id-19\" type=\"checkbox\" ><label for=\"sk-estimator-id-19\" class=\"sk-toggleable__label fitted sk-toggleable__label-arrow fitted\">remainder</label><div class=\"sk-toggleable__content fitted\"><pre>[]</pre></div> </div></div><div class=\"sk-serial\"><div class=\"sk-item\"><div class=\"sk-estimator fitted sk-toggleable\"><input class=\"sk-toggleable__control sk-hidden--visually\" id=\"sk-estimator-id-20\" type=\"checkbox\" ><label for=\"sk-estimator-id-20\" class=\"sk-toggleable__label fitted sk-toggleable__label-arrow fitted\">passthrough</label><div class=\"sk-toggleable__content fitted\"><pre>passthrough</pre></div> </div></div></div></div></div></div></div><div class=\"sk-item\"><div class=\"sk-estimator fitted sk-toggleable\"><input class=\"sk-toggleable__control sk-hidden--visually\" id=\"sk-estimator-id-21\" type=\"checkbox\" ><label for=\"sk-estimator-id-21\" class=\"sk-toggleable__label fitted sk-toggleable__label-arrow fitted\">&nbsp;Ridge<a class=\"sk-estimator-doc-link fitted\" rel=\"noreferrer\" target=\"_blank\" href=\"https://scikit-learn.org/1.4/modules/generated/sklearn.linear_model.Ridge.html\">?<span>Documentation for Ridge</span></a></label><div class=\"sk-toggleable__content fitted\"><pre>Ridge(alpha=1)</pre></div> </div></div></div></div></div></div>"
      ],
      "text/plain": [
       "Pipeline(steps=[('preprocessor',\n",
       "                 ColumnTransformer(remainder='passthrough',\n",
       "                                   transformers=[('ohe',\n",
       "                                                  Pipeline(steps=[('simpleImputer_ohe',\n",
       "                                                                   SimpleImputer(strategy='most_frequent')),\n",
       "                                                                  ('ohe',\n",
       "                                                                   OneHotEncoder(drop='first',\n",
       "                                                                                 sparse_output=False))]),\n",
       "                                                  ['repaired', 'brand',\n",
       "                                                   'vehicle_type', 'gearbox',\n",
       "                                                   'fuel_type']),\n",
       "                                                 ('num', StandardScaler(),\n",
       "                                                  ['registration_year', 'power',\n",
       "                                                   'kilometer'])])),\n",
       "                ('models', Ridge(alpha=1))])"
      ]
     },
     "execution_count": 55,
     "metadata": {},
     "output_type": "execute_result"
    }
   ],
   "source": [
    "grid_search_ridge.best_estimator_"
   ]
  },
  {
   "cell_type": "code",
   "execution_count": 56,
   "metadata": {
    "scrolled": false
   },
   "outputs": [
    {
     "name": "stdout",
     "output_type": "stream",
     "text": [
      "Лучшая модель и её параметры:\n",
      "\n",
      " Pipeline(steps=[('preprocessor',\n",
      "                 ColumnTransformer(remainder='passthrough',\n",
      "                                   transformers=[('ohe',\n",
      "                                                  Pipeline(steps=[('simpleImputer_ohe',\n",
      "                                                                   SimpleImputer(strategy='most_frequent')),\n",
      "                                                                  ('ohe',\n",
      "                                                                   OneHotEncoder(drop='first',\n",
      "                                                                                 sparse_output=False))]),\n",
      "                                                  ['repaired', 'brand',\n",
      "                                                   'vehicle_type', 'gearbox',\n",
      "                                                   'fuel_type']),\n",
      "                                                 ('num', StandardScaler(),\n",
      "                                                  ['registration_year', 'power',\n",
      "                                                   'kilometer'])])),\n",
      "                ('models', Ridge(alpha=1))])\n",
      "Метрика лучшей модели на валидационной выборке: -2720.9966354996545\n"
     ]
    }
   ],
   "source": [
    "print('Лучшая модель и её параметры:\\n\\n', grid_search_ridge.best_estimator_)\n",
    "print ('Метрика лучшей модели на валидационной выборке:', grid_search_ridge.best_score_)"
   ]
  },
  {
   "cell_type": "code",
   "execution_count": 57,
   "metadata": {},
   "outputs": [
    {
     "name": "stdout",
     "output_type": "stream",
     "text": [
      "<class 'pandas.core.frame.DataFrame'>\n",
      "Index: 183594 entries, 37898 to 14100\n",
      "Data columns (total 8 columns):\n",
      " #   Column             Non-Null Count   Dtype   \n",
      "---  ------             --------------   -----   \n",
      " 0   registration_year  183594 non-null  int64   \n",
      " 1   power              183594 non-null  int64   \n",
      " 2   kilometer          183594 non-null  int64   \n",
      " 3   brand              183594 non-null  category\n",
      " 4   repaired           183594 non-null  category\n",
      " 5   gearbox            183594 non-null  category\n",
      " 6   vehicle_type       183594 non-null  category\n",
      " 7   fuel_type          183594 non-null  category\n",
      "dtypes: category(5), int64(3)\n",
      "memory usage: 6.5 MB\n"
     ]
    }
   ],
   "source": [
    "X_train.info()"
   ]
  },
  {
   "cell_type": "code",
   "execution_count": 58,
   "metadata": {
    "scrolled": true
   },
   "outputs": [
    {
     "name": "stdout",
     "output_type": "stream",
     "text": [
      "[LightGBM] [Debug] Dataset::GetMultiBinFromSparseFeatures: sparse rate 0.888195\n",
      "[LightGBM] [Debug] Dataset::GetMultiBinFromAllFeatures: sparse rate 0.345916\n",
      "[LightGBM] [Debug] init for col-wise cost 0.004464 seconds, init for row-wise cost 0.014034 seconds\n",
      "[LightGBM] [Info] Auto-choosing row-wise multi-threading, the overhead of testing was 0.005657 seconds.\n",
      "You can set `force_row_wise=true` to remove the overhead.\n",
      "And if memory is not enough, you can set `force_col_wise=true`.\n",
      "[LightGBM] [Debug] Using Sparse Multi-Val Bin\n",
      "[LightGBM] [Info] Total Bins 326\n",
      "[LightGBM] [Info] Number of data points in the train set: 183594, number of used features: 8\n",
      "[LightGBM] [Info] Start training from score 5174.828273\n",
      "[LightGBM] [Debug] Trained a tree with leaves = 70 and depth = 8\n",
      "[LightGBM] [Debug] Trained a tree with leaves = 70 and depth = 8\n",
      "[LightGBM] [Debug] Trained a tree with leaves = 70 and depth = 8\n",
      "[LightGBM] [Debug] Trained a tree with leaves = 70 and depth = 8\n",
      "[LightGBM] [Debug] Trained a tree with leaves = 70 and depth = 9\n",
      "[LightGBM] [Debug] Trained a tree with leaves = 70 and depth = 11\n",
      "[LightGBM] [Debug] Trained a tree with leaves = 70 and depth = 9\n",
      "[LightGBM] [Debug] Trained a tree with leaves = 70 and depth = 9\n",
      "[LightGBM] [Debug] Trained a tree with leaves = 70 and depth = 9\n",
      "[LightGBM] [Debug] Trained a tree with leaves = 70 and depth = 9\n",
      "[LightGBM] [Debug] Trained a tree with leaves = 70 and depth = 10\n",
      "[LightGBM] [Debug] Trained a tree with leaves = 70 and depth = 11\n",
      "[LightGBM] [Debug] Trained a tree with leaves = 70 and depth = 9\n",
      "[LightGBM] [Debug] Trained a tree with leaves = 70 and depth = 9\n",
      "[LightGBM] [Debug] Trained a tree with leaves = 70 and depth = 9\n",
      "[LightGBM] [Debug] Trained a tree with leaves = 70 and depth = 10\n",
      "[LightGBM] [Debug] Trained a tree with leaves = 70 and depth = 11\n",
      "[LightGBM] [Debug] Trained a tree with leaves = 70 and depth = 12\n",
      "[LightGBM] [Debug] Trained a tree with leaves = 70 and depth = 11\n",
      "[LightGBM] [Debug] Trained a tree with leaves = 70 and depth = 12\n",
      "CPU times: total: 2.47 s\n",
      "Wall time: 10.2 s\n"
     ]
    },
    {
     "data": {
      "text/html": [
       "<style>#sk-container-id-3 {\n",
       "  /* Definition of color scheme common for light and dark mode */\n",
       "  --sklearn-color-text: black;\n",
       "  --sklearn-color-line: gray;\n",
       "  /* Definition of color scheme for unfitted estimators */\n",
       "  --sklearn-color-unfitted-level-0: #fff5e6;\n",
       "  --sklearn-color-unfitted-level-1: #f6e4d2;\n",
       "  --sklearn-color-unfitted-level-2: #ffe0b3;\n",
       "  --sklearn-color-unfitted-level-3: chocolate;\n",
       "  /* Definition of color scheme for fitted estimators */\n",
       "  --sklearn-color-fitted-level-0: #f0f8ff;\n",
       "  --sklearn-color-fitted-level-1: #d4ebff;\n",
       "  --sklearn-color-fitted-level-2: #b3dbfd;\n",
       "  --sklearn-color-fitted-level-3: cornflowerblue;\n",
       "\n",
       "  /* Specific color for light theme */\n",
       "  --sklearn-color-text-on-default-background: var(--sg-text-color, var(--theme-code-foreground, var(--jp-content-font-color1, black)));\n",
       "  --sklearn-color-background: var(--sg-background-color, var(--theme-background, var(--jp-layout-color0, white)));\n",
       "  --sklearn-color-border-box: var(--sg-text-color, var(--theme-code-foreground, var(--jp-content-font-color1, black)));\n",
       "  --sklearn-color-icon: #696969;\n",
       "\n",
       "  @media (prefers-color-scheme: dark) {\n",
       "    /* Redefinition of color scheme for dark theme */\n",
       "    --sklearn-color-text-on-default-background: var(--sg-text-color, var(--theme-code-foreground, var(--jp-content-font-color1, white)));\n",
       "    --sklearn-color-background: var(--sg-background-color, var(--theme-background, var(--jp-layout-color0, #111)));\n",
       "    --sklearn-color-border-box: var(--sg-text-color, var(--theme-code-foreground, var(--jp-content-font-color1, white)));\n",
       "    --sklearn-color-icon: #878787;\n",
       "  }\n",
       "}\n",
       "\n",
       "#sk-container-id-3 {\n",
       "  color: var(--sklearn-color-text);\n",
       "}\n",
       "\n",
       "#sk-container-id-3 pre {\n",
       "  padding: 0;\n",
       "}\n",
       "\n",
       "#sk-container-id-3 input.sk-hidden--visually {\n",
       "  border: 0;\n",
       "  clip: rect(1px 1px 1px 1px);\n",
       "  clip: rect(1px, 1px, 1px, 1px);\n",
       "  height: 1px;\n",
       "  margin: -1px;\n",
       "  overflow: hidden;\n",
       "  padding: 0;\n",
       "  position: absolute;\n",
       "  width: 1px;\n",
       "}\n",
       "\n",
       "#sk-container-id-3 div.sk-dashed-wrapped {\n",
       "  border: 1px dashed var(--sklearn-color-line);\n",
       "  margin: 0 0.4em 0.5em 0.4em;\n",
       "  box-sizing: border-box;\n",
       "  padding-bottom: 0.4em;\n",
       "  background-color: var(--sklearn-color-background);\n",
       "}\n",
       "\n",
       "#sk-container-id-3 div.sk-container {\n",
       "  /* jupyter's `normalize.less` sets `[hidden] { display: none; }`\n",
       "     but bootstrap.min.css set `[hidden] { display: none !important; }`\n",
       "     so we also need the `!important` here to be able to override the\n",
       "     default hidden behavior on the sphinx rendered scikit-learn.org.\n",
       "     See: https://github.com/scikit-learn/scikit-learn/issues/21755 */\n",
       "  display: inline-block !important;\n",
       "  position: relative;\n",
       "}\n",
       "\n",
       "#sk-container-id-3 div.sk-text-repr-fallback {\n",
       "  display: none;\n",
       "}\n",
       "\n",
       "div.sk-parallel-item,\n",
       "div.sk-serial,\n",
       "div.sk-item {\n",
       "  /* draw centered vertical line to link estimators */\n",
       "  background-image: linear-gradient(var(--sklearn-color-text-on-default-background), var(--sklearn-color-text-on-default-background));\n",
       "  background-size: 2px 100%;\n",
       "  background-repeat: no-repeat;\n",
       "  background-position: center center;\n",
       "}\n",
       "\n",
       "/* Parallel-specific style estimator block */\n",
       "\n",
       "#sk-container-id-3 div.sk-parallel-item::after {\n",
       "  content: \"\";\n",
       "  width: 100%;\n",
       "  border-bottom: 2px solid var(--sklearn-color-text-on-default-background);\n",
       "  flex-grow: 1;\n",
       "}\n",
       "\n",
       "#sk-container-id-3 div.sk-parallel {\n",
       "  display: flex;\n",
       "  align-items: stretch;\n",
       "  justify-content: center;\n",
       "  background-color: var(--sklearn-color-background);\n",
       "  position: relative;\n",
       "}\n",
       "\n",
       "#sk-container-id-3 div.sk-parallel-item {\n",
       "  display: flex;\n",
       "  flex-direction: column;\n",
       "}\n",
       "\n",
       "#sk-container-id-3 div.sk-parallel-item:first-child::after {\n",
       "  align-self: flex-end;\n",
       "  width: 50%;\n",
       "}\n",
       "\n",
       "#sk-container-id-3 div.sk-parallel-item:last-child::after {\n",
       "  align-self: flex-start;\n",
       "  width: 50%;\n",
       "}\n",
       "\n",
       "#sk-container-id-3 div.sk-parallel-item:only-child::after {\n",
       "  width: 0;\n",
       "}\n",
       "\n",
       "/* Serial-specific style estimator block */\n",
       "\n",
       "#sk-container-id-3 div.sk-serial {\n",
       "  display: flex;\n",
       "  flex-direction: column;\n",
       "  align-items: center;\n",
       "  background-color: var(--sklearn-color-background);\n",
       "  padding-right: 1em;\n",
       "  padding-left: 1em;\n",
       "}\n",
       "\n",
       "\n",
       "/* Toggleable style: style used for estimator/Pipeline/ColumnTransformer box that is\n",
       "clickable and can be expanded/collapsed.\n",
       "- Pipeline and ColumnTransformer use this feature and define the default style\n",
       "- Estimators will overwrite some part of the style using the `sk-estimator` class\n",
       "*/\n",
       "\n",
       "/* Pipeline and ColumnTransformer style (default) */\n",
       "\n",
       "#sk-container-id-3 div.sk-toggleable {\n",
       "  /* Default theme specific background. It is overwritten whether we have a\n",
       "  specific estimator or a Pipeline/ColumnTransformer */\n",
       "  background-color: var(--sklearn-color-background);\n",
       "}\n",
       "\n",
       "/* Toggleable label */\n",
       "#sk-container-id-3 label.sk-toggleable__label {\n",
       "  cursor: pointer;\n",
       "  display: block;\n",
       "  width: 100%;\n",
       "  margin-bottom: 0;\n",
       "  padding: 0.5em;\n",
       "  box-sizing: border-box;\n",
       "  text-align: center;\n",
       "}\n",
       "\n",
       "#sk-container-id-3 label.sk-toggleable__label-arrow:before {\n",
       "  /* Arrow on the left of the label */\n",
       "  content: \"▸\";\n",
       "  float: left;\n",
       "  margin-right: 0.25em;\n",
       "  color: var(--sklearn-color-icon);\n",
       "}\n",
       "\n",
       "#sk-container-id-3 label.sk-toggleable__label-arrow:hover:before {\n",
       "  color: var(--sklearn-color-text);\n",
       "}\n",
       "\n",
       "/* Toggleable content - dropdown */\n",
       "\n",
       "#sk-container-id-3 div.sk-toggleable__content {\n",
       "  max-height: 0;\n",
       "  max-width: 0;\n",
       "  overflow: hidden;\n",
       "  text-align: left;\n",
       "  /* unfitted */\n",
       "  background-color: var(--sklearn-color-unfitted-level-0);\n",
       "}\n",
       "\n",
       "#sk-container-id-3 div.sk-toggleable__content.fitted {\n",
       "  /* fitted */\n",
       "  background-color: var(--sklearn-color-fitted-level-0);\n",
       "}\n",
       "\n",
       "#sk-container-id-3 div.sk-toggleable__content pre {\n",
       "  margin: 0.2em;\n",
       "  border-radius: 0.25em;\n",
       "  color: var(--sklearn-color-text);\n",
       "  /* unfitted */\n",
       "  background-color: var(--sklearn-color-unfitted-level-0);\n",
       "}\n",
       "\n",
       "#sk-container-id-3 div.sk-toggleable__content.fitted pre {\n",
       "  /* unfitted */\n",
       "  background-color: var(--sklearn-color-fitted-level-0);\n",
       "}\n",
       "\n",
       "#sk-container-id-3 input.sk-toggleable__control:checked~div.sk-toggleable__content {\n",
       "  /* Expand drop-down */\n",
       "  max-height: 200px;\n",
       "  max-width: 100%;\n",
       "  overflow: auto;\n",
       "}\n",
       "\n",
       "#sk-container-id-3 input.sk-toggleable__control:checked~label.sk-toggleable__label-arrow:before {\n",
       "  content: \"▾\";\n",
       "}\n",
       "\n",
       "/* Pipeline/ColumnTransformer-specific style */\n",
       "\n",
       "#sk-container-id-3 div.sk-label input.sk-toggleable__control:checked~label.sk-toggleable__label {\n",
       "  color: var(--sklearn-color-text);\n",
       "  background-color: var(--sklearn-color-unfitted-level-2);\n",
       "}\n",
       "\n",
       "#sk-container-id-3 div.sk-label.fitted input.sk-toggleable__control:checked~label.sk-toggleable__label {\n",
       "  background-color: var(--sklearn-color-fitted-level-2);\n",
       "}\n",
       "\n",
       "/* Estimator-specific style */\n",
       "\n",
       "/* Colorize estimator box */\n",
       "#sk-container-id-3 div.sk-estimator input.sk-toggleable__control:checked~label.sk-toggleable__label {\n",
       "  /* unfitted */\n",
       "  background-color: var(--sklearn-color-unfitted-level-2);\n",
       "}\n",
       "\n",
       "#sk-container-id-3 div.sk-estimator.fitted input.sk-toggleable__control:checked~label.sk-toggleable__label {\n",
       "  /* fitted */\n",
       "  background-color: var(--sklearn-color-fitted-level-2);\n",
       "}\n",
       "\n",
       "#sk-container-id-3 div.sk-label label.sk-toggleable__label,\n",
       "#sk-container-id-3 div.sk-label label {\n",
       "  /* The background is the default theme color */\n",
       "  color: var(--sklearn-color-text-on-default-background);\n",
       "}\n",
       "\n",
       "/* On hover, darken the color of the background */\n",
       "#sk-container-id-3 div.sk-label:hover label.sk-toggleable__label {\n",
       "  color: var(--sklearn-color-text);\n",
       "  background-color: var(--sklearn-color-unfitted-level-2);\n",
       "}\n",
       "\n",
       "/* Label box, darken color on hover, fitted */\n",
       "#sk-container-id-3 div.sk-label.fitted:hover label.sk-toggleable__label.fitted {\n",
       "  color: var(--sklearn-color-text);\n",
       "  background-color: var(--sklearn-color-fitted-level-2);\n",
       "}\n",
       "\n",
       "/* Estimator label */\n",
       "\n",
       "#sk-container-id-3 div.sk-label label {\n",
       "  font-family: monospace;\n",
       "  font-weight: bold;\n",
       "  display: inline-block;\n",
       "  line-height: 1.2em;\n",
       "}\n",
       "\n",
       "#sk-container-id-3 div.sk-label-container {\n",
       "  text-align: center;\n",
       "}\n",
       "\n",
       "/* Estimator-specific */\n",
       "#sk-container-id-3 div.sk-estimator {\n",
       "  font-family: monospace;\n",
       "  border: 1px dotted var(--sklearn-color-border-box);\n",
       "  border-radius: 0.25em;\n",
       "  box-sizing: border-box;\n",
       "  margin-bottom: 0.5em;\n",
       "  /* unfitted */\n",
       "  background-color: var(--sklearn-color-unfitted-level-0);\n",
       "}\n",
       "\n",
       "#sk-container-id-3 div.sk-estimator.fitted {\n",
       "  /* fitted */\n",
       "  background-color: var(--sklearn-color-fitted-level-0);\n",
       "}\n",
       "\n",
       "/* on hover */\n",
       "#sk-container-id-3 div.sk-estimator:hover {\n",
       "  /* unfitted */\n",
       "  background-color: var(--sklearn-color-unfitted-level-2);\n",
       "}\n",
       "\n",
       "#sk-container-id-3 div.sk-estimator.fitted:hover {\n",
       "  /* fitted */\n",
       "  background-color: var(--sklearn-color-fitted-level-2);\n",
       "}\n",
       "\n",
       "/* Specification for estimator info (e.g. \"i\" and \"?\") */\n",
       "\n",
       "/* Common style for \"i\" and \"?\" */\n",
       "\n",
       ".sk-estimator-doc-link,\n",
       "a:link.sk-estimator-doc-link,\n",
       "a:visited.sk-estimator-doc-link {\n",
       "  float: right;\n",
       "  font-size: smaller;\n",
       "  line-height: 1em;\n",
       "  font-family: monospace;\n",
       "  background-color: var(--sklearn-color-background);\n",
       "  border-radius: 1em;\n",
       "  height: 1em;\n",
       "  width: 1em;\n",
       "  text-decoration: none !important;\n",
       "  margin-left: 1ex;\n",
       "  /* unfitted */\n",
       "  border: var(--sklearn-color-unfitted-level-1) 1pt solid;\n",
       "  color: var(--sklearn-color-unfitted-level-1);\n",
       "}\n",
       "\n",
       ".sk-estimator-doc-link.fitted,\n",
       "a:link.sk-estimator-doc-link.fitted,\n",
       "a:visited.sk-estimator-doc-link.fitted {\n",
       "  /* fitted */\n",
       "  border: var(--sklearn-color-fitted-level-1) 1pt solid;\n",
       "  color: var(--sklearn-color-fitted-level-1);\n",
       "}\n",
       "\n",
       "/* On hover */\n",
       "div.sk-estimator:hover .sk-estimator-doc-link:hover,\n",
       ".sk-estimator-doc-link:hover,\n",
       "div.sk-label-container:hover .sk-estimator-doc-link:hover,\n",
       ".sk-estimator-doc-link:hover {\n",
       "  /* unfitted */\n",
       "  background-color: var(--sklearn-color-unfitted-level-3);\n",
       "  color: var(--sklearn-color-background);\n",
       "  text-decoration: none;\n",
       "}\n",
       "\n",
       "div.sk-estimator.fitted:hover .sk-estimator-doc-link.fitted:hover,\n",
       ".sk-estimator-doc-link.fitted:hover,\n",
       "div.sk-label-container:hover .sk-estimator-doc-link.fitted:hover,\n",
       ".sk-estimator-doc-link.fitted:hover {\n",
       "  /* fitted */\n",
       "  background-color: var(--sklearn-color-fitted-level-3);\n",
       "  color: var(--sklearn-color-background);\n",
       "  text-decoration: none;\n",
       "}\n",
       "\n",
       "/* Span, style for the box shown on hovering the info icon */\n",
       ".sk-estimator-doc-link span {\n",
       "  display: none;\n",
       "  z-index: 9999;\n",
       "  position: relative;\n",
       "  font-weight: normal;\n",
       "  right: .2ex;\n",
       "  padding: .5ex;\n",
       "  margin: .5ex;\n",
       "  width: min-content;\n",
       "  min-width: 20ex;\n",
       "  max-width: 50ex;\n",
       "  color: var(--sklearn-color-text);\n",
       "  box-shadow: 2pt 2pt 4pt #999;\n",
       "  /* unfitted */\n",
       "  background: var(--sklearn-color-unfitted-level-0);\n",
       "  border: .5pt solid var(--sklearn-color-unfitted-level-3);\n",
       "}\n",
       "\n",
       ".sk-estimator-doc-link.fitted span {\n",
       "  /* fitted */\n",
       "  background: var(--sklearn-color-fitted-level-0);\n",
       "  border: var(--sklearn-color-fitted-level-3);\n",
       "}\n",
       "\n",
       ".sk-estimator-doc-link:hover span {\n",
       "  display: block;\n",
       "}\n",
       "\n",
       "/* \"?\"-specific style due to the `<a>` HTML tag */\n",
       "\n",
       "#sk-container-id-3 a.estimator_doc_link {\n",
       "  float: right;\n",
       "  font-size: 1rem;\n",
       "  line-height: 1em;\n",
       "  font-family: monospace;\n",
       "  background-color: var(--sklearn-color-background);\n",
       "  border-radius: 1rem;\n",
       "  height: 1rem;\n",
       "  width: 1rem;\n",
       "  text-decoration: none;\n",
       "  /* unfitted */\n",
       "  color: var(--sklearn-color-unfitted-level-1);\n",
       "  border: var(--sklearn-color-unfitted-level-1) 1pt solid;\n",
       "}\n",
       "\n",
       "#sk-container-id-3 a.estimator_doc_link.fitted {\n",
       "  /* fitted */\n",
       "  border: var(--sklearn-color-fitted-level-1) 1pt solid;\n",
       "  color: var(--sklearn-color-fitted-level-1);\n",
       "}\n",
       "\n",
       "/* On hover */\n",
       "#sk-container-id-3 a.estimator_doc_link:hover {\n",
       "  /* unfitted */\n",
       "  background-color: var(--sklearn-color-unfitted-level-3);\n",
       "  color: var(--sklearn-color-background);\n",
       "  text-decoration: none;\n",
       "}\n",
       "\n",
       "#sk-container-id-3 a.estimator_doc_link.fitted:hover {\n",
       "  /* fitted */\n",
       "  background-color: var(--sklearn-color-fitted-level-3);\n",
       "}\n",
       "</style><div id=\"sk-container-id-3\" class=\"sk-top-container\"><div class=\"sk-text-repr-fallback\"><pre>GridSearchCV(cv=3,\n",
       "             estimator=LGBMRegressor(n_estimators=20, num_leaves=70,\n",
       "                                     random_state=44, verbose=3),\n",
       "             n_jobs=-1,\n",
       "             param_grid=[{&#x27;learning_rate&#x27;: [0.01, 0.05, 0.1],\n",
       "                          &#x27;max_depth&#x27;: [5, 10, 15]}],\n",
       "             scoring=make_scorer(rmse, greater_is_better=False, response_method=&#x27;predict&#x27;))</pre><b>In a Jupyter environment, please rerun this cell to show the HTML representation or trust the notebook. <br />On GitHub, the HTML representation is unable to render, please try loading this page with nbviewer.org.</b></div><div class=\"sk-container\" hidden><div class=\"sk-item sk-dashed-wrapped\"><div class=\"sk-label-container\"><div class=\"sk-label fitted sk-toggleable\"><input class=\"sk-toggleable__control sk-hidden--visually\" id=\"sk-estimator-id-22\" type=\"checkbox\" ><label for=\"sk-estimator-id-22\" class=\"sk-toggleable__label fitted sk-toggleable__label-arrow fitted\">&nbsp;&nbsp;GridSearchCV<a class=\"sk-estimator-doc-link fitted\" rel=\"noreferrer\" target=\"_blank\" href=\"https://scikit-learn.org/1.4/modules/generated/sklearn.model_selection.GridSearchCV.html\">?<span>Documentation for GridSearchCV</span></a><span class=\"sk-estimator-doc-link fitted\">i<span>Fitted</span></span></label><div class=\"sk-toggleable__content fitted\"><pre>GridSearchCV(cv=3,\n",
       "             estimator=LGBMRegressor(n_estimators=20, num_leaves=70,\n",
       "                                     random_state=44, verbose=3),\n",
       "             n_jobs=-1,\n",
       "             param_grid=[{&#x27;learning_rate&#x27;: [0.01, 0.05, 0.1],\n",
       "                          &#x27;max_depth&#x27;: [5, 10, 15]}],\n",
       "             scoring=make_scorer(rmse, greater_is_better=False, response_method=&#x27;predict&#x27;))</pre></div> </div></div><div class=\"sk-parallel\"><div class=\"sk-parallel-item\"><div class=\"sk-item\"><div class=\"sk-label-container\"><div class=\"sk-label fitted sk-toggleable\"><input class=\"sk-toggleable__control sk-hidden--visually\" id=\"sk-estimator-id-23\" type=\"checkbox\" ><label for=\"sk-estimator-id-23\" class=\"sk-toggleable__label fitted sk-toggleable__label-arrow fitted\">estimator: LGBMRegressor</label><div class=\"sk-toggleable__content fitted\"><pre>LGBMRegressor(n_estimators=20, num_leaves=70, random_state=44, verbose=3)</pre></div> </div></div><div class=\"sk-serial\"><div class=\"sk-item\"><div class=\"sk-estimator fitted sk-toggleable\"><input class=\"sk-toggleable__control sk-hidden--visually\" id=\"sk-estimator-id-24\" type=\"checkbox\" ><label for=\"sk-estimator-id-24\" class=\"sk-toggleable__label fitted sk-toggleable__label-arrow fitted\">LGBMRegressor</label><div class=\"sk-toggleable__content fitted\"><pre>LGBMRegressor(n_estimators=20, num_leaves=70, random_state=44, verbose=3)</pre></div> </div></div></div></div></div></div></div></div></div>"
      ],
      "text/plain": [
       "GridSearchCV(cv=3,\n",
       "             estimator=LGBMRegressor(n_estimators=20, num_leaves=70,\n",
       "                                     random_state=44, verbose=3),\n",
       "             n_jobs=-1,\n",
       "             param_grid=[{'learning_rate': [0.01, 0.05, 0.1],\n",
       "                          'max_depth': [5, 10, 15]}],\n",
       "             scoring=make_scorer(rmse, greater_is_better=False, response_method='predict'))"
      ]
     },
     "execution_count": 58,
     "metadata": {},
     "output_type": "execute_result"
    }
   ],
   "source": [
    "%%time\n",
    "grid_search_lgbm = GridSearchCV(\n",
    "    model,\n",
    "    param_grid_lgbm,\n",
    "    scoring=rmse_scorer,\n",
    "    cv=3,\n",
    "    n_jobs=-1\n",
    ")\n",
    "grid_search_lgbm.fit(X_train, y_train)"
   ]
  },
  {
   "cell_type": "code",
   "execution_count": 59,
   "metadata": {},
   "outputs": [
    {
     "data": {
      "text/html": [
       "<style>#sk-container-id-4 {\n",
       "  /* Definition of color scheme common for light and dark mode */\n",
       "  --sklearn-color-text: black;\n",
       "  --sklearn-color-line: gray;\n",
       "  /* Definition of color scheme for unfitted estimators */\n",
       "  --sklearn-color-unfitted-level-0: #fff5e6;\n",
       "  --sklearn-color-unfitted-level-1: #f6e4d2;\n",
       "  --sklearn-color-unfitted-level-2: #ffe0b3;\n",
       "  --sklearn-color-unfitted-level-3: chocolate;\n",
       "  /* Definition of color scheme for fitted estimators */\n",
       "  --sklearn-color-fitted-level-0: #f0f8ff;\n",
       "  --sklearn-color-fitted-level-1: #d4ebff;\n",
       "  --sklearn-color-fitted-level-2: #b3dbfd;\n",
       "  --sklearn-color-fitted-level-3: cornflowerblue;\n",
       "\n",
       "  /* Specific color for light theme */\n",
       "  --sklearn-color-text-on-default-background: var(--sg-text-color, var(--theme-code-foreground, var(--jp-content-font-color1, black)));\n",
       "  --sklearn-color-background: var(--sg-background-color, var(--theme-background, var(--jp-layout-color0, white)));\n",
       "  --sklearn-color-border-box: var(--sg-text-color, var(--theme-code-foreground, var(--jp-content-font-color1, black)));\n",
       "  --sklearn-color-icon: #696969;\n",
       "\n",
       "  @media (prefers-color-scheme: dark) {\n",
       "    /* Redefinition of color scheme for dark theme */\n",
       "    --sklearn-color-text-on-default-background: var(--sg-text-color, var(--theme-code-foreground, var(--jp-content-font-color1, white)));\n",
       "    --sklearn-color-background: var(--sg-background-color, var(--theme-background, var(--jp-layout-color0, #111)));\n",
       "    --sklearn-color-border-box: var(--sg-text-color, var(--theme-code-foreground, var(--jp-content-font-color1, white)));\n",
       "    --sklearn-color-icon: #878787;\n",
       "  }\n",
       "}\n",
       "\n",
       "#sk-container-id-4 {\n",
       "  color: var(--sklearn-color-text);\n",
       "}\n",
       "\n",
       "#sk-container-id-4 pre {\n",
       "  padding: 0;\n",
       "}\n",
       "\n",
       "#sk-container-id-4 input.sk-hidden--visually {\n",
       "  border: 0;\n",
       "  clip: rect(1px 1px 1px 1px);\n",
       "  clip: rect(1px, 1px, 1px, 1px);\n",
       "  height: 1px;\n",
       "  margin: -1px;\n",
       "  overflow: hidden;\n",
       "  padding: 0;\n",
       "  position: absolute;\n",
       "  width: 1px;\n",
       "}\n",
       "\n",
       "#sk-container-id-4 div.sk-dashed-wrapped {\n",
       "  border: 1px dashed var(--sklearn-color-line);\n",
       "  margin: 0 0.4em 0.5em 0.4em;\n",
       "  box-sizing: border-box;\n",
       "  padding-bottom: 0.4em;\n",
       "  background-color: var(--sklearn-color-background);\n",
       "}\n",
       "\n",
       "#sk-container-id-4 div.sk-container {\n",
       "  /* jupyter's `normalize.less` sets `[hidden] { display: none; }`\n",
       "     but bootstrap.min.css set `[hidden] { display: none !important; }`\n",
       "     so we also need the `!important` here to be able to override the\n",
       "     default hidden behavior on the sphinx rendered scikit-learn.org.\n",
       "     See: https://github.com/scikit-learn/scikit-learn/issues/21755 */\n",
       "  display: inline-block !important;\n",
       "  position: relative;\n",
       "}\n",
       "\n",
       "#sk-container-id-4 div.sk-text-repr-fallback {\n",
       "  display: none;\n",
       "}\n",
       "\n",
       "div.sk-parallel-item,\n",
       "div.sk-serial,\n",
       "div.sk-item {\n",
       "  /* draw centered vertical line to link estimators */\n",
       "  background-image: linear-gradient(var(--sklearn-color-text-on-default-background), var(--sklearn-color-text-on-default-background));\n",
       "  background-size: 2px 100%;\n",
       "  background-repeat: no-repeat;\n",
       "  background-position: center center;\n",
       "}\n",
       "\n",
       "/* Parallel-specific style estimator block */\n",
       "\n",
       "#sk-container-id-4 div.sk-parallel-item::after {\n",
       "  content: \"\";\n",
       "  width: 100%;\n",
       "  border-bottom: 2px solid var(--sklearn-color-text-on-default-background);\n",
       "  flex-grow: 1;\n",
       "}\n",
       "\n",
       "#sk-container-id-4 div.sk-parallel {\n",
       "  display: flex;\n",
       "  align-items: stretch;\n",
       "  justify-content: center;\n",
       "  background-color: var(--sklearn-color-background);\n",
       "  position: relative;\n",
       "}\n",
       "\n",
       "#sk-container-id-4 div.sk-parallel-item {\n",
       "  display: flex;\n",
       "  flex-direction: column;\n",
       "}\n",
       "\n",
       "#sk-container-id-4 div.sk-parallel-item:first-child::after {\n",
       "  align-self: flex-end;\n",
       "  width: 50%;\n",
       "}\n",
       "\n",
       "#sk-container-id-4 div.sk-parallel-item:last-child::after {\n",
       "  align-self: flex-start;\n",
       "  width: 50%;\n",
       "}\n",
       "\n",
       "#sk-container-id-4 div.sk-parallel-item:only-child::after {\n",
       "  width: 0;\n",
       "}\n",
       "\n",
       "/* Serial-specific style estimator block */\n",
       "\n",
       "#sk-container-id-4 div.sk-serial {\n",
       "  display: flex;\n",
       "  flex-direction: column;\n",
       "  align-items: center;\n",
       "  background-color: var(--sklearn-color-background);\n",
       "  padding-right: 1em;\n",
       "  padding-left: 1em;\n",
       "}\n",
       "\n",
       "\n",
       "/* Toggleable style: style used for estimator/Pipeline/ColumnTransformer box that is\n",
       "clickable and can be expanded/collapsed.\n",
       "- Pipeline and ColumnTransformer use this feature and define the default style\n",
       "- Estimators will overwrite some part of the style using the `sk-estimator` class\n",
       "*/\n",
       "\n",
       "/* Pipeline and ColumnTransformer style (default) */\n",
       "\n",
       "#sk-container-id-4 div.sk-toggleable {\n",
       "  /* Default theme specific background. It is overwritten whether we have a\n",
       "  specific estimator or a Pipeline/ColumnTransformer */\n",
       "  background-color: var(--sklearn-color-background);\n",
       "}\n",
       "\n",
       "/* Toggleable label */\n",
       "#sk-container-id-4 label.sk-toggleable__label {\n",
       "  cursor: pointer;\n",
       "  display: block;\n",
       "  width: 100%;\n",
       "  margin-bottom: 0;\n",
       "  padding: 0.5em;\n",
       "  box-sizing: border-box;\n",
       "  text-align: center;\n",
       "}\n",
       "\n",
       "#sk-container-id-4 label.sk-toggleable__label-arrow:before {\n",
       "  /* Arrow on the left of the label */\n",
       "  content: \"▸\";\n",
       "  float: left;\n",
       "  margin-right: 0.25em;\n",
       "  color: var(--sklearn-color-icon);\n",
       "}\n",
       "\n",
       "#sk-container-id-4 label.sk-toggleable__label-arrow:hover:before {\n",
       "  color: var(--sklearn-color-text);\n",
       "}\n",
       "\n",
       "/* Toggleable content - dropdown */\n",
       "\n",
       "#sk-container-id-4 div.sk-toggleable__content {\n",
       "  max-height: 0;\n",
       "  max-width: 0;\n",
       "  overflow: hidden;\n",
       "  text-align: left;\n",
       "  /* unfitted */\n",
       "  background-color: var(--sklearn-color-unfitted-level-0);\n",
       "}\n",
       "\n",
       "#sk-container-id-4 div.sk-toggleable__content.fitted {\n",
       "  /* fitted */\n",
       "  background-color: var(--sklearn-color-fitted-level-0);\n",
       "}\n",
       "\n",
       "#sk-container-id-4 div.sk-toggleable__content pre {\n",
       "  margin: 0.2em;\n",
       "  border-radius: 0.25em;\n",
       "  color: var(--sklearn-color-text);\n",
       "  /* unfitted */\n",
       "  background-color: var(--sklearn-color-unfitted-level-0);\n",
       "}\n",
       "\n",
       "#sk-container-id-4 div.sk-toggleable__content.fitted pre {\n",
       "  /* unfitted */\n",
       "  background-color: var(--sklearn-color-fitted-level-0);\n",
       "}\n",
       "\n",
       "#sk-container-id-4 input.sk-toggleable__control:checked~div.sk-toggleable__content {\n",
       "  /* Expand drop-down */\n",
       "  max-height: 200px;\n",
       "  max-width: 100%;\n",
       "  overflow: auto;\n",
       "}\n",
       "\n",
       "#sk-container-id-4 input.sk-toggleable__control:checked~label.sk-toggleable__label-arrow:before {\n",
       "  content: \"▾\";\n",
       "}\n",
       "\n",
       "/* Pipeline/ColumnTransformer-specific style */\n",
       "\n",
       "#sk-container-id-4 div.sk-label input.sk-toggleable__control:checked~label.sk-toggleable__label {\n",
       "  color: var(--sklearn-color-text);\n",
       "  background-color: var(--sklearn-color-unfitted-level-2);\n",
       "}\n",
       "\n",
       "#sk-container-id-4 div.sk-label.fitted input.sk-toggleable__control:checked~label.sk-toggleable__label {\n",
       "  background-color: var(--sklearn-color-fitted-level-2);\n",
       "}\n",
       "\n",
       "/* Estimator-specific style */\n",
       "\n",
       "/* Colorize estimator box */\n",
       "#sk-container-id-4 div.sk-estimator input.sk-toggleable__control:checked~label.sk-toggleable__label {\n",
       "  /* unfitted */\n",
       "  background-color: var(--sklearn-color-unfitted-level-2);\n",
       "}\n",
       "\n",
       "#sk-container-id-4 div.sk-estimator.fitted input.sk-toggleable__control:checked~label.sk-toggleable__label {\n",
       "  /* fitted */\n",
       "  background-color: var(--sklearn-color-fitted-level-2);\n",
       "}\n",
       "\n",
       "#sk-container-id-4 div.sk-label label.sk-toggleable__label,\n",
       "#sk-container-id-4 div.sk-label label {\n",
       "  /* The background is the default theme color */\n",
       "  color: var(--sklearn-color-text-on-default-background);\n",
       "}\n",
       "\n",
       "/* On hover, darken the color of the background */\n",
       "#sk-container-id-4 div.sk-label:hover label.sk-toggleable__label {\n",
       "  color: var(--sklearn-color-text);\n",
       "  background-color: var(--sklearn-color-unfitted-level-2);\n",
       "}\n",
       "\n",
       "/* Label box, darken color on hover, fitted */\n",
       "#sk-container-id-4 div.sk-label.fitted:hover label.sk-toggleable__label.fitted {\n",
       "  color: var(--sklearn-color-text);\n",
       "  background-color: var(--sklearn-color-fitted-level-2);\n",
       "}\n",
       "\n",
       "/* Estimator label */\n",
       "\n",
       "#sk-container-id-4 div.sk-label label {\n",
       "  font-family: monospace;\n",
       "  font-weight: bold;\n",
       "  display: inline-block;\n",
       "  line-height: 1.2em;\n",
       "}\n",
       "\n",
       "#sk-container-id-4 div.sk-label-container {\n",
       "  text-align: center;\n",
       "}\n",
       "\n",
       "/* Estimator-specific */\n",
       "#sk-container-id-4 div.sk-estimator {\n",
       "  font-family: monospace;\n",
       "  border: 1px dotted var(--sklearn-color-border-box);\n",
       "  border-radius: 0.25em;\n",
       "  box-sizing: border-box;\n",
       "  margin-bottom: 0.5em;\n",
       "  /* unfitted */\n",
       "  background-color: var(--sklearn-color-unfitted-level-0);\n",
       "}\n",
       "\n",
       "#sk-container-id-4 div.sk-estimator.fitted {\n",
       "  /* fitted */\n",
       "  background-color: var(--sklearn-color-fitted-level-0);\n",
       "}\n",
       "\n",
       "/* on hover */\n",
       "#sk-container-id-4 div.sk-estimator:hover {\n",
       "  /* unfitted */\n",
       "  background-color: var(--sklearn-color-unfitted-level-2);\n",
       "}\n",
       "\n",
       "#sk-container-id-4 div.sk-estimator.fitted:hover {\n",
       "  /* fitted */\n",
       "  background-color: var(--sklearn-color-fitted-level-2);\n",
       "}\n",
       "\n",
       "/* Specification for estimator info (e.g. \"i\" and \"?\") */\n",
       "\n",
       "/* Common style for \"i\" and \"?\" */\n",
       "\n",
       ".sk-estimator-doc-link,\n",
       "a:link.sk-estimator-doc-link,\n",
       "a:visited.sk-estimator-doc-link {\n",
       "  float: right;\n",
       "  font-size: smaller;\n",
       "  line-height: 1em;\n",
       "  font-family: monospace;\n",
       "  background-color: var(--sklearn-color-background);\n",
       "  border-radius: 1em;\n",
       "  height: 1em;\n",
       "  width: 1em;\n",
       "  text-decoration: none !important;\n",
       "  margin-left: 1ex;\n",
       "  /* unfitted */\n",
       "  border: var(--sklearn-color-unfitted-level-1) 1pt solid;\n",
       "  color: var(--sklearn-color-unfitted-level-1);\n",
       "}\n",
       "\n",
       ".sk-estimator-doc-link.fitted,\n",
       "a:link.sk-estimator-doc-link.fitted,\n",
       "a:visited.sk-estimator-doc-link.fitted {\n",
       "  /* fitted */\n",
       "  border: var(--sklearn-color-fitted-level-1) 1pt solid;\n",
       "  color: var(--sklearn-color-fitted-level-1);\n",
       "}\n",
       "\n",
       "/* On hover */\n",
       "div.sk-estimator:hover .sk-estimator-doc-link:hover,\n",
       ".sk-estimator-doc-link:hover,\n",
       "div.sk-label-container:hover .sk-estimator-doc-link:hover,\n",
       ".sk-estimator-doc-link:hover {\n",
       "  /* unfitted */\n",
       "  background-color: var(--sklearn-color-unfitted-level-3);\n",
       "  color: var(--sklearn-color-background);\n",
       "  text-decoration: none;\n",
       "}\n",
       "\n",
       "div.sk-estimator.fitted:hover .sk-estimator-doc-link.fitted:hover,\n",
       ".sk-estimator-doc-link.fitted:hover,\n",
       "div.sk-label-container:hover .sk-estimator-doc-link.fitted:hover,\n",
       ".sk-estimator-doc-link.fitted:hover {\n",
       "  /* fitted */\n",
       "  background-color: var(--sklearn-color-fitted-level-3);\n",
       "  color: var(--sklearn-color-background);\n",
       "  text-decoration: none;\n",
       "}\n",
       "\n",
       "/* Span, style for the box shown on hovering the info icon */\n",
       ".sk-estimator-doc-link span {\n",
       "  display: none;\n",
       "  z-index: 9999;\n",
       "  position: relative;\n",
       "  font-weight: normal;\n",
       "  right: .2ex;\n",
       "  padding: .5ex;\n",
       "  margin: .5ex;\n",
       "  width: min-content;\n",
       "  min-width: 20ex;\n",
       "  max-width: 50ex;\n",
       "  color: var(--sklearn-color-text);\n",
       "  box-shadow: 2pt 2pt 4pt #999;\n",
       "  /* unfitted */\n",
       "  background: var(--sklearn-color-unfitted-level-0);\n",
       "  border: .5pt solid var(--sklearn-color-unfitted-level-3);\n",
       "}\n",
       "\n",
       ".sk-estimator-doc-link.fitted span {\n",
       "  /* fitted */\n",
       "  background: var(--sklearn-color-fitted-level-0);\n",
       "  border: var(--sklearn-color-fitted-level-3);\n",
       "}\n",
       "\n",
       ".sk-estimator-doc-link:hover span {\n",
       "  display: block;\n",
       "}\n",
       "\n",
       "/* \"?\"-specific style due to the `<a>` HTML tag */\n",
       "\n",
       "#sk-container-id-4 a.estimator_doc_link {\n",
       "  float: right;\n",
       "  font-size: 1rem;\n",
       "  line-height: 1em;\n",
       "  font-family: monospace;\n",
       "  background-color: var(--sklearn-color-background);\n",
       "  border-radius: 1rem;\n",
       "  height: 1rem;\n",
       "  width: 1rem;\n",
       "  text-decoration: none;\n",
       "  /* unfitted */\n",
       "  color: var(--sklearn-color-unfitted-level-1);\n",
       "  border: var(--sklearn-color-unfitted-level-1) 1pt solid;\n",
       "}\n",
       "\n",
       "#sk-container-id-4 a.estimator_doc_link.fitted {\n",
       "  /* fitted */\n",
       "  border: var(--sklearn-color-fitted-level-1) 1pt solid;\n",
       "  color: var(--sklearn-color-fitted-level-1);\n",
       "}\n",
       "\n",
       "/* On hover */\n",
       "#sk-container-id-4 a.estimator_doc_link:hover {\n",
       "  /* unfitted */\n",
       "  background-color: var(--sklearn-color-unfitted-level-3);\n",
       "  color: var(--sklearn-color-background);\n",
       "  text-decoration: none;\n",
       "}\n",
       "\n",
       "#sk-container-id-4 a.estimator_doc_link.fitted:hover {\n",
       "  /* fitted */\n",
       "  background-color: var(--sklearn-color-fitted-level-3);\n",
       "}\n",
       "</style><div id=\"sk-container-id-4\" class=\"sk-top-container\"><div class=\"sk-text-repr-fallback\"><pre>LGBMRegressor(max_depth=15, n_estimators=20, num_leaves=70, random_state=44,\n",
       "              verbose=3)</pre><b>In a Jupyter environment, please rerun this cell to show the HTML representation or trust the notebook. <br />On GitHub, the HTML representation is unable to render, please try loading this page with nbviewer.org.</b></div><div class=\"sk-container\" hidden><div class=\"sk-item\"><div class=\"sk-estimator fitted sk-toggleable\"><input class=\"sk-toggleable__control sk-hidden--visually\" id=\"sk-estimator-id-25\" type=\"checkbox\" checked><label for=\"sk-estimator-id-25\" class=\"sk-toggleable__label fitted sk-toggleable__label-arrow fitted\">&nbsp;LGBMRegressor<span class=\"sk-estimator-doc-link fitted\">i<span>Fitted</span></span></label><div class=\"sk-toggleable__content fitted\"><pre>LGBMRegressor(max_depth=15, n_estimators=20, num_leaves=70, random_state=44,\n",
       "              verbose=3)</pre></div> </div></div></div></div>"
      ],
      "text/plain": [
       "LGBMRegressor(max_depth=15, n_estimators=20, num_leaves=70, random_state=44,\n",
       "              verbose=3)"
      ]
     },
     "execution_count": 59,
     "metadata": {},
     "output_type": "execute_result"
    }
   ],
   "source": [
    "grid_search_lgbm.best_estimator_"
   ]
  },
  {
   "cell_type": "code",
   "execution_count": 60,
   "metadata": {},
   "outputs": [
    {
     "name": "stdout",
     "output_type": "stream",
     "text": [
      "Лучшая модель и её параметры:\n",
      "\n",
      " LGBMRegressor(max_depth=15, n_estimators=20, num_leaves=70, random_state=44,\n",
      "              verbose=3)\n",
      "Метрика лучшей модели на тренировочной выборке: -1893.406857639754\n"
     ]
    }
   ],
   "source": [
    "print('Лучшая модель и её параметры:\\n\\n', grid_search_lgbm.best_estimator_)\n",
    "print ('Метрика лучшей модели на тренировочной выборке:', grid_search_lgbm.best_score_)"
   ]
  },
  {
   "cell_type": "markdown",
   "metadata": {},
   "source": [
    "**Hyperparameter tuning for LGBM regressor took 12 seconds, for Ridge regression 6 seconds, but RMSE on train for LGBM is much better (1893) than Ridge (2720).**"
   ]
  },
  {
   "cell_type": "markdown",
   "metadata": {},
   "source": [
    "## Model Analysis"
   ]
  },
  {
   "cell_type": "markdown",
   "metadata": {},
   "source": [
    "**Now train the model with best hyperparameters on train data and check training speed, test quality, and prediction time.**"
   ]
  },
  {
   "cell_type": "markdown",
   "metadata": {},
   "source": [
    "**First, scale data with StandartScaler and pass categorical feature names to the model.**"
   ]
  },
  {
   "cell_type": "code",
   "execution_count": 61,
   "metadata": {},
   "outputs": [],
   "source": [
    "scaler = MinMaxScaler()\n",
    "\n",
    "X_train[num_columns] = scaler.fit_transform(X_train[num_columns])\n",
    "X_test[num_columns] = scaler.transform(X_test[num_columns])"
   ]
  },
  {
   "cell_type": "code",
   "execution_count": 62,
   "metadata": {},
   "outputs": [],
   "source": [
    "best_model_lgbm = lgb.LGBMRegressor(n_estimators = 20,\n",
    "                                    num_leaves=70,\n",
    "                                    max_depth=10,\n",
    "                                    n_jobs=-1,\n",
    "                                    categorical_feature=ohe_columns,\n",
    "                                    verbose=-1,\n",
    "                                    random_state=RANDOM_STATE)"
   ]
  },
  {
   "cell_type": "code",
   "execution_count": 63,
   "metadata": {
    "scrolled": true
   },
   "outputs": [
    {
     "name": "stderr",
     "output_type": "stream",
     "text": [
      "C:\\Users\\datre\\AppData\\Local\\Programs\\Python\\Python311\\Lib\\site-packages\\lightgbm\\basic.py:1873: UserWarning: categorical_feature keyword has been found in `params` and will be ignored.\n",
      "Please use categorical_feature argument of the Dataset constructor to pass this parameter.\n",
      "  _log_warning(f'{key} keyword has been found in `params` and will be ignored.\\n'\n",
      "C:\\Users\\datre\\AppData\\Local\\Programs\\Python\\Python311\\Lib\\site-packages\\lightgbm\\basic.py:1893: UserWarning: categorical_feature in param dict is overridden.\n",
      "  _log_warning(f'{cat_alias} in param dict is overridden.')\n"
     ]
    },
    {
     "name": "stdout",
     "output_type": "stream",
     "text": [
      "CPU times: total: 3.16 s\n",
      "Wall time: 286 ms\n"
     ]
    },
    {
     "data": {
      "text/html": [
       "<style>#sk-container-id-5 {\n",
       "  /* Definition of color scheme common for light and dark mode */\n",
       "  --sklearn-color-text: black;\n",
       "  --sklearn-color-line: gray;\n",
       "  /* Definition of color scheme for unfitted estimators */\n",
       "  --sklearn-color-unfitted-level-0: #fff5e6;\n",
       "  --sklearn-color-unfitted-level-1: #f6e4d2;\n",
       "  --sklearn-color-unfitted-level-2: #ffe0b3;\n",
       "  --sklearn-color-unfitted-level-3: chocolate;\n",
       "  /* Definition of color scheme for fitted estimators */\n",
       "  --sklearn-color-fitted-level-0: #f0f8ff;\n",
       "  --sklearn-color-fitted-level-1: #d4ebff;\n",
       "  --sklearn-color-fitted-level-2: #b3dbfd;\n",
       "  --sklearn-color-fitted-level-3: cornflowerblue;\n",
       "\n",
       "  /* Specific color for light theme */\n",
       "  --sklearn-color-text-on-default-background: var(--sg-text-color, var(--theme-code-foreground, var(--jp-content-font-color1, black)));\n",
       "  --sklearn-color-background: var(--sg-background-color, var(--theme-background, var(--jp-layout-color0, white)));\n",
       "  --sklearn-color-border-box: var(--sg-text-color, var(--theme-code-foreground, var(--jp-content-font-color1, black)));\n",
       "  --sklearn-color-icon: #696969;\n",
       "\n",
       "  @media (prefers-color-scheme: dark) {\n",
       "    /* Redefinition of color scheme for dark theme */\n",
       "    --sklearn-color-text-on-default-background: var(--sg-text-color, var(--theme-code-foreground, var(--jp-content-font-color1, white)));\n",
       "    --sklearn-color-background: var(--sg-background-color, var(--theme-background, var(--jp-layout-color0, #111)));\n",
       "    --sklearn-color-border-box: var(--sg-text-color, var(--theme-code-foreground, var(--jp-content-font-color1, white)));\n",
       "    --sklearn-color-icon: #878787;\n",
       "  }\n",
       "}\n",
       "\n",
       "#sk-container-id-5 {\n",
       "  color: var(--sklearn-color-text);\n",
       "}\n",
       "\n",
       "#sk-container-id-5 pre {\n",
       "  padding: 0;\n",
       "}\n",
       "\n",
       "#sk-container-id-5 input.sk-hidden--visually {\n",
       "  border: 0;\n",
       "  clip: rect(1px 1px 1px 1px);\n",
       "  clip: rect(1px, 1px, 1px, 1px);\n",
       "  height: 1px;\n",
       "  margin: -1px;\n",
       "  overflow: hidden;\n",
       "  padding: 0;\n",
       "  position: absolute;\n",
       "  width: 1px;\n",
       "}\n",
       "\n",
       "#sk-container-id-5 div.sk-dashed-wrapped {\n",
       "  border: 1px dashed var(--sklearn-color-line);\n",
       "  margin: 0 0.4em 0.5em 0.4em;\n",
       "  box-sizing: border-box;\n",
       "  padding-bottom: 0.4em;\n",
       "  background-color: var(--sklearn-color-background);\n",
       "}\n",
       "\n",
       "#sk-container-id-5 div.sk-container {\n",
       "  /* jupyter's `normalize.less` sets `[hidden] { display: none; }`\n",
       "     but bootstrap.min.css set `[hidden] { display: none !important; }`\n",
       "     so we also need the `!important` here to be able to override the\n",
       "     default hidden behavior on the sphinx rendered scikit-learn.org.\n",
       "     See: https://github.com/scikit-learn/scikit-learn/issues/21755 */\n",
       "  display: inline-block !important;\n",
       "  position: relative;\n",
       "}\n",
       "\n",
       "#sk-container-id-5 div.sk-text-repr-fallback {\n",
       "  display: none;\n",
       "}\n",
       "\n",
       "div.sk-parallel-item,\n",
       "div.sk-serial,\n",
       "div.sk-item {\n",
       "  /* draw centered vertical line to link estimators */\n",
       "  background-image: linear-gradient(var(--sklearn-color-text-on-default-background), var(--sklearn-color-text-on-default-background));\n",
       "  background-size: 2px 100%;\n",
       "  background-repeat: no-repeat;\n",
       "  background-position: center center;\n",
       "}\n",
       "\n",
       "/* Parallel-specific style estimator block */\n",
       "\n",
       "#sk-container-id-5 div.sk-parallel-item::after {\n",
       "  content: \"\";\n",
       "  width: 100%;\n",
       "  border-bottom: 2px solid var(--sklearn-color-text-on-default-background);\n",
       "  flex-grow: 1;\n",
       "}\n",
       "\n",
       "#sk-container-id-5 div.sk-parallel {\n",
       "  display: flex;\n",
       "  align-items: stretch;\n",
       "  justify-content: center;\n",
       "  background-color: var(--sklearn-color-background);\n",
       "  position: relative;\n",
       "}\n",
       "\n",
       "#sk-container-id-5 div.sk-parallel-item {\n",
       "  display: flex;\n",
       "  flex-direction: column;\n",
       "}\n",
       "\n",
       "#sk-container-id-5 div.sk-parallel-item:first-child::after {\n",
       "  align-self: flex-end;\n",
       "  width: 50%;\n",
       "}\n",
       "\n",
       "#sk-container-id-5 div.sk-parallel-item:last-child::after {\n",
       "  align-self: flex-start;\n",
       "  width: 50%;\n",
       "}\n",
       "\n",
       "#sk-container-id-5 div.sk-parallel-item:only-child::after {\n",
       "  width: 0;\n",
       "}\n",
       "\n",
       "/* Serial-specific style estimator block */\n",
       "\n",
       "#sk-container-id-5 div.sk-serial {\n",
       "  display: flex;\n",
       "  flex-direction: column;\n",
       "  align-items: center;\n",
       "  background-color: var(--sklearn-color-background);\n",
       "  padding-right: 1em;\n",
       "  padding-left: 1em;\n",
       "}\n",
       "\n",
       "\n",
       "/* Toggleable style: style used for estimator/Pipeline/ColumnTransformer box that is\n",
       "clickable and can be expanded/collapsed.\n",
       "- Pipeline and ColumnTransformer use this feature and define the default style\n",
       "- Estimators will overwrite some part of the style using the `sk-estimator` class\n",
       "*/\n",
       "\n",
       "/* Pipeline and ColumnTransformer style (default) */\n",
       "\n",
       "#sk-container-id-5 div.sk-toggleable {\n",
       "  /* Default theme specific background. It is overwritten whether we have a\n",
       "  specific estimator or a Pipeline/ColumnTransformer */\n",
       "  background-color: var(--sklearn-color-background);\n",
       "}\n",
       "\n",
       "/* Toggleable label */\n",
       "#sk-container-id-5 label.sk-toggleable__label {\n",
       "  cursor: pointer;\n",
       "  display: block;\n",
       "  width: 100%;\n",
       "  margin-bottom: 0;\n",
       "  padding: 0.5em;\n",
       "  box-sizing: border-box;\n",
       "  text-align: center;\n",
       "}\n",
       "\n",
       "#sk-container-id-5 label.sk-toggleable__label-arrow:before {\n",
       "  /* Arrow on the left of the label */\n",
       "  content: \"▸\";\n",
       "  float: left;\n",
       "  margin-right: 0.25em;\n",
       "  color: var(--sklearn-color-icon);\n",
       "}\n",
       "\n",
       "#sk-container-id-5 label.sk-toggleable__label-arrow:hover:before {\n",
       "  color: var(--sklearn-color-text);\n",
       "}\n",
       "\n",
       "/* Toggleable content - dropdown */\n",
       "\n",
       "#sk-container-id-5 div.sk-toggleable__content {\n",
       "  max-height: 0;\n",
       "  max-width: 0;\n",
       "  overflow: hidden;\n",
       "  text-align: left;\n",
       "  /* unfitted */\n",
       "  background-color: var(--sklearn-color-unfitted-level-0);\n",
       "}\n",
       "\n",
       "#sk-container-id-5 div.sk-toggleable__content.fitted {\n",
       "  /* fitted */\n",
       "  background-color: var(--sklearn-color-fitted-level-0);\n",
       "}\n",
       "\n",
       "#sk-container-id-5 div.sk-toggleable__content pre {\n",
       "  margin: 0.2em;\n",
       "  border-radius: 0.25em;\n",
       "  color: var(--sklearn-color-text);\n",
       "  /* unfitted */\n",
       "  background-color: var(--sklearn-color-unfitted-level-0);\n",
       "}\n",
       "\n",
       "#sk-container-id-5 div.sk-toggleable__content.fitted pre {\n",
       "  /* unfitted */\n",
       "  background-color: var(--sklearn-color-fitted-level-0);\n",
       "}\n",
       "\n",
       "#sk-container-id-5 input.sk-toggleable__control:checked~div.sk-toggleable__content {\n",
       "  /* Expand drop-down */\n",
       "  max-height: 200px;\n",
       "  max-width: 100%;\n",
       "  overflow: auto;\n",
       "}\n",
       "\n",
       "#sk-container-id-5 input.sk-toggleable__control:checked~label.sk-toggleable__label-arrow:before {\n",
       "  content: \"▾\";\n",
       "}\n",
       "\n",
       "/* Pipeline/ColumnTransformer-specific style */\n",
       "\n",
       "#sk-container-id-5 div.sk-label input.sk-toggleable__control:checked~label.sk-toggleable__label {\n",
       "  color: var(--sklearn-color-text);\n",
       "  background-color: var(--sklearn-color-unfitted-level-2);\n",
       "}\n",
       "\n",
       "#sk-container-id-5 div.sk-label.fitted input.sk-toggleable__control:checked~label.sk-toggleable__label {\n",
       "  background-color: var(--sklearn-color-fitted-level-2);\n",
       "}\n",
       "\n",
       "/* Estimator-specific style */\n",
       "\n",
       "/* Colorize estimator box */\n",
       "#sk-container-id-5 div.sk-estimator input.sk-toggleable__control:checked~label.sk-toggleable__label {\n",
       "  /* unfitted */\n",
       "  background-color: var(--sklearn-color-unfitted-level-2);\n",
       "}\n",
       "\n",
       "#sk-container-id-5 div.sk-estimator.fitted input.sk-toggleable__control:checked~label.sk-toggleable__label {\n",
       "  /* fitted */\n",
       "  background-color: var(--sklearn-color-fitted-level-2);\n",
       "}\n",
       "\n",
       "#sk-container-id-5 div.sk-label label.sk-toggleable__label,\n",
       "#sk-container-id-5 div.sk-label label {\n",
       "  /* The background is the default theme color */\n",
       "  color: var(--sklearn-color-text-on-default-background);\n",
       "}\n",
       "\n",
       "/* On hover, darken the color of the background */\n",
       "#sk-container-id-5 div.sk-label:hover label.sk-toggleable__label {\n",
       "  color: var(--sklearn-color-text);\n",
       "  background-color: var(--sklearn-color-unfitted-level-2);\n",
       "}\n",
       "\n",
       "/* Label box, darken color on hover, fitted */\n",
       "#sk-container-id-5 div.sk-label.fitted:hover label.sk-toggleable__label.fitted {\n",
       "  color: var(--sklearn-color-text);\n",
       "  background-color: var(--sklearn-color-fitted-level-2);\n",
       "}\n",
       "\n",
       "/* Estimator label */\n",
       "\n",
       "#sk-container-id-5 div.sk-label label {\n",
       "  font-family: monospace;\n",
       "  font-weight: bold;\n",
       "  display: inline-block;\n",
       "  line-height: 1.2em;\n",
       "}\n",
       "\n",
       "#sk-container-id-5 div.sk-label-container {\n",
       "  text-align: center;\n",
       "}\n",
       "\n",
       "/* Estimator-specific */\n",
       "#sk-container-id-5 div.sk-estimator {\n",
       "  font-family: monospace;\n",
       "  border: 1px dotted var(--sklearn-color-border-box);\n",
       "  border-radius: 0.25em;\n",
       "  box-sizing: border-box;\n",
       "  margin-bottom: 0.5em;\n",
       "  /* unfitted */\n",
       "  background-color: var(--sklearn-color-unfitted-level-0);\n",
       "}\n",
       "\n",
       "#sk-container-id-5 div.sk-estimator.fitted {\n",
       "  /* fitted */\n",
       "  background-color: var(--sklearn-color-fitted-level-0);\n",
       "}\n",
       "\n",
       "/* on hover */\n",
       "#sk-container-id-5 div.sk-estimator:hover {\n",
       "  /* unfitted */\n",
       "  background-color: var(--sklearn-color-unfitted-level-2);\n",
       "}\n",
       "\n",
       "#sk-container-id-5 div.sk-estimator.fitted:hover {\n",
       "  /* fitted */\n",
       "  background-color: var(--sklearn-color-fitted-level-2);\n",
       "}\n",
       "\n",
       "/* Specification for estimator info (e.g. \"i\" and \"?\") */\n",
       "\n",
       "/* Common style for \"i\" and \"?\" */\n",
       "\n",
       ".sk-estimator-doc-link,\n",
       "a:link.sk-estimator-doc-link,\n",
       "a:visited.sk-estimator-doc-link {\n",
       "  float: right;\n",
       "  font-size: smaller;\n",
       "  line-height: 1em;\n",
       "  font-family: monospace;\n",
       "  background-color: var(--sklearn-color-background);\n",
       "  border-radius: 1em;\n",
       "  height: 1em;\n",
       "  width: 1em;\n",
       "  text-decoration: none !important;\n",
       "  margin-left: 1ex;\n",
       "  /* unfitted */\n",
       "  border: var(--sklearn-color-unfitted-level-1) 1pt solid;\n",
       "  color: var(--sklearn-color-unfitted-level-1);\n",
       "}\n",
       "\n",
       ".sk-estimator-doc-link.fitted,\n",
       "a:link.sk-estimator-doc-link.fitted,\n",
       "a:visited.sk-estimator-doc-link.fitted {\n",
       "  /* fitted */\n",
       "  border: var(--sklearn-color-fitted-level-1) 1pt solid;\n",
       "  color: var(--sklearn-color-fitted-level-1);\n",
       "}\n",
       "\n",
       "/* On hover */\n",
       "div.sk-estimator:hover .sk-estimator-doc-link:hover,\n",
       ".sk-estimator-doc-link:hover,\n",
       "div.sk-label-container:hover .sk-estimator-doc-link:hover,\n",
       ".sk-estimator-doc-link:hover {\n",
       "  /* unfitted */\n",
       "  background-color: var(--sklearn-color-unfitted-level-3);\n",
       "  color: var(--sklearn-color-background);\n",
       "  text-decoration: none;\n",
       "}\n",
       "\n",
       "div.sk-estimator.fitted:hover .sk-estimator-doc-link.fitted:hover,\n",
       ".sk-estimator-doc-link.fitted:hover,\n",
       "div.sk-label-container:hover .sk-estimator-doc-link.fitted:hover,\n",
       ".sk-estimator-doc-link.fitted:hover {\n",
       "  /* fitted */\n",
       "  background-color: var(--sklearn-color-fitted-level-3);\n",
       "  color: var(--sklearn-color-background);\n",
       "  text-decoration: none;\n",
       "}\n",
       "\n",
       "/* Span, style for the box shown on hovering the info icon */\n",
       ".sk-estimator-doc-link span {\n",
       "  display: none;\n",
       "  z-index: 9999;\n",
       "  position: relative;\n",
       "  font-weight: normal;\n",
       "  right: .2ex;\n",
       "  padding: .5ex;\n",
       "  margin: .5ex;\n",
       "  width: min-content;\n",
       "  min-width: 20ex;\n",
       "  max-width: 50ex;\n",
       "  color: var(--sklearn-color-text);\n",
       "  box-shadow: 2pt 2pt 4pt #999;\n",
       "  /* unfitted */\n",
       "  background: var(--sklearn-color-unfitted-level-0);\n",
       "  border: .5pt solid var(--sklearn-color-unfitted-level-3);\n",
       "}\n",
       "\n",
       ".sk-estimator-doc-link.fitted span {\n",
       "  /* fitted */\n",
       "  background: var(--sklearn-color-fitted-level-0);\n",
       "  border: var(--sklearn-color-fitted-level-3);\n",
       "}\n",
       "\n",
       ".sk-estimator-doc-link:hover span {\n",
       "  display: block;\n",
       "}\n",
       "\n",
       "/* \"?\"-specific style due to the `<a>` HTML tag */\n",
       "\n",
       "#sk-container-id-5 a.estimator_doc_link {\n",
       "  float: right;\n",
       "  font-size: 1rem;\n",
       "  line-height: 1em;\n",
       "  font-family: monospace;\n",
       "  background-color: var(--sklearn-color-background);\n",
       "  border-radius: 1rem;\n",
       "  height: 1rem;\n",
       "  width: 1rem;\n",
       "  text-decoration: none;\n",
       "  /* unfitted */\n",
       "  color: var(--sklearn-color-unfitted-level-1);\n",
       "  border: var(--sklearn-color-unfitted-level-1) 1pt solid;\n",
       "}\n",
       "\n",
       "#sk-container-id-5 a.estimator_doc_link.fitted {\n",
       "  /* fitted */\n",
       "  border: var(--sklearn-color-fitted-level-1) 1pt solid;\n",
       "  color: var(--sklearn-color-fitted-level-1);\n",
       "}\n",
       "\n",
       "/* On hover */\n",
       "#sk-container-id-5 a.estimator_doc_link:hover {\n",
       "  /* unfitted */\n",
       "  background-color: var(--sklearn-color-unfitted-level-3);\n",
       "  color: var(--sklearn-color-background);\n",
       "  text-decoration: none;\n",
       "}\n",
       "\n",
       "#sk-container-id-5 a.estimator_doc_link.fitted:hover {\n",
       "  /* fitted */\n",
       "  background-color: var(--sklearn-color-fitted-level-3);\n",
       "}\n",
       "</style><div id=\"sk-container-id-5\" class=\"sk-top-container\"><div class=\"sk-text-repr-fallback\"><pre>LGBMRegressor(categorical_feature=[&#x27;repaired&#x27;, &#x27;brand&#x27;, &#x27;vehicle_type&#x27;,\n",
       "                                   &#x27;gearbox&#x27;, &#x27;fuel_type&#x27;],\n",
       "              max_depth=10, n_estimators=20, n_jobs=-1, num_leaves=70,\n",
       "              random_state=44, verbose=-1)</pre><b>In a Jupyter environment, please rerun this cell to show the HTML representation or trust the notebook. <br />On GitHub, the HTML representation is unable to render, please try loading this page with nbviewer.org.</b></div><div class=\"sk-container\" hidden><div class=\"sk-item\"><div class=\"sk-estimator fitted sk-toggleable\"><input class=\"sk-toggleable__control sk-hidden--visually\" id=\"sk-estimator-id-26\" type=\"checkbox\" checked><label for=\"sk-estimator-id-26\" class=\"sk-toggleable__label fitted sk-toggleable__label-arrow fitted\">&nbsp;LGBMRegressor<span class=\"sk-estimator-doc-link fitted\">i<span>Fitted</span></span></label><div class=\"sk-toggleable__content fitted\"><pre>LGBMRegressor(categorical_feature=[&#x27;repaired&#x27;, &#x27;brand&#x27;, &#x27;vehicle_type&#x27;,\n",
       "                                   &#x27;gearbox&#x27;, &#x27;fuel_type&#x27;],\n",
       "              max_depth=10, n_estimators=20, n_jobs=-1, num_leaves=70,\n",
       "              random_state=44, verbose=-1)</pre></div> </div></div></div></div>"
      ],
      "text/plain": [
       "LGBMRegressor(categorical_feature=['repaired', 'brand', 'vehicle_type',\n",
       "                                   'gearbox', 'fuel_type'],\n",
       "              max_depth=10, n_estimators=20, n_jobs=-1, num_leaves=70,\n",
       "              random_state=44, verbose=-1)"
      ]
     },
     "execution_count": 63,
     "metadata": {},
     "output_type": "execute_result"
    }
   ],
   "source": [
    "%%time\n",
    "\n",
    "best_model_lgbm.fit(X_train, y_train)"
   ]
  },
  {
   "cell_type": "markdown",
   "metadata": {},
   "source": [
    "**LGBM model training took 0.5 seconds.**"
   ]
  },
  {
   "cell_type": "code",
   "execution_count": 64,
   "metadata": {
    "scrolled": true
   },
   "outputs": [
    {
     "name": "stdout",
     "output_type": "stream",
     "text": [
      "CPU times: total: 312 ms\n",
      "Wall time: 59.4 ms\n"
     ]
    }
   ],
   "source": [
    "%%time\n",
    "\n",
    "lgbm_pred = best_model_lgbm.predict(X_test)"
   ]
  },
  {
   "cell_type": "markdown",
   "metadata": {},
   "source": [
    "**LightGBM prediction takes 121 ms.**"
   ]
  },
  {
   "cell_type": "code",
   "execution_count": 65,
   "metadata": {},
   "outputs": [
    {
     "name": "stdout",
     "output_type": "stream",
     "text": [
      "Метрика RMSE лучшей LGBM модели на тестовой выборке: 1877.6690646152535\n"
     ]
    }
   ],
   "source": [
    "print ('Метрика RMSE лучшей LGBM модели на тестовой выборке:', rmse(y_test, lgbm_pred))"
   ]
  },
  {
   "cell_type": "markdown",
   "metadata": {},
   "source": [
    "**LGBM showed required rmse <2500**"
   ]
  },
  {
   "cell_type": "markdown",
   "metadata": {},
   "source": [
    "**Summary:**\n",
    "   * The dataset was obtained and processed. Data types were corrected, missing values filled/removed, anomalies handled.\n",
    "   * Correlation analysis was performed, non-informative and highly correlated features dropped.\n",
    "   * Train and test sets created, two models compared: sklearn Ridge and LightGBM Regressor.\n",
    "   * Pipelines for hyperparameter search: Ridge regularization alpha and LightGBM tree leaves and learning rate.\n",
    "   * Ridge input data scaled and OHE encoded for categoricals.\n",
    "   * LightGBM used OrdinalEncoder for categoricals, numerics scaled.\n",
    "   * Custom RMSE metric used for model training.\n",
    "   * Models trained with RandomizedSearchCV (LightGBM) and GridSearchCV (Ridge), best hyperparameters selected.\n",
    "   * LightGBM trained faster and showed better metric than Ridge.\n",
    "   * RMSE for LightGBM = 1875, which is satisfactory for the customer."
   ]
  }
 ],
 "metadata": {
  "ExecuteTimeLog": [
   {
    "duration": 9669,
    "start_time": "2024-12-22T16:13:10.378Z"
   },
   {
    "duration": 45153,
    "start_time": "2024-12-22T16:13:20.051Z"
   },
   {
    "duration": 1577,
    "start_time": "2024-12-22T16:14:05.206Z"
   },
   {
    "duration": 3119,
    "start_time": "2024-12-22T16:14:06.784Z"
   },
   {
    "duration": 171,
    "start_time": "2024-12-22T16:16:08.341Z"
   },
   {
    "duration": 92,
    "start_time": "2024-12-22T16:20:26.758Z"
   },
   {
    "duration": 0,
    "start_time": "2024-12-22T16:20:26.852Z"
   },
   {
    "duration": 0,
    "start_time": "2024-12-22T16:20:26.854Z"
   },
   {
    "duration": 0,
    "start_time": "2024-12-22T16:20:26.855Z"
   },
   {
    "duration": 0,
    "start_time": "2024-12-22T16:20:26.856Z"
   },
   {
    "duration": 3075,
    "start_time": "2024-12-22T16:20:47.524Z"
   },
   {
    "duration": 3168,
    "start_time": "2024-12-22T16:20:50.602Z"
   },
   {
    "duration": 2595,
    "start_time": "2024-12-22T16:20:53.772Z"
   },
   {
    "duration": 1363,
    "start_time": "2024-12-22T16:20:56.369Z"
   },
   {
    "duration": 1032,
    "start_time": "2024-12-22T16:20:57.734Z"
   },
   {
    "duration": 184,
    "start_time": "2024-12-22T16:20:58.768Z"
   },
   {
    "duration": 136,
    "start_time": "2024-12-22T16:20:58.954Z"
   },
   {
    "duration": 3859,
    "start_time": "2024-12-22T16:21:13.856Z"
   },
   {
    "duration": 3150,
    "start_time": "2024-12-22T16:21:17.718Z"
   },
   {
    "duration": 2706,
    "start_time": "2024-12-22T16:21:20.870Z"
   },
   {
    "duration": 1345,
    "start_time": "2024-12-22T16:21:23.578Z"
   },
   {
    "duration": 913,
    "start_time": "2024-12-22T16:21:24.925Z"
   },
   {
    "duration": 167,
    "start_time": "2024-12-22T16:21:25.840Z"
   },
   {
    "duration": 1659,
    "start_time": "2024-12-22T16:21:26.009Z"
   },
   {
    "duration": 146,
    "start_time": "2024-12-22T16:30:33.805Z"
   },
   {
    "duration": 160,
    "start_time": "2024-12-22T16:31:01.293Z"
   },
   {
    "duration": 727,
    "start_time": "2024-12-22T16:33:24.912Z"
   },
   {
    "duration": 1047,
    "start_time": "2024-12-22T16:34:11.166Z"
   },
   {
    "duration": 331,
    "start_time": "2024-12-22T17:18:48.354Z"
   },
   {
    "duration": 114,
    "start_time": "2024-12-22T17:19:52.315Z"
   },
   {
    "duration": 14,
    "start_time": "2024-12-22T17:20:12.261Z"
   },
   {
    "duration": 10,
    "start_time": "2024-12-22T17:20:20.861Z"
   },
   {
    "duration": 79,
    "start_time": "2024-12-22T17:21:52.180Z"
   },
   {
    "duration": 75,
    "start_time": "2024-12-22T17:21:59.126Z"
   },
   {
    "duration": 270,
    "start_time": "2024-12-22T17:23:03.395Z"
   },
   {
    "duration": 170,
    "start_time": "2024-12-22T17:23:34.453Z"
   },
   {
    "duration": 142,
    "start_time": "2024-12-22T17:24:50.951Z"
   },
   {
    "duration": 136,
    "start_time": "2024-12-22T17:25:49.855Z"
   },
   {
    "duration": 17,
    "start_time": "2024-12-22T17:46:19.805Z"
   },
   {
    "duration": 136,
    "start_time": "2024-12-22T17:48:39.666Z"
   },
   {
    "duration": 134,
    "start_time": "2024-12-22T17:48:48.338Z"
   },
   {
    "duration": 138,
    "start_time": "2024-12-22T17:48:56.248Z"
   },
   {
    "duration": 142,
    "start_time": "2024-12-22T17:56:04.790Z"
   },
   {
    "duration": 142,
    "start_time": "2024-12-22T17:56:14.007Z"
   },
   {
    "duration": 30,
    "start_time": "2024-12-22T17:59:28.808Z"
   },
   {
    "duration": 25,
    "start_time": "2024-12-22T17:59:41.761Z"
   },
   {
    "duration": 30,
    "start_time": "2024-12-22T18:00:20.678Z"
   },
   {
    "duration": 23,
    "start_time": "2024-12-22T18:00:29.044Z"
   },
   {
    "duration": 18,
    "start_time": "2024-12-22T18:00:35.654Z"
   },
   {
    "duration": 30,
    "start_time": "2024-12-22T18:00:41.118Z"
   },
   {
    "duration": 28,
    "start_time": "2024-12-22T18:01:11.110Z"
   },
   {
    "duration": 21,
    "start_time": "2024-12-22T18:01:18.058Z"
   },
   {
    "duration": 18,
    "start_time": "2024-12-22T18:01:25.567Z"
   },
   {
    "duration": 48,
    "start_time": "2024-12-22T18:01:31.074Z"
   },
   {
    "duration": 51,
    "start_time": "2024-12-22T18:03:29.271Z"
   },
   {
    "duration": 1522,
    "start_time": "2024-12-22T18:06:27.972Z"
   },
   {
    "duration": 39,
    "start_time": "2024-12-22T18:06:35.822Z"
   },
   {
    "duration": 34,
    "start_time": "2024-12-22T18:06:43.206Z"
   },
   {
    "duration": 38,
    "start_time": "2024-12-22T18:06:51.054Z"
   },
   {
    "duration": 50,
    "start_time": "2024-12-22T18:06:54.854Z"
   },
   {
    "duration": 39,
    "start_time": "2024-12-22T18:07:16.572Z"
   },
   {
    "duration": 37,
    "start_time": "2024-12-22T18:07:44.189Z"
   },
   {
    "duration": 43,
    "start_time": "2024-12-22T18:07:48.472Z"
   },
   {
    "duration": 45,
    "start_time": "2024-12-22T18:09:04.209Z"
   },
   {
    "duration": 14,
    "start_time": "2024-12-22T18:13:14.572Z"
   },
   {
    "duration": 3060,
    "start_time": "2024-12-22T18:23:39.432Z"
   },
   {
    "duration": 2430,
    "start_time": "2024-12-22T18:23:42.494Z"
   },
   {
    "duration": 2493,
    "start_time": "2024-12-22T18:23:44.925Z"
   },
   {
    "duration": 1953,
    "start_time": "2024-12-22T18:23:47.420Z"
   },
   {
    "duration": 2977,
    "start_time": "2024-12-22T18:23:49.375Z"
   },
   {
    "duration": 167,
    "start_time": "2024-12-22T18:23:52.354Z"
   },
   {
    "duration": 148,
    "start_time": "2024-12-22T18:23:52.522Z"
   },
   {
    "duration": 1384,
    "start_time": "2024-12-22T18:23:52.672Z"
   },
   {
    "duration": 186,
    "start_time": "2024-12-22T18:23:54.058Z"
   },
   {
    "duration": 17,
    "start_time": "2024-12-22T18:23:54.245Z"
   },
   {
    "duration": 163,
    "start_time": "2024-12-22T18:23:54.264Z"
   },
   {
    "duration": 52,
    "start_time": "2024-12-22T18:23:54.429Z"
   },
   {
    "duration": 14,
    "start_time": "2024-12-22T18:23:54.483Z"
   },
   {
    "duration": 1663,
    "start_time": "2024-12-22T18:23:54.499Z"
   },
   {
    "duration": 7233,
    "start_time": "2024-12-22T18:27:47.307Z"
   },
   {
    "duration": 46,
    "start_time": "2024-12-22T18:34:50.444Z"
   },
   {
    "duration": 1687,
    "start_time": "2024-12-22T18:35:15.022Z"
   },
   {
    "duration": 36,
    "start_time": "2024-12-22T18:35:29.083Z"
   },
   {
    "duration": 13,
    "start_time": "2024-12-22T18:39:04.157Z"
   },
   {
    "duration": 50,
    "start_time": "2024-12-22T18:39:23.056Z"
   },
   {
    "duration": 37,
    "start_time": "2024-12-22T18:39:29.965Z"
   },
   {
    "duration": 181,
    "start_time": "2024-12-22T18:45:22.468Z"
   },
   {
    "duration": 162,
    "start_time": "2024-12-22T18:46:06.045Z"
   },
   {
    "duration": 135,
    "start_time": "2024-12-22T18:46:23.742Z"
   },
   {
    "duration": 191,
    "start_time": "2024-12-22T18:46:26.741Z"
   },
   {
    "duration": 10,
    "start_time": "2024-12-22T18:46:53.046Z"
   },
   {
    "duration": 3152,
    "start_time": "2024-12-22T18:48:04.386Z"
   },
   {
    "duration": 2899,
    "start_time": "2024-12-22T18:49:15.966Z"
   },
   {
    "duration": 2902,
    "start_time": "2024-12-22T18:50:25.071Z"
   },
   {
    "duration": 2775,
    "start_time": "2024-12-22T18:50:59.616Z"
   },
   {
    "duration": 14,
    "start_time": "2024-12-22T18:51:12.941Z"
   },
   {
    "duration": 23,
    "start_time": "2024-12-22T18:51:32.524Z"
   },
   {
    "duration": 22,
    "start_time": "2024-12-22T18:51:47.624Z"
   },
   {
    "duration": 14,
    "start_time": "2024-12-22T18:51:53.830Z"
   },
   {
    "duration": 11,
    "start_time": "2024-12-22T18:52:44.405Z"
   },
   {
    "duration": 7,
    "start_time": "2024-12-22T18:52:56.859Z"
   },
   {
    "duration": 16,
    "start_time": "2024-12-22T18:54:38.341Z"
   },
   {
    "duration": 17,
    "start_time": "2024-12-22T18:54:48.153Z"
   },
   {
    "duration": 15,
    "start_time": "2024-12-22T18:56:44.780Z"
   },
   {
    "duration": 2889,
    "start_time": "2024-12-22T18:58:05.710Z"
   },
   {
    "duration": 14,
    "start_time": "2024-12-22T18:58:10.702Z"
   },
   {
    "duration": 2753,
    "start_time": "2024-12-22T18:58:24.830Z"
   },
   {
    "duration": 16,
    "start_time": "2024-12-22T18:58:28.590Z"
   },
   {
    "duration": 5,
    "start_time": "2024-12-22T18:58:35.549Z"
   },
   {
    "duration": 16,
    "start_time": "2024-12-22T18:59:33.750Z"
   },
   {
    "duration": 17,
    "start_time": "2024-12-22T19:01:03.108Z"
   },
   {
    "duration": 495,
    "start_time": "2024-12-22T19:02:54.925Z"
   },
   {
    "duration": 14,
    "start_time": "2024-12-22T19:02:57.250Z"
   },
   {
    "duration": 16,
    "start_time": "2024-12-22T19:03:00.928Z"
   },
   {
    "duration": 14,
    "start_time": "2024-12-22T19:03:37.592Z"
   },
   {
    "duration": 5,
    "start_time": "2024-12-22T19:04:17.804Z"
   },
   {
    "duration": 15,
    "start_time": "2024-12-22T19:04:22.553Z"
   },
   {
    "duration": 16,
    "start_time": "2024-12-22T19:04:47.842Z"
   },
   {
    "duration": 35,
    "start_time": "2024-12-22T19:04:50.655Z"
   },
   {
    "duration": 12,
    "start_time": "2024-12-22T19:04:52.732Z"
   },
   {
    "duration": 510,
    "start_time": "2024-12-22T19:05:02.623Z"
   },
   {
    "duration": 10,
    "start_time": "2024-12-22T19:05:24.172Z"
   },
   {
    "duration": 565,
    "start_time": "2024-12-22T19:05:33.425Z"
   },
   {
    "duration": 14,
    "start_time": "2024-12-22T19:05:43.673Z"
   },
   {
    "duration": 499,
    "start_time": "2024-12-22T19:07:20.091Z"
   },
   {
    "duration": 64,
    "start_time": "2024-12-22T19:18:21.331Z"
   },
   {
    "duration": 33,
    "start_time": "2024-12-22T19:18:30.013Z"
   },
   {
    "duration": 28,
    "start_time": "2024-12-22T19:18:32.482Z"
   },
   {
    "duration": 49,
    "start_time": "2024-12-22T19:18:43.597Z"
   },
   {
    "duration": 16,
    "start_time": "2024-12-22T19:19:00.075Z"
   },
   {
    "duration": 43,
    "start_time": "2024-12-22T19:19:30.869Z"
   },
   {
    "duration": 78,
    "start_time": "2024-12-22T19:20:29.991Z"
   },
   {
    "duration": 41,
    "start_time": "2024-12-22T19:20:39.629Z"
   },
   {
    "duration": 76,
    "start_time": "2024-12-22T19:20:45.151Z"
   },
   {
    "duration": 69,
    "start_time": "2024-12-22T19:22:23.547Z"
   },
   {
    "duration": 71,
    "start_time": "2024-12-22T19:22:38.860Z"
   },
   {
    "duration": 139,
    "start_time": "2024-12-22T19:24:29.653Z"
   },
   {
    "duration": 162,
    "start_time": "2024-12-22T19:24:47.935Z"
   },
   {
    "duration": 81,
    "start_time": "2024-12-22T19:25:58.465Z"
   },
   {
    "duration": 143,
    "start_time": "2024-12-22T19:26:10.882Z"
   },
   {
    "duration": 67,
    "start_time": "2024-12-22T19:26:36.544Z"
   },
   {
    "duration": 161,
    "start_time": "2024-12-22T19:26:46.624Z"
   },
   {
    "duration": 48,
    "start_time": "2024-12-22T19:29:15.584Z"
   },
   {
    "duration": 3128,
    "start_time": "2024-12-22T19:29:21.304Z"
   },
   {
    "duration": 2449,
    "start_time": "2024-12-22T19:29:24.434Z"
   },
   {
    "duration": 2443,
    "start_time": "2024-12-22T19:29:26.885Z"
   },
   {
    "duration": 2015,
    "start_time": "2024-12-22T19:29:29.330Z"
   },
   {
    "duration": 2993,
    "start_time": "2024-12-22T19:29:31.347Z"
   },
   {
    "duration": 147,
    "start_time": "2024-12-22T19:29:34.342Z"
   },
   {
    "duration": 154,
    "start_time": "2024-12-22T19:29:34.490Z"
   },
   {
    "duration": 1317,
    "start_time": "2024-12-22T19:29:34.646Z"
   },
   {
    "duration": 184,
    "start_time": "2024-12-22T19:29:35.964Z"
   },
   {
    "duration": 17,
    "start_time": "2024-12-22T19:29:36.150Z"
   },
   {
    "duration": 161,
    "start_time": "2024-12-22T19:29:36.168Z"
   },
   {
    "duration": 71,
    "start_time": "2024-12-22T19:29:36.331Z"
   },
   {
    "duration": 582,
    "start_time": "2024-12-22T19:29:36.404Z"
   },
   {
    "duration": 87,
    "start_time": "2024-12-22T19:29:36.988Z"
   },
   {
    "duration": 9,
    "start_time": "2024-12-22T19:29:37.076Z"
   },
   {
    "duration": 7083,
    "start_time": "2024-12-22T19:29:37.086Z"
   },
   {
    "duration": 134,
    "start_time": "2024-12-22T19:34:53.800Z"
   },
   {
    "duration": 177,
    "start_time": "2024-12-22T19:41:46.971Z"
   },
   {
    "duration": 141,
    "start_time": "2024-12-22T19:46:34.253Z"
   },
   {
    "duration": 91,
    "start_time": "2024-12-22T19:51:12.011Z"
   },
   {
    "duration": 70,
    "start_time": "2024-12-22T19:51:17.604Z"
   },
   {
    "duration": 79,
    "start_time": "2024-12-22T19:51:49.787Z"
   },
   {
    "duration": 133,
    "start_time": "2024-12-22T19:51:55.363Z"
   },
   {
    "duration": 68,
    "start_time": "2024-12-22T19:52:20.255Z"
   },
   {
    "duration": 68,
    "start_time": "2024-12-22T19:52:49.705Z"
   },
   {
    "duration": 87,
    "start_time": "2024-12-22T19:55:08.454Z"
   },
   {
    "duration": 87,
    "start_time": "2024-12-22T19:55:30.743Z"
   },
   {
    "duration": 153,
    "start_time": "2024-12-22T19:56:42.421Z"
   },
   {
    "duration": 108,
    "start_time": "2024-12-22T19:56:56.177Z"
   },
   {
    "duration": 101,
    "start_time": "2024-12-22T19:58:06.466Z"
   },
   {
    "duration": 138,
    "start_time": "2024-12-22T19:59:33.610Z"
   },
   {
    "duration": 189,
    "start_time": "2024-12-22T20:05:11.491Z"
   },
   {
    "duration": 412,
    "start_time": "2024-12-22T20:05:55.692Z"
   },
   {
    "duration": 563,
    "start_time": "2024-12-22T20:06:06.435Z"
   },
   {
    "duration": 376,
    "start_time": "2024-12-22T20:06:11.336Z"
   },
   {
    "duration": 8,
    "start_time": "2024-12-22T20:08:10.189Z"
   },
   {
    "duration": 123,
    "start_time": "2024-12-22T20:08:15.445Z"
   },
   {
    "duration": 97,
    "start_time": "2024-12-22T20:08:40.329Z"
   },
   {
    "duration": 64,
    "start_time": "2024-12-22T20:09:35.876Z"
   },
   {
    "duration": 17,
    "start_time": "2024-12-22T20:09:53.317Z"
   },
   {
    "duration": 8,
    "start_time": "2024-12-22T20:09:57.534Z"
   },
   {
    "duration": 61,
    "start_time": "2024-12-22T20:10:05.836Z"
   },
   {
    "duration": 59,
    "start_time": "2024-12-22T20:10:08.737Z"
   },
   {
    "duration": 71,
    "start_time": "2024-12-22T20:10:43.746Z"
   },
   {
    "duration": 90,
    "start_time": "2024-12-22T20:12:02.187Z"
   },
   {
    "duration": 60,
    "start_time": "2024-12-22T20:12:22.766Z"
   },
   {
    "duration": 95,
    "start_time": "2024-12-22T20:12:28.366Z"
   },
   {
    "duration": 14,
    "start_time": "2024-12-22T20:16:52.127Z"
   },
   {
    "duration": 13,
    "start_time": "2024-12-22T20:17:08.827Z"
   },
   {
    "duration": 12,
    "start_time": "2024-12-22T20:17:13.761Z"
   },
   {
    "duration": 77,
    "start_time": "2024-12-22T20:17:36.933Z"
   },
   {
    "duration": 65,
    "start_time": "2024-12-22T20:21:13.908Z"
   },
   {
    "duration": 12561,
    "start_time": "2024-12-22T20:21:17.397Z"
   },
   {
    "duration": 9,
    "start_time": "2024-12-22T20:28:47.501Z"
   },
   {
    "duration": 127,
    "start_time": "2024-12-22T20:28:51.153Z"
   },
   {
    "duration": 35,
    "start_time": "2024-12-22T20:29:02.995Z"
   },
   {
    "duration": 35,
    "start_time": "2024-12-22T20:29:49.773Z"
   },
   {
    "duration": 38,
    "start_time": "2024-12-22T20:30:13.930Z"
   },
   {
    "duration": 21,
    "start_time": "2024-12-22T20:30:50.308Z"
   },
   {
    "duration": 67250,
    "start_time": "2024-12-22T20:31:21.375Z"
   },
   {
    "duration": 3009,
    "start_time": "2024-12-22T20:32:42.719Z"
   },
   {
    "duration": 2449,
    "start_time": "2024-12-22T20:32:45.730Z"
   },
   {
    "duration": 2505,
    "start_time": "2024-12-22T20:32:48.181Z"
   },
   {
    "duration": 1285,
    "start_time": "2024-12-22T20:32:50.688Z"
   },
   {
    "duration": 932,
    "start_time": "2024-12-22T20:32:51.975Z"
   },
   {
    "duration": 170,
    "start_time": "2024-12-22T20:32:52.909Z"
   },
   {
    "duration": 141,
    "start_time": "2024-12-22T20:32:53.080Z"
   },
   {
    "duration": 1422,
    "start_time": "2024-12-22T20:32:53.222Z"
   },
   {
    "duration": 186,
    "start_time": "2024-12-22T20:32:54.646Z"
   },
   {
    "duration": 16,
    "start_time": "2024-12-22T20:32:54.837Z"
   },
   {
    "duration": 157,
    "start_time": "2024-12-22T20:32:54.855Z"
   },
   {
    "duration": 75,
    "start_time": "2024-12-22T20:32:55.014Z"
   },
   {
    "duration": 547,
    "start_time": "2024-12-22T20:32:55.090Z"
   },
   {
    "duration": 63,
    "start_time": "2024-12-22T20:32:55.639Z"
   },
   {
    "duration": 146,
    "start_time": "2024-12-22T20:32:55.704Z"
   },
   {
    "duration": 75994,
    "start_time": "2024-12-22T20:32:55.852Z"
   },
   {
    "duration": 0,
    "start_time": "2024-12-22T20:34:11.848Z"
   },
   {
    "duration": 0,
    "start_time": "2024-12-22T20:34:11.849Z"
   },
   {
    "duration": 0,
    "start_time": "2024-12-22T20:34:11.850Z"
   },
   {
    "duration": 46179,
    "start_time": "2024-12-22T20:34:43.964Z"
   },
   {
    "duration": 97,
    "start_time": "2024-12-22T20:36:06.183Z"
   },
   {
    "duration": 45526,
    "start_time": "2024-12-22T20:36:15.217Z"
   },
   {
    "duration": 75,
    "start_time": "2024-12-22T20:38:57.423Z"
   },
   {
    "duration": 74,
    "start_time": "2024-12-22T20:39:28.774Z"
   },
   {
    "duration": 45,
    "start_time": "2024-12-22T20:40:01.734Z"
   },
   {
    "duration": 75,
    "start_time": "2024-12-22T20:40:07.155Z"
   },
   {
    "duration": 82,
    "start_time": "2024-12-22T20:41:06.883Z"
   },
   {
    "duration": 42,
    "start_time": "2024-12-22T20:41:19.488Z"
   },
   {
    "duration": 5042,
    "start_time": "2024-12-22T20:41:30.102Z"
   },
   {
    "duration": 95000,
    "start_time": "2024-12-22T20:41:37.746Z"
   },
   {
    "duration": 292,
    "start_time": "2024-12-22T20:43:14.063Z"
   },
   {
    "duration": 132,
    "start_time": "2024-12-22T20:43:17.973Z"
   },
   {
    "duration": 4,
    "start_time": "2024-12-22T20:43:37.653Z"
   },
   {
    "duration": 3095,
    "start_time": "2024-12-22T20:44:35.093Z"
   },
   {
    "duration": 2453,
    "start_time": "2024-12-22T20:44:38.191Z"
   },
   {
    "duration": 2426,
    "start_time": "2024-12-22T20:44:40.646Z"
   },
   {
    "duration": 1289,
    "start_time": "2024-12-22T20:44:43.074Z"
   },
   {
    "duration": 943,
    "start_time": "2024-12-22T20:44:44.366Z"
   },
   {
    "duration": 169,
    "start_time": "2024-12-22T20:44:45.311Z"
   },
   {
    "duration": 149,
    "start_time": "2024-12-22T20:44:45.482Z"
   },
   {
    "duration": 1283,
    "start_time": "2024-12-22T20:44:45.636Z"
   },
   {
    "duration": 176,
    "start_time": "2024-12-22T20:44:46.922Z"
   },
   {
    "duration": 17,
    "start_time": "2024-12-22T20:44:47.099Z"
   },
   {
    "duration": 157,
    "start_time": "2024-12-22T20:44:47.117Z"
   },
   {
    "duration": 82,
    "start_time": "2024-12-22T20:44:47.275Z"
   },
   {
    "duration": 539,
    "start_time": "2024-12-22T20:44:47.359Z"
   },
   {
    "duration": 68,
    "start_time": "2024-12-22T20:44:47.901Z"
   },
   {
    "duration": 129,
    "start_time": "2024-12-22T20:44:47.971Z"
   },
   {
    "duration": 439,
    "start_time": "2024-12-22T20:44:48.101Z"
   },
   {
    "duration": 139,
    "start_time": "2024-12-22T20:44:48.542Z"
   },
   {
    "duration": 14,
    "start_time": "2024-12-22T20:44:48.682Z"
   },
   {
    "duration": 6848,
    "start_time": "2024-12-22T20:44:48.698Z"
   },
   {
    "duration": 362,
    "start_time": "2024-12-22T20:48:07.119Z"
   },
   {
    "duration": 130,
    "start_time": "2024-12-22T20:48:11.181Z"
   },
   {
    "duration": 83,
    "start_time": "2024-12-22T20:48:36.444Z"
   },
   {
    "duration": 134,
    "start_time": "2024-12-22T20:50:15.389Z"
   },
   {
    "duration": 15295,
    "start_time": "2024-12-22T20:50:18.147Z"
   },
   {
    "duration": 133,
    "start_time": "2024-12-22T20:50:40.778Z"
   },
   {
    "duration": 1177,
    "start_time": "2024-12-22T21:10:22.966Z"
   },
   {
    "duration": 1218,
    "start_time": "2024-12-22T21:10:39.324Z"
   },
   {
    "duration": 203,
    "start_time": "2024-12-22T21:11:01.141Z"
   },
   {
    "duration": 3114,
    "start_time": "2024-12-22T21:16:00.767Z"
   },
   {
    "duration": 2446,
    "start_time": "2024-12-22T21:16:03.884Z"
   },
   {
    "duration": 2511,
    "start_time": "2024-12-22T21:16:06.332Z"
   },
   {
    "duration": 1323,
    "start_time": "2024-12-22T21:16:08.845Z"
   },
   {
    "duration": 909,
    "start_time": "2024-12-22T21:16:10.171Z"
   },
   {
    "duration": 145,
    "start_time": "2024-12-22T21:16:11.082Z"
   },
   {
    "duration": 131,
    "start_time": "2024-12-22T21:16:11.237Z"
   },
   {
    "duration": 1334,
    "start_time": "2024-12-22T21:16:11.370Z"
   },
   {
    "duration": 182,
    "start_time": "2024-12-22T21:16:12.706Z"
   },
   {
    "duration": 17,
    "start_time": "2024-12-22T21:16:12.890Z"
   },
   {
    "duration": 154,
    "start_time": "2024-12-22T21:16:12.909Z"
   },
   {
    "duration": 75,
    "start_time": "2024-12-22T21:16:13.065Z"
   },
   {
    "duration": 555,
    "start_time": "2024-12-22T21:16:13.142Z"
   },
   {
    "duration": 933,
    "start_time": "2024-12-22T21:16:48.382Z"
   },
   {
    "duration": 857,
    "start_time": "2024-12-22T21:31:24.245Z"
   },
   {
    "duration": 923,
    "start_time": "2024-12-22T21:32:58.174Z"
   },
   {
    "duration": 887,
    "start_time": "2024-12-22T21:33:44.813Z"
   },
   {
    "duration": 346,
    "start_time": "2024-12-22T21:33:48.154Z"
   },
   {
    "duration": 214,
    "start_time": "2024-12-22T21:36:24.773Z"
   },
   {
    "duration": 3012,
    "start_time": "2024-12-22T21:45:29.783Z"
   },
   {
    "duration": 2455,
    "start_time": "2024-12-22T21:45:32.798Z"
   },
   {
    "duration": 2433,
    "start_time": "2024-12-22T21:45:35.255Z"
   },
   {
    "duration": 1301,
    "start_time": "2024-12-22T21:45:37.691Z"
   },
   {
    "duration": 911,
    "start_time": "2024-12-22T21:45:38.994Z"
   },
   {
    "duration": 166,
    "start_time": "2024-12-22T21:45:39.907Z"
   },
   {
    "duration": 152,
    "start_time": "2024-12-22T21:45:40.075Z"
   },
   {
    "duration": 1339,
    "start_time": "2024-12-22T21:45:40.229Z"
   },
   {
    "duration": 190,
    "start_time": "2024-12-22T21:45:41.569Z"
   },
   {
    "duration": 17,
    "start_time": "2024-12-22T21:45:41.761Z"
   },
   {
    "duration": 149,
    "start_time": "2024-12-22T21:45:41.779Z"
   },
   {
    "duration": 72,
    "start_time": "2024-12-22T21:45:41.930Z"
   },
   {
    "duration": 543,
    "start_time": "2024-12-22T21:45:42.003Z"
   },
   {
    "duration": 1227,
    "start_time": "2024-12-22T21:45:42.548Z"
   },
   {
    "duration": 206,
    "start_time": "2024-12-22T21:45:43.776Z"
   },
   {
    "duration": 477,
    "start_time": "2024-12-22T21:45:43.983Z"
   },
   {
    "duration": 10,
    "start_time": "2024-12-22T21:45:44.462Z"
   },
   {
    "duration": 6727,
    "start_time": "2024-12-22T21:45:44.474Z"
   },
   {
    "duration": 538,
    "start_time": "2024-12-22T21:49:56.339Z"
   },
   {
    "duration": 3081,
    "start_time": "2024-12-22T21:50:21.140Z"
   },
   {
    "duration": 2425,
    "start_time": "2024-12-22T21:50:24.223Z"
   },
   {
    "duration": 2445,
    "start_time": "2024-12-22T21:50:26.650Z"
   },
   {
    "duration": 1256,
    "start_time": "2024-12-22T21:50:29.097Z"
   },
   {
    "duration": 914,
    "start_time": "2024-12-22T21:50:30.356Z"
   },
   {
    "duration": 172,
    "start_time": "2024-12-22T21:50:31.272Z"
   },
   {
    "duration": 149,
    "start_time": "2024-12-22T21:50:31.446Z"
   },
   {
    "duration": 1300,
    "start_time": "2024-12-22T21:50:31.597Z"
   },
   {
    "duration": 181,
    "start_time": "2024-12-22T21:50:32.899Z"
   },
   {
    "duration": 17,
    "start_time": "2024-12-22T21:50:33.082Z"
   },
   {
    "duration": 159,
    "start_time": "2024-12-22T21:50:33.101Z"
   },
   {
    "duration": 75,
    "start_time": "2024-12-22T21:50:33.262Z"
   },
   {
    "duration": 115,
    "start_time": "2024-12-22T21:50:33.339Z"
   },
   {
    "duration": 0,
    "start_time": "2024-12-22T21:50:33.455Z"
   },
   {
    "duration": 0,
    "start_time": "2024-12-22T21:50:33.456Z"
   },
   {
    "duration": 0,
    "start_time": "2024-12-22T21:50:33.457Z"
   },
   {
    "duration": 0,
    "start_time": "2024-12-22T21:50:33.458Z"
   },
   {
    "duration": 0,
    "start_time": "2024-12-22T21:50:33.460Z"
   },
   {
    "duration": 0,
    "start_time": "2024-12-22T21:50:33.460Z"
   },
   {
    "duration": 0,
    "start_time": "2024-12-22T21:50:33.462Z"
   },
   {
    "duration": 454,
    "start_time": "2024-12-22T21:52:32.136Z"
   },
   {
    "duration": 539,
    "start_time": "2024-12-22T21:52:48.644Z"
   },
   {
    "duration": 1205,
    "start_time": "2024-12-22T21:52:52.399Z"
   },
   {
    "duration": 200,
    "start_time": "2024-12-22T21:53:43.762Z"
   },
   {
    "duration": 482,
    "start_time": "2024-12-22T21:53:46.324Z"
   },
   {
    "duration": 552,
    "start_time": "2024-12-22T21:53:48.444Z"
   },
   {
    "duration": 494,
    "start_time": "2024-12-22T21:53:51.112Z"
   },
   {
    "duration": 539,
    "start_time": "2024-12-22T21:54:26.045Z"
   },
   {
    "duration": 491,
    "start_time": "2024-12-22T21:54:31.093Z"
   },
   {
    "duration": 1037,
    "start_time": "2024-12-22T22:01:57.066Z"
   },
   {
    "duration": 8,
    "start_time": "2024-12-22T22:02:40.090Z"
   },
   {
    "duration": 2,
    "start_time": "2024-12-22T22:02:42.353Z"
   },
   {
    "duration": 882,
    "start_time": "2024-12-22T22:02:43.338Z"
   },
   {
    "duration": 864,
    "start_time": "2024-12-22T22:04:07.073Z"
   },
   {
    "duration": 1052,
    "start_time": "2024-12-22T22:04:19.253Z"
   },
   {
    "duration": 838,
    "start_time": "2024-12-22T22:04:23.792Z"
   },
   {
    "duration": 655,
    "start_time": "2024-12-22T22:04:31.822Z"
   },
   {
    "duration": 917,
    "start_time": "2024-12-22T22:04:39.022Z"
   },
   {
    "duration": 809,
    "start_time": "2024-12-22T22:05:38.530Z"
   },
   {
    "duration": 17,
    "start_time": "2024-12-22T22:09:19.233Z"
   },
   {
    "duration": 25,
    "start_time": "2024-12-22T22:09:53.350Z"
   },
   {
    "duration": 10,
    "start_time": "2024-12-22T22:10:29.106Z"
   },
   {
    "duration": 25,
    "start_time": "2024-12-22T22:10:59.005Z"
   },
   {
    "duration": 26,
    "start_time": "2024-12-22T22:11:02.930Z"
   },
   {
    "duration": 27,
    "start_time": "2024-12-22T22:11:05.702Z"
   },
   {
    "duration": 128,
    "start_time": "2024-12-22T22:11:27.654Z"
   },
   {
    "duration": 137,
    "start_time": "2024-12-22T22:11:39.766Z"
   },
   {
    "duration": 144,
    "start_time": "2024-12-22T22:12:21.609Z"
   },
   {
    "duration": 129,
    "start_time": "2024-12-22T22:13:33.161Z"
   },
   {
    "duration": 15,
    "start_time": "2024-12-22T22:14:32.159Z"
   },
   {
    "duration": 136,
    "start_time": "2024-12-22T22:14:44.460Z"
   },
   {
    "duration": 23,
    "start_time": "2024-12-22T22:17:45.871Z"
   },
   {
    "duration": 23,
    "start_time": "2024-12-22T22:17:52.396Z"
   },
   {
    "duration": 22,
    "start_time": "2024-12-22T22:18:09.274Z"
   },
   {
    "duration": 22,
    "start_time": "2024-12-22T22:21:42.755Z"
   },
   {
    "duration": 21,
    "start_time": "2024-12-22T22:21:47.860Z"
   },
   {
    "duration": 3,
    "start_time": "2024-12-22T22:22:27.794Z"
   },
   {
    "duration": 22,
    "start_time": "2024-12-22T22:22:33.389Z"
   },
   {
    "duration": 21,
    "start_time": "2024-12-22T22:22:38.987Z"
   },
   {
    "duration": 17,
    "start_time": "2024-12-22T22:22:52.477Z"
   },
   {
    "duration": 22,
    "start_time": "2024-12-22T22:25:09.551Z"
   },
   {
    "duration": 4,
    "start_time": "2024-12-22T22:25:23.818Z"
   },
   {
    "duration": 22,
    "start_time": "2024-12-22T22:25:32.586Z"
   },
   {
    "duration": 22,
    "start_time": "2024-12-22T22:25:35.858Z"
   },
   {
    "duration": 23,
    "start_time": "2024-12-22T22:25:46.337Z"
   },
   {
    "duration": 17,
    "start_time": "2024-12-22T22:26:09.782Z"
   },
   {
    "duration": 22,
    "start_time": "2024-12-22T22:26:15.315Z"
   },
   {
    "duration": 24,
    "start_time": "2024-12-22T22:29:59.110Z"
   },
   {
    "duration": 249,
    "start_time": "2024-12-22T22:32:10.565Z"
   },
   {
    "duration": 27,
    "start_time": "2024-12-22T22:32:26.827Z"
   },
   {
    "duration": 23,
    "start_time": "2024-12-22T22:37:54.661Z"
   },
   {
    "duration": 71,
    "start_time": "2024-12-22T22:38:34.893Z"
   },
   {
    "duration": 16,
    "start_time": "2024-12-22T22:38:44.908Z"
   },
   {
    "duration": 113,
    "start_time": "2024-12-22T22:39:05.981Z"
   },
   {
    "duration": 22,
    "start_time": "2024-12-22T22:39:25.662Z"
   },
   {
    "duration": 12,
    "start_time": "2024-12-22T22:39:47.381Z"
   },
   {
    "duration": 110,
    "start_time": "2024-12-22T22:41:22.846Z"
   },
   {
    "duration": 209,
    "start_time": "2024-12-22T22:41:33.664Z"
   },
   {
    "duration": 13,
    "start_time": "2024-12-22T22:43:18.079Z"
   },
   {
    "duration": 65,
    "start_time": "2024-12-22T22:44:44.790Z"
   },
   {
    "duration": 3087,
    "start_time": "2024-12-22T22:44:59.123Z"
   },
   {
    "duration": 2519,
    "start_time": "2024-12-22T22:45:02.213Z"
   },
   {
    "duration": 2457,
    "start_time": "2024-12-22T22:45:04.734Z"
   },
   {
    "duration": 1317,
    "start_time": "2024-12-22T22:45:07.192Z"
   },
   {
    "duration": 921,
    "start_time": "2024-12-22T22:45:08.511Z"
   },
   {
    "duration": 164,
    "start_time": "2024-12-22T22:45:09.436Z"
   },
   {
    "duration": 148,
    "start_time": "2024-12-22T22:45:09.602Z"
   },
   {
    "duration": 1375,
    "start_time": "2024-12-22T22:45:09.751Z"
   },
   {
    "duration": 179,
    "start_time": "2024-12-22T22:45:11.128Z"
   },
   {
    "duration": 15,
    "start_time": "2024-12-22T22:45:11.309Z"
   },
   {
    "duration": 158,
    "start_time": "2024-12-22T22:45:11.326Z"
   },
   {
    "duration": 76,
    "start_time": "2024-12-22T22:45:11.486Z"
   },
   {
    "duration": 451,
    "start_time": "2024-12-22T22:45:11.564Z"
   },
   {
    "duration": 533,
    "start_time": "2024-12-22T22:45:12.018Z"
   },
   {
    "duration": 1227,
    "start_time": "2024-12-22T22:45:12.553Z"
   },
   {
    "duration": 204,
    "start_time": "2024-12-22T22:45:13.782Z"
   },
   {
    "duration": 475,
    "start_time": "2024-12-22T22:45:13.988Z"
   },
   {
    "duration": 558,
    "start_time": "2024-12-22T22:45:14.465Z"
   },
   {
    "duration": 585,
    "start_time": "2024-12-22T22:45:15.025Z"
   },
   {
    "duration": 521,
    "start_time": "2024-12-22T22:45:15.612Z"
   },
   {
    "duration": 3,
    "start_time": "2024-12-22T22:45:16.137Z"
   },
   {
    "duration": 956,
    "start_time": "2024-12-22T22:45:16.142Z"
   },
   {
    "duration": 16,
    "start_time": "2024-12-22T22:45:17.099Z"
   },
   {
    "duration": 131,
    "start_time": "2024-12-22T22:45:17.116Z"
   },
   {
    "duration": 147,
    "start_time": "2024-12-22T22:45:17.248Z"
   },
   {
    "duration": 23,
    "start_time": "2024-12-22T22:45:17.397Z"
   },
   {
    "duration": 88,
    "start_time": "2024-12-22T22:45:17.422Z"
   },
   {
    "duration": 26,
    "start_time": "2024-12-22T22:45:17.512Z"
   },
   {
    "duration": 140,
    "start_time": "2024-12-22T22:45:17.539Z"
   },
   {
    "duration": 13,
    "start_time": "2024-12-22T22:45:17.680Z"
   },
   {
    "duration": 78,
    "start_time": "2024-12-22T22:45:17.695Z"
   },
   {
    "duration": 9,
    "start_time": "2024-12-22T22:45:17.774Z"
   },
   {
    "duration": 298,
    "start_time": "2024-12-22T22:45:17.784Z"
   },
   {
    "duration": 18,
    "start_time": "2024-12-22T22:50:26.822Z"
   },
   {
    "duration": 10,
    "start_time": "2024-12-22T22:51:29.327Z"
   },
   {
    "duration": 121,
    "start_time": "2024-12-22T22:51:35.291Z"
   },
   {
    "duration": 13,
    "start_time": "2024-12-22T22:54:06.598Z"
   },
   {
    "duration": 49,
    "start_time": "2024-12-22T22:54:14.702Z"
   },
   {
    "duration": 42,
    "start_time": "2024-12-22T22:54:17.200Z"
   },
   {
    "duration": 106,
    "start_time": "2024-12-22T22:54:26.718Z"
   },
   {
    "duration": 102,
    "start_time": "2024-12-22T22:54:32.170Z"
   },
   {
    "duration": 97,
    "start_time": "2024-12-22T22:54:34.633Z"
   },
   {
    "duration": 46,
    "start_time": "2024-12-22T22:54:41.082Z"
   },
   {
    "duration": 44,
    "start_time": "2024-12-22T22:54:45.739Z"
   },
   {
    "duration": 24,
    "start_time": "2024-12-22T22:55:07.386Z"
   },
   {
    "duration": 77,
    "start_time": "2024-12-22T22:55:24.443Z"
   },
   {
    "duration": 2995,
    "start_time": "2024-12-22T22:55:39.055Z"
   },
   {
    "duration": 2435,
    "start_time": "2024-12-22T22:55:42.052Z"
   },
   {
    "duration": 2404,
    "start_time": "2024-12-22T22:55:44.490Z"
   },
   {
    "duration": 1290,
    "start_time": "2024-12-22T22:55:46.897Z"
   },
   {
    "duration": 912,
    "start_time": "2024-12-22T22:55:48.189Z"
   },
   {
    "duration": 157,
    "start_time": "2024-12-22T22:55:49.103Z"
   },
   {
    "duration": 144,
    "start_time": "2024-12-22T22:55:49.262Z"
   },
   {
    "duration": 1323,
    "start_time": "2024-12-22T22:55:49.407Z"
   },
   {
    "duration": 189,
    "start_time": "2024-12-22T22:55:50.731Z"
   },
   {
    "duration": 26,
    "start_time": "2024-12-22T22:55:50.922Z"
   },
   {
    "duration": 147,
    "start_time": "2024-12-22T22:55:50.950Z"
   },
   {
    "duration": 77,
    "start_time": "2024-12-22T22:55:51.099Z"
   },
   {
    "duration": 442,
    "start_time": "2024-12-22T22:55:51.178Z"
   },
   {
    "duration": 537,
    "start_time": "2024-12-22T22:55:51.624Z"
   },
   {
    "duration": 1230,
    "start_time": "2024-12-22T22:55:52.163Z"
   },
   {
    "duration": 201,
    "start_time": "2024-12-22T22:55:53.394Z"
   },
   {
    "duration": 495,
    "start_time": "2024-12-22T22:55:53.597Z"
   },
   {
    "duration": 537,
    "start_time": "2024-12-22T22:55:54.093Z"
   },
   {
    "duration": 575,
    "start_time": "2024-12-22T22:55:54.632Z"
   },
   {
    "duration": 502,
    "start_time": "2024-12-22T22:55:55.209Z"
   },
   {
    "duration": 3,
    "start_time": "2024-12-22T22:55:55.712Z"
   },
   {
    "duration": 923,
    "start_time": "2024-12-22T22:55:55.716Z"
   },
   {
    "duration": 15,
    "start_time": "2024-12-22T22:55:56.641Z"
   },
   {
    "duration": 135,
    "start_time": "2024-12-22T22:55:56.658Z"
   },
   {
    "duration": 156,
    "start_time": "2024-12-22T22:55:56.795Z"
   },
   {
    "duration": 51,
    "start_time": "2024-12-22T22:55:56.952Z"
   },
   {
    "duration": 0,
    "start_time": "2024-12-22T22:55:57.005Z"
   },
   {
    "duration": 0,
    "start_time": "2024-12-22T22:55:57.006Z"
   },
   {
    "duration": 0,
    "start_time": "2024-12-22T22:55:57.007Z"
   },
   {
    "duration": 0,
    "start_time": "2024-12-22T22:55:57.008Z"
   },
   {
    "duration": 0,
    "start_time": "2024-12-22T22:55:57.009Z"
   },
   {
    "duration": 0,
    "start_time": "2024-12-22T22:55:57.010Z"
   },
   {
    "duration": 0,
    "start_time": "2024-12-22T22:55:57.011Z"
   },
   {
    "duration": 0,
    "start_time": "2024-12-22T22:55:57.012Z"
   },
   {
    "duration": 0,
    "start_time": "2024-12-22T22:55:57.013Z"
   },
   {
    "duration": 53,
    "start_time": "2024-12-22T22:56:26.891Z"
   },
   {
    "duration": 89,
    "start_time": "2024-12-22T22:58:12.232Z"
   },
   {
    "duration": 60,
    "start_time": "2024-12-22T22:58:15.864Z"
   },
   {
    "duration": 16,
    "start_time": "2024-12-22T22:58:18.745Z"
   },
   {
    "duration": 1432,
    "start_time": "2024-12-22T22:58:26.218Z"
   },
   {
    "duration": 83,
    "start_time": "2024-12-22T22:59:08.155Z"
   },
   {
    "duration": 34,
    "start_time": "2024-12-22T22:59:09.294Z"
   },
   {
    "duration": 1281,
    "start_time": "2024-12-22T22:59:10.824Z"
   },
   {
    "duration": 3032,
    "start_time": "2024-12-22T22:59:35.551Z"
   },
   {
    "duration": 2377,
    "start_time": "2024-12-22T22:59:38.585Z"
   },
   {
    "duration": 2380,
    "start_time": "2024-12-22T22:59:40.964Z"
   },
   {
    "duration": 1320,
    "start_time": "2024-12-22T22:59:43.345Z"
   },
   {
    "duration": 905,
    "start_time": "2024-12-22T22:59:44.667Z"
   },
   {
    "duration": 150,
    "start_time": "2024-12-22T22:59:45.574Z"
   },
   {
    "duration": 135,
    "start_time": "2024-12-22T22:59:45.726Z"
   },
   {
    "duration": 1377,
    "start_time": "2024-12-22T22:59:45.863Z"
   },
   {
    "duration": 178,
    "start_time": "2024-12-22T22:59:47.242Z"
   },
   {
    "duration": 25,
    "start_time": "2024-12-22T22:59:47.422Z"
   },
   {
    "duration": 142,
    "start_time": "2024-12-22T22:59:47.448Z"
   },
   {
    "duration": 74,
    "start_time": "2024-12-22T22:59:47.592Z"
   },
   {
    "duration": 441,
    "start_time": "2024-12-22T22:59:47.668Z"
   },
   {
    "duration": 549,
    "start_time": "2024-12-22T22:59:48.111Z"
   },
   {
    "duration": 1228,
    "start_time": "2024-12-22T22:59:48.662Z"
   },
   {
    "duration": 203,
    "start_time": "2024-12-22T22:59:49.892Z"
   },
   {
    "duration": 483,
    "start_time": "2024-12-22T22:59:50.097Z"
   },
   {
    "duration": 568,
    "start_time": "2024-12-22T22:59:50.581Z"
   },
   {
    "duration": 562,
    "start_time": "2024-12-22T22:59:51.151Z"
   },
   {
    "duration": 493,
    "start_time": "2024-12-22T22:59:51.715Z"
   },
   {
    "duration": 3,
    "start_time": "2024-12-22T22:59:52.210Z"
   },
   {
    "duration": 931,
    "start_time": "2024-12-22T22:59:52.215Z"
   },
   {
    "duration": 17,
    "start_time": "2024-12-22T22:59:53.148Z"
   },
   {
    "duration": 140,
    "start_time": "2024-12-22T22:59:53.167Z"
   },
   {
    "duration": 142,
    "start_time": "2024-12-22T22:59:53.309Z"
   },
   {
    "duration": 45,
    "start_time": "2024-12-22T22:59:53.453Z"
   },
   {
    "duration": 93,
    "start_time": "2024-12-22T22:59:53.500Z"
   },
   {
    "duration": 15,
    "start_time": "2024-12-22T22:59:53.595Z"
   },
   {
    "duration": 1481,
    "start_time": "2024-12-22T22:59:53.612Z"
   },
   {
    "duration": 0,
    "start_time": "2024-12-22T22:59:55.095Z"
   },
   {
    "duration": 0,
    "start_time": "2024-12-22T22:59:55.097Z"
   },
   {
    "duration": 0,
    "start_time": "2024-12-22T22:59:55.099Z"
   },
   {
    "duration": 0,
    "start_time": "2024-12-22T22:59:55.100Z"
   },
   {
    "duration": 0,
    "start_time": "2024-12-22T22:59:55.102Z"
   },
   {
    "duration": 0,
    "start_time": "2024-12-22T22:59:55.103Z"
   },
   {
    "duration": 2962,
    "start_time": "2024-12-22T23:04:11.274Z"
   },
   {
    "duration": 2440,
    "start_time": "2024-12-22T23:04:14.238Z"
   },
   {
    "duration": 2397,
    "start_time": "2024-12-22T23:04:16.680Z"
   },
   {
    "duration": 1209,
    "start_time": "2024-12-22T23:04:19.079Z"
   },
   {
    "duration": 899,
    "start_time": "2024-12-22T23:04:20.290Z"
   },
   {
    "duration": 156,
    "start_time": "2024-12-22T23:04:21.190Z"
   },
   {
    "duration": 133,
    "start_time": "2024-12-22T23:04:21.348Z"
   },
   {
    "duration": 1341,
    "start_time": "2024-12-22T23:04:21.483Z"
   },
   {
    "duration": 179,
    "start_time": "2024-12-22T23:04:22.826Z"
   },
   {
    "duration": 16,
    "start_time": "2024-12-22T23:04:23.007Z"
   },
   {
    "duration": 154,
    "start_time": "2024-12-22T23:04:23.025Z"
   },
   {
    "duration": 75,
    "start_time": "2024-12-22T23:04:23.180Z"
   },
   {
    "duration": 426,
    "start_time": "2024-12-22T23:04:23.256Z"
   },
   {
    "duration": 506,
    "start_time": "2024-12-22T23:04:23.685Z"
   },
   {
    "duration": 1210,
    "start_time": "2024-12-22T23:04:24.192Z"
   },
   {
    "duration": 208,
    "start_time": "2024-12-22T23:04:25.403Z"
   },
   {
    "duration": 460,
    "start_time": "2024-12-22T23:04:25.612Z"
   },
   {
    "duration": 546,
    "start_time": "2024-12-22T23:04:26.073Z"
   },
   {
    "duration": 592,
    "start_time": "2024-12-22T23:04:26.620Z"
   },
   {
    "duration": 524,
    "start_time": "2024-12-22T23:04:27.214Z"
   },
   {
    "duration": 3,
    "start_time": "2024-12-22T23:04:27.739Z"
   },
   {
    "duration": 924,
    "start_time": "2024-12-22T23:04:27.743Z"
   },
   {
    "duration": 15,
    "start_time": "2024-12-22T23:04:28.669Z"
   },
   {
    "duration": 132,
    "start_time": "2024-12-22T23:04:28.685Z"
   },
   {
    "duration": 136,
    "start_time": "2024-12-22T23:04:28.819Z"
   },
   {
    "duration": 43,
    "start_time": "2024-12-22T23:04:28.956Z"
   },
   {
    "duration": 90,
    "start_time": "2024-12-22T23:04:29.000Z"
   },
   {
    "duration": 13,
    "start_time": "2024-12-22T23:04:29.092Z"
   },
   {
    "duration": 1736,
    "start_time": "2024-12-22T23:04:29.107Z"
   },
   {
    "duration": 0,
    "start_time": "2024-12-22T23:04:30.845Z"
   },
   {
    "duration": 0,
    "start_time": "2024-12-22T23:04:30.847Z"
   },
   {
    "duration": 0,
    "start_time": "2024-12-22T23:04:30.849Z"
   },
   {
    "duration": 0,
    "start_time": "2024-12-22T23:04:30.850Z"
   },
   {
    "duration": 0,
    "start_time": "2024-12-22T23:04:30.851Z"
   },
   {
    "duration": 0,
    "start_time": "2024-12-22T23:04:30.853Z"
   },
   {
    "duration": 1446,
    "start_time": "2024-12-22T23:05:57.987Z"
   },
   {
    "duration": 2988,
    "start_time": "2024-12-22T23:06:38.239Z"
   },
   {
    "duration": 2425,
    "start_time": "2024-12-22T23:06:41.230Z"
   },
   {
    "duration": 2410,
    "start_time": "2024-12-22T23:06:43.657Z"
   },
   {
    "duration": 1307,
    "start_time": "2024-12-22T23:06:46.069Z"
   },
   {
    "duration": 904,
    "start_time": "2024-12-22T23:06:47.379Z"
   },
   {
    "duration": 158,
    "start_time": "2024-12-22T23:06:48.285Z"
   },
   {
    "duration": 150,
    "start_time": "2024-12-22T23:06:48.446Z"
   },
   {
    "duration": 1334,
    "start_time": "2024-12-22T23:06:48.597Z"
   },
   {
    "duration": 183,
    "start_time": "2024-12-22T23:06:49.933Z"
   },
   {
    "duration": 25,
    "start_time": "2024-12-22T23:06:50.118Z"
   },
   {
    "duration": 148,
    "start_time": "2024-12-22T23:06:50.145Z"
   },
   {
    "duration": 82,
    "start_time": "2024-12-22T23:06:50.295Z"
   },
   {
    "duration": 459,
    "start_time": "2024-12-22T23:06:50.379Z"
   },
   {
    "duration": 518,
    "start_time": "2024-12-22T23:06:50.842Z"
   },
   {
    "duration": 1245,
    "start_time": "2024-12-22T23:06:51.361Z"
   },
   {
    "duration": 207,
    "start_time": "2024-12-22T23:06:52.607Z"
   },
   {
    "duration": 473,
    "start_time": "2024-12-22T23:06:52.816Z"
   },
   {
    "duration": 560,
    "start_time": "2024-12-22T23:06:53.290Z"
   },
   {
    "duration": 562,
    "start_time": "2024-12-22T23:06:53.852Z"
   },
   {
    "duration": 496,
    "start_time": "2024-12-22T23:06:54.415Z"
   },
   {
    "duration": 2,
    "start_time": "2024-12-22T23:06:54.913Z"
   },
   {
    "duration": 932,
    "start_time": "2024-12-22T23:06:54.916Z"
   },
   {
    "duration": 16,
    "start_time": "2024-12-22T23:06:55.849Z"
   },
   {
    "duration": 133,
    "start_time": "2024-12-22T23:06:55.866Z"
   },
   {
    "duration": 138,
    "start_time": "2024-12-22T23:06:56.001Z"
   },
   {
    "duration": 44,
    "start_time": "2024-12-22T23:06:56.141Z"
   },
   {
    "duration": 101,
    "start_time": "2024-12-22T23:06:56.186Z"
   },
   {
    "duration": 15,
    "start_time": "2024-12-22T23:06:56.288Z"
   },
   {
    "duration": 152,
    "start_time": "2024-12-22T23:06:56.305Z"
   },
   {
    "duration": 13,
    "start_time": "2024-12-22T23:06:56.459Z"
   },
   {
    "duration": 87,
    "start_time": "2024-12-22T23:06:56.474Z"
   },
   {
    "duration": 18,
    "start_time": "2024-12-22T23:06:56.563Z"
   },
   {
    "duration": 197,
    "start_time": "2024-12-22T23:06:56.583Z"
   },
   {
    "duration": 13,
    "start_time": "2024-12-22T23:06:56.782Z"
   },
   {
    "duration": 6603,
    "start_time": "2024-12-22T23:06:56.797Z"
   },
   {
    "duration": 48,
    "start_time": "2024-12-22T23:08:05.995Z"
   },
   {
    "duration": 16,
    "start_time": "2024-12-22T23:08:07.403Z"
   },
   {
    "duration": 1497,
    "start_time": "2024-12-22T23:08:08.869Z"
   },
   {
    "duration": 5,
    "start_time": "2024-12-22T23:08:45.301Z"
   },
   {
    "duration": 127,
    "start_time": "2024-12-22T23:09:32.489Z"
   },
   {
    "duration": 127,
    "start_time": "2024-12-22T23:10:07.414Z"
   },
   {
    "duration": 122,
    "start_time": "2024-12-22T23:10:39.989Z"
   },
   {
    "duration": 27,
    "start_time": "2024-12-22T23:11:18.653Z"
   },
   {
    "duration": 26,
    "start_time": "2024-12-22T23:12:31.595Z"
   },
   {
    "duration": 22,
    "start_time": "2024-12-22T23:13:14.585Z"
   },
   {
    "duration": 26,
    "start_time": "2024-12-22T23:13:23.009Z"
   },
   {
    "duration": 27,
    "start_time": "2024-12-22T23:13:46.209Z"
   },
   {
    "duration": 72,
    "start_time": "2024-12-22T23:15:59.048Z"
   },
   {
    "duration": 140,
    "start_time": "2024-12-22T23:16:13.952Z"
   },
   {
    "duration": 24,
    "start_time": "2024-12-22T23:16:49.141Z"
   },
   {
    "duration": 238,
    "start_time": "2024-12-22T23:19:18.861Z"
   },
   {
    "duration": 65,
    "start_time": "2024-12-22T23:19:23.976Z"
   },
   {
    "duration": 129,
    "start_time": "2024-12-22T23:19:25.267Z"
   },
   {
    "duration": 146,
    "start_time": "2024-12-22T23:20:11.215Z"
   },
   {
    "duration": 147,
    "start_time": "2024-12-22T23:23:24.974Z"
   },
   {
    "duration": 15,
    "start_time": "2024-12-22T23:23:52.117Z"
   },
   {
    "duration": 27,
    "start_time": "2024-12-22T23:24:12.334Z"
   },
   {
    "duration": 26,
    "start_time": "2024-12-22T23:24:21.714Z"
   },
   {
    "duration": 27,
    "start_time": "2024-12-22T23:24:26.648Z"
   },
   {
    "duration": 57,
    "start_time": "2024-12-22T23:26:23.830Z"
   },
   {
    "duration": 150,
    "start_time": "2024-12-22T23:26:38.004Z"
   },
   {
    "duration": 23,
    "start_time": "2024-12-22T23:26:50.497Z"
   },
   {
    "duration": 60,
    "start_time": "2024-12-22T23:26:56.461Z"
   },
   {
    "duration": 11,
    "start_time": "2024-12-22T23:27:01.900Z"
   },
   {
    "duration": 2970,
    "start_time": "2024-12-22T23:27:08.467Z"
   },
   {
    "duration": 2431,
    "start_time": "2024-12-22T23:27:11.439Z"
   },
   {
    "duration": 2462,
    "start_time": "2024-12-22T23:27:13.872Z"
   },
   {
    "duration": 1354,
    "start_time": "2024-12-22T23:27:16.336Z"
   },
   {
    "duration": 938,
    "start_time": "2024-12-22T23:27:17.692Z"
   },
   {
    "duration": 148,
    "start_time": "2024-12-22T23:27:18.632Z"
   },
   {
    "duration": 146,
    "start_time": "2024-12-22T23:27:18.782Z"
   },
   {
    "duration": 1417,
    "start_time": "2024-12-22T23:27:18.930Z"
   },
   {
    "duration": 188,
    "start_time": "2024-12-22T23:27:20.349Z"
   },
   {
    "duration": 17,
    "start_time": "2024-12-22T23:27:20.539Z"
   },
   {
    "duration": 154,
    "start_time": "2024-12-22T23:27:20.558Z"
   },
   {
    "duration": 76,
    "start_time": "2024-12-22T23:27:20.714Z"
   },
   {
    "duration": 447,
    "start_time": "2024-12-22T23:27:20.792Z"
   },
   {
    "duration": 523,
    "start_time": "2024-12-22T23:27:21.244Z"
   },
   {
    "duration": 1231,
    "start_time": "2024-12-22T23:27:21.769Z"
   },
   {
    "duration": 203,
    "start_time": "2024-12-22T23:27:23.002Z"
   },
   {
    "duration": 480,
    "start_time": "2024-12-22T23:27:23.207Z"
   },
   {
    "duration": 555,
    "start_time": "2024-12-22T23:27:23.690Z"
   },
   {
    "duration": 579,
    "start_time": "2024-12-22T23:27:24.247Z"
   },
   {
    "duration": 509,
    "start_time": "2024-12-22T23:27:24.828Z"
   },
   {
    "duration": 3,
    "start_time": "2024-12-22T23:27:25.338Z"
   },
   {
    "duration": 929,
    "start_time": "2024-12-22T23:27:25.342Z"
   },
   {
    "duration": 16,
    "start_time": "2024-12-22T23:27:26.273Z"
   },
   {
    "duration": 133,
    "start_time": "2024-12-22T23:27:26.291Z"
   },
   {
    "duration": 139,
    "start_time": "2024-12-22T23:27:26.426Z"
   },
   {
    "duration": 45,
    "start_time": "2024-12-22T23:27:26.566Z"
   },
   {
    "duration": 101,
    "start_time": "2024-12-22T23:27:26.612Z"
   },
   {
    "duration": 23,
    "start_time": "2024-12-22T23:27:26.715Z"
   },
   {
    "duration": 139,
    "start_time": "2024-12-22T23:27:26.741Z"
   },
   {
    "duration": 161,
    "start_time": "2024-12-22T23:27:26.882Z"
   },
   {
    "duration": 13,
    "start_time": "2024-12-22T23:27:27.045Z"
   },
   {
    "duration": 81,
    "start_time": "2024-12-22T23:27:27.060Z"
   },
   {
    "duration": 15,
    "start_time": "2024-12-22T23:27:27.143Z"
   },
   {
    "duration": 122,
    "start_time": "2024-12-22T23:27:27.160Z"
   },
   {
    "duration": 23,
    "start_time": "2024-12-22T23:27:27.284Z"
   },
   {
    "duration": 72,
    "start_time": "2024-12-22T23:27:27.309Z"
   },
   {
    "duration": 143,
    "start_time": "2024-12-22T23:27:27.383Z"
   },
   {
    "duration": 21,
    "start_time": "2024-12-22T23:27:27.528Z"
   },
   {
    "duration": 27,
    "start_time": "2024-12-22T23:27:27.551Z"
   },
   {
    "duration": 89,
    "start_time": "2024-12-22T23:27:27.580Z"
   },
   {
    "duration": 155,
    "start_time": "2024-12-22T23:27:27.673Z"
   },
   {
    "duration": 9,
    "start_time": "2024-12-22T23:27:27.830Z"
   },
   {
    "duration": 6125,
    "start_time": "2024-12-22T23:27:27.841Z"
   },
   {
    "duration": 5926,
    "start_time": "2024-12-22T23:28:11.826Z"
   },
   {
    "duration": 2988,
    "start_time": "2024-12-22T23:36:24.715Z"
   },
   {
    "duration": 2414,
    "start_time": "2024-12-22T23:36:27.705Z"
   },
   {
    "duration": 2428,
    "start_time": "2024-12-22T23:36:30.121Z"
   },
   {
    "duration": 1318,
    "start_time": "2024-12-22T23:36:32.551Z"
   },
   {
    "duration": 908,
    "start_time": "2024-12-22T23:36:33.871Z"
   },
   {
    "duration": 161,
    "start_time": "2024-12-22T23:36:34.781Z"
   },
   {
    "duration": 151,
    "start_time": "2024-12-22T23:36:34.944Z"
   },
   {
    "duration": 1299,
    "start_time": "2024-12-22T23:36:35.096Z"
   },
   {
    "duration": 189,
    "start_time": "2024-12-22T23:36:36.397Z"
   },
   {
    "duration": 18,
    "start_time": "2024-12-22T23:36:36.588Z"
   },
   {
    "duration": 159,
    "start_time": "2024-12-22T23:36:36.607Z"
   },
   {
    "duration": 91,
    "start_time": "2024-12-22T23:36:36.768Z"
   },
   {
    "duration": 470,
    "start_time": "2024-12-22T23:36:36.861Z"
   },
   {
    "duration": 542,
    "start_time": "2024-12-22T23:36:37.336Z"
   },
   {
    "duration": 1267,
    "start_time": "2024-12-22T23:36:37.880Z"
   },
   {
    "duration": 207,
    "start_time": "2024-12-22T23:36:39.148Z"
   },
   {
    "duration": 48,
    "start_time": "2024-12-22T23:36:39.357Z"
   },
   {
    "duration": 549,
    "start_time": "2024-12-22T23:36:39.407Z"
   },
   {
    "duration": 599,
    "start_time": "2024-12-22T23:36:39.958Z"
   },
   {
    "duration": 579,
    "start_time": "2024-12-22T23:36:40.559Z"
   },
   {
    "duration": 2,
    "start_time": "2024-12-22T23:36:41.139Z"
   },
   {
    "duration": 935,
    "start_time": "2024-12-22T23:36:41.143Z"
   },
   {
    "duration": 15,
    "start_time": "2024-12-22T23:36:42.080Z"
   },
   {
    "duration": 135,
    "start_time": "2024-12-22T23:36:42.097Z"
   },
   {
    "duration": 138,
    "start_time": "2024-12-22T23:36:42.234Z"
   },
   {
    "duration": 47,
    "start_time": "2024-12-22T23:36:42.374Z"
   },
   {
    "duration": 90,
    "start_time": "2024-12-22T23:36:42.423Z"
   },
   {
    "duration": 25,
    "start_time": "2024-12-22T23:36:42.514Z"
   },
   {
    "duration": 136,
    "start_time": "2024-12-22T23:36:42.541Z"
   },
   {
    "duration": 152,
    "start_time": "2024-12-22T23:36:42.679Z"
   },
   {
    "duration": 12,
    "start_time": "2024-12-22T23:36:42.837Z"
   },
   {
    "duration": 64,
    "start_time": "2024-12-22T23:36:42.851Z"
   },
   {
    "duration": 32,
    "start_time": "2024-12-22T23:36:42.916Z"
   },
   {
    "duration": 113,
    "start_time": "2024-12-22T23:36:42.949Z"
   },
   {
    "duration": 24,
    "start_time": "2024-12-22T23:36:43.063Z"
   },
   {
    "duration": 69,
    "start_time": "2024-12-22T23:36:43.089Z"
   },
   {
    "duration": 140,
    "start_time": "2024-12-22T23:36:43.159Z"
   },
   {
    "duration": 15,
    "start_time": "2024-12-22T23:36:43.300Z"
   },
   {
    "duration": 42,
    "start_time": "2024-12-22T23:36:43.317Z"
   },
   {
    "duration": 80,
    "start_time": "2024-12-22T23:36:43.361Z"
   },
   {
    "duration": 9,
    "start_time": "2024-12-22T23:36:43.444Z"
   },
   {
    "duration": 6337,
    "start_time": "2024-12-22T23:36:43.455Z"
   },
   {
    "duration": 194,
    "start_time": "2024-12-22T23:39:28.434Z"
   },
   {
    "duration": 35,
    "start_time": "2024-12-22T23:39:38.068Z"
   },
   {
    "duration": 182,
    "start_time": "2024-12-22T23:39:39.739Z"
   },
   {
    "duration": 405,
    "start_time": "2024-12-22T23:40:16.601Z"
   },
   {
    "duration": 3022,
    "start_time": "2024-12-22T23:40:23.177Z"
   },
   {
    "duration": 2493,
    "start_time": "2024-12-22T23:40:26.201Z"
   },
   {
    "duration": 2459,
    "start_time": "2024-12-22T23:40:28.696Z"
   },
   {
    "duration": 1324,
    "start_time": "2024-12-22T23:40:31.157Z"
   },
   {
    "duration": 925,
    "start_time": "2024-12-22T23:40:32.483Z"
   },
   {
    "duration": 147,
    "start_time": "2024-12-22T23:40:33.410Z"
   },
   {
    "duration": 146,
    "start_time": "2024-12-22T23:40:33.558Z"
   },
   {
    "duration": 1258,
    "start_time": "2024-12-22T23:40:33.706Z"
   },
   {
    "duration": 185,
    "start_time": "2024-12-22T23:40:34.966Z"
   },
   {
    "duration": 17,
    "start_time": "2024-12-22T23:40:35.153Z"
   },
   {
    "duration": 151,
    "start_time": "2024-12-22T23:40:35.171Z"
   },
   {
    "duration": 75,
    "start_time": "2024-12-22T23:40:35.324Z"
   },
   {
    "duration": 532,
    "start_time": "2024-12-22T23:40:35.401Z"
   },
   {
    "duration": 1242,
    "start_time": "2024-12-22T23:40:35.939Z"
   },
   {
    "duration": 205,
    "start_time": "2024-12-22T23:40:37.182Z"
   },
   {
    "duration": 428,
    "start_time": "2024-12-22T23:40:37.388Z"
   },
   {
    "duration": 486,
    "start_time": "2024-12-22T23:40:37.818Z"
   },
   {
    "duration": 475,
    "start_time": "2024-12-22T23:40:38.306Z"
   },
   {
    "duration": 410,
    "start_time": "2024-12-22T23:40:38.783Z"
   },
   {
    "duration": 2,
    "start_time": "2024-12-22T23:40:39.195Z"
   },
   {
    "duration": 884,
    "start_time": "2024-12-22T23:40:39.199Z"
   },
   {
    "duration": 13,
    "start_time": "2024-12-22T23:40:40.085Z"
   },
   {
    "duration": 112,
    "start_time": "2024-12-22T23:40:40.100Z"
   },
   {
    "duration": 1493,
    "start_time": "2024-12-22T23:40:40.213Z"
   },
   {
    "duration": 1,
    "start_time": "2024-12-22T23:40:41.708Z"
   },
   {
    "duration": 0,
    "start_time": "2024-12-22T23:40:41.710Z"
   },
   {
    "duration": 0,
    "start_time": "2024-12-22T23:40:41.711Z"
   },
   {
    "duration": 0,
    "start_time": "2024-12-22T23:40:41.712Z"
   },
   {
    "duration": 0,
    "start_time": "2024-12-22T23:40:41.713Z"
   },
   {
    "duration": 0,
    "start_time": "2024-12-22T23:40:41.714Z"
   },
   {
    "duration": 0,
    "start_time": "2024-12-22T23:40:41.716Z"
   },
   {
    "duration": 0,
    "start_time": "2024-12-22T23:40:41.717Z"
   },
   {
    "duration": 0,
    "start_time": "2024-12-22T23:40:41.718Z"
   },
   {
    "duration": 0,
    "start_time": "2024-12-22T23:40:41.719Z"
   },
   {
    "duration": 0,
    "start_time": "2024-12-22T23:40:41.720Z"
   },
   {
    "duration": 0,
    "start_time": "2024-12-22T23:40:41.721Z"
   },
   {
    "duration": 0,
    "start_time": "2024-12-22T23:40:41.723Z"
   },
   {
    "duration": 0,
    "start_time": "2024-12-22T23:40:41.724Z"
   },
   {
    "duration": 0,
    "start_time": "2024-12-22T23:40:41.725Z"
   },
   {
    "duration": 0,
    "start_time": "2024-12-22T23:40:41.726Z"
   },
   {
    "duration": 0,
    "start_time": "2024-12-22T23:40:41.727Z"
   },
   {
    "duration": 149,
    "start_time": "2024-12-22T23:41:00.865Z"
   },
   {
    "duration": 3136,
    "start_time": "2024-12-22T23:42:07.939Z"
   },
   {
    "duration": 2399,
    "start_time": "2024-12-22T23:42:11.078Z"
   },
   {
    "duration": 2475,
    "start_time": "2024-12-22T23:42:13.479Z"
   },
   {
    "duration": 1322,
    "start_time": "2024-12-22T23:42:15.956Z"
   },
   {
    "duration": 908,
    "start_time": "2024-12-22T23:42:17.280Z"
   },
   {
    "duration": 173,
    "start_time": "2024-12-22T23:42:18.189Z"
   },
   {
    "duration": 151,
    "start_time": "2024-12-22T23:42:18.364Z"
   },
   {
    "duration": 1316,
    "start_time": "2024-12-22T23:42:18.517Z"
   },
   {
    "duration": 179,
    "start_time": "2024-12-22T23:42:19.837Z"
   },
   {
    "duration": 22,
    "start_time": "2024-12-22T23:42:20.017Z"
   },
   {
    "duration": 157,
    "start_time": "2024-12-22T23:42:20.040Z"
   },
   {
    "duration": 75,
    "start_time": "2024-12-22T23:42:20.199Z"
   },
   {
    "duration": 523,
    "start_time": "2024-12-22T23:42:20.275Z"
   },
   {
    "duration": 1217,
    "start_time": "2024-12-22T23:42:20.801Z"
   },
   {
    "duration": 218,
    "start_time": "2024-12-22T23:42:22.020Z"
   },
   {
    "duration": 407,
    "start_time": "2024-12-22T23:42:22.239Z"
   },
   {
    "duration": 438,
    "start_time": "2024-12-22T23:42:22.648Z"
   },
   {
    "duration": 452,
    "start_time": "2024-12-22T23:42:23.088Z"
   },
   {
    "duration": 421,
    "start_time": "2024-12-22T23:42:23.541Z"
   },
   {
    "duration": 3,
    "start_time": "2024-12-22T23:42:23.963Z"
   },
   {
    "duration": 896,
    "start_time": "2024-12-22T23:42:23.967Z"
   },
   {
    "duration": 14,
    "start_time": "2024-12-22T23:42:24.864Z"
   },
   {
    "duration": 107,
    "start_time": "2024-12-22T23:42:24.880Z"
   },
   {
    "duration": 128,
    "start_time": "2024-12-22T23:42:24.988Z"
   },
   {
    "duration": 37,
    "start_time": "2024-12-22T23:42:25.118Z"
   },
   {
    "duration": 61,
    "start_time": "2024-12-22T23:42:25.156Z"
   },
   {
    "duration": 26,
    "start_time": "2024-12-22T23:42:25.218Z"
   },
   {
    "duration": 124,
    "start_time": "2024-12-22T23:42:25.245Z"
   },
   {
    "duration": 163,
    "start_time": "2024-12-22T23:42:25.371Z"
   },
   {
    "duration": 12,
    "start_time": "2024-12-22T23:42:25.537Z"
   },
   {
    "duration": 53,
    "start_time": "2024-12-22T23:42:25.550Z"
   },
   {
    "duration": 34,
    "start_time": "2024-12-22T23:42:25.605Z"
   },
   {
    "duration": 87,
    "start_time": "2024-12-22T23:42:25.640Z"
   },
   {
    "duration": 22,
    "start_time": "2024-12-22T23:42:25.738Z"
   },
   {
    "duration": 90,
    "start_time": "2024-12-22T23:42:25.762Z"
   },
   {
    "duration": 147,
    "start_time": "2024-12-22T23:42:25.854Z"
   },
   {
    "duration": 14,
    "start_time": "2024-12-22T23:42:26.003Z"
   },
   {
    "duration": 36,
    "start_time": "2024-12-22T23:42:26.019Z"
   },
   {
    "duration": 60,
    "start_time": "2024-12-22T23:42:26.057Z"
   },
   {
    "duration": 24,
    "start_time": "2024-12-22T23:42:26.119Z"
   },
   {
    "duration": 5513,
    "start_time": "2024-12-22T23:42:26.147Z"
   },
   {
    "duration": 3,
    "start_time": "2024-12-22T23:44:44.965Z"
   },
   {
    "duration": 120,
    "start_time": "2024-12-22T23:47:36.373Z"
   },
   {
    "duration": 27378,
    "start_time": "2024-12-22T23:47:58.906Z"
   },
   {
    "duration": 10,
    "start_time": "2024-12-23T00:08:41.060Z"
   },
   {
    "duration": 3,
    "start_time": "2024-12-23T00:09:12.123Z"
   },
   {
    "duration": 47,
    "start_time": "2024-12-23T00:11:26.081Z"
   },
   {
    "duration": 16,
    "start_time": "2024-12-23T00:11:28.812Z"
   },
   {
    "duration": 13,
    "start_time": "2024-12-23T00:11:49.123Z"
   },
   {
    "duration": 2981,
    "start_time": "2024-12-23T00:11:55.673Z"
   },
   {
    "duration": 2466,
    "start_time": "2024-12-23T00:11:58.656Z"
   },
   {
    "duration": 2468,
    "start_time": "2024-12-23T00:12:01.124Z"
   },
   {
    "duration": 1276,
    "start_time": "2024-12-23T00:12:03.594Z"
   },
   {
    "duration": 921,
    "start_time": "2024-12-23T00:12:04.872Z"
   },
   {
    "duration": 164,
    "start_time": "2024-12-23T00:12:05.795Z"
   },
   {
    "duration": 145,
    "start_time": "2024-12-23T00:12:05.961Z"
   },
   {
    "duration": 1430,
    "start_time": "2024-12-23T00:12:06.108Z"
   },
   {
    "duration": 180,
    "start_time": "2024-12-23T00:12:07.540Z"
   },
   {
    "duration": 21,
    "start_time": "2024-12-23T00:12:07.722Z"
   },
   {
    "duration": 148,
    "start_time": "2024-12-23T00:12:07.745Z"
   },
   {
    "duration": 80,
    "start_time": "2024-12-23T00:12:07.895Z"
   },
   {
    "duration": 561,
    "start_time": "2024-12-23T00:12:07.977Z"
   },
   {
    "duration": 1234,
    "start_time": "2024-12-23T00:12:08.539Z"
   },
   {
    "duration": 210,
    "start_time": "2024-12-23T00:12:09.775Z"
   },
   {
    "duration": 412,
    "start_time": "2024-12-23T00:12:09.986Z"
   },
   {
    "duration": 450,
    "start_time": "2024-12-23T00:12:10.400Z"
   },
   {
    "duration": 467,
    "start_time": "2024-12-23T00:12:10.852Z"
   },
   {
    "duration": 441,
    "start_time": "2024-12-23T00:12:11.321Z"
   },
   {
    "duration": 3,
    "start_time": "2024-12-23T00:12:11.764Z"
   },
   {
    "duration": 908,
    "start_time": "2024-12-23T00:12:11.768Z"
   },
   {
    "duration": 15,
    "start_time": "2024-12-23T00:12:12.677Z"
   },
   {
    "duration": 113,
    "start_time": "2024-12-23T00:12:12.693Z"
   },
   {
    "duration": 133,
    "start_time": "2024-12-23T00:12:12.808Z"
   },
   {
    "duration": 37,
    "start_time": "2024-12-23T00:12:12.942Z"
   },
   {
    "duration": 81,
    "start_time": "2024-12-23T00:12:12.980Z"
   },
   {
    "duration": 14,
    "start_time": "2024-12-23T00:12:13.063Z"
   },
   {
    "duration": 138,
    "start_time": "2024-12-23T00:12:13.080Z"
   },
   {
    "duration": 165,
    "start_time": "2024-12-23T00:12:13.220Z"
   },
   {
    "duration": 12,
    "start_time": "2024-12-23T00:12:13.387Z"
   },
   {
    "duration": 74,
    "start_time": "2024-12-23T00:12:13.400Z"
   },
   {
    "duration": 14,
    "start_time": "2024-12-23T00:12:13.476Z"
   },
   {
    "duration": 100,
    "start_time": "2024-12-23T00:12:13.492Z"
   },
   {
    "duration": 23,
    "start_time": "2024-12-23T00:12:13.593Z"
   },
   {
    "duration": 62,
    "start_time": "2024-12-23T00:12:13.618Z"
   },
   {
    "duration": 157,
    "start_time": "2024-12-23T00:12:13.681Z"
   },
   {
    "duration": 17,
    "start_time": "2024-12-23T00:12:13.839Z"
   },
   {
    "duration": 29,
    "start_time": "2024-12-23T00:12:13.858Z"
   },
   {
    "duration": 83,
    "start_time": "2024-12-23T00:12:13.888Z"
   },
   {
    "duration": 3,
    "start_time": "2024-12-23T00:12:13.973Z"
   },
   {
    "duration": 8,
    "start_time": "2024-12-23T00:12:13.978Z"
   },
   {
    "duration": 5663,
    "start_time": "2024-12-23T00:12:13.987Z"
   },
   {
    "duration": 53,
    "start_time": "2024-12-23T00:12:19.652Z"
   },
   {
    "duration": 8,
    "start_time": "2024-12-23T00:12:19.707Z"
   },
   {
    "duration": 3,
    "start_time": "2024-12-23T00:12:19.737Z"
   },
   {
    "duration": 120,
    "start_time": "2024-12-23T00:12:19.742Z"
   },
   {
    "duration": 3026,
    "start_time": "2024-12-23T00:18:02.959Z"
   },
   {
    "duration": 2449,
    "start_time": "2024-12-23T00:18:05.987Z"
   },
   {
    "duration": 2424,
    "start_time": "2024-12-23T00:18:08.438Z"
   },
   {
    "duration": 1418,
    "start_time": "2024-12-23T00:18:10.864Z"
   },
   {
    "duration": 899,
    "start_time": "2024-12-23T00:18:12.284Z"
   },
   {
    "duration": 153,
    "start_time": "2024-12-23T00:18:13.185Z"
   },
   {
    "duration": 137,
    "start_time": "2024-12-23T00:18:13.339Z"
   },
   {
    "duration": 1282,
    "start_time": "2024-12-23T00:18:13.478Z"
   },
   {
    "duration": 179,
    "start_time": "2024-12-23T00:18:14.762Z"
   },
   {
    "duration": 16,
    "start_time": "2024-12-23T00:18:14.944Z"
   },
   {
    "duration": 148,
    "start_time": "2024-12-23T00:18:14.962Z"
   },
   {
    "duration": 75,
    "start_time": "2024-12-23T00:18:15.112Z"
   },
   {
    "duration": 544,
    "start_time": "2024-12-23T00:18:15.189Z"
   },
   {
    "duration": 1233,
    "start_time": "2024-12-23T00:18:15.737Z"
   },
   {
    "duration": 207,
    "start_time": "2024-12-23T00:18:16.972Z"
   },
   {
    "duration": 429,
    "start_time": "2024-12-23T00:18:17.181Z"
   },
   {
    "duration": 457,
    "start_time": "2024-12-23T00:18:17.612Z"
   },
   {
    "duration": 491,
    "start_time": "2024-12-23T00:18:18.070Z"
   },
   {
    "duration": 407,
    "start_time": "2024-12-23T00:18:18.563Z"
   },
   {
    "duration": 3,
    "start_time": "2024-12-23T00:18:18.972Z"
   },
   {
    "duration": 880,
    "start_time": "2024-12-23T00:18:18.977Z"
   },
   {
    "duration": 16,
    "start_time": "2024-12-23T00:18:19.859Z"
   },
   {
    "duration": 112,
    "start_time": "2024-12-23T00:18:19.877Z"
   },
   {
    "duration": 128,
    "start_time": "2024-12-23T00:18:19.991Z"
   },
   {
    "duration": 43,
    "start_time": "2024-12-23T00:18:20.121Z"
   },
   {
    "duration": 77,
    "start_time": "2024-12-23T00:18:20.166Z"
   },
   {
    "duration": 14,
    "start_time": "2024-12-23T00:18:20.245Z"
   },
   {
    "duration": 129,
    "start_time": "2024-12-23T00:18:20.262Z"
   },
   {
    "duration": 162,
    "start_time": "2024-12-23T00:18:20.392Z"
   },
   {
    "duration": 12,
    "start_time": "2024-12-23T00:18:20.555Z"
   },
   {
    "duration": 70,
    "start_time": "2024-12-23T00:18:20.568Z"
   },
   {
    "duration": 14,
    "start_time": "2024-12-23T00:18:20.640Z"
   },
   {
    "duration": 100,
    "start_time": "2024-12-23T00:18:20.656Z"
   },
   {
    "duration": 22,
    "start_time": "2024-12-23T00:18:20.758Z"
   },
   {
    "duration": 60,
    "start_time": "2024-12-23T00:18:20.781Z"
   },
   {
    "duration": 140,
    "start_time": "2024-12-23T00:18:20.843Z"
   },
   {
    "duration": 15,
    "start_time": "2024-12-23T00:18:20.985Z"
   },
   {
    "duration": 37,
    "start_time": "2024-12-23T00:18:21.002Z"
   },
   {
    "duration": 61,
    "start_time": "2024-12-23T00:18:21.041Z"
   },
   {
    "duration": 4,
    "start_time": "2024-12-23T00:18:21.104Z"
   },
   {
    "duration": 30,
    "start_time": "2024-12-23T00:18:21.110Z"
   },
   {
    "duration": 4756,
    "start_time": "2024-12-23T00:18:21.141Z"
   },
   {
    "duration": 59,
    "start_time": "2024-12-23T00:18:25.899Z"
   },
   {
    "duration": 7,
    "start_time": "2024-12-23T00:18:25.959Z"
   },
   {
    "duration": 6,
    "start_time": "2024-12-23T00:18:25.967Z"
   },
   {
    "duration": 72,
    "start_time": "2024-12-23T00:18:25.974Z"
   },
   {
    "duration": 58,
    "start_time": "2024-12-23T00:19:14.690Z"
   },
   {
    "duration": 4,
    "start_time": "2024-12-23T00:20:20.171Z"
   },
   {
    "duration": 112,
    "start_time": "2024-12-23T00:20:58.418Z"
   },
   {
    "duration": 17,
    "start_time": "2024-12-23T00:21:01.258Z"
   },
   {
    "duration": 3050,
    "start_time": "2024-12-23T00:21:29.840Z"
   },
   {
    "duration": 2402,
    "start_time": "2024-12-23T00:21:32.893Z"
   },
   {
    "duration": 2456,
    "start_time": "2024-12-23T00:21:35.297Z"
   },
   {
    "duration": 1325,
    "start_time": "2024-12-23T00:21:37.755Z"
   },
   {
    "duration": 916,
    "start_time": "2024-12-23T00:21:39.083Z"
   },
   {
    "duration": 152,
    "start_time": "2024-12-23T00:21:40.000Z"
   },
   {
    "duration": 142,
    "start_time": "2024-12-23T00:21:40.153Z"
   },
   {
    "duration": 1262,
    "start_time": "2024-12-23T00:21:40.297Z"
   },
   {
    "duration": 184,
    "start_time": "2024-12-23T00:21:41.561Z"
   },
   {
    "duration": 17,
    "start_time": "2024-12-23T00:21:41.746Z"
   },
   {
    "duration": 146,
    "start_time": "2024-12-23T00:21:41.765Z"
   },
   {
    "duration": 74,
    "start_time": "2024-12-23T00:21:41.913Z"
   },
   {
    "duration": 540,
    "start_time": "2024-12-23T00:21:41.988Z"
   },
   {
    "duration": 1265,
    "start_time": "2024-12-23T00:21:42.536Z"
   },
   {
    "duration": 211,
    "start_time": "2024-12-23T00:21:43.802Z"
   },
   {
    "duration": 434,
    "start_time": "2024-12-23T00:21:44.015Z"
   },
   {
    "duration": 468,
    "start_time": "2024-12-23T00:21:44.451Z"
   },
   {
    "duration": 465,
    "start_time": "2024-12-23T00:21:44.921Z"
   },
   {
    "duration": 441,
    "start_time": "2024-12-23T00:21:45.387Z"
   },
   {
    "duration": 3,
    "start_time": "2024-12-23T00:21:45.838Z"
   },
   {
    "duration": 897,
    "start_time": "2024-12-23T00:21:45.842Z"
   },
   {
    "duration": 14,
    "start_time": "2024-12-23T00:21:46.741Z"
   },
   {
    "duration": 119,
    "start_time": "2024-12-23T00:21:46.756Z"
   },
   {
    "duration": 140,
    "start_time": "2024-12-23T00:21:46.877Z"
   },
   {
    "duration": 43,
    "start_time": "2024-12-23T00:21:47.019Z"
   },
   {
    "duration": 73,
    "start_time": "2024-12-23T00:21:47.064Z"
   },
   {
    "duration": 13,
    "start_time": "2024-12-23T00:21:47.139Z"
   },
   {
    "duration": 130,
    "start_time": "2024-12-23T00:21:47.154Z"
   },
   {
    "duration": 165,
    "start_time": "2024-12-23T00:21:47.286Z"
   },
   {
    "duration": 12,
    "start_time": "2024-12-23T00:21:47.452Z"
   },
   {
    "duration": 53,
    "start_time": "2024-12-23T00:21:47.466Z"
   },
   {
    "duration": 15,
    "start_time": "2024-12-23T00:21:47.538Z"
   },
   {
    "duration": 102,
    "start_time": "2024-12-23T00:21:47.555Z"
   },
   {
    "duration": 22,
    "start_time": "2024-12-23T00:21:47.659Z"
   },
   {
    "duration": 55,
    "start_time": "2024-12-23T00:21:47.683Z"
   },
   {
    "duration": 143,
    "start_time": "2024-12-23T00:21:47.740Z"
   },
   {
    "duration": 14,
    "start_time": "2024-12-23T00:21:47.885Z"
   },
   {
    "duration": 59,
    "start_time": "2024-12-23T00:21:47.900Z"
   },
   {
    "duration": 61,
    "start_time": "2024-12-23T00:21:47.961Z"
   },
   {
    "duration": 4,
    "start_time": "2024-12-23T00:21:48.024Z"
   },
   {
    "duration": 8,
    "start_time": "2024-12-23T00:21:48.040Z"
   },
   {
    "duration": 4724,
    "start_time": "2024-12-23T00:21:48.049Z"
   },
   {
    "duration": 62,
    "start_time": "2024-12-23T00:21:52.775Z"
   },
   {
    "duration": 15,
    "start_time": "2024-12-23T00:21:52.839Z"
   },
   {
    "duration": 7,
    "start_time": "2024-12-23T00:21:52.856Z"
   },
   {
    "duration": 19,
    "start_time": "2024-12-23T00:21:52.864Z"
   },
   {
    "duration": 60,
    "start_time": "2024-12-23T00:21:52.884Z"
   },
   {
    "duration": 112,
    "start_time": "2024-12-23T00:23:45.570Z"
   },
   {
    "duration": 156,
    "start_time": "2024-12-23T00:24:42.540Z"
   },
   {
    "duration": 13,
    "start_time": "2024-12-23T00:24:49.157Z"
   },
   {
    "duration": 3,
    "start_time": "2024-12-23T00:25:20.784Z"
   },
   {
    "duration": 109,
    "start_time": "2024-12-23T00:28:58.364Z"
   },
   {
    "duration": 2536,
    "start_time": "2024-12-23T00:32:50.715Z"
   },
   {
    "duration": 85,
    "start_time": "2024-12-23T00:54:15.359Z"
   },
   {
    "duration": 17,
    "start_time": "2024-12-23T00:54:26.364Z"
   },
   {
    "duration": 3041,
    "start_time": "2024-12-23T00:54:33.014Z"
   },
   {
    "duration": 2423,
    "start_time": "2024-12-23T00:54:36.058Z"
   },
   {
    "duration": 2413,
    "start_time": "2024-12-23T00:54:38.482Z"
   },
   {
    "duration": 2388,
    "start_time": "2024-12-23T00:54:40.897Z"
   },
   {
    "duration": 1235,
    "start_time": "2024-12-23T00:54:43.287Z"
   },
   {
    "duration": 907,
    "start_time": "2024-12-23T00:54:44.523Z"
   },
   {
    "duration": 153,
    "start_time": "2024-12-23T00:54:45.432Z"
   },
   {
    "duration": 143,
    "start_time": "2024-12-23T00:54:45.587Z"
   },
   {
    "duration": 1317,
    "start_time": "2024-12-23T00:54:45.737Z"
   },
   {
    "duration": 172,
    "start_time": "2024-12-23T00:54:47.057Z"
   },
   {
    "duration": 21,
    "start_time": "2024-12-23T00:54:47.230Z"
   },
   {
    "duration": 145,
    "start_time": "2024-12-23T00:54:47.253Z"
   },
   {
    "duration": 76,
    "start_time": "2024-12-23T00:54:47.399Z"
   },
   {
    "duration": 601,
    "start_time": "2024-12-23T00:54:47.479Z"
   },
   {
    "duration": 1238,
    "start_time": "2024-12-23T00:54:48.082Z"
   },
   {
    "duration": 207,
    "start_time": "2024-12-23T00:54:49.321Z"
   },
   {
    "duration": 408,
    "start_time": "2024-12-23T00:54:49.530Z"
   },
   {
    "duration": 438,
    "start_time": "2024-12-23T00:54:49.939Z"
   },
   {
    "duration": 466,
    "start_time": "2024-12-23T00:54:50.379Z"
   },
   {
    "duration": 411,
    "start_time": "2024-12-23T00:54:50.847Z"
   },
   {
    "duration": 3,
    "start_time": "2024-12-23T00:54:51.259Z"
   },
   {
    "duration": 819,
    "start_time": "2024-12-23T00:54:51.263Z"
   },
   {
    "duration": 14,
    "start_time": "2024-12-23T00:54:52.084Z"
   },
   {
    "duration": 115,
    "start_time": "2024-12-23T00:54:52.099Z"
   },
   {
    "duration": 134,
    "start_time": "2024-12-23T00:54:52.217Z"
   },
   {
    "duration": 37,
    "start_time": "2024-12-23T00:54:52.353Z"
   },
   {
    "duration": 85,
    "start_time": "2024-12-23T00:54:52.392Z"
   },
   {
    "duration": 15,
    "start_time": "2024-12-23T00:54:52.479Z"
   },
   {
    "duration": 132,
    "start_time": "2024-12-23T00:54:52.496Z"
   },
   {
    "duration": 173,
    "start_time": "2024-12-23T00:54:52.630Z"
   },
   {
    "duration": 13,
    "start_time": "2024-12-23T00:54:52.805Z"
   },
   {
    "duration": 65,
    "start_time": "2024-12-23T00:54:52.820Z"
   },
   {
    "duration": 27,
    "start_time": "2024-12-23T00:54:52.887Z"
   },
   {
    "duration": 98,
    "start_time": "2024-12-23T00:54:52.916Z"
   },
   {
    "duration": 32,
    "start_time": "2024-12-23T00:54:53.016Z"
   },
   {
    "duration": 89,
    "start_time": "2024-12-23T00:54:53.050Z"
   },
   {
    "duration": 150,
    "start_time": "2024-12-23T00:54:53.141Z"
   },
   {
    "duration": 15,
    "start_time": "2024-12-23T00:54:53.294Z"
   },
   {
    "duration": 42,
    "start_time": "2024-12-23T00:54:53.311Z"
   },
   {
    "duration": 64,
    "start_time": "2024-12-23T00:54:53.355Z"
   },
   {
    "duration": 4,
    "start_time": "2024-12-23T00:54:53.436Z"
   },
   {
    "duration": 22,
    "start_time": "2024-12-23T00:54:53.442Z"
   },
   {
    "duration": 4859,
    "start_time": "2024-12-23T00:54:53.466Z"
   },
   {
    "duration": 52,
    "start_time": "2024-12-23T00:54:58.327Z"
   },
   {
    "duration": 17,
    "start_time": "2024-12-23T00:54:58.381Z"
   },
   {
    "duration": 7,
    "start_time": "2024-12-23T00:54:58.400Z"
   },
   {
    "duration": 6,
    "start_time": "2024-12-23T00:54:58.436Z"
   },
   {
    "duration": 61,
    "start_time": "2024-12-23T00:54:58.444Z"
   },
   {
    "duration": 3,
    "start_time": "2024-12-23T00:54:58.507Z"
   },
   {
    "duration": 66,
    "start_time": "2024-12-23T00:54:58.512Z"
   },
   {
    "duration": 39,
    "start_time": "2024-12-23T00:54:58.579Z"
   },
   {
    "duration": 10,
    "start_time": "2024-12-23T00:54:58.619Z"
   },
   {
    "duration": 2,
    "start_time": "2024-12-23T00:59:47.413Z"
   },
   {
    "duration": 119,
    "start_time": "2024-12-23T01:00:03.065Z"
   },
   {
    "duration": 5,
    "start_time": "2024-12-23T01:00:42.387Z"
   },
   {
    "duration": 3,
    "start_time": "2024-12-23T01:00:52.425Z"
   },
   {
    "duration": 11,
    "start_time": "2024-12-23T01:01:11.247Z"
   },
   {
    "duration": 9,
    "start_time": "2024-12-23T01:01:18.540Z"
   },
   {
    "duration": 9,
    "start_time": "2024-12-23T01:01:23.428Z"
   },
   {
    "duration": 52,
    "start_time": "2024-12-23T01:01:33.475Z"
   },
   {
    "duration": 5,
    "start_time": "2024-12-23T01:01:47.518Z"
   },
   {
    "duration": 32,
    "start_time": "2024-12-23T01:01:52.135Z"
   },
   {
    "duration": 4,
    "start_time": "2024-12-23T01:02:13.221Z"
   },
   {
    "duration": 51,
    "start_time": "2024-12-23T01:03:19.333Z"
   },
   {
    "duration": 3113,
    "start_time": "2024-12-23T01:03:26.470Z"
   },
   {
    "duration": 2499,
    "start_time": "2024-12-23T01:03:29.585Z"
   },
   {
    "duration": 2487,
    "start_time": "2024-12-23T01:03:32.086Z"
   },
   {
    "duration": 2476,
    "start_time": "2024-12-23T01:03:34.574Z"
   },
   {
    "duration": 2078,
    "start_time": "2024-12-23T01:03:37.052Z"
   },
   {
    "duration": 2994,
    "start_time": "2024-12-23T01:03:39.132Z"
   },
   {
    "duration": 145,
    "start_time": "2024-12-23T01:03:42.127Z"
   },
   {
    "duration": 145,
    "start_time": "2024-12-23T01:03:42.274Z"
   },
   {
    "duration": 1326,
    "start_time": "2024-12-23T01:03:42.421Z"
   },
   {
    "duration": 176,
    "start_time": "2024-12-23T01:03:43.748Z"
   },
   {
    "duration": 18,
    "start_time": "2024-12-23T01:03:43.938Z"
   },
   {
    "duration": 147,
    "start_time": "2024-12-23T01:03:43.958Z"
   },
   {
    "duration": 81,
    "start_time": "2024-12-23T01:03:44.107Z"
   },
   {
    "duration": 630,
    "start_time": "2024-12-23T01:03:44.192Z"
   },
   {
    "duration": 1224,
    "start_time": "2024-12-23T01:03:44.824Z"
   },
   {
    "duration": 219,
    "start_time": "2024-12-23T01:03:46.050Z"
   },
   {
    "duration": 423,
    "start_time": "2024-12-23T01:03:46.271Z"
   },
   {
    "duration": 490,
    "start_time": "2024-12-23T01:03:46.696Z"
   },
   {
    "duration": 475,
    "start_time": "2024-12-23T01:03:47.188Z"
   },
   {
    "duration": 417,
    "start_time": "2024-12-23T01:03:47.665Z"
   },
   {
    "duration": 2,
    "start_time": "2024-12-23T01:03:48.084Z"
   },
   {
    "duration": 867,
    "start_time": "2024-12-23T01:03:48.088Z"
   },
   {
    "duration": 14,
    "start_time": "2024-12-23T01:03:48.957Z"
   },
   {
    "duration": 123,
    "start_time": "2024-12-23T01:03:48.973Z"
   },
   {
    "duration": 139,
    "start_time": "2024-12-23T01:03:49.098Z"
   },
   {
    "duration": 36,
    "start_time": "2024-12-23T01:03:49.238Z"
   },
   {
    "duration": 77,
    "start_time": "2024-12-23T01:03:49.276Z"
   },
   {
    "duration": 14,
    "start_time": "2024-12-23T01:03:49.355Z"
   },
   {
    "duration": 169,
    "start_time": "2024-12-23T01:03:49.370Z"
   },
   {
    "duration": 165,
    "start_time": "2024-12-23T01:03:49.540Z"
   },
   {
    "duration": 11,
    "start_time": "2024-12-23T01:03:49.707Z"
   },
   {
    "duration": 65,
    "start_time": "2024-12-23T01:03:49.720Z"
   },
   {
    "duration": 15,
    "start_time": "2024-12-23T01:03:49.786Z"
   },
   {
    "duration": 99,
    "start_time": "2024-12-23T01:03:49.802Z"
   },
   {
    "duration": 36,
    "start_time": "2024-12-23T01:03:49.902Z"
   },
   {
    "duration": 44,
    "start_time": "2024-12-23T01:03:49.939Z"
   },
   {
    "duration": 156,
    "start_time": "2024-12-23T01:03:49.984Z"
   },
   {
    "duration": 15,
    "start_time": "2024-12-23T01:03:50.142Z"
   },
   {
    "duration": 26,
    "start_time": "2024-12-23T01:03:50.159Z"
   },
   {
    "duration": 91,
    "start_time": "2024-12-23T01:03:50.187Z"
   },
   {
    "duration": 3,
    "start_time": "2024-12-23T01:03:50.283Z"
   },
   {
    "duration": 21,
    "start_time": "2024-12-23T01:03:50.288Z"
   },
   {
    "duration": 4770,
    "start_time": "2024-12-23T01:03:50.311Z"
   },
   {
    "duration": 70,
    "start_time": "2024-12-23T01:03:55.083Z"
   },
   {
    "duration": 16,
    "start_time": "2024-12-23T01:03:55.155Z"
   },
   {
    "duration": 45,
    "start_time": "2024-12-23T01:03:55.174Z"
   },
   {
    "duration": 11,
    "start_time": "2024-12-23T01:03:55.221Z"
   },
   {
    "duration": 64,
    "start_time": "2024-12-23T01:03:55.234Z"
   },
   {
    "duration": 3,
    "start_time": "2024-12-23T01:03:55.300Z"
   },
   {
    "duration": 12,
    "start_time": "2024-12-23T01:03:55.305Z"
   },
   {
    "duration": 27,
    "start_time": "2024-12-23T01:03:55.318Z"
   },
   {
    "duration": 7,
    "start_time": "2024-12-23T01:03:55.347Z"
   },
   {
    "duration": 12,
    "start_time": "2024-12-23T01:03:55.355Z"
   },
   {
    "duration": 4,
    "start_time": "2024-12-23T01:03:55.368Z"
   },
   {
    "duration": 3222,
    "start_time": "2024-12-23T01:05:05.418Z"
   },
   {
    "duration": 2456,
    "start_time": "2024-12-23T01:05:08.642Z"
   },
   {
    "duration": 2455,
    "start_time": "2024-12-23T01:05:11.100Z"
   },
   {
    "duration": 2454,
    "start_time": "2024-12-23T01:05:13.557Z"
   },
   {
    "duration": 2232,
    "start_time": "2024-12-23T01:05:16.014Z"
   },
   {
    "duration": 2999,
    "start_time": "2024-12-23T01:05:18.248Z"
   },
   {
    "duration": 167,
    "start_time": "2024-12-23T01:05:21.249Z"
   },
   {
    "duration": 148,
    "start_time": "2024-12-23T01:05:21.417Z"
   },
   {
    "duration": 1364,
    "start_time": "2024-12-23T01:05:21.567Z"
   },
   {
    "duration": 180,
    "start_time": "2024-12-23T01:05:22.937Z"
   },
   {
    "duration": 22,
    "start_time": "2024-12-23T01:05:23.119Z"
   },
   {
    "duration": 157,
    "start_time": "2024-12-23T01:05:23.142Z"
   },
   {
    "duration": 76,
    "start_time": "2024-12-23T01:05:23.301Z"
   },
   {
    "duration": 620,
    "start_time": "2024-12-23T01:05:23.380Z"
   },
   {
    "duration": 1246,
    "start_time": "2024-12-23T01:05:24.001Z"
   },
   {
    "duration": 214,
    "start_time": "2024-12-23T01:05:25.249Z"
   },
   {
    "duration": 414,
    "start_time": "2024-12-23T01:05:25.465Z"
   },
   {
    "duration": 446,
    "start_time": "2024-12-23T01:05:25.881Z"
   },
   {
    "duration": 465,
    "start_time": "2024-12-23T01:05:26.329Z"
   },
   {
    "duration": 441,
    "start_time": "2024-12-23T01:05:26.796Z"
   },
   {
    "duration": 3,
    "start_time": "2024-12-23T01:05:27.239Z"
   },
   {
    "duration": 826,
    "start_time": "2024-12-23T01:05:27.244Z"
   },
   {
    "duration": 14,
    "start_time": "2024-12-23T01:05:28.072Z"
   },
   {
    "duration": 113,
    "start_time": "2024-12-23T01:05:28.088Z"
   },
   {
    "duration": 144,
    "start_time": "2024-12-23T01:05:28.203Z"
   },
   {
    "duration": 36,
    "start_time": "2024-12-23T01:05:28.349Z"
   },
   {
    "duration": 81,
    "start_time": "2024-12-23T01:05:28.386Z"
   },
   {
    "duration": 13,
    "start_time": "2024-12-23T01:05:28.469Z"
   },
   {
    "duration": 132,
    "start_time": "2024-12-23T01:05:28.484Z"
   },
   {
    "duration": 165,
    "start_time": "2024-12-23T01:05:28.618Z"
   },
   {
    "duration": 11,
    "start_time": "2024-12-23T01:05:28.785Z"
   },
   {
    "duration": 64,
    "start_time": "2024-12-23T01:05:28.797Z"
   },
   {
    "duration": 13,
    "start_time": "2024-12-23T01:05:28.863Z"
   },
   {
    "duration": 101,
    "start_time": "2024-12-23T01:05:28.878Z"
   },
   {
    "duration": 22,
    "start_time": "2024-12-23T01:05:28.981Z"
   },
   {
    "duration": 65,
    "start_time": "2024-12-23T01:05:29.005Z"
   },
   {
    "duration": 150,
    "start_time": "2024-12-23T01:05:29.072Z"
   },
   {
    "duration": 24,
    "start_time": "2024-12-23T01:05:29.224Z"
   },
   {
    "duration": 26,
    "start_time": "2024-12-23T01:05:29.250Z"
   },
   {
    "duration": 74,
    "start_time": "2024-12-23T01:05:29.277Z"
   },
   {
    "duration": 4,
    "start_time": "2024-12-23T01:05:29.355Z"
   },
   {
    "duration": 8,
    "start_time": "2024-12-23T01:05:29.361Z"
   },
   {
    "duration": 4831,
    "start_time": "2024-12-23T01:05:29.371Z"
   },
   {
    "duration": 59,
    "start_time": "2024-12-23T01:05:34.203Z"
   },
   {
    "duration": 17,
    "start_time": "2024-12-23T01:05:34.263Z"
   },
   {
    "duration": 7,
    "start_time": "2024-12-23T01:05:34.281Z"
   },
   {
    "duration": 13,
    "start_time": "2024-12-23T01:05:34.289Z"
   },
   {
    "duration": 71,
    "start_time": "2024-12-23T01:05:34.303Z"
   },
   {
    "duration": 2,
    "start_time": "2024-12-23T01:05:34.376Z"
   },
   {
    "duration": 32,
    "start_time": "2024-12-23T01:05:34.380Z"
   },
   {
    "duration": 7,
    "start_time": "2024-12-23T01:05:34.413Z"
   },
   {
    "duration": 6,
    "start_time": "2024-12-23T01:05:34.422Z"
   },
   {
    "duration": 19,
    "start_time": "2024-12-23T01:05:34.429Z"
   },
   {
    "duration": 38,
    "start_time": "2024-12-23T01:05:34.450Z"
   },
   {
    "duration": 90,
    "start_time": "2024-12-23T01:05:34.490Z"
   },
   {
    "duration": 3118,
    "start_time": "2024-12-23T01:08:57.196Z"
   },
   {
    "duration": 2558,
    "start_time": "2024-12-23T01:09:00.317Z"
   },
   {
    "duration": 2553,
    "start_time": "2024-12-23T01:09:02.877Z"
   },
   {
    "duration": 2319,
    "start_time": "2024-12-23T01:09:05.432Z"
   },
   {
    "duration": 3009,
    "start_time": "2024-12-23T01:09:07.753Z"
   },
   {
    "duration": 147,
    "start_time": "2024-12-23T01:09:10.763Z"
   },
   {
    "duration": 143,
    "start_time": "2024-12-23T01:09:10.911Z"
   },
   {
    "duration": 1383,
    "start_time": "2024-12-23T01:09:11.055Z"
   },
   {
    "duration": 188,
    "start_time": "2024-12-23T01:09:12.439Z"
   },
   {
    "duration": 23,
    "start_time": "2024-12-23T01:09:12.629Z"
   },
   {
    "duration": 151,
    "start_time": "2024-12-23T01:09:12.653Z"
   },
   {
    "duration": 81,
    "start_time": "2024-12-23T01:09:12.805Z"
   },
   {
    "duration": 561,
    "start_time": "2024-12-23T01:09:12.887Z"
   },
   {
    "duration": 1286,
    "start_time": "2024-12-23T01:09:13.451Z"
   },
   {
    "duration": 209,
    "start_time": "2024-12-23T01:09:14.738Z"
   },
   {
    "duration": 437,
    "start_time": "2024-12-23T01:09:14.949Z"
   },
   {
    "duration": 478,
    "start_time": "2024-12-23T01:09:15.387Z"
   },
   {
    "duration": 479,
    "start_time": "2024-12-23T01:09:15.866Z"
   },
   {
    "duration": 436,
    "start_time": "2024-12-23T01:09:16.347Z"
   },
   {
    "duration": 3,
    "start_time": "2024-12-23T01:09:16.784Z"
   },
   {
    "duration": 948,
    "start_time": "2024-12-23T01:09:16.789Z"
   },
   {
    "duration": 16,
    "start_time": "2024-12-23T01:09:17.738Z"
   },
   {
    "duration": 115,
    "start_time": "2024-12-23T01:09:17.755Z"
   },
   {
    "duration": 132,
    "start_time": "2024-12-23T01:09:17.871Z"
   },
   {
    "duration": 39,
    "start_time": "2024-12-23T01:09:18.005Z"
   },
   {
    "duration": 63,
    "start_time": "2024-12-23T01:09:18.046Z"
   },
   {
    "duration": 30,
    "start_time": "2024-12-23T01:09:18.110Z"
   },
   {
    "duration": 141,
    "start_time": "2024-12-23T01:09:18.142Z"
   },
   {
    "duration": 172,
    "start_time": "2024-12-23T01:09:18.284Z"
   },
   {
    "duration": 12,
    "start_time": "2024-12-23T01:09:18.458Z"
   },
   {
    "duration": 72,
    "start_time": "2024-12-23T01:09:18.472Z"
   },
   {
    "duration": 14,
    "start_time": "2024-12-23T01:09:18.546Z"
   },
   {
    "duration": 128,
    "start_time": "2024-12-23T01:09:18.562Z"
   },
   {
    "duration": 25,
    "start_time": "2024-12-23T01:09:18.691Z"
   },
   {
    "duration": 59,
    "start_time": "2024-12-23T01:09:18.717Z"
   },
   {
    "duration": 151,
    "start_time": "2024-12-23T01:09:18.778Z"
   },
   {
    "duration": 17,
    "start_time": "2024-12-23T01:09:18.936Z"
   },
   {
    "duration": 27,
    "start_time": "2024-12-23T01:09:18.954Z"
   },
   {
    "duration": 88,
    "start_time": "2024-12-23T01:09:18.983Z"
   },
   {
    "duration": 4,
    "start_time": "2024-12-23T01:09:19.073Z"
   },
   {
    "duration": 8,
    "start_time": "2024-12-23T01:09:19.082Z"
   },
   {
    "duration": 310,
    "start_time": "2024-12-23T01:09:19.092Z"
   },
   {
    "duration": 0,
    "start_time": "2024-12-23T01:09:19.404Z"
   },
   {
    "duration": 0,
    "start_time": "2024-12-23T01:09:19.406Z"
   },
   {
    "duration": 0,
    "start_time": "2024-12-23T01:09:19.408Z"
   },
   {
    "duration": 0,
    "start_time": "2024-12-23T01:09:19.409Z"
   },
   {
    "duration": 0,
    "start_time": "2024-12-23T01:09:19.411Z"
   },
   {
    "duration": 0,
    "start_time": "2024-12-23T01:09:19.412Z"
   },
   {
    "duration": 0,
    "start_time": "2024-12-23T01:09:19.413Z"
   },
   {
    "duration": 0,
    "start_time": "2024-12-23T01:09:19.437Z"
   },
   {
    "duration": 0,
    "start_time": "2024-12-23T01:09:19.439Z"
   },
   {
    "duration": 0,
    "start_time": "2024-12-23T01:09:19.441Z"
   },
   {
    "duration": 0,
    "start_time": "2024-12-23T01:09:19.442Z"
   },
   {
    "duration": 0,
    "start_time": "2024-12-23T01:09:19.444Z"
   },
   {
    "duration": 2529,
    "start_time": "2024-12-23T01:09:55.942Z"
   },
   {
    "duration": 53,
    "start_time": "2024-12-23T01:10:08.668Z"
   },
   {
    "duration": 3086,
    "start_time": "2024-12-23T01:10:14.581Z"
   },
   {
    "duration": 2425,
    "start_time": "2024-12-23T01:10:17.670Z"
   },
   {
    "duration": 2791,
    "start_time": "2024-12-23T01:10:20.097Z"
   },
   {
    "duration": 2436,
    "start_time": "2024-12-23T01:10:22.890Z"
   },
   {
    "duration": 1339,
    "start_time": "2024-12-23T01:10:25.328Z"
   },
   {
    "duration": 917,
    "start_time": "2024-12-23T01:10:26.669Z"
   },
   {
    "duration": 155,
    "start_time": "2024-12-23T01:10:27.587Z"
   },
   {
    "duration": 132,
    "start_time": "2024-12-23T01:10:27.744Z"
   },
   {
    "duration": 1283,
    "start_time": "2024-12-23T01:10:27.878Z"
   },
   {
    "duration": 177,
    "start_time": "2024-12-23T01:10:29.162Z"
   },
   {
    "duration": 17,
    "start_time": "2024-12-23T01:10:29.340Z"
   },
   {
    "duration": 153,
    "start_time": "2024-12-23T01:10:29.359Z"
   },
   {
    "duration": 77,
    "start_time": "2024-12-23T01:10:29.514Z"
   },
   {
    "duration": 531,
    "start_time": "2024-12-23T01:10:29.594Z"
   },
   {
    "duration": 1286,
    "start_time": "2024-12-23T01:10:30.126Z"
   },
   {
    "duration": 224,
    "start_time": "2024-12-23T01:10:31.413Z"
   },
   {
    "duration": 428,
    "start_time": "2024-12-23T01:10:31.639Z"
   },
   {
    "duration": 486,
    "start_time": "2024-12-23T01:10:32.069Z"
   },
   {
    "duration": 495,
    "start_time": "2024-12-23T01:10:32.557Z"
   },
   {
    "duration": 430,
    "start_time": "2024-12-23T01:10:33.054Z"
   },
   {
    "duration": 3,
    "start_time": "2024-12-23T01:10:33.486Z"
   },
   {
    "duration": 919,
    "start_time": "2024-12-23T01:10:33.490Z"
   },
   {
    "duration": 27,
    "start_time": "2024-12-23T01:10:34.411Z"
   },
   {
    "duration": 106,
    "start_time": "2024-12-23T01:10:34.440Z"
   },
   {
    "duration": 129,
    "start_time": "2024-12-23T01:10:34.548Z"
   },
   {
    "duration": 36,
    "start_time": "2024-12-23T01:10:34.679Z"
   },
   {
    "duration": 72,
    "start_time": "2024-12-23T01:10:34.717Z"
   },
   {
    "duration": 14,
    "start_time": "2024-12-23T01:10:34.790Z"
   },
   {
    "duration": 138,
    "start_time": "2024-12-23T01:10:34.806Z"
   },
   {
    "duration": 156,
    "start_time": "2024-12-23T01:10:34.946Z"
   },
   {
    "duration": 11,
    "start_time": "2024-12-23T01:10:35.104Z"
   },
   {
    "duration": 70,
    "start_time": "2024-12-23T01:10:35.117Z"
   },
   {
    "duration": 13,
    "start_time": "2024-12-23T01:10:35.189Z"
   },
   {
    "duration": 172,
    "start_time": "2024-12-23T01:10:35.204Z"
   },
   {
    "duration": 23,
    "start_time": "2024-12-23T01:10:35.377Z"
   },
   {
    "duration": 58,
    "start_time": "2024-12-23T01:10:35.402Z"
   },
   {
    "duration": 151,
    "start_time": "2024-12-23T01:10:35.462Z"
   },
   {
    "duration": 24,
    "start_time": "2024-12-23T01:10:35.614Z"
   },
   {
    "duration": 43,
    "start_time": "2024-12-23T01:10:35.639Z"
   },
   {
    "duration": 65,
    "start_time": "2024-12-23T01:10:35.684Z"
   },
   {
    "duration": 3,
    "start_time": "2024-12-23T01:10:35.753Z"
   },
   {
    "duration": 17,
    "start_time": "2024-12-23T01:10:35.758Z"
   },
   {
    "duration": 4870,
    "start_time": "2024-12-23T01:10:35.777Z"
   },
   {
    "duration": 52,
    "start_time": "2024-12-23T01:10:40.648Z"
   },
   {
    "duration": 37,
    "start_time": "2024-12-23T01:10:40.702Z"
   },
   {
    "duration": 7,
    "start_time": "2024-12-23T01:10:40.741Z"
   },
   {
    "duration": 6,
    "start_time": "2024-12-23T01:10:40.749Z"
   },
   {
    "duration": 56,
    "start_time": "2024-12-23T01:10:40.757Z"
   },
   {
    "duration": 22,
    "start_time": "2024-12-23T01:10:40.815Z"
   },
   {
    "duration": 4,
    "start_time": "2024-12-23T01:10:40.839Z"
   },
   {
    "duration": 9,
    "start_time": "2024-12-23T01:10:40.844Z"
   },
   {
    "duration": 4,
    "start_time": "2024-12-23T01:10:40.855Z"
   },
   {
    "duration": 3,
    "start_time": "2024-12-23T01:10:40.861Z"
   },
   {
    "duration": 19,
    "start_time": "2024-12-23T01:10:40.866Z"
   },
   {
    "duration": 2999,
    "start_time": "2024-12-23T01:14:49.678Z"
   },
   {
    "duration": 2451,
    "start_time": "2024-12-23T01:14:52.679Z"
   },
   {
    "duration": 2454,
    "start_time": "2024-12-23T01:14:55.132Z"
   },
   {
    "duration": 2504,
    "start_time": "2024-12-23T01:14:57.589Z"
   },
   {
    "duration": 1318,
    "start_time": "2024-12-23T01:15:00.095Z"
   },
   {
    "duration": 952,
    "start_time": "2024-12-23T01:15:01.415Z"
   },
   {
    "duration": 159,
    "start_time": "2024-12-23T01:15:02.369Z"
   },
   {
    "duration": 154,
    "start_time": "2024-12-23T01:15:02.530Z"
   },
   {
    "duration": 1352,
    "start_time": "2024-12-23T01:15:02.686Z"
   },
   {
    "duration": 183,
    "start_time": "2024-12-23T01:15:04.040Z"
   },
   {
    "duration": 21,
    "start_time": "2024-12-23T01:15:04.225Z"
   },
   {
    "duration": 175,
    "start_time": "2024-12-23T01:15:04.248Z"
   },
   {
    "duration": 79,
    "start_time": "2024-12-23T01:15:04.424Z"
   },
   {
    "duration": 560,
    "start_time": "2024-12-23T01:15:04.505Z"
   },
   {
    "duration": 1275,
    "start_time": "2024-12-23T01:15:05.067Z"
   },
   {
    "duration": 213,
    "start_time": "2024-12-23T01:15:06.344Z"
   },
   {
    "duration": 496,
    "start_time": "2024-12-23T01:15:06.559Z"
   },
   {
    "duration": 447,
    "start_time": "2024-12-23T01:15:07.057Z"
   },
   {
    "duration": 478,
    "start_time": "2024-12-23T01:15:07.506Z"
   },
   {
    "duration": 452,
    "start_time": "2024-12-23T01:15:07.986Z"
   },
   {
    "duration": 2,
    "start_time": "2024-12-23T01:15:08.440Z"
   },
   {
    "duration": 926,
    "start_time": "2024-12-23T01:15:08.444Z"
   },
   {
    "duration": 15,
    "start_time": "2024-12-23T01:15:09.371Z"
   },
   {
    "duration": 117,
    "start_time": "2024-12-23T01:15:09.387Z"
   },
   {
    "duration": 139,
    "start_time": "2024-12-23T01:15:09.505Z"
   },
   {
    "duration": 38,
    "start_time": "2024-12-23T01:15:09.646Z"
   },
   {
    "duration": 76,
    "start_time": "2024-12-23T01:15:09.686Z"
   },
   {
    "duration": 16,
    "start_time": "2024-12-23T01:15:09.766Z"
   },
   {
    "duration": 140,
    "start_time": "2024-12-23T01:15:09.783Z"
   },
   {
    "duration": 170,
    "start_time": "2024-12-23T01:15:09.925Z"
   },
   {
    "duration": 15,
    "start_time": "2024-12-23T01:15:10.097Z"
   },
   {
    "duration": 70,
    "start_time": "2024-12-23T01:15:10.114Z"
   },
   {
    "duration": 14,
    "start_time": "2024-12-23T01:15:10.186Z"
   },
   {
    "duration": 103,
    "start_time": "2024-12-23T01:15:10.201Z"
   },
   {
    "duration": 32,
    "start_time": "2024-12-23T01:15:10.306Z"
   },
   {
    "duration": 49,
    "start_time": "2024-12-23T01:15:10.340Z"
   },
   {
    "duration": 161,
    "start_time": "2024-12-23T01:15:10.391Z"
   },
   {
    "duration": 16,
    "start_time": "2024-12-23T01:15:10.553Z"
   },
   {
    "duration": 27,
    "start_time": "2024-12-23T01:15:10.570Z"
   },
   {
    "duration": 87,
    "start_time": "2024-12-23T01:15:10.599Z"
   },
   {
    "duration": 4,
    "start_time": "2024-12-23T01:15:10.687Z"
   },
   {
    "duration": 20,
    "start_time": "2024-12-23T01:15:10.693Z"
   },
   {
    "duration": 4802,
    "start_time": "2024-12-23T01:15:10.715Z"
   },
   {
    "duration": 60,
    "start_time": "2024-12-23T01:15:15.519Z"
   },
   {
    "duration": 17,
    "start_time": "2024-12-23T01:15:15.581Z"
   },
   {
    "duration": 8,
    "start_time": "2024-12-23T01:15:15.599Z"
   },
   {
    "duration": 20,
    "start_time": "2024-12-23T01:15:15.608Z"
   },
   {
    "duration": 61,
    "start_time": "2024-12-23T01:15:15.630Z"
   },
   {
    "duration": 2,
    "start_time": "2024-12-23T01:15:15.693Z"
   },
   {
    "duration": 5,
    "start_time": "2024-12-23T01:15:15.697Z"
   },
   {
    "duration": 10,
    "start_time": "2024-12-23T01:15:15.703Z"
   },
   {
    "duration": 11,
    "start_time": "2024-12-23T01:15:15.715Z"
   },
   {
    "duration": 27,
    "start_time": "2024-12-23T01:15:15.728Z"
   },
   {
    "duration": 31,
    "start_time": "2024-12-23T01:15:15.757Z"
   },
   {
    "duration": 3106,
    "start_time": "2024-12-23T01:15:29.131Z"
   },
   {
    "duration": 2424,
    "start_time": "2024-12-23T01:15:32.240Z"
   },
   {
    "duration": 2603,
    "start_time": "2024-12-23T01:15:34.666Z"
   },
   {
    "duration": 2482,
    "start_time": "2024-12-23T01:15:37.271Z"
   },
   {
    "duration": 1316,
    "start_time": "2024-12-23T01:15:39.755Z"
   },
   {
    "duration": 912,
    "start_time": "2024-12-23T01:15:41.073Z"
   },
   {
    "duration": 153,
    "start_time": "2024-12-23T01:15:41.987Z"
   },
   {
    "duration": 134,
    "start_time": "2024-12-23T01:15:42.142Z"
   },
   {
    "duration": 1367,
    "start_time": "2024-12-23T01:15:42.277Z"
   },
   {
    "duration": 182,
    "start_time": "2024-12-23T01:15:43.645Z"
   },
   {
    "duration": 23,
    "start_time": "2024-12-23T01:15:43.828Z"
   },
   {
    "duration": 156,
    "start_time": "2024-12-23T01:15:43.852Z"
   },
   {
    "duration": 80,
    "start_time": "2024-12-23T01:15:44.010Z"
   },
   {
    "duration": 544,
    "start_time": "2024-12-23T01:15:44.094Z"
   },
   {
    "duration": 1235,
    "start_time": "2024-12-23T01:15:44.639Z"
   },
   {
    "duration": 213,
    "start_time": "2024-12-23T01:15:45.876Z"
   },
   {
    "duration": 418,
    "start_time": "2024-12-23T01:15:46.091Z"
   },
   {
    "duration": 464,
    "start_time": "2024-12-23T01:15:46.511Z"
   },
   {
    "duration": 461,
    "start_time": "2024-12-23T01:15:46.977Z"
   },
   {
    "duration": 418,
    "start_time": "2024-12-23T01:15:47.440Z"
   },
   {
    "duration": 4,
    "start_time": "2024-12-23T01:15:47.860Z"
   },
   {
    "duration": 926,
    "start_time": "2024-12-23T01:15:47.865Z"
   },
   {
    "duration": 15,
    "start_time": "2024-12-23T01:15:48.793Z"
   },
   {
    "duration": 114,
    "start_time": "2024-12-23T01:15:48.810Z"
   },
   {
    "duration": 132,
    "start_time": "2024-12-23T01:15:48.926Z"
   },
   {
    "duration": 35,
    "start_time": "2024-12-23T01:15:49.060Z"
   },
   {
    "duration": 75,
    "start_time": "2024-12-23T01:15:49.097Z"
   },
   {
    "duration": 12,
    "start_time": "2024-12-23T01:15:49.174Z"
   },
   {
    "duration": 163,
    "start_time": "2024-12-23T01:15:49.187Z"
   },
   {
    "duration": 159,
    "start_time": "2024-12-23T01:15:49.351Z"
   },
   {
    "duration": 11,
    "start_time": "2024-12-23T01:15:49.512Z"
   },
   {
    "duration": 63,
    "start_time": "2024-12-23T01:15:49.525Z"
   },
   {
    "duration": 15,
    "start_time": "2024-12-23T01:15:49.590Z"
   },
   {
    "duration": 108,
    "start_time": "2024-12-23T01:15:49.606Z"
   },
   {
    "duration": 34,
    "start_time": "2024-12-23T01:15:49.715Z"
   },
   {
    "duration": 47,
    "start_time": "2024-12-23T01:15:49.751Z"
   },
   {
    "duration": 157,
    "start_time": "2024-12-23T01:15:49.800Z"
   },
   {
    "duration": 14,
    "start_time": "2024-12-23T01:15:49.959Z"
   },
   {
    "duration": 25,
    "start_time": "2024-12-23T01:15:49.974Z"
   },
   {
    "duration": 86,
    "start_time": "2024-12-23T01:15:50.001Z"
   },
   {
    "duration": 3,
    "start_time": "2024-12-23T01:15:50.091Z"
   },
   {
    "duration": 18,
    "start_time": "2024-12-23T01:15:50.096Z"
   },
   {
    "duration": 4733,
    "start_time": "2024-12-23T01:15:50.115Z"
   },
   {
    "duration": 50,
    "start_time": "2024-12-23T01:15:54.850Z"
   },
   {
    "duration": 16,
    "start_time": "2024-12-23T01:15:54.901Z"
   },
   {
    "duration": 7,
    "start_time": "2024-12-23T01:15:54.937Z"
   },
   {
    "duration": 4,
    "start_time": "2024-12-23T01:15:54.946Z"
   },
   {
    "duration": 53,
    "start_time": "2024-12-23T01:15:54.951Z"
   },
   {
    "duration": 3,
    "start_time": "2024-12-23T01:15:55.006Z"
   },
   {
    "duration": 27,
    "start_time": "2024-12-23T01:15:55.010Z"
   },
   {
    "duration": 4,
    "start_time": "2024-12-23T01:15:55.039Z"
   },
   {
    "duration": 18,
    "start_time": "2024-12-23T01:15:55.044Z"
   },
   {
    "duration": 17,
    "start_time": "2024-12-23T01:15:55.063Z"
   },
   {
    "duration": 4,
    "start_time": "2024-12-23T01:15:55.081Z"
   },
   {
    "duration": 100053,
    "start_time": "2024-12-23T01:15:55.086Z"
   },
   {
    "duration": 3044,
    "start_time": "2024-12-23T01:17:40.364Z"
   },
   {
    "duration": 2439,
    "start_time": "2024-12-23T01:17:43.411Z"
   },
   {
    "duration": 2481,
    "start_time": "2024-12-23T01:17:45.852Z"
   },
   {
    "duration": 2484,
    "start_time": "2024-12-23T01:17:48.335Z"
   },
   {
    "duration": 1300,
    "start_time": "2024-12-23T01:17:50.822Z"
   },
   {
    "duration": 922,
    "start_time": "2024-12-23T01:17:52.123Z"
   },
   {
    "duration": 160,
    "start_time": "2024-12-23T01:17:53.046Z"
   },
   {
    "duration": 144,
    "start_time": "2024-12-23T01:17:53.208Z"
   },
   {
    "duration": 1415,
    "start_time": "2024-12-23T01:17:53.354Z"
   },
   {
    "duration": 183,
    "start_time": "2024-12-23T01:17:54.771Z"
   },
   {
    "duration": 18,
    "start_time": "2024-12-23T01:17:54.955Z"
   },
   {
    "duration": 155,
    "start_time": "2024-12-23T01:17:54.974Z"
   },
   {
    "duration": 71,
    "start_time": "2024-12-23T01:17:55.131Z"
   },
   {
    "duration": 526,
    "start_time": "2024-12-23T01:17:55.205Z"
   },
   {
    "duration": 1246,
    "start_time": "2024-12-23T01:17:55.732Z"
   },
   {
    "duration": 211,
    "start_time": "2024-12-23T01:17:56.979Z"
   },
   {
    "duration": 413,
    "start_time": "2024-12-23T01:17:57.191Z"
   },
   {
    "duration": 437,
    "start_time": "2024-12-23T01:17:57.606Z"
   },
   {
    "duration": 481,
    "start_time": "2024-12-23T01:17:58.045Z"
   },
   {
    "duration": 410,
    "start_time": "2024-12-23T01:17:58.528Z"
   },
   {
    "duration": 2,
    "start_time": "2024-12-23T01:17:58.940Z"
   },
   {
    "duration": 923,
    "start_time": "2024-12-23T01:17:58.944Z"
   },
   {
    "duration": 14,
    "start_time": "2024-12-23T01:17:59.869Z"
   },
   {
    "duration": 115,
    "start_time": "2024-12-23T01:17:59.885Z"
   },
   {
    "duration": 135,
    "start_time": "2024-12-23T01:18:00.002Z"
   },
   {
    "duration": 35,
    "start_time": "2024-12-23T01:18:00.139Z"
   },
   {
    "duration": 91,
    "start_time": "2024-12-23T01:18:00.176Z"
   },
   {
    "duration": 16,
    "start_time": "2024-12-23T01:18:00.269Z"
   },
   {
    "duration": 163,
    "start_time": "2024-12-23T01:18:00.287Z"
   },
   {
    "duration": 167,
    "start_time": "2024-12-23T01:18:00.452Z"
   },
   {
    "duration": 17,
    "start_time": "2024-12-23T01:18:00.621Z"
   },
   {
    "duration": 87,
    "start_time": "2024-12-23T01:18:00.639Z"
   },
   {
    "duration": 16,
    "start_time": "2024-12-23T01:18:00.727Z"
   },
   {
    "duration": 105,
    "start_time": "2024-12-23T01:18:00.744Z"
   },
   {
    "duration": 22,
    "start_time": "2024-12-23T01:18:00.851Z"
   },
   {
    "duration": 89,
    "start_time": "2024-12-23T01:18:00.874Z"
   },
   {
    "duration": 152,
    "start_time": "2024-12-23T01:18:00.965Z"
   },
   {
    "duration": 23,
    "start_time": "2024-12-23T01:18:01.119Z"
   },
   {
    "duration": 36,
    "start_time": "2024-12-23T01:18:01.144Z"
   },
   {
    "duration": 170,
    "start_time": "2024-12-23T01:18:01.181Z"
   },
   {
    "duration": 4,
    "start_time": "2024-12-23T01:18:01.355Z"
   },
   {
    "duration": 30,
    "start_time": "2024-12-23T01:18:01.361Z"
   },
   {
    "duration": 4935,
    "start_time": "2024-12-23T01:18:01.393Z"
   },
   {
    "duration": 52,
    "start_time": "2024-12-23T01:18:06.337Z"
   },
   {
    "duration": 17,
    "start_time": "2024-12-23T01:18:06.391Z"
   },
   {
    "duration": 38,
    "start_time": "2024-12-23T01:18:06.410Z"
   },
   {
    "duration": 26,
    "start_time": "2024-12-23T01:18:06.449Z"
   },
   {
    "duration": 64,
    "start_time": "2024-12-23T01:18:06.476Z"
   },
   {
    "duration": 3,
    "start_time": "2024-12-23T01:18:06.541Z"
   },
   {
    "duration": 80,
    "start_time": "2024-12-23T01:18:06.545Z"
   },
   {
    "duration": 29,
    "start_time": "2024-12-23T01:18:06.627Z"
   },
   {
    "duration": 15,
    "start_time": "2024-12-23T01:18:06.657Z"
   },
   {
    "duration": 31,
    "start_time": "2024-12-23T01:18:06.674Z"
   },
   {
    "duration": 29,
    "start_time": "2024-12-23T01:18:06.706Z"
   },
   {
    "duration": 115166,
    "start_time": "2024-12-23T01:18:06.736Z"
   },
   {
    "duration": 27,
    "start_time": "2024-12-23T01:21:20.896Z"
   },
   {
    "duration": 12,
    "start_time": "2024-12-23T01:23:09.614Z"
   },
   {
    "duration": 3300,
    "start_time": "2024-12-23T01:28:57.723Z"
   },
   {
    "duration": 2549,
    "start_time": "2024-12-23T01:29:01.025Z"
   },
   {
    "duration": 2519,
    "start_time": "2024-12-23T01:29:03.576Z"
   },
   {
    "duration": 2564,
    "start_time": "2024-12-23T01:29:06.098Z"
   },
   {
    "duration": 1354,
    "start_time": "2024-12-23T01:29:08.664Z"
   },
   {
    "duration": 957,
    "start_time": "2024-12-23T01:29:10.019Z"
   },
   {
    "duration": 152,
    "start_time": "2024-12-23T01:29:10.978Z"
   },
   {
    "duration": 144,
    "start_time": "2024-12-23T01:29:11.137Z"
   },
   {
    "duration": 1356,
    "start_time": "2024-12-23T01:29:11.282Z"
   },
   {
    "duration": 176,
    "start_time": "2024-12-23T01:29:12.641Z"
   },
   {
    "duration": 25,
    "start_time": "2024-12-23T01:29:12.819Z"
   },
   {
    "duration": 153,
    "start_time": "2024-12-23T01:29:12.845Z"
   },
   {
    "duration": 77,
    "start_time": "2024-12-23T01:29:12.999Z"
   },
   {
    "duration": 545,
    "start_time": "2024-12-23T01:29:13.078Z"
   },
   {
    "duration": 1261,
    "start_time": "2024-12-23T01:29:13.625Z"
   },
   {
    "duration": 210,
    "start_time": "2024-12-23T01:29:14.888Z"
   },
   {
    "duration": 446,
    "start_time": "2024-12-23T01:29:15.099Z"
   },
   {
    "duration": 437,
    "start_time": "2024-12-23T01:29:15.547Z"
   },
   {
    "duration": 477,
    "start_time": "2024-12-23T01:29:15.986Z"
   },
   {
    "duration": 450,
    "start_time": "2024-12-23T01:29:16.465Z"
   },
   {
    "duration": 3,
    "start_time": "2024-12-23T01:29:16.918Z"
   },
   {
    "duration": 930,
    "start_time": "2024-12-23T01:29:16.923Z"
   },
   {
    "duration": 14,
    "start_time": "2024-12-23T01:29:17.855Z"
   },
   {
    "duration": 116,
    "start_time": "2024-12-23T01:29:17.870Z"
   },
   {
    "duration": 130,
    "start_time": "2024-12-23T01:29:17.988Z"
   },
   {
    "duration": 45,
    "start_time": "2024-12-23T01:29:18.120Z"
   },
   {
    "duration": 76,
    "start_time": "2024-12-23T01:29:18.167Z"
   },
   {
    "duration": 14,
    "start_time": "2024-12-23T01:29:18.248Z"
   },
   {
    "duration": 133,
    "start_time": "2024-12-23T01:29:18.264Z"
   },
   {
    "duration": 188,
    "start_time": "2024-12-23T01:29:18.399Z"
   },
   {
    "duration": 12,
    "start_time": "2024-12-23T01:29:18.588Z"
   },
   {
    "duration": 99,
    "start_time": "2024-12-23T01:29:18.602Z"
   },
   {
    "duration": 15,
    "start_time": "2024-12-23T01:29:18.703Z"
   },
   {
    "duration": 93,
    "start_time": "2024-12-23T01:29:18.720Z"
   },
   {
    "duration": 44,
    "start_time": "2024-12-23T01:29:18.815Z"
   },
   {
    "duration": 51,
    "start_time": "2024-12-23T01:29:18.862Z"
   },
   {
    "duration": 166,
    "start_time": "2024-12-23T01:29:18.914Z"
   },
   {
    "duration": 15,
    "start_time": "2024-12-23T01:29:19.082Z"
   },
   {
    "duration": 39,
    "start_time": "2024-12-23T01:29:19.099Z"
   },
   {
    "duration": 66,
    "start_time": "2024-12-23T01:29:19.140Z"
   },
   {
    "duration": 4,
    "start_time": "2024-12-23T01:29:19.208Z"
   },
   {
    "duration": 70,
    "start_time": "2024-12-23T01:29:19.213Z"
   },
   {
    "duration": 4770,
    "start_time": "2024-12-23T01:29:19.285Z"
   },
   {
    "duration": 52,
    "start_time": "2024-12-23T01:29:24.058Z"
   },
   {
    "duration": 39,
    "start_time": "2024-12-23T01:29:24.111Z"
   },
   {
    "duration": 8,
    "start_time": "2024-12-23T01:29:24.152Z"
   },
   {
    "duration": 7,
    "start_time": "2024-12-23T01:29:24.162Z"
   },
   {
    "duration": 75,
    "start_time": "2024-12-23T01:29:24.170Z"
   },
   {
    "duration": 4,
    "start_time": "2024-12-23T01:29:24.247Z"
   },
   {
    "duration": 5,
    "start_time": "2024-12-23T01:29:24.253Z"
   },
   {
    "duration": 6,
    "start_time": "2024-12-23T01:29:24.259Z"
   },
   {
    "duration": 5,
    "start_time": "2024-12-23T01:29:24.266Z"
   },
   {
    "duration": 16,
    "start_time": "2024-12-23T01:29:24.273Z"
   },
   {
    "duration": 6,
    "start_time": "2024-12-23T01:29:24.290Z"
   },
   {
    "duration": 190,
    "start_time": "2024-12-23T01:29:24.298Z"
   },
   {
    "duration": 11,
    "start_time": "2024-12-23T01:29:24.490Z"
   },
   {
    "duration": 0,
    "start_time": "2024-12-23T01:29:24.503Z"
   },
   {
    "duration": 0,
    "start_time": "2024-12-23T01:29:24.505Z"
   },
   {
    "duration": 0,
    "start_time": "2024-12-23T01:29:24.506Z"
   },
   {
    "duration": 0,
    "start_time": "2024-12-23T01:29:24.582Z"
   },
   {
    "duration": 3063,
    "start_time": "2024-12-23T01:30:28.697Z"
   },
   {
    "duration": 2459,
    "start_time": "2024-12-23T01:30:31.762Z"
   },
   {
    "duration": 2401,
    "start_time": "2024-12-23T01:30:34.223Z"
   },
   {
    "duration": 2532,
    "start_time": "2024-12-23T01:30:36.626Z"
   },
   {
    "duration": 1310,
    "start_time": "2024-12-23T01:30:39.161Z"
   },
   {
    "duration": 904,
    "start_time": "2024-12-23T01:30:40.472Z"
   },
   {
    "duration": 160,
    "start_time": "2024-12-23T01:30:41.377Z"
   },
   {
    "duration": 149,
    "start_time": "2024-12-23T01:30:41.538Z"
   },
   {
    "duration": 1281,
    "start_time": "2024-12-23T01:30:41.689Z"
   },
   {
    "duration": 180,
    "start_time": "2024-12-23T01:30:42.972Z"
   },
   {
    "duration": 17,
    "start_time": "2024-12-23T01:30:43.154Z"
   },
   {
    "duration": 152,
    "start_time": "2024-12-23T01:30:43.172Z"
   },
   {
    "duration": 90,
    "start_time": "2024-12-23T01:30:43.325Z"
   },
   {
    "duration": 520,
    "start_time": "2024-12-23T01:30:43.418Z"
   },
   {
    "duration": 1211,
    "start_time": "2024-12-23T01:30:43.939Z"
   },
   {
    "duration": 213,
    "start_time": "2024-12-23T01:30:45.151Z"
   },
   {
    "duration": 418,
    "start_time": "2024-12-23T01:30:45.366Z"
   },
   {
    "duration": 449,
    "start_time": "2024-12-23T01:30:45.786Z"
   },
   {
    "duration": 485,
    "start_time": "2024-12-23T01:30:46.236Z"
   },
   {
    "duration": 430,
    "start_time": "2024-12-23T01:30:46.723Z"
   },
   {
    "duration": 2,
    "start_time": "2024-12-23T01:30:47.155Z"
   },
   {
    "duration": 905,
    "start_time": "2024-12-23T01:30:47.159Z"
   },
   {
    "duration": 13,
    "start_time": "2024-12-23T01:30:48.066Z"
   },
   {
    "duration": 106,
    "start_time": "2024-12-23T01:30:48.081Z"
   },
   {
    "duration": 150,
    "start_time": "2024-12-23T01:30:48.189Z"
   },
   {
    "duration": 37,
    "start_time": "2024-12-23T01:30:48.340Z"
   },
   {
    "duration": 80,
    "start_time": "2024-12-23T01:30:48.378Z"
   },
   {
    "duration": 14,
    "start_time": "2024-12-23T01:30:48.460Z"
   },
   {
    "duration": 138,
    "start_time": "2024-12-23T01:30:48.476Z"
   },
   {
    "duration": 164,
    "start_time": "2024-12-23T01:30:48.616Z"
   },
   {
    "duration": 11,
    "start_time": "2024-12-23T01:30:48.782Z"
   },
   {
    "duration": 70,
    "start_time": "2024-12-23T01:30:48.794Z"
   },
   {
    "duration": 14,
    "start_time": "2024-12-23T01:30:48.865Z"
   },
   {
    "duration": 102,
    "start_time": "2024-12-23T01:30:48.881Z"
   },
   {
    "duration": 22,
    "start_time": "2024-12-23T01:30:48.985Z"
   },
   {
    "duration": 59,
    "start_time": "2024-12-23T01:30:49.009Z"
   },
   {
    "duration": 147,
    "start_time": "2024-12-23T01:30:49.070Z"
   },
   {
    "duration": 23,
    "start_time": "2024-12-23T01:30:49.219Z"
   },
   {
    "duration": 52,
    "start_time": "2024-12-23T01:30:49.243Z"
   },
   {
    "duration": 62,
    "start_time": "2024-12-23T01:30:49.297Z"
   },
   {
    "duration": 3,
    "start_time": "2024-12-23T01:30:49.363Z"
   },
   {
    "duration": 16,
    "start_time": "2024-12-23T01:30:49.368Z"
   },
   {
    "duration": 4816,
    "start_time": "2024-12-23T01:30:49.386Z"
   },
   {
    "duration": 64,
    "start_time": "2024-12-23T01:30:54.203Z"
   },
   {
    "duration": 15,
    "start_time": "2024-12-23T01:30:54.269Z"
   },
   {
    "duration": 74,
    "start_time": "2024-12-23T01:30:54.286Z"
   },
   {
    "duration": 21,
    "start_time": "2024-12-23T01:30:54.362Z"
   },
   {
    "duration": 67,
    "start_time": "2024-12-23T01:30:54.384Z"
   },
   {
    "duration": 3,
    "start_time": "2024-12-23T01:30:54.453Z"
   },
   {
    "duration": 15,
    "start_time": "2024-12-23T01:30:54.457Z"
   },
   {
    "duration": 16,
    "start_time": "2024-12-23T01:30:54.474Z"
   },
   {
    "duration": 23,
    "start_time": "2024-12-23T01:30:54.491Z"
   },
   {
    "duration": 10,
    "start_time": "2024-12-23T01:30:54.516Z"
   },
   {
    "duration": 14,
    "start_time": "2024-12-23T01:30:54.527Z"
   },
   {
    "duration": 226,
    "start_time": "2024-12-23T01:30:54.543Z"
   },
   {
    "duration": 10,
    "start_time": "2024-12-23T01:30:54.771Z"
   },
   {
    "duration": 0,
    "start_time": "2024-12-23T01:30:54.782Z"
   },
   {
    "duration": 0,
    "start_time": "2024-12-23T01:30:54.783Z"
   },
   {
    "duration": 0,
    "start_time": "2024-12-23T01:30:54.785Z"
   },
   {
    "duration": 0,
    "start_time": "2024-12-23T01:30:54.786Z"
   },
   {
    "duration": 27550,
    "start_time": "2024-12-23T01:32:19.515Z"
   },
   {
    "duration": 26,
    "start_time": "2024-12-23T01:33:01.114Z"
   },
   {
    "duration": 12,
    "start_time": "2024-12-23T01:33:07.635Z"
   },
   {
    "duration": 259584,
    "start_time": "2024-12-23T01:33:12.802Z"
   },
   {
    "duration": 24,
    "start_time": "2024-12-23T01:42:52.941Z"
   },
   {
    "duration": 4,
    "start_time": "2024-12-23T01:43:44.671Z"
   },
   {
    "duration": 3075,
    "start_time": "2024-12-23T01:44:07.855Z"
   },
   {
    "duration": 2453,
    "start_time": "2024-12-23T01:44:10.932Z"
   },
   {
    "duration": 2466,
    "start_time": "2024-12-23T01:44:13.386Z"
   },
   {
    "duration": 2491,
    "start_time": "2024-12-23T01:44:15.854Z"
   },
   {
    "duration": 1343,
    "start_time": "2024-12-23T01:44:18.348Z"
   },
   {
    "duration": 881,
    "start_time": "2024-12-23T01:44:19.693Z"
   },
   {
    "duration": 153,
    "start_time": "2024-12-23T01:44:20.576Z"
   },
   {
    "duration": 137,
    "start_time": "2024-12-23T01:44:20.736Z"
   },
   {
    "duration": 1278,
    "start_time": "2024-12-23T01:44:20.874Z"
   },
   {
    "duration": 183,
    "start_time": "2024-12-23T01:44:22.154Z"
   },
   {
    "duration": 16,
    "start_time": "2024-12-23T01:44:22.339Z"
   },
   {
    "duration": 150,
    "start_time": "2024-12-23T01:44:22.357Z"
   },
   {
    "duration": 78,
    "start_time": "2024-12-23T01:44:22.509Z"
   },
   {
    "duration": 530,
    "start_time": "2024-12-23T01:44:22.590Z"
   },
   {
    "duration": 1196,
    "start_time": "2024-12-23T01:44:23.121Z"
   },
   {
    "duration": 202,
    "start_time": "2024-12-23T01:44:24.319Z"
   },
   {
    "duration": 425,
    "start_time": "2024-12-23T01:44:24.522Z"
   },
   {
    "duration": 442,
    "start_time": "2024-12-23T01:44:24.949Z"
   },
   {
    "duration": 457,
    "start_time": "2024-12-23T01:44:25.392Z"
   },
   {
    "duration": 399,
    "start_time": "2024-12-23T01:44:25.851Z"
   },
   {
    "duration": 3,
    "start_time": "2024-12-23T01:44:26.251Z"
   },
   {
    "duration": 909,
    "start_time": "2024-12-23T01:44:26.255Z"
   },
   {
    "duration": 14,
    "start_time": "2024-12-23T01:44:27.166Z"
   },
   {
    "duration": 110,
    "start_time": "2024-12-23T01:44:27.181Z"
   },
   {
    "duration": 123,
    "start_time": "2024-12-23T01:44:27.293Z"
   },
   {
    "duration": 44,
    "start_time": "2024-12-23T01:44:27.418Z"
   },
   {
    "duration": 60,
    "start_time": "2024-12-23T01:44:27.463Z"
   },
   {
    "duration": 13,
    "start_time": "2024-12-23T01:44:27.537Z"
   },
   {
    "duration": 128,
    "start_time": "2024-12-23T01:44:27.551Z"
   },
   {
    "duration": 162,
    "start_time": "2024-12-23T01:44:27.681Z"
   },
   {
    "duration": 11,
    "start_time": "2024-12-23T01:44:27.845Z"
   },
   {
    "duration": 54,
    "start_time": "2024-12-23T01:44:27.858Z"
   },
   {
    "duration": 35,
    "start_time": "2024-12-23T01:44:27.914Z"
   },
   {
    "duration": 96,
    "start_time": "2024-12-23T01:44:27.951Z"
   },
   {
    "duration": 22,
    "start_time": "2024-12-23T01:44:28.049Z"
   },
   {
    "duration": 64,
    "start_time": "2024-12-23T01:44:28.073Z"
   },
   {
    "duration": 148,
    "start_time": "2024-12-23T01:44:28.138Z"
   },
   {
    "duration": 14,
    "start_time": "2024-12-23T01:44:28.288Z"
   },
   {
    "duration": 37,
    "start_time": "2024-12-23T01:44:28.304Z"
   },
   {
    "duration": 63,
    "start_time": "2024-12-23T01:44:28.343Z"
   },
   {
    "duration": 5,
    "start_time": "2024-12-23T01:44:28.417Z"
   },
   {
    "duration": 10,
    "start_time": "2024-12-23T01:44:28.436Z"
   },
   {
    "duration": 4774,
    "start_time": "2024-12-23T01:44:28.448Z"
   },
   {
    "duration": 59,
    "start_time": "2024-12-23T01:44:33.224Z"
   },
   {
    "duration": 17,
    "start_time": "2024-12-23T01:44:33.285Z"
   },
   {
    "duration": 19,
    "start_time": "2024-12-23T01:44:33.304Z"
   },
   {
    "duration": 7,
    "start_time": "2024-12-23T01:44:33.338Z"
   },
   {
    "duration": 64,
    "start_time": "2024-12-23T01:44:33.347Z"
   },
   {
    "duration": 3,
    "start_time": "2024-12-23T01:44:33.413Z"
   },
   {
    "duration": 17,
    "start_time": "2024-12-23T01:44:33.418Z"
   },
   {
    "duration": 5,
    "start_time": "2024-12-23T01:44:33.437Z"
   },
   {
    "duration": 21,
    "start_time": "2024-12-23T01:44:33.444Z"
   },
   {
    "duration": 4,
    "start_time": "2024-12-23T01:44:33.466Z"
   },
   {
    "duration": 18,
    "start_time": "2024-12-23T01:44:33.471Z"
   },
   {
    "duration": 26484,
    "start_time": "2024-12-23T01:44:33.491Z"
   },
   {
    "duration": 24,
    "start_time": "2024-12-23T01:44:59.976Z"
   },
   {
    "duration": 43,
    "start_time": "2024-12-23T01:45:00.002Z"
   },
   {
    "duration": 270,
    "start_time": "2024-12-23T01:45:00.046Z"
   },
   {
    "duration": 9,
    "start_time": "2024-12-23T01:45:00.318Z"
   },
   {
    "duration": 0,
    "start_time": "2024-12-23T01:45:00.329Z"
   },
   {
    "duration": 3020,
    "start_time": "2024-12-23T01:55:21.753Z"
   },
   {
    "duration": 2411,
    "start_time": "2024-12-23T01:55:24.775Z"
   },
   {
    "duration": 2940,
    "start_time": "2024-12-23T01:55:27.187Z"
   },
   {
    "duration": 2451,
    "start_time": "2024-12-23T01:55:30.129Z"
   },
   {
    "duration": 1213,
    "start_time": "2024-12-23T01:55:32.584Z"
   },
   {
    "duration": 912,
    "start_time": "2024-12-23T01:55:33.799Z"
   },
   {
    "duration": 149,
    "start_time": "2024-12-23T01:55:34.713Z"
   },
   {
    "duration": 134,
    "start_time": "2024-12-23T01:55:34.863Z"
   },
   {
    "duration": 1403,
    "start_time": "2024-12-23T01:55:34.999Z"
   },
   {
    "duration": 208,
    "start_time": "2024-12-23T01:55:36.403Z"
   },
   {
    "duration": 26,
    "start_time": "2024-12-23T01:55:36.613Z"
   },
   {
    "duration": 147,
    "start_time": "2024-12-23T01:55:36.640Z"
   },
   {
    "duration": 76,
    "start_time": "2024-12-23T01:55:36.789Z"
   },
   {
    "duration": 569,
    "start_time": "2024-12-23T01:55:36.870Z"
   },
   {
    "duration": 1268,
    "start_time": "2024-12-23T01:55:37.441Z"
   },
   {
    "duration": 208,
    "start_time": "2024-12-23T01:55:38.711Z"
   },
   {
    "duration": 420,
    "start_time": "2024-12-23T01:55:38.921Z"
   },
   {
    "duration": 444,
    "start_time": "2024-12-23T01:55:39.342Z"
   },
   {
    "duration": 479,
    "start_time": "2024-12-23T01:55:39.788Z"
   },
   {
    "duration": 431,
    "start_time": "2024-12-23T01:55:40.269Z"
   },
   {
    "duration": 3,
    "start_time": "2024-12-23T01:55:40.702Z"
   },
   {
    "duration": 915,
    "start_time": "2024-12-23T01:55:40.706Z"
   },
   {
    "duration": 27,
    "start_time": "2024-12-23T01:55:41.623Z"
   },
   {
    "duration": 109,
    "start_time": "2024-12-23T01:55:41.652Z"
   },
   {
    "duration": 136,
    "start_time": "2024-12-23T01:55:41.763Z"
   },
   {
    "duration": 44,
    "start_time": "2024-12-23T01:55:41.901Z"
   },
   {
    "duration": 59,
    "start_time": "2024-12-23T01:55:41.947Z"
   },
   {
    "duration": 13,
    "start_time": "2024-12-23T01:55:42.008Z"
   },
   {
    "duration": 128,
    "start_time": "2024-12-23T01:55:42.038Z"
   },
   {
    "duration": 171,
    "start_time": "2024-12-23T01:55:42.168Z"
   },
   {
    "duration": 12,
    "start_time": "2024-12-23T01:55:42.341Z"
   },
   {
    "duration": 63,
    "start_time": "2024-12-23T01:55:42.355Z"
   },
   {
    "duration": 27,
    "start_time": "2024-12-23T01:55:42.420Z"
   },
   {
    "duration": 102,
    "start_time": "2024-12-23T01:55:42.449Z"
   },
   {
    "duration": 24,
    "start_time": "2024-12-23T01:55:42.553Z"
   },
   {
    "duration": 60,
    "start_time": "2024-12-23T01:55:42.579Z"
   },
   {
    "duration": 156,
    "start_time": "2024-12-23T01:55:42.641Z"
   },
   {
    "duration": 15,
    "start_time": "2024-12-23T01:55:42.799Z"
   },
   {
    "duration": 43,
    "start_time": "2024-12-23T01:55:42.815Z"
   },
   {
    "duration": 63,
    "start_time": "2024-12-23T01:55:42.859Z"
   },
   {
    "duration": 4,
    "start_time": "2024-12-23T01:55:42.936Z"
   },
   {
    "duration": 23,
    "start_time": "2024-12-23T01:55:42.941Z"
   },
   {
    "duration": 4773,
    "start_time": "2024-12-23T01:55:42.966Z"
   },
   {
    "duration": 50,
    "start_time": "2024-12-23T01:55:47.741Z"
   },
   {
    "duration": 15,
    "start_time": "2024-12-23T01:55:47.793Z"
   },
   {
    "duration": 29,
    "start_time": "2024-12-23T01:55:47.810Z"
   },
   {
    "duration": 3,
    "start_time": "2024-12-23T01:55:47.840Z"
   },
   {
    "duration": 54,
    "start_time": "2024-12-23T01:55:47.844Z"
   },
   {
    "duration": 3,
    "start_time": "2024-12-23T01:55:47.900Z"
   },
   {
    "duration": 3,
    "start_time": "2024-12-23T01:55:47.905Z"
   },
   {
    "duration": 27,
    "start_time": "2024-12-23T01:55:47.910Z"
   },
   {
    "duration": 4,
    "start_time": "2024-12-23T01:55:47.939Z"
   },
   {
    "duration": 11,
    "start_time": "2024-12-23T01:55:47.944Z"
   },
   {
    "duration": 8,
    "start_time": "2024-12-23T01:55:47.957Z"
   },
   {
    "duration": 27307,
    "start_time": "2024-12-23T01:55:47.966Z"
   },
   {
    "duration": 27,
    "start_time": "2024-12-23T01:56:15.276Z"
   },
   {
    "duration": 63,
    "start_time": "2024-12-23T01:56:15.305Z"
   },
   {
    "duration": 684068,
    "start_time": "2024-12-23T01:56:15.371Z"
   },
   {
    "duration": 26,
    "start_time": "2024-12-23T02:07:39.440Z"
   },
   {
    "duration": 18,
    "start_time": "2024-12-23T02:07:39.467Z"
   },
   {
    "duration": 6814,
    "start_time": "2024-12-23T05:58:35.825Z"
   },
   {
    "duration": 2974,
    "start_time": "2024-12-23T05:58:42.641Z"
   },
   {
    "duration": 2323,
    "start_time": "2024-12-23T05:58:45.616Z"
   },
   {
    "duration": 3023,
    "start_time": "2024-12-23T05:58:47.942Z"
   },
   {
    "duration": 1557,
    "start_time": "2024-12-23T05:58:50.967Z"
   },
   {
    "duration": 3044,
    "start_time": "2024-12-23T05:58:52.526Z"
   },
   {
    "duration": 149,
    "start_time": "2024-12-23T05:58:55.572Z"
   },
   {
    "duration": 165,
    "start_time": "2024-12-23T05:58:55.723Z"
   },
   {
    "duration": 1482,
    "start_time": "2024-12-23T05:58:55.889Z"
   },
   {
    "duration": 164,
    "start_time": "2024-12-23T05:58:57.374Z"
   },
   {
    "duration": 18,
    "start_time": "2024-12-23T05:58:57.540Z"
   },
   {
    "duration": 154,
    "start_time": "2024-12-23T05:58:57.560Z"
   },
   {
    "duration": 75,
    "start_time": "2024-12-23T05:58:57.716Z"
   },
   {
    "duration": 604,
    "start_time": "2024-12-23T05:58:57.792Z"
   },
   {
    "duration": 1187,
    "start_time": "2024-12-23T05:58:58.398Z"
   },
   {
    "duration": 201,
    "start_time": "2024-12-23T05:58:59.587Z"
   },
   {
    "duration": 409,
    "start_time": "2024-12-23T05:58:59.791Z"
   },
   {
    "duration": 433,
    "start_time": "2024-12-23T05:59:00.202Z"
   },
   {
    "duration": 452,
    "start_time": "2024-12-23T05:59:00.637Z"
   },
   {
    "duration": 419,
    "start_time": "2024-12-23T05:59:01.091Z"
   },
   {
    "duration": 2,
    "start_time": "2024-12-23T05:59:01.512Z"
   },
   {
    "duration": 842,
    "start_time": "2024-12-23T05:59:01.516Z"
   },
   {
    "duration": 14,
    "start_time": "2024-12-23T05:59:02.359Z"
   },
   {
    "duration": 113,
    "start_time": "2024-12-23T05:59:02.374Z"
   },
   {
    "duration": 132,
    "start_time": "2024-12-23T05:59:02.488Z"
   },
   {
    "duration": 40,
    "start_time": "2024-12-23T05:59:02.621Z"
   },
   {
    "duration": 194,
    "start_time": "2024-12-23T05:59:02.662Z"
   },
   {
    "duration": 14,
    "start_time": "2024-12-23T05:59:02.860Z"
   },
   {
    "duration": 126,
    "start_time": "2024-12-23T05:59:02.875Z"
   },
   {
    "duration": 163,
    "start_time": "2024-12-23T05:59:03.002Z"
   },
   {
    "duration": 11,
    "start_time": "2024-12-23T05:59:03.167Z"
   },
   {
    "duration": 66,
    "start_time": "2024-12-23T05:59:03.180Z"
   },
   {
    "duration": 41,
    "start_time": "2024-12-23T05:59:03.248Z"
   },
   {
    "duration": 124,
    "start_time": "2024-12-23T05:59:03.291Z"
   },
   {
    "duration": 28,
    "start_time": "2024-12-23T05:59:03.416Z"
   },
   {
    "duration": 46,
    "start_time": "2024-12-23T05:59:03.446Z"
   },
   {
    "duration": 159,
    "start_time": "2024-12-23T05:59:03.494Z"
   },
   {
    "duration": 15,
    "start_time": "2024-12-23T05:59:03.655Z"
   },
   {
    "duration": 145,
    "start_time": "2024-12-23T05:59:03.671Z"
   },
   {
    "duration": 62,
    "start_time": "2024-12-23T05:59:03.818Z"
   },
   {
    "duration": 4,
    "start_time": "2024-12-23T05:59:03.882Z"
   },
   {
    "duration": 24,
    "start_time": "2024-12-23T05:59:03.887Z"
   },
   {
    "duration": 5135,
    "start_time": "2024-12-23T05:59:03.912Z"
   },
   {
    "duration": 50,
    "start_time": "2024-12-23T05:59:09.048Z"
   },
   {
    "duration": 33,
    "start_time": "2024-12-23T05:59:09.099Z"
   },
   {
    "duration": 7,
    "start_time": "2024-12-23T05:59:09.134Z"
   },
   {
    "duration": 4,
    "start_time": "2024-12-23T05:59:09.143Z"
   },
   {
    "duration": 58,
    "start_time": "2024-12-23T05:59:09.149Z"
   },
   {
    "duration": 21,
    "start_time": "2024-12-23T05:59:09.209Z"
   },
   {
    "duration": 12,
    "start_time": "2024-12-23T05:59:09.232Z"
   },
   {
    "duration": 4,
    "start_time": "2024-12-23T05:59:09.246Z"
   },
   {
    "duration": 13,
    "start_time": "2024-12-23T05:59:09.252Z"
   },
   {
    "duration": 5,
    "start_time": "2024-12-23T05:59:09.267Z"
   },
   {
    "duration": 8,
    "start_time": "2024-12-23T05:59:09.274Z"
   },
   {
    "duration": 31276,
    "start_time": "2024-12-23T05:59:09.284Z"
   },
   {
    "duration": 25,
    "start_time": "2024-12-23T05:59:40.562Z"
   },
   {
    "duration": 14,
    "start_time": "2024-12-23T05:59:40.588Z"
   },
   {
    "duration": 400961,
    "start_time": "2024-12-23T05:59:40.603Z"
   },
   {
    "duration": 11,
    "start_time": "2024-12-23T06:06:21.566Z"
   },
   {
    "duration": 0,
    "start_time": "2024-12-23T06:06:21.579Z"
   },
   {
    "duration": 3003,
    "start_time": "2024-12-23T06:06:25.640Z"
   },
   {
    "duration": 2428,
    "start_time": "2024-12-23T06:06:28.646Z"
   },
   {
    "duration": 3193,
    "start_time": "2024-12-23T06:06:31.077Z"
   },
   {
    "duration": 2486,
    "start_time": "2024-12-23T06:06:34.274Z"
   },
   {
    "duration": 1352,
    "start_time": "2024-12-23T06:06:36.762Z"
   },
   {
    "duration": 923,
    "start_time": "2024-12-23T06:06:38.116Z"
   },
   {
    "duration": 146,
    "start_time": "2024-12-23T06:06:39.040Z"
   },
   {
    "duration": 146,
    "start_time": "2024-12-23T06:06:39.188Z"
   },
   {
    "duration": 1432,
    "start_time": "2024-12-23T06:06:39.335Z"
   },
   {
    "duration": 173,
    "start_time": "2024-12-23T06:06:40.769Z"
   },
   {
    "duration": 17,
    "start_time": "2024-12-23T06:06:40.944Z"
   },
   {
    "duration": 152,
    "start_time": "2024-12-23T06:06:40.963Z"
   },
   {
    "duration": 77,
    "start_time": "2024-12-23T06:06:41.117Z"
   },
   {
    "duration": 554,
    "start_time": "2024-12-23T06:06:41.196Z"
   },
   {
    "duration": 1228,
    "start_time": "2024-12-23T06:06:41.752Z"
   },
   {
    "duration": 204,
    "start_time": "2024-12-23T06:06:42.982Z"
   },
   {
    "duration": 424,
    "start_time": "2024-12-23T06:06:43.187Z"
   },
   {
    "duration": 430,
    "start_time": "2024-12-23T06:06:43.613Z"
   },
   {
    "duration": 469,
    "start_time": "2024-12-23T06:06:44.045Z"
   },
   {
    "duration": 419,
    "start_time": "2024-12-23T06:06:44.515Z"
   },
   {
    "duration": 3,
    "start_time": "2024-12-23T06:06:44.935Z"
   },
   {
    "duration": 916,
    "start_time": "2024-12-23T06:06:44.939Z"
   },
   {
    "duration": 17,
    "start_time": "2024-12-23T06:06:45.857Z"
   },
   {
    "duration": 115,
    "start_time": "2024-12-23T06:06:45.876Z"
   },
   {
    "duration": 149,
    "start_time": "2024-12-23T06:06:45.993Z"
   },
   {
    "duration": 36,
    "start_time": "2024-12-23T06:06:46.144Z"
   },
   {
    "duration": 74,
    "start_time": "2024-12-23T06:06:46.182Z"
   },
   {
    "duration": 14,
    "start_time": "2024-12-23T06:06:46.261Z"
   },
   {
    "duration": 139,
    "start_time": "2024-12-23T06:06:46.277Z"
   },
   {
    "duration": 176,
    "start_time": "2024-12-23T06:06:46.418Z"
   },
   {
    "duration": 12,
    "start_time": "2024-12-23T06:06:46.596Z"
   },
   {
    "duration": 66,
    "start_time": "2024-12-23T06:06:46.609Z"
   },
   {
    "duration": 14,
    "start_time": "2024-12-23T06:06:46.677Z"
   },
   {
    "duration": 228,
    "start_time": "2024-12-23T06:06:46.693Z"
   },
   {
    "duration": 23,
    "start_time": "2024-12-23T06:06:46.923Z"
   },
   {
    "duration": 48,
    "start_time": "2024-12-23T06:06:46.948Z"
   },
   {
    "duration": 167,
    "start_time": "2024-12-23T06:06:46.997Z"
   },
   {
    "duration": 15,
    "start_time": "2024-12-23T06:06:47.165Z"
   },
   {
    "duration": 26,
    "start_time": "2024-12-23T06:06:47.182Z"
   },
   {
    "duration": 80,
    "start_time": "2024-12-23T06:06:47.209Z"
   },
   {
    "duration": 3,
    "start_time": "2024-12-23T06:06:47.291Z"
   },
   {
    "duration": 27,
    "start_time": "2024-12-23T06:06:47.295Z"
   },
   {
    "duration": 4802,
    "start_time": "2024-12-23T06:06:47.323Z"
   },
   {
    "duration": 49,
    "start_time": "2024-12-23T06:06:52.129Z"
   },
   {
    "duration": 15,
    "start_time": "2024-12-23T06:06:52.180Z"
   },
   {
    "duration": 17,
    "start_time": "2024-12-23T06:06:52.197Z"
   },
   {
    "duration": 16,
    "start_time": "2024-12-23T06:06:52.215Z"
   },
   {
    "duration": 61,
    "start_time": "2024-12-23T06:06:52.233Z"
   },
   {
    "duration": 2,
    "start_time": "2024-12-23T06:06:52.296Z"
   },
   {
    "duration": 87,
    "start_time": "2024-12-23T06:06:52.300Z"
   },
   {
    "duration": 21,
    "start_time": "2024-12-23T06:06:52.389Z"
   },
   {
    "duration": 10,
    "start_time": "2024-12-23T06:06:52.412Z"
   },
   {
    "duration": 23,
    "start_time": "2024-12-23T06:06:52.423Z"
   },
   {
    "duration": 7,
    "start_time": "2024-12-23T06:06:52.448Z"
   },
   {
    "duration": 2041,
    "start_time": "2024-12-23T06:06:52.456Z"
   },
   {
    "duration": 10,
    "start_time": "2024-12-23T06:06:54.499Z"
   },
   {
    "duration": 0,
    "start_time": "2024-12-23T06:06:54.511Z"
   },
   {
    "duration": 0,
    "start_time": "2024-12-23T06:06:54.512Z"
   },
   {
    "duration": 0,
    "start_time": "2024-12-23T06:06:54.513Z"
   },
   {
    "duration": 0,
    "start_time": "2024-12-23T06:06:54.514Z"
   },
   {
    "duration": 3160,
    "start_time": "2024-12-23T06:07:16.937Z"
   },
   {
    "duration": 2701,
    "start_time": "2024-12-23T06:07:20.100Z"
   },
   {
    "duration": 2671,
    "start_time": "2024-12-23T06:07:22.803Z"
   },
   {
    "duration": 2450,
    "start_time": "2024-12-23T06:07:25.476Z"
   },
   {
    "duration": 1374,
    "start_time": "2024-12-23T06:07:27.929Z"
   },
   {
    "duration": 916,
    "start_time": "2024-12-23T06:07:29.305Z"
   },
   {
    "duration": 161,
    "start_time": "2024-12-23T06:07:30.222Z"
   },
   {
    "duration": 146,
    "start_time": "2024-12-23T06:07:30.385Z"
   },
   {
    "duration": 1343,
    "start_time": "2024-12-23T06:07:30.532Z"
   },
   {
    "duration": 187,
    "start_time": "2024-12-23T06:07:31.877Z"
   },
   {
    "duration": 19,
    "start_time": "2024-12-23T06:07:32.067Z"
   },
   {
    "duration": 151,
    "start_time": "2024-12-23T06:07:32.087Z"
   },
   {
    "duration": 66,
    "start_time": "2024-12-23T06:07:32.239Z"
   },
   {
    "duration": 539,
    "start_time": "2024-12-23T06:07:32.308Z"
   },
   {
    "duration": 1201,
    "start_time": "2024-12-23T06:07:32.849Z"
   },
   {
    "duration": 198,
    "start_time": "2024-12-23T06:07:34.052Z"
   },
   {
    "duration": 404,
    "start_time": "2024-12-23T06:07:34.252Z"
   },
   {
    "duration": 445,
    "start_time": "2024-12-23T06:07:34.658Z"
   },
   {
    "duration": 469,
    "start_time": "2024-12-23T06:07:35.105Z"
   },
   {
    "duration": 414,
    "start_time": "2024-12-23T06:07:35.576Z"
   },
   {
    "duration": 2,
    "start_time": "2024-12-23T06:07:35.992Z"
   },
   {
    "duration": 940,
    "start_time": "2024-12-23T06:07:35.996Z"
   },
   {
    "duration": 15,
    "start_time": "2024-12-23T06:07:36.937Z"
   },
   {
    "duration": 116,
    "start_time": "2024-12-23T06:07:36.953Z"
   },
   {
    "duration": 134,
    "start_time": "2024-12-23T06:07:37.071Z"
   },
   {
    "duration": 44,
    "start_time": "2024-12-23T06:07:37.207Z"
   },
   {
    "duration": 60,
    "start_time": "2024-12-23T06:07:37.252Z"
   },
   {
    "duration": 26,
    "start_time": "2024-12-23T06:07:37.314Z"
   },
   {
    "duration": 134,
    "start_time": "2024-12-23T06:07:37.341Z"
   },
   {
    "duration": 171,
    "start_time": "2024-12-23T06:07:37.477Z"
   },
   {
    "duration": 11,
    "start_time": "2024-12-23T06:07:37.650Z"
   },
   {
    "duration": 183,
    "start_time": "2024-12-23T06:07:37.663Z"
   },
   {
    "duration": 14,
    "start_time": "2024-12-23T06:07:37.848Z"
   },
   {
    "duration": 97,
    "start_time": "2024-12-23T06:07:37.864Z"
   },
   {
    "duration": 23,
    "start_time": "2024-12-23T06:07:37.962Z"
   },
   {
    "duration": 59,
    "start_time": "2024-12-23T06:07:37.986Z"
   },
   {
    "duration": 154,
    "start_time": "2024-12-23T06:07:38.047Z"
   },
   {
    "duration": 14,
    "start_time": "2024-12-23T06:07:38.203Z"
   },
   {
    "duration": 25,
    "start_time": "2024-12-23T06:07:38.230Z"
   },
   {
    "duration": 74,
    "start_time": "2024-12-23T06:07:38.256Z"
   },
   {
    "duration": 4,
    "start_time": "2024-12-23T06:07:38.334Z"
   },
   {
    "duration": 55,
    "start_time": "2024-12-23T06:07:38.339Z"
   },
   {
    "duration": 4883,
    "start_time": "2024-12-23T06:07:38.396Z"
   },
   {
    "duration": 56,
    "start_time": "2024-12-23T06:07:43.281Z"
   },
   {
    "duration": 16,
    "start_time": "2024-12-23T06:07:43.339Z"
   },
   {
    "duration": 6,
    "start_time": "2024-12-23T06:07:43.357Z"
   },
   {
    "duration": 6,
    "start_time": "2024-12-23T06:07:43.365Z"
   },
   {
    "duration": 78,
    "start_time": "2024-12-23T06:07:43.373Z"
   },
   {
    "duration": 3,
    "start_time": "2024-12-23T06:07:43.452Z"
   },
   {
    "duration": 5,
    "start_time": "2024-12-23T06:07:43.456Z"
   },
   {
    "duration": 4,
    "start_time": "2024-12-23T06:07:43.462Z"
   },
   {
    "duration": 10,
    "start_time": "2024-12-23T06:07:43.467Z"
   },
   {
    "duration": 8,
    "start_time": "2024-12-23T06:07:43.479Z"
   },
   {
    "duration": 16,
    "start_time": "2024-12-23T06:07:43.489Z"
   },
   {
    "duration": 38151,
    "start_time": "2024-12-23T06:07:43.506Z"
   },
   {
    "duration": 25,
    "start_time": "2024-12-23T06:08:21.658Z"
   },
   {
    "duration": 13,
    "start_time": "2024-12-23T06:08:21.685Z"
   },
   {
    "duration": 246,
    "start_time": "2024-12-23T06:08:21.700Z"
   },
   {
    "duration": 14,
    "start_time": "2024-12-23T06:08:21.948Z"
   },
   {
    "duration": 1,
    "start_time": "2024-12-23T06:08:21.964Z"
   },
   {
    "duration": 108,
    "start_time": "2024-12-23T06:08:44.003Z"
   },
   {
    "duration": 3031,
    "start_time": "2024-12-23T06:14:20.672Z"
   },
   {
    "duration": 2541,
    "start_time": "2024-12-23T06:14:23.706Z"
   },
   {
    "duration": 2477,
    "start_time": "2024-12-23T06:14:26.249Z"
   },
   {
    "duration": 2458,
    "start_time": "2024-12-23T06:14:28.728Z"
   },
   {
    "duration": 1320,
    "start_time": "2024-12-23T06:14:31.188Z"
   },
   {
    "duration": 892,
    "start_time": "2024-12-23T06:14:32.509Z"
   },
   {
    "duration": 144,
    "start_time": "2024-12-23T06:14:33.403Z"
   },
   {
    "duration": 150,
    "start_time": "2024-12-23T06:14:33.549Z"
   },
   {
    "duration": 1350,
    "start_time": "2024-12-23T06:14:33.701Z"
   },
   {
    "duration": 170,
    "start_time": "2024-12-23T06:14:35.052Z"
   },
   {
    "duration": 21,
    "start_time": "2024-12-23T06:14:35.223Z"
   },
   {
    "duration": 154,
    "start_time": "2024-12-23T06:14:35.246Z"
   },
   {
    "duration": 70,
    "start_time": "2024-12-23T06:14:35.401Z"
   },
   {
    "duration": 551,
    "start_time": "2024-12-23T06:14:35.474Z"
   },
   {
    "duration": 1224,
    "start_time": "2024-12-23T06:14:36.031Z"
   },
   {
    "duration": 205,
    "start_time": "2024-12-23T06:14:37.256Z"
   },
   {
    "duration": 413,
    "start_time": "2024-12-23T06:14:37.463Z"
   },
   {
    "duration": 461,
    "start_time": "2024-12-23T06:14:37.878Z"
   },
   {
    "duration": 465,
    "start_time": "2024-12-23T06:14:38.341Z"
   },
   {
    "duration": 423,
    "start_time": "2024-12-23T06:14:38.808Z"
   },
   {
    "duration": 3,
    "start_time": "2024-12-23T06:14:39.232Z"
   },
   {
    "duration": 907,
    "start_time": "2024-12-23T06:14:39.236Z"
   },
   {
    "duration": 15,
    "start_time": "2024-12-23T06:14:40.145Z"
   },
   {
    "duration": 117,
    "start_time": "2024-12-23T06:14:40.162Z"
   },
   {
    "duration": 128,
    "start_time": "2024-12-23T06:14:40.280Z"
   },
   {
    "duration": 45,
    "start_time": "2024-12-23T06:14:40.410Z"
   },
   {
    "duration": 57,
    "start_time": "2024-12-23T06:14:40.457Z"
   },
   {
    "duration": 28,
    "start_time": "2024-12-23T06:14:40.516Z"
   },
   {
    "duration": 135,
    "start_time": "2024-12-23T06:14:40.545Z"
   },
   {
    "duration": 170,
    "start_time": "2024-12-23T06:14:40.681Z"
   },
   {
    "duration": 12,
    "start_time": "2024-12-23T06:14:40.853Z"
   },
   {
    "duration": 71,
    "start_time": "2024-12-23T06:14:40.866Z"
   },
   {
    "duration": 16,
    "start_time": "2024-12-23T06:14:40.939Z"
   },
   {
    "duration": 104,
    "start_time": "2024-12-23T06:14:40.957Z"
   },
   {
    "duration": 23,
    "start_time": "2024-12-23T06:14:41.063Z"
   },
   {
    "duration": 63,
    "start_time": "2024-12-23T06:14:41.088Z"
   },
   {
    "duration": 144,
    "start_time": "2024-12-23T06:14:41.153Z"
   },
   {
    "duration": 15,
    "start_time": "2024-12-23T06:14:41.298Z"
   },
   {
    "duration": 38,
    "start_time": "2024-12-23T06:14:41.314Z"
   },
   {
    "duration": 62,
    "start_time": "2024-12-23T06:14:41.354Z"
   },
   {
    "duration": 5,
    "start_time": "2024-12-23T06:14:41.429Z"
   },
   {
    "duration": 22,
    "start_time": "2024-12-23T06:14:41.436Z"
   },
   {
    "duration": 4895,
    "start_time": "2024-12-23T06:14:41.459Z"
   },
   {
    "duration": 50,
    "start_time": "2024-12-23T06:14:46.356Z"
   },
   {
    "duration": 57,
    "start_time": "2024-12-23T06:14:46.407Z"
   },
   {
    "duration": 25,
    "start_time": "2024-12-23T06:14:46.466Z"
   },
   {
    "duration": 35,
    "start_time": "2024-12-23T06:14:46.493Z"
   },
   {
    "duration": 97,
    "start_time": "2024-12-23T06:14:46.529Z"
   },
   {
    "duration": 4,
    "start_time": "2024-12-23T06:14:46.628Z"
   },
   {
    "duration": 63,
    "start_time": "2024-12-23T06:14:46.633Z"
   },
   {
    "duration": 122,
    "start_time": "2024-12-23T06:14:46.698Z"
   },
   {
    "duration": 32,
    "start_time": "2024-12-23T06:14:46.821Z"
   },
   {
    "duration": 57,
    "start_time": "2024-12-23T06:14:46.855Z"
   },
   {
    "duration": 91,
    "start_time": "2024-12-23T06:14:46.913Z"
   },
   {
    "duration": 37768,
    "start_time": "2024-12-23T06:14:47.006Z"
   },
   {
    "duration": 68,
    "start_time": "2024-12-23T06:15:24.775Z"
   },
   {
    "duration": 31,
    "start_time": "2024-12-23T06:15:24.845Z"
   },
   {
    "duration": 218,
    "start_time": "2024-12-23T06:15:24.879Z"
   },
   {
    "duration": 11,
    "start_time": "2024-12-23T06:15:25.099Z"
   },
   {
    "duration": 0,
    "start_time": "2024-12-23T06:15:25.112Z"
   },
   {
    "duration": 5,
    "start_time": "2024-12-23T06:15:42.454Z"
   },
   {
    "duration": 3,
    "start_time": "2024-12-23T06:15:45.992Z"
   },
   {
    "duration": 127,
    "start_time": "2024-12-23T06:15:53.559Z"
   },
   {
    "duration": 4,
    "start_time": "2024-12-23T06:16:18.056Z"
   },
   {
    "duration": 93116,
    "start_time": "2024-12-23T06:16:22.672Z"
   },
   {
    "duration": 26,
    "start_time": "2024-12-23T06:18:09.336Z"
   },
   {
    "duration": 13,
    "start_time": "2024-12-23T06:18:12.601Z"
   },
   {
    "duration": 3,
    "start_time": "2024-12-23T06:19:08.333Z"
   },
   {
    "duration": 3086,
    "start_time": "2024-12-23T06:19:13.763Z"
   },
   {
    "duration": 2663,
    "start_time": "2024-12-23T06:19:16.851Z"
   },
   {
    "duration": 2474,
    "start_time": "2024-12-23T06:19:19.516Z"
   },
   {
    "duration": 2566,
    "start_time": "2024-12-23T06:19:21.993Z"
   },
   {
    "duration": 1353,
    "start_time": "2024-12-23T06:19:24.561Z"
   },
   {
    "duration": 917,
    "start_time": "2024-12-23T06:19:25.915Z"
   },
   {
    "duration": 143,
    "start_time": "2024-12-23T06:19:26.833Z"
   },
   {
    "duration": 143,
    "start_time": "2024-12-23T06:19:26.978Z"
   },
   {
    "duration": 1420,
    "start_time": "2024-12-23T06:19:27.123Z"
   },
   {
    "duration": 169,
    "start_time": "2024-12-23T06:19:28.546Z"
   },
   {
    "duration": 22,
    "start_time": "2024-12-23T06:19:28.717Z"
   },
   {
    "duration": 236,
    "start_time": "2024-12-23T06:19:28.740Z"
   },
   {
    "duration": 80,
    "start_time": "2024-12-23T06:19:28.978Z"
   },
   {
    "duration": 542,
    "start_time": "2024-12-23T06:19:29.059Z"
   },
   {
    "duration": 1257,
    "start_time": "2024-12-23T06:19:29.603Z"
   },
   {
    "duration": 211,
    "start_time": "2024-12-23T06:19:30.862Z"
   },
   {
    "duration": 409,
    "start_time": "2024-12-23T06:19:31.075Z"
   },
   {
    "duration": 456,
    "start_time": "2024-12-23T06:19:31.486Z"
   },
   {
    "duration": 477,
    "start_time": "2024-12-23T06:19:31.944Z"
   },
   {
    "duration": 416,
    "start_time": "2024-12-23T06:19:32.423Z"
   },
   {
    "duration": 2,
    "start_time": "2024-12-23T06:19:32.841Z"
   },
   {
    "duration": 923,
    "start_time": "2024-12-23T06:19:32.845Z"
   },
   {
    "duration": 14,
    "start_time": "2024-12-23T06:19:33.769Z"
   },
   {
    "duration": 163,
    "start_time": "2024-12-23T06:19:33.785Z"
   },
   {
    "duration": 135,
    "start_time": "2024-12-23T06:19:33.950Z"
   },
   {
    "duration": 44,
    "start_time": "2024-12-23T06:19:34.087Z"
   },
   {
    "duration": 74,
    "start_time": "2024-12-23T06:19:34.132Z"
   },
   {
    "duration": 14,
    "start_time": "2024-12-23T06:19:34.210Z"
   },
   {
    "duration": 126,
    "start_time": "2024-12-23T06:19:34.225Z"
   },
   {
    "duration": 168,
    "start_time": "2024-12-23T06:19:34.353Z"
   },
   {
    "duration": 19,
    "start_time": "2024-12-23T06:19:34.522Z"
   },
   {
    "duration": 55,
    "start_time": "2024-12-23T06:19:34.542Z"
   },
   {
    "duration": 43,
    "start_time": "2024-12-23T06:19:34.598Z"
   },
   {
    "duration": 94,
    "start_time": "2024-12-23T06:19:34.643Z"
   },
   {
    "duration": 22,
    "start_time": "2024-12-23T06:19:34.739Z"
   },
   {
    "duration": 130,
    "start_time": "2024-12-23T06:19:34.762Z"
   },
   {
    "duration": 144,
    "start_time": "2024-12-23T06:19:34.894Z"
   },
   {
    "duration": 15,
    "start_time": "2024-12-23T06:19:35.039Z"
   },
   {
    "duration": 44,
    "start_time": "2024-12-23T06:19:35.056Z"
   },
   {
    "duration": 60,
    "start_time": "2024-12-23T06:19:35.102Z"
   },
   {
    "duration": 4,
    "start_time": "2024-12-23T06:19:35.163Z"
   },
   {
    "duration": 39,
    "start_time": "2024-12-23T06:19:35.168Z"
   },
   {
    "duration": 4834,
    "start_time": "2024-12-23T06:19:35.209Z"
   },
   {
    "duration": 51,
    "start_time": "2024-12-23T06:19:40.045Z"
   },
   {
    "duration": 37,
    "start_time": "2024-12-23T06:19:40.099Z"
   },
   {
    "duration": 8,
    "start_time": "2024-12-23T06:19:40.138Z"
   },
   {
    "duration": 18,
    "start_time": "2024-12-23T06:19:40.148Z"
   },
   {
    "duration": 65,
    "start_time": "2024-12-23T06:19:40.168Z"
   },
   {
    "duration": 3,
    "start_time": "2024-12-23T06:19:40.235Z"
   },
   {
    "duration": 85,
    "start_time": "2024-12-23T06:19:40.239Z"
   },
   {
    "duration": 119,
    "start_time": "2024-12-23T06:19:40.326Z"
   },
   {
    "duration": 17,
    "start_time": "2024-12-23T06:19:40.447Z"
   },
   {
    "duration": 7,
    "start_time": "2024-12-23T06:19:40.465Z"
   },
   {
    "duration": 14,
    "start_time": "2024-12-23T06:19:40.473Z"
   },
   {
    "duration": 37284,
    "start_time": "2024-12-23T06:19:40.488Z"
   },
   {
    "duration": 24,
    "start_time": "2024-12-23T06:20:17.773Z"
   },
   {
    "duration": 54,
    "start_time": "2024-12-23T06:20:17.799Z"
   },
   {
    "duration": 2986,
    "start_time": "2024-12-23T06:25:48.487Z"
   },
   {
    "duration": 2499,
    "start_time": "2024-12-23T06:25:51.475Z"
   },
   {
    "duration": 2465,
    "start_time": "2024-12-23T06:25:53.976Z"
   },
   {
    "duration": 2460,
    "start_time": "2024-12-23T06:25:56.444Z"
   },
   {
    "duration": 1408,
    "start_time": "2024-12-23T06:25:58.907Z"
   },
   {
    "duration": 913,
    "start_time": "2024-12-23T06:26:00.317Z"
   },
   {
    "duration": 155,
    "start_time": "2024-12-23T06:26:01.232Z"
   },
   {
    "duration": 143,
    "start_time": "2024-12-23T06:26:01.389Z"
   },
   {
    "duration": 1349,
    "start_time": "2024-12-23T06:26:01.534Z"
   },
   {
    "duration": 173,
    "start_time": "2024-12-23T06:26:02.885Z"
   },
   {
    "duration": 18,
    "start_time": "2024-12-23T06:26:03.059Z"
   },
   {
    "duration": 169,
    "start_time": "2024-12-23T06:26:03.079Z"
   },
   {
    "duration": 68,
    "start_time": "2024-12-23T06:26:03.250Z"
   },
   {
    "duration": 559,
    "start_time": "2024-12-23T06:26:03.330Z"
   },
   {
    "duration": 1343,
    "start_time": "2024-12-23T06:26:03.891Z"
   },
   {
    "duration": 203,
    "start_time": "2024-12-23T06:26:05.236Z"
   },
   {
    "duration": 409,
    "start_time": "2024-12-23T06:26:05.441Z"
   },
   {
    "duration": 484,
    "start_time": "2024-12-23T06:26:05.852Z"
   },
   {
    "duration": 474,
    "start_time": "2024-12-23T06:26:06.338Z"
   },
   {
    "duration": 434,
    "start_time": "2024-12-23T06:26:06.813Z"
   },
   {
    "duration": 3,
    "start_time": "2024-12-23T06:26:07.248Z"
   },
   {
    "duration": 908,
    "start_time": "2024-12-23T06:26:07.252Z"
   },
   {
    "duration": 15,
    "start_time": "2024-12-23T06:26:08.161Z"
   },
   {
    "duration": 116,
    "start_time": "2024-12-23T06:26:08.179Z"
   },
   {
    "duration": 133,
    "start_time": "2024-12-23T06:26:08.297Z"
   },
   {
    "duration": 36,
    "start_time": "2024-12-23T06:26:08.431Z"
   },
   {
    "duration": 78,
    "start_time": "2024-12-23T06:26:08.468Z"
   },
   {
    "duration": 14,
    "start_time": "2024-12-23T06:26:08.550Z"
   },
   {
    "duration": 131,
    "start_time": "2024-12-23T06:26:08.566Z"
   },
   {
    "duration": 172,
    "start_time": "2024-12-23T06:26:08.698Z"
   },
   {
    "duration": 11,
    "start_time": "2024-12-23T06:26:08.872Z"
   },
   {
    "duration": 69,
    "start_time": "2024-12-23T06:26:08.884Z"
   },
   {
    "duration": 14,
    "start_time": "2024-12-23T06:26:08.955Z"
   },
   {
    "duration": 101,
    "start_time": "2024-12-23T06:26:08.971Z"
   },
   {
    "duration": 23,
    "start_time": "2024-12-23T06:26:09.074Z"
   },
   {
    "duration": 66,
    "start_time": "2024-12-23T06:26:09.098Z"
   },
   {
    "duration": 155,
    "start_time": "2024-12-23T06:26:09.165Z"
   },
   {
    "duration": 18,
    "start_time": "2024-12-23T06:26:09.322Z"
   },
   {
    "duration": 24,
    "start_time": "2024-12-23T06:26:09.342Z"
   },
   {
    "duration": 78,
    "start_time": "2024-12-23T06:26:09.367Z"
   },
   {
    "duration": 3,
    "start_time": "2024-12-23T06:26:09.447Z"
   },
   {
    "duration": 21,
    "start_time": "2024-12-23T06:26:09.452Z"
   },
   {
    "duration": 4829,
    "start_time": "2024-12-23T06:26:09.475Z"
   },
   {
    "duration": 56,
    "start_time": "2024-12-23T06:26:14.306Z"
   },
   {
    "duration": 16,
    "start_time": "2024-12-23T06:26:14.363Z"
   },
   {
    "duration": 100,
    "start_time": "2024-12-23T06:26:14.380Z"
   },
   {
    "duration": 7,
    "start_time": "2024-12-23T06:26:14.481Z"
   },
   {
    "duration": 70,
    "start_time": "2024-12-23T06:26:14.489Z"
   },
   {
    "duration": 3,
    "start_time": "2024-12-23T06:26:14.561Z"
   },
   {
    "duration": 9,
    "start_time": "2024-12-23T06:26:14.565Z"
   },
   {
    "duration": 6,
    "start_time": "2024-12-23T06:26:14.576Z"
   },
   {
    "duration": 12,
    "start_time": "2024-12-23T06:26:14.583Z"
   },
   {
    "duration": 5,
    "start_time": "2024-12-23T06:26:14.596Z"
   },
   {
    "duration": 21,
    "start_time": "2024-12-23T06:26:14.602Z"
   },
   {
    "duration": 37651,
    "start_time": "2024-12-23T06:26:14.624Z"
   },
   {
    "duration": 67,
    "start_time": "2024-12-23T06:26:52.276Z"
   },
   {
    "duration": 15,
    "start_time": "2024-12-23T06:26:52.344Z"
   },
   {
    "duration": 3059,
    "start_time": "2024-12-23T06:27:20.723Z"
   },
   {
    "duration": 2512,
    "start_time": "2024-12-23T06:27:23.784Z"
   },
   {
    "duration": 2428,
    "start_time": "2024-12-23T06:27:26.298Z"
   },
   {
    "duration": 2459,
    "start_time": "2024-12-23T06:27:28.728Z"
   },
   {
    "duration": 1337,
    "start_time": "2024-12-23T06:27:31.190Z"
   },
   {
    "duration": 915,
    "start_time": "2024-12-23T06:27:32.528Z"
   },
   {
    "duration": 143,
    "start_time": "2024-12-23T06:27:33.445Z"
   },
   {
    "duration": 142,
    "start_time": "2024-12-23T06:27:33.589Z"
   },
   {
    "duration": 1434,
    "start_time": "2024-12-23T06:27:33.732Z"
   },
   {
    "duration": 167,
    "start_time": "2024-12-23T06:27:35.168Z"
   },
   {
    "duration": 17,
    "start_time": "2024-12-23T06:27:35.337Z"
   },
   {
    "duration": 145,
    "start_time": "2024-12-23T06:27:35.355Z"
   },
   {
    "duration": 94,
    "start_time": "2024-12-23T06:27:35.502Z"
   },
   {
    "duration": 573,
    "start_time": "2024-12-23T06:27:35.599Z"
   },
   {
    "duration": 1249,
    "start_time": "2024-12-23T06:27:36.173Z"
   },
   {
    "duration": 211,
    "start_time": "2024-12-23T06:27:37.424Z"
   },
   {
    "duration": 415,
    "start_time": "2024-12-23T06:27:37.637Z"
   },
   {
    "duration": 469,
    "start_time": "2024-12-23T06:27:38.054Z"
   },
   {
    "duration": 462,
    "start_time": "2024-12-23T06:27:38.529Z"
   },
   {
    "duration": 420,
    "start_time": "2024-12-23T06:27:38.992Z"
   },
   {
    "duration": 3,
    "start_time": "2024-12-23T06:27:39.414Z"
   },
   {
    "duration": 929,
    "start_time": "2024-12-23T06:27:39.418Z"
   },
   {
    "duration": 14,
    "start_time": "2024-12-23T06:27:40.348Z"
   },
   {
    "duration": 113,
    "start_time": "2024-12-23T06:27:40.363Z"
   },
   {
    "duration": 130,
    "start_time": "2024-12-23T06:27:40.478Z"
   },
   {
    "duration": 41,
    "start_time": "2024-12-23T06:27:40.610Z"
   },
   {
    "duration": 59,
    "start_time": "2024-12-23T06:27:40.653Z"
   },
   {
    "duration": 29,
    "start_time": "2024-12-23T06:27:40.713Z"
   },
   {
    "duration": 137,
    "start_time": "2024-12-23T06:27:40.743Z"
   },
   {
    "duration": 177,
    "start_time": "2024-12-23T06:27:40.882Z"
   },
   {
    "duration": 11,
    "start_time": "2024-12-23T06:27:41.061Z"
   },
   {
    "duration": 63,
    "start_time": "2024-12-23T06:27:41.074Z"
   },
   {
    "duration": 13,
    "start_time": "2024-12-23T06:27:41.139Z"
   },
   {
    "duration": 97,
    "start_time": "2024-12-23T06:27:41.154Z"
   },
   {
    "duration": 22,
    "start_time": "2024-12-23T06:27:41.253Z"
   },
   {
    "duration": 63,
    "start_time": "2024-12-23T06:27:41.276Z"
   },
   {
    "duration": 151,
    "start_time": "2024-12-23T06:27:41.341Z"
   },
   {
    "duration": 15,
    "start_time": "2024-12-23T06:27:41.493Z"
   },
   {
    "duration": 41,
    "start_time": "2024-12-23T06:27:41.509Z"
   },
   {
    "duration": 58,
    "start_time": "2024-12-23T06:27:41.551Z"
   },
   {
    "duration": 4,
    "start_time": "2024-12-23T06:27:41.613Z"
   },
   {
    "duration": 8,
    "start_time": "2024-12-23T06:27:41.630Z"
   },
   {
    "duration": 4776,
    "start_time": "2024-12-23T06:27:41.639Z"
   },
   {
    "duration": 55,
    "start_time": "2024-12-23T06:27:46.417Z"
   },
   {
    "duration": 25,
    "start_time": "2024-12-23T06:27:46.474Z"
   },
   {
    "duration": 7,
    "start_time": "2024-12-23T06:27:46.501Z"
   },
   {
    "duration": 13,
    "start_time": "2024-12-23T06:27:46.509Z"
   },
   {
    "duration": 58,
    "start_time": "2024-12-23T06:27:46.524Z"
   },
   {
    "duration": 2,
    "start_time": "2024-12-23T06:27:46.584Z"
   },
   {
    "duration": 45,
    "start_time": "2024-12-23T06:27:46.588Z"
   },
   {
    "duration": 43,
    "start_time": "2024-12-23T06:27:46.635Z"
   },
   {
    "duration": 28,
    "start_time": "2024-12-23T06:27:46.680Z"
   },
   {
    "duration": 13,
    "start_time": "2024-12-23T06:27:46.710Z"
   },
   {
    "duration": 6,
    "start_time": "2024-12-23T06:27:46.725Z"
   },
   {
    "duration": 36345,
    "start_time": "2024-12-23T06:27:46.733Z"
   },
   {
    "duration": 70,
    "start_time": "2024-12-23T06:28:23.080Z"
   },
   {
    "duration": 13,
    "start_time": "2024-12-23T06:28:23.152Z"
   },
   {
    "duration": 128403,
    "start_time": "2024-12-23T06:28:23.167Z"
   },
   {
    "duration": 25,
    "start_time": "2024-12-23T06:30:31.572Z"
   },
   {
    "duration": 19,
    "start_time": "2024-12-23T06:30:31.599Z"
   },
   {
    "duration": 110,
    "start_time": "2024-12-23T06:32:19.452Z"
   },
   {
    "duration": 9,
    "start_time": "2024-12-23T06:32:23.684Z"
   },
   {
    "duration": 9,
    "start_time": "2024-12-23T06:32:34.717Z"
   },
   {
    "duration": 25,
    "start_time": "2024-12-23T06:32:43.003Z"
   },
   {
    "duration": 11,
    "start_time": "2024-12-23T06:44:49.004Z"
   },
   {
    "duration": 43,
    "start_time": "2024-12-23T06:45:05.699Z"
   },
   {
    "duration": 6542,
    "start_time": "2024-12-23T06:45:12.156Z"
   },
   {
    "duration": 3,
    "start_time": "2024-12-23T06:48:35.244Z"
   },
   {
    "duration": 3,
    "start_time": "2024-12-23T06:48:36.842Z"
   },
   {
    "duration": 1810,
    "start_time": "2024-12-23T06:49:03.727Z"
   },
   {
    "duration": 284,
    "start_time": "2024-12-23T06:50:01.448Z"
   },
   {
    "duration": 138,
    "start_time": "2024-12-23T06:51:47.600Z"
   },
   {
    "duration": 37,
    "start_time": "2024-12-23T06:52:09.967Z"
   },
   {
    "duration": 59,
    "start_time": "2024-12-23T06:54:47.479Z"
   },
   {
    "duration": 93,
    "start_time": "2024-12-23T06:54:51.546Z"
   },
   {
    "duration": 14,
    "start_time": "2024-12-23T06:55:03.626Z"
   },
   {
    "duration": 10,
    "start_time": "2024-12-23T06:55:36.183Z"
   },
   {
    "duration": 130,
    "start_time": "2024-12-23T06:55:37.807Z"
   },
   {
    "duration": 6,
    "start_time": "2024-12-23T06:56:23.710Z"
   },
   {
    "duration": 48,
    "start_time": "2024-12-23T13:44:43.779Z"
   },
   {
    "duration": 6824,
    "start_time": "2024-12-23T13:45:07.310Z"
   },
   {
    "duration": 3244,
    "start_time": "2024-12-23T13:45:14.136Z"
   },
   {
    "duration": 2440,
    "start_time": "2024-12-23T13:45:17.382Z"
   },
   {
    "duration": 2927,
    "start_time": "2024-12-23T13:45:19.823Z"
   },
   {
    "duration": 1577,
    "start_time": "2024-12-23T13:45:22.752Z"
   },
   {
    "duration": 3,
    "start_time": "2024-12-23T13:45:24.331Z"
   },
   {
    "duration": 3054,
    "start_time": "2024-12-23T13:45:24.336Z"
   },
   {
    "duration": 110,
    "start_time": "2024-12-23T13:45:43.785Z"
   },
   {
    "duration": 5,
    "start_time": "2024-12-23T13:47:19.075Z"
   },
   {
    "duration": 62,
    "start_time": "2024-12-23T13:47:33.218Z"
   },
   {
    "duration": 52,
    "start_time": "2024-12-23T13:47:41.031Z"
   },
   {
    "duration": 96,
    "start_time": "2024-12-23T13:48:27.228Z"
   },
   {
    "duration": 3277,
    "start_time": "2024-12-23T13:50:38.882Z"
   },
   {
    "duration": 2469,
    "start_time": "2024-12-23T13:50:42.161Z"
   },
   {
    "duration": 2482,
    "start_time": "2024-12-23T13:50:44.632Z"
   },
   {
    "duration": 2552,
    "start_time": "2024-12-23T13:50:47.116Z"
   },
   {
    "duration": 5,
    "start_time": "2024-12-23T13:50:49.671Z"
   },
   {
    "duration": 28,
    "start_time": "2024-12-23T13:50:49.678Z"
   },
   {
    "duration": 1054,
    "start_time": "2024-12-23T13:50:49.708Z"
   },
   {
    "duration": 110,
    "start_time": "2024-12-23T13:50:50.764Z"
   },
   {
    "duration": 27,
    "start_time": "2024-12-23T13:50:50.876Z"
   },
   {
    "duration": 109,
    "start_time": "2024-12-23T13:50:50.905Z"
   },
   {
    "duration": 1431,
    "start_time": "2024-12-23T13:50:51.016Z"
   },
   {
    "duration": 168,
    "start_time": "2024-12-23T13:50:52.449Z"
   },
   {
    "duration": 21,
    "start_time": "2024-12-23T13:50:52.619Z"
   },
   {
    "duration": 170,
    "start_time": "2024-12-23T13:55:34.274Z"
   },
   {
    "duration": 93,
    "start_time": "2024-12-23T13:55:43.578Z"
   },
   {
    "duration": 97,
    "start_time": "2024-12-23T13:55:55.821Z"
   },
   {
    "duration": 3,
    "start_time": "2024-12-23T13:58:32.283Z"
   },
   {
    "duration": 96,
    "start_time": "2024-12-23T14:04:25.377Z"
   },
   {
    "duration": 3053,
    "start_time": "2024-12-23T14:04:54.934Z"
   },
   {
    "duration": 2462,
    "start_time": "2024-12-23T14:04:57.989Z"
   },
   {
    "duration": 2539,
    "start_time": "2024-12-23T14:05:00.453Z"
   },
   {
    "duration": 2525,
    "start_time": "2024-12-23T14:05:02.995Z"
   },
   {
    "duration": 1423,
    "start_time": "2024-12-23T14:05:05.523Z"
   },
   {
    "duration": 3,
    "start_time": "2024-12-23T14:05:06.948Z"
   },
   {
    "duration": 1414,
    "start_time": "2024-12-23T14:05:06.952Z"
   },
   {
    "duration": 108,
    "start_time": "2024-12-23T14:05:08.368Z"
   },
   {
    "duration": 63,
    "start_time": "2024-12-23T14:05:08.478Z"
   },
   {
    "duration": 155,
    "start_time": "2024-12-23T14:05:08.543Z"
   },
   {
    "duration": 1340,
    "start_time": "2024-12-23T14:05:08.699Z"
   },
   {
    "duration": 177,
    "start_time": "2024-12-23T14:05:10.041Z"
   },
   {
    "duration": 21,
    "start_time": "2024-12-23T14:05:10.220Z"
   },
   {
    "duration": 123,
    "start_time": "2024-12-23T14:05:10.243Z"
   },
   {
    "duration": 124,
    "start_time": "2024-12-23T14:05:10.368Z"
   },
   {
    "duration": 0,
    "start_time": "2024-12-23T14:05:10.493Z"
   },
   {
    "duration": 0,
    "start_time": "2024-12-23T14:05:10.494Z"
   },
   {
    "duration": 71,
    "start_time": "2024-12-23T14:06:13.805Z"
   },
   {
    "duration": 11,
    "start_time": "2024-12-23T14:06:24.726Z"
   },
   {
    "duration": 4,
    "start_time": "2024-12-23T14:06:50.326Z"
   },
   {
    "duration": 14,
    "start_time": "2024-12-23T14:07:14.594Z"
   },
   {
    "duration": 13,
    "start_time": "2024-12-23T14:07:25.166Z"
   },
   {
    "duration": 12,
    "start_time": "2024-12-23T14:08:50.618Z"
   },
   {
    "duration": 549,
    "start_time": "2024-12-23T14:08:57.195Z"
   },
   {
    "duration": 515,
    "start_time": "2024-12-23T14:09:02.808Z"
   },
   {
    "duration": 93,
    "start_time": "2024-12-23T14:09:07.936Z"
   },
   {
    "duration": 3302,
    "start_time": "2024-12-23T14:14:12.973Z"
   },
   {
    "duration": 2613,
    "start_time": "2024-12-23T14:14:16.277Z"
   },
   {
    "duration": 2480,
    "start_time": "2024-12-23T14:14:18.892Z"
   },
   {
    "duration": 2523,
    "start_time": "2024-12-23T14:14:21.374Z"
   },
   {
    "duration": 5,
    "start_time": "2024-12-23T14:14:23.900Z"
   },
   {
    "duration": 15,
    "start_time": "2024-12-23T14:14:23.907Z"
   },
   {
    "duration": 1050,
    "start_time": "2024-12-23T14:14:23.924Z"
   },
   {
    "duration": 111,
    "start_time": "2024-12-23T14:14:24.976Z"
   },
   {
    "duration": 43,
    "start_time": "2024-12-23T14:14:25.088Z"
   },
   {
    "duration": 103,
    "start_time": "2024-12-23T14:14:25.132Z"
   },
   {
    "duration": 1411,
    "start_time": "2024-12-23T14:14:25.237Z"
   },
   {
    "duration": 180,
    "start_time": "2024-12-23T14:14:26.650Z"
   },
   {
    "duration": 17,
    "start_time": "2024-12-23T14:14:26.832Z"
   },
   {
    "duration": 114,
    "start_time": "2024-12-23T14:14:26.852Z"
   },
   {
    "duration": 54,
    "start_time": "2024-12-23T14:14:26.967Z"
   },
   {
    "duration": 534,
    "start_time": "2024-12-23T14:14:27.029Z"
   },
   {
    "duration": 491,
    "start_time": "2024-12-23T14:14:27.565Z"
   },
   {
    "duration": 98,
    "start_time": "2024-12-23T14:14:28.058Z"
   },
   {
    "duration": 192,
    "start_time": "2024-12-23T14:14:28.157Z"
   },
   {
    "duration": 185,
    "start_time": "2024-12-23T14:14:28.350Z"
   },
   {
    "duration": 198,
    "start_time": "2024-12-23T14:14:28.536Z"
   },
   {
    "duration": 188,
    "start_time": "2024-12-23T14:14:28.736Z"
   },
   {
    "duration": 5,
    "start_time": "2024-12-23T14:14:28.925Z"
   },
   {
    "duration": 662,
    "start_time": "2024-12-23T14:14:28.933Z"
   },
   {
    "duration": 37,
    "start_time": "2024-12-23T14:14:29.597Z"
   },
   {
    "duration": 14,
    "start_time": "2024-12-23T14:14:29.636Z"
   },
   {
    "duration": 63,
    "start_time": "2024-12-23T14:14:29.651Z"
   },
   {
    "duration": 132,
    "start_time": "2024-12-23T14:14:29.730Z"
   },
   {
    "duration": 23,
    "start_time": "2024-12-23T14:14:29.864Z"
   },
   {
    "duration": 0,
    "start_time": "2024-12-23T14:14:29.889Z"
   },
   {
    "duration": 0,
    "start_time": "2024-12-23T14:14:29.890Z"
   },
   {
    "duration": 0,
    "start_time": "2024-12-23T14:14:29.891Z"
   },
   {
    "duration": 0,
    "start_time": "2024-12-23T14:14:29.892Z"
   },
   {
    "duration": 0,
    "start_time": "2024-12-23T14:14:29.893Z"
   },
   {
    "duration": 0,
    "start_time": "2024-12-23T14:14:29.894Z"
   },
   {
    "duration": 31,
    "start_time": "2024-12-23T14:15:07.666Z"
   },
   {
    "duration": 22,
    "start_time": "2024-12-23T14:15:12.339Z"
   },
   {
    "duration": 27,
    "start_time": "2024-12-23T14:15:19.259Z"
   },
   {
    "duration": 1458,
    "start_time": "2024-12-23T14:15:20.764Z"
   },
   {
    "duration": 14,
    "start_time": "2024-12-23T14:15:25.970Z"
   },
   {
    "duration": 134,
    "start_time": "2024-12-23T14:15:28.317Z"
   },
   {
    "duration": 161,
    "start_time": "2024-12-23T14:15:30.171Z"
   },
   {
    "duration": 16,
    "start_time": "2024-12-23T14:15:34.489Z"
   },
   {
    "duration": 80,
    "start_time": "2024-12-23T14:15:36.588Z"
   },
   {
    "duration": 3497,
    "start_time": "2024-12-23T14:36:28.308Z"
   },
   {
    "duration": 2697,
    "start_time": "2024-12-23T14:36:35.278Z"
   },
   {
    "duration": 13,
    "start_time": "2024-12-23T14:37:02.804Z"
   },
   {
    "duration": 31,
    "start_time": "2024-12-23T14:38:52.431Z"
   },
   {
    "duration": 4,
    "start_time": "2024-12-23T14:38:57.996Z"
   },
   {
    "duration": 1261,
    "start_time": "2024-12-23T14:39:23.826Z"
   },
   {
    "duration": 45,
    "start_time": "2024-12-23T14:39:37.880Z"
   },
   {
    "duration": 21,
    "start_time": "2024-12-23T14:40:04.240Z"
   },
   {
    "duration": 684,
    "start_time": "2024-12-23T14:40:16.015Z"
   },
   {
    "duration": 5828,
    "start_time": "2024-12-23T14:40:45.875Z"
   },
   {
    "duration": 551,
    "start_time": "2024-12-23T14:40:54.431Z"
   },
   {
    "duration": 3343,
    "start_time": "2024-12-23T14:41:05.402Z"
   },
   {
    "duration": 36,
    "start_time": "2024-12-23T14:41:31.582Z"
   },
   {
    "duration": 28,
    "start_time": "2024-12-23T14:41:38.547Z"
   },
   {
    "duration": 27,
    "start_time": "2024-12-23T14:42:06.840Z"
   },
   {
    "duration": 23,
    "start_time": "2024-12-23T14:42:19.134Z"
   },
   {
    "duration": 533,
    "start_time": "2024-12-23T14:42:24.716Z"
   },
   {
    "duration": 508,
    "start_time": "2024-12-23T14:42:47.251Z"
   },
   {
    "duration": 4983,
    "start_time": "2024-12-23T14:43:20.929Z"
   },
   {
    "duration": 24,
    "start_time": "2024-12-23T14:43:32.952Z"
   },
   {
    "duration": 553,
    "start_time": "2024-12-23T14:43:35.629Z"
   },
   {
    "duration": 3117,
    "start_time": "2024-12-23T14:44:05.569Z"
   },
   {
    "duration": 1852,
    "start_time": "2024-12-23T14:44:21.078Z"
   },
   {
    "duration": 534,
    "start_time": "2024-12-23T14:44:30.658Z"
   },
   {
    "duration": 2138,
    "start_time": "2024-12-23T14:50:18.728Z"
   },
   {
    "duration": 1838,
    "start_time": "2024-12-23T14:50:20.869Z"
   },
   {
    "duration": 1842,
    "start_time": "2024-12-23T14:50:22.709Z"
   },
   {
    "duration": 1838,
    "start_time": "2024-12-23T14:50:24.554Z"
   },
   {
    "duration": 1326,
    "start_time": "2024-12-23T14:50:26.394Z"
   },
   {
    "duration": 2,
    "start_time": "2024-12-23T14:50:27.722Z"
   },
   {
    "duration": 1108,
    "start_time": "2024-12-23T14:50:27.726Z"
   },
   {
    "duration": 115,
    "start_time": "2024-12-23T14:50:28.836Z"
   },
   {
    "duration": 56,
    "start_time": "2024-12-23T14:50:28.952Z"
   },
   {
    "duration": 110,
    "start_time": "2024-12-23T14:50:29.010Z"
   },
   {
    "duration": 1193,
    "start_time": "2024-12-23T14:50:29.122Z"
   },
   {
    "duration": 172,
    "start_time": "2024-12-23T14:50:30.316Z"
   },
   {
    "duration": 16,
    "start_time": "2024-12-23T14:50:30.490Z"
   },
   {
    "duration": 168,
    "start_time": "2024-12-23T14:50:30.508Z"
   },
   {
    "duration": 60,
    "start_time": "2024-12-23T14:50:30.678Z"
   },
   {
    "duration": 598,
    "start_time": "2024-12-23T14:50:30.740Z"
   },
   {
    "duration": 463,
    "start_time": "2024-12-23T14:50:31.339Z"
   },
   {
    "duration": 108,
    "start_time": "2024-12-23T14:50:31.804Z"
   },
   {
    "duration": 218,
    "start_time": "2024-12-23T14:50:31.913Z"
   },
   {
    "duration": 239,
    "start_time": "2024-12-23T14:50:32.132Z"
   },
   {
    "duration": 260,
    "start_time": "2024-12-23T14:50:32.372Z"
   },
   {
    "duration": 192,
    "start_time": "2024-12-23T14:50:32.633Z"
   },
   {
    "duration": 3,
    "start_time": "2024-12-23T14:50:32.830Z"
   },
   {
    "duration": 762,
    "start_time": "2024-12-23T14:50:32.834Z"
   },
   {
    "duration": 34,
    "start_time": "2024-12-23T14:50:33.598Z"
   },
   {
    "duration": 13,
    "start_time": "2024-12-23T14:50:33.634Z"
   },
   {
    "duration": 84,
    "start_time": "2024-12-23T14:50:33.649Z"
   },
   {
    "duration": 129,
    "start_time": "2024-12-23T14:50:33.736Z"
   },
   {
    "duration": 35,
    "start_time": "2024-12-23T14:50:33.867Z"
   },
   {
    "duration": 30,
    "start_time": "2024-12-23T14:50:33.931Z"
   },
   {
    "duration": 68,
    "start_time": "2024-12-23T14:50:33.963Z"
   },
   {
    "duration": 197,
    "start_time": "2024-12-23T14:50:34.033Z"
   },
   {
    "duration": 207,
    "start_time": "2024-12-23T14:50:34.232Z"
   },
   {
    "duration": 14,
    "start_time": "2024-12-23T14:50:34.441Z"
   },
   {
    "duration": 110,
    "start_time": "2024-12-23T14:50:34.457Z"
   },
   {
    "duration": 25,
    "start_time": "2024-12-23T14:50:34.569Z"
   },
   {
    "duration": 48,
    "start_time": "2024-12-23T14:50:34.595Z"
   },
   {
    "duration": 1425,
    "start_time": "2024-12-23T14:50:34.645Z"
   },
   {
    "duration": 0,
    "start_time": "2024-12-23T14:50:36.072Z"
   },
   {
    "duration": 0,
    "start_time": "2024-12-23T14:50:36.073Z"
   },
   {
    "duration": 0,
    "start_time": "2024-12-23T14:50:36.074Z"
   },
   {
    "duration": 0,
    "start_time": "2024-12-23T14:50:36.076Z"
   },
   {
    "duration": 0,
    "start_time": "2024-12-23T14:50:36.077Z"
   },
   {
    "duration": 0,
    "start_time": "2024-12-23T14:50:36.079Z"
   },
   {
    "duration": 0,
    "start_time": "2024-12-23T14:50:36.080Z"
   },
   {
    "duration": 0,
    "start_time": "2024-12-23T14:50:36.081Z"
   },
   {
    "duration": 0,
    "start_time": "2024-12-23T14:50:36.082Z"
   },
   {
    "duration": 0,
    "start_time": "2024-12-23T14:50:36.084Z"
   },
   {
    "duration": 2220,
    "start_time": "2024-12-23T15:04:53.164Z"
   },
   {
    "duration": 1924,
    "start_time": "2024-12-23T15:04:55.387Z"
   },
   {
    "duration": 1942,
    "start_time": "2024-12-23T15:04:57.313Z"
   },
   {
    "duration": 1972,
    "start_time": "2024-12-23T15:04:59.257Z"
   },
   {
    "duration": 6,
    "start_time": "2024-12-23T15:05:01.232Z"
   },
   {
    "duration": 27,
    "start_time": "2024-12-23T15:05:01.240Z"
   },
   {
    "duration": 1142,
    "start_time": "2024-12-23T15:05:01.269Z"
   },
   {
    "duration": 119,
    "start_time": "2024-12-23T15:05:02.412Z"
   },
   {
    "duration": 29,
    "start_time": "2024-12-23T15:05:02.532Z"
   },
   {
    "duration": 109,
    "start_time": "2024-12-23T15:05:02.563Z"
   },
   {
    "duration": 1400,
    "start_time": "2024-12-23T15:05:02.674Z"
   },
   {
    "duration": 194,
    "start_time": "2024-12-23T15:05:04.075Z"
   },
   {
    "duration": 18,
    "start_time": "2024-12-23T15:05:04.271Z"
   },
   {
    "duration": 125,
    "start_time": "2024-12-23T15:05:04.292Z"
   },
   {
    "duration": 63,
    "start_time": "2024-12-23T15:05:04.418Z"
   },
   {
    "duration": 548,
    "start_time": "2024-12-23T15:05:04.483Z"
   },
   {
    "duration": 470,
    "start_time": "2024-12-23T15:05:05.032Z"
   },
   {
    "duration": 98,
    "start_time": "2024-12-23T15:05:05.504Z"
   },
   {
    "duration": 200,
    "start_time": "2024-12-23T15:05:05.604Z"
   },
   {
    "duration": 260,
    "start_time": "2024-12-23T15:05:05.806Z"
   },
   {
    "duration": 273,
    "start_time": "2024-12-23T15:05:06.068Z"
   },
   {
    "duration": 207,
    "start_time": "2024-12-23T15:05:06.342Z"
   },
   {
    "duration": 3,
    "start_time": "2024-12-23T15:05:06.551Z"
   },
   {
    "duration": 652,
    "start_time": "2024-12-23T15:05:06.555Z"
   },
   {
    "duration": 43,
    "start_time": "2024-12-23T15:05:07.209Z"
   },
   {
    "duration": 14,
    "start_time": "2024-12-23T15:05:07.254Z"
   },
   {
    "duration": 80,
    "start_time": "2024-12-23T15:05:07.270Z"
   },
   {
    "duration": 270,
    "start_time": "2024-12-23T15:05:07.351Z"
   },
   {
    "duration": 37,
    "start_time": "2024-12-23T15:05:07.623Z"
   },
   {
    "duration": 31,
    "start_time": "2024-12-23T15:05:07.661Z"
   },
   {
    "duration": 15,
    "start_time": "2024-12-23T15:05:07.693Z"
   },
   {
    "duration": 133,
    "start_time": "2024-12-23T15:05:07.729Z"
   },
   {
    "duration": 179,
    "start_time": "2024-12-23T15:05:07.864Z"
   },
   {
    "duration": 15,
    "start_time": "2024-12-23T15:05:08.045Z"
   },
   {
    "duration": 113,
    "start_time": "2024-12-23T15:05:08.062Z"
   },
   {
    "duration": 26,
    "start_time": "2024-12-23T15:05:08.179Z"
   },
   {
    "duration": 46,
    "start_time": "2024-12-23T15:05:08.207Z"
   },
   {
    "duration": 157,
    "start_time": "2024-12-23T15:05:08.254Z"
   },
   {
    "duration": 23,
    "start_time": "2024-12-23T15:05:08.412Z"
   },
   {
    "duration": 25,
    "start_time": "2024-12-23T15:05:08.437Z"
   },
   {
    "duration": 23,
    "start_time": "2024-12-23T15:05:08.467Z"
   },
   {
    "duration": 5,
    "start_time": "2024-12-23T15:05:08.491Z"
   },
   {
    "duration": 44,
    "start_time": "2024-12-23T15:05:08.497Z"
   },
   {
    "duration": 4900,
    "start_time": "2024-12-23T15:05:08.543Z"
   },
   {
    "duration": 42,
    "start_time": "2024-12-23T15:05:13.444Z"
   },
   {
    "duration": 16,
    "start_time": "2024-12-23T15:05:13.488Z"
   },
   {
    "duration": 29,
    "start_time": "2024-12-23T15:05:13.505Z"
   },
   {
    "duration": 115,
    "start_time": "2024-12-23T15:05:13.536Z"
   },
   {
    "duration": 32,
    "start_time": "2024-12-23T15:05:13.653Z"
   },
   {
    "duration": 4,
    "start_time": "2024-12-23T15:05:13.687Z"
   },
   {
    "duration": 11,
    "start_time": "2024-12-23T15:05:13.692Z"
   },
   {
    "duration": 21,
    "start_time": "2024-12-23T15:05:13.705Z"
   },
   {
    "duration": 10,
    "start_time": "2024-12-23T15:05:13.730Z"
   },
   {
    "duration": 14,
    "start_time": "2024-12-23T15:05:13.742Z"
   },
   {
    "duration": 4,
    "start_time": "2024-12-23T15:05:13.758Z"
   },
   {
    "duration": 2232,
    "start_time": "2024-12-23T15:05:13.764Z"
   },
   {
    "duration": 12,
    "start_time": "2024-12-23T15:05:15.998Z"
   },
   {
    "duration": 0,
    "start_time": "2024-12-23T15:05:16.012Z"
   },
   {
    "duration": 0,
    "start_time": "2024-12-23T15:05:16.014Z"
   },
   {
    "duration": 0,
    "start_time": "2024-12-23T15:05:16.016Z"
   },
   {
    "duration": 0,
    "start_time": "2024-12-23T15:05:16.017Z"
   },
   {
    "duration": 3505,
    "start_time": "2024-12-23T15:08:22.119Z"
   },
   {
    "duration": 1821,
    "start_time": "2024-12-23T15:08:25.627Z"
   },
   {
    "duration": 1858,
    "start_time": "2024-12-23T15:08:27.450Z"
   },
   {
    "duration": 1875,
    "start_time": "2024-12-23T15:08:29.310Z"
   },
   {
    "duration": 1393,
    "start_time": "2024-12-23T15:08:31.187Z"
   },
   {
    "duration": 3,
    "start_time": "2024-12-23T15:08:32.582Z"
   },
   {
    "duration": 1197,
    "start_time": "2024-12-23T15:08:32.586Z"
   },
   {
    "duration": 111,
    "start_time": "2024-12-23T15:08:33.784Z"
   },
   {
    "duration": 59,
    "start_time": "2024-12-23T15:08:33.897Z"
   },
   {
    "duration": 101,
    "start_time": "2024-12-23T15:08:33.958Z"
   },
   {
    "duration": 1371,
    "start_time": "2024-12-23T15:08:34.060Z"
   },
   {
    "duration": 185,
    "start_time": "2024-12-23T15:08:35.433Z"
   },
   {
    "duration": 22,
    "start_time": "2024-12-23T15:08:35.620Z"
   },
   {
    "duration": 106,
    "start_time": "2024-12-23T15:08:35.645Z"
   },
   {
    "duration": 61,
    "start_time": "2024-12-23T15:08:35.752Z"
   },
   {
    "duration": 591,
    "start_time": "2024-12-23T15:08:35.815Z"
   },
   {
    "duration": 476,
    "start_time": "2024-12-23T15:08:36.407Z"
   },
   {
    "duration": 98,
    "start_time": "2024-12-23T15:08:36.885Z"
   },
   {
    "duration": 199,
    "start_time": "2024-12-23T15:08:36.984Z"
   },
   {
    "duration": 229,
    "start_time": "2024-12-23T15:08:37.185Z"
   },
   {
    "duration": 214,
    "start_time": "2024-12-23T15:08:37.416Z"
   },
   {
    "duration": 193,
    "start_time": "2024-12-23T15:08:37.631Z"
   },
   {
    "duration": 5,
    "start_time": "2024-12-23T15:08:37.826Z"
   },
   {
    "duration": 757,
    "start_time": "2024-12-23T15:08:37.832Z"
   },
   {
    "duration": 43,
    "start_time": "2024-12-23T15:08:38.591Z"
   },
   {
    "duration": 15,
    "start_time": "2024-12-23T15:08:38.636Z"
   },
   {
    "duration": 78,
    "start_time": "2024-12-23T15:08:38.653Z"
   },
   {
    "duration": 136,
    "start_time": "2024-12-23T15:08:38.733Z"
   },
   {
    "duration": 35,
    "start_time": "2024-12-23T15:08:38.871Z"
   },
   {
    "duration": 46,
    "start_time": "2024-12-23T15:08:38.908Z"
   },
   {
    "duration": 16,
    "start_time": "2024-12-23T15:08:38.956Z"
   },
   {
    "duration": 150,
    "start_time": "2024-12-23T15:08:38.974Z"
   },
   {
    "duration": 173,
    "start_time": "2024-12-23T15:08:39.130Z"
   },
   {
    "duration": 15,
    "start_time": "2024-12-23T15:08:39.305Z"
   },
   {
    "duration": 99,
    "start_time": "2024-12-23T15:08:39.331Z"
   },
   {
    "duration": 26,
    "start_time": "2024-12-23T15:08:39.432Z"
   },
   {
    "duration": 35,
    "start_time": "2024-12-23T15:08:39.460Z"
   },
   {
    "duration": 178,
    "start_time": "2024-12-23T15:08:39.497Z"
   },
   {
    "duration": 16,
    "start_time": "2024-12-23T15:08:39.677Z"
   },
   {
    "duration": 43,
    "start_time": "2024-12-23T15:08:39.695Z"
   },
   {
    "duration": 25,
    "start_time": "2024-12-23T15:08:39.742Z"
   },
   {
    "duration": 5,
    "start_time": "2024-12-23T15:08:39.768Z"
   },
   {
    "duration": 40,
    "start_time": "2024-12-23T15:08:39.774Z"
   },
   {
    "duration": 4979,
    "start_time": "2024-12-23T15:08:39.815Z"
   },
   {
    "duration": 48,
    "start_time": "2024-12-23T15:08:44.796Z"
   },
   {
    "duration": 60,
    "start_time": "2024-12-23T15:08:44.846Z"
   },
   {
    "duration": 22,
    "start_time": "2024-12-23T15:08:44.907Z"
   },
   {
    "duration": 26,
    "start_time": "2024-12-23T15:08:44.931Z"
   },
   {
    "duration": 56,
    "start_time": "2024-12-23T15:08:44.959Z"
   },
   {
    "duration": 3,
    "start_time": "2024-12-23T15:08:45.017Z"
   },
   {
    "duration": 41,
    "start_time": "2024-12-23T15:08:45.022Z"
   },
   {
    "duration": 68,
    "start_time": "2024-12-23T15:08:45.065Z"
   },
   {
    "duration": 65,
    "start_time": "2024-12-23T15:08:45.135Z"
   },
   {
    "duration": 41,
    "start_time": "2024-12-23T15:08:45.202Z"
   },
   {
    "duration": 14,
    "start_time": "2024-12-23T15:08:45.245Z"
   },
   {
    "duration": 2364,
    "start_time": "2024-12-23T15:08:45.261Z"
   },
   {
    "duration": 11,
    "start_time": "2024-12-23T15:08:47.627Z"
   },
   {
    "duration": 0,
    "start_time": "2024-12-23T15:08:47.639Z"
   },
   {
    "duration": 0,
    "start_time": "2024-12-23T15:08:47.641Z"
   },
   {
    "duration": 0,
    "start_time": "2024-12-23T15:08:47.642Z"
   },
   {
    "duration": 0,
    "start_time": "2024-12-23T15:08:47.644Z"
   },
   {
    "duration": 0,
    "start_time": "2024-12-23T15:08:47.645Z"
   },
   {
    "duration": 0,
    "start_time": "2024-12-23T15:08:47.647Z"
   },
   {
    "duration": 0,
    "start_time": "2024-12-23T15:08:47.648Z"
   },
   {
    "duration": 0,
    "start_time": "2024-12-23T15:08:47.649Z"
   },
   {
    "duration": 0,
    "start_time": "2024-12-23T15:08:47.651Z"
   },
   {
    "duration": 0,
    "start_time": "2024-12-23T15:08:47.652Z"
   },
   {
    "duration": 0,
    "start_time": "2024-12-23T15:08:47.653Z"
   },
   {
    "duration": 0,
    "start_time": "2024-12-23T15:08:47.654Z"
   },
   {
    "duration": 2146,
    "start_time": "2024-12-23T15:11:37.601Z"
   },
   {
    "duration": 1893,
    "start_time": "2024-12-23T15:11:39.750Z"
   },
   {
    "duration": 1887,
    "start_time": "2024-12-23T15:11:41.646Z"
   },
   {
    "duration": 2065,
    "start_time": "2024-12-23T15:11:43.536Z"
   },
   {
    "duration": 1430,
    "start_time": "2024-12-23T15:11:45.603Z"
   },
   {
    "duration": 3,
    "start_time": "2024-12-23T15:11:47.035Z"
   },
   {
    "duration": 1176,
    "start_time": "2024-12-23T15:11:47.039Z"
   },
   {
    "duration": 108,
    "start_time": "2024-12-23T15:11:48.217Z"
   },
   {
    "duration": 51,
    "start_time": "2024-12-23T15:11:48.330Z"
   },
   {
    "duration": 107,
    "start_time": "2024-12-23T15:11:48.384Z"
   },
   {
    "duration": 1399,
    "start_time": "2024-12-23T15:11:48.492Z"
   },
   {
    "duration": 173,
    "start_time": "2024-12-23T15:11:49.892Z"
   },
   {
    "duration": 18,
    "start_time": "2024-12-23T15:11:50.066Z"
   },
   {
    "duration": 114,
    "start_time": "2024-12-23T15:11:50.085Z"
   },
   {
    "duration": 72,
    "start_time": "2024-12-23T15:11:50.201Z"
   },
   {
    "duration": 657,
    "start_time": "2024-12-23T15:11:50.274Z"
   },
   {
    "duration": 474,
    "start_time": "2024-12-23T15:11:50.933Z"
   },
   {
    "duration": 104,
    "start_time": "2024-12-23T15:11:51.408Z"
   },
   {
    "duration": 196,
    "start_time": "2024-12-23T15:11:51.513Z"
   },
   {
    "duration": 237,
    "start_time": "2024-12-23T15:11:51.711Z"
   },
   {
    "duration": 286,
    "start_time": "2024-12-23T15:11:51.950Z"
   },
   {
    "duration": 212,
    "start_time": "2024-12-23T15:11:52.238Z"
   },
   {
    "duration": 3,
    "start_time": "2024-12-23T15:11:52.452Z"
   },
   {
    "duration": 648,
    "start_time": "2024-12-23T15:11:52.457Z"
   },
   {
    "duration": 40,
    "start_time": "2024-12-23T15:11:53.106Z"
   },
   {
    "duration": 43,
    "start_time": "2024-12-23T15:11:53.148Z"
   },
   {
    "duration": 66,
    "start_time": "2024-12-23T15:11:53.193Z"
   },
   {
    "duration": 141,
    "start_time": "2024-12-23T15:11:53.264Z"
   },
   {
    "duration": 45,
    "start_time": "2024-12-23T15:11:53.407Z"
   },
   {
    "duration": 84,
    "start_time": "2024-12-23T15:11:53.454Z"
   },
   {
    "duration": 47,
    "start_time": "2024-12-23T15:11:53.540Z"
   },
   {
    "duration": 123,
    "start_time": "2024-12-23T15:11:53.589Z"
   },
   {
    "duration": 174,
    "start_time": "2024-12-23T15:11:53.714Z"
   },
   {
    "duration": 15,
    "start_time": "2024-12-23T15:11:53.889Z"
   },
   {
    "duration": 116,
    "start_time": "2024-12-23T15:11:53.906Z"
   },
   {
    "duration": 30,
    "start_time": "2024-12-23T15:11:54.024Z"
   },
   {
    "duration": 35,
    "start_time": "2024-12-23T15:11:54.056Z"
   },
   {
    "duration": 177,
    "start_time": "2024-12-23T15:11:54.093Z"
   },
   {
    "duration": 15,
    "start_time": "2024-12-23T15:11:54.271Z"
   },
   {
    "duration": 25,
    "start_time": "2024-12-23T15:11:54.287Z"
   },
   {
    "duration": 23,
    "start_time": "2024-12-23T15:11:54.329Z"
   },
   {
    "duration": 4,
    "start_time": "2024-12-23T15:11:54.354Z"
   },
   {
    "duration": 123,
    "start_time": "2024-12-23T15:11:54.360Z"
   },
   {
    "duration": 4819,
    "start_time": "2024-12-23T15:11:54.485Z"
   },
   {
    "duration": 49,
    "start_time": "2024-12-23T15:11:59.306Z"
   },
   {
    "duration": 16,
    "start_time": "2024-12-23T15:11:59.357Z"
   },
   {
    "duration": 11,
    "start_time": "2024-12-23T15:11:59.375Z"
   },
   {
    "duration": 111,
    "start_time": "2024-12-23T15:11:59.388Z"
   },
   {
    "duration": 33,
    "start_time": "2024-12-23T15:11:59.500Z"
   },
   {
    "duration": 3,
    "start_time": "2024-12-23T15:11:59.534Z"
   },
   {
    "duration": 8,
    "start_time": "2024-12-23T15:11:59.539Z"
   },
   {
    "duration": 21,
    "start_time": "2024-12-23T15:11:59.549Z"
   },
   {
    "duration": 7,
    "start_time": "2024-12-23T15:11:59.572Z"
   },
   {
    "duration": 20,
    "start_time": "2024-12-23T15:11:59.580Z"
   },
   {
    "duration": 15,
    "start_time": "2024-12-23T15:11:59.602Z"
   },
   {
    "duration": 2578,
    "start_time": "2024-12-23T15:11:59.619Z"
   },
   {
    "duration": 10,
    "start_time": "2024-12-23T15:12:02.199Z"
   },
   {
    "duration": 0,
    "start_time": "2024-12-23T15:12:02.210Z"
   },
   {
    "duration": 0,
    "start_time": "2024-12-23T15:12:02.211Z"
   },
   {
    "duration": 0,
    "start_time": "2024-12-23T15:12:02.212Z"
   },
   {
    "duration": 0,
    "start_time": "2024-12-23T15:12:02.213Z"
   },
   {
    "duration": 0,
    "start_time": "2024-12-23T15:12:02.214Z"
   },
   {
    "duration": 0,
    "start_time": "2024-12-23T15:12:02.215Z"
   },
   {
    "duration": 0,
    "start_time": "2024-12-23T15:12:02.216Z"
   },
   {
    "duration": 0,
    "start_time": "2024-12-23T15:12:02.217Z"
   },
   {
    "duration": 0,
    "start_time": "2024-12-23T15:12:02.219Z"
   },
   {
    "duration": 0,
    "start_time": "2024-12-23T15:12:02.220Z"
   },
   {
    "duration": 0,
    "start_time": "2024-12-23T15:12:02.221Z"
   },
   {
    "duration": 0,
    "start_time": "2024-12-23T15:12:02.222Z"
   },
   {
    "duration": 3,
    "start_time": "2024-12-23T15:13:20.132Z"
   },
   {
    "duration": 4,
    "start_time": "2024-12-23T15:13:25.600Z"
   },
   {
    "duration": 37545,
    "start_time": "2024-12-23T15:13:28.089Z"
   },
   {
    "duration": 36,
    "start_time": "2024-12-23T15:14:09.982Z"
   },
   {
    "duration": 16,
    "start_time": "2024-12-23T15:14:15.182Z"
   },
   {
    "duration": 1604,
    "start_time": "2024-12-23T15:14:29.491Z"
   },
   {
    "duration": 4,
    "start_time": "2024-12-23T15:17:14.898Z"
   },
   {
    "duration": 1505,
    "start_time": "2024-12-23T15:17:19.638Z"
   },
   {
    "duration": 3,
    "start_time": "2024-12-23T15:17:52.308Z"
   },
   {
    "duration": 3,
    "start_time": "2024-12-23T15:17:53.892Z"
   },
   {
    "duration": 4,
    "start_time": "2024-12-23T15:18:01.684Z"
   },
   {
    "duration": 4,
    "start_time": "2024-12-23T15:18:04.707Z"
   },
   {
    "duration": 1509,
    "start_time": "2024-12-23T15:18:08.493Z"
   },
   {
    "duration": 3,
    "start_time": "2024-12-23T15:21:13.616Z"
   },
   {
    "duration": 5,
    "start_time": "2024-12-23T15:21:16.014Z"
   },
   {
    "duration": 1556,
    "start_time": "2024-12-23T15:21:21.432Z"
   },
   {
    "duration": 28,
    "start_time": "2024-12-23T15:21:55.219Z"
   },
   {
    "duration": 86,
    "start_time": "2024-12-23T15:26:50.718Z"
   },
   {
    "duration": 2244,
    "start_time": "2024-12-23T15:28:08.201Z"
   },
   {
    "duration": 1863,
    "start_time": "2024-12-23T15:28:10.447Z"
   },
   {
    "duration": 1907,
    "start_time": "2024-12-23T15:28:12.312Z"
   },
   {
    "duration": 1838,
    "start_time": "2024-12-23T15:28:14.222Z"
   },
   {
    "duration": 1411,
    "start_time": "2024-12-23T15:28:16.063Z"
   },
   {
    "duration": 3,
    "start_time": "2024-12-23T15:28:17.476Z"
   },
   {
    "duration": 1160,
    "start_time": "2024-12-23T15:28:17.481Z"
   },
   {
    "duration": 100,
    "start_time": "2024-12-23T15:28:18.645Z"
   },
   {
    "duration": 56,
    "start_time": "2024-12-23T15:28:18.747Z"
   },
   {
    "duration": 112,
    "start_time": "2024-12-23T15:28:18.805Z"
   },
   {
    "duration": 1289,
    "start_time": "2024-12-23T15:28:18.918Z"
   },
   {
    "duration": 191,
    "start_time": "2024-12-23T15:28:20.208Z"
   },
   {
    "duration": 16,
    "start_time": "2024-12-23T15:28:20.402Z"
   },
   {
    "duration": 125,
    "start_time": "2024-12-23T15:28:20.419Z"
   },
   {
    "duration": 62,
    "start_time": "2024-12-23T15:28:20.545Z"
   },
   {
    "duration": 673,
    "start_time": "2024-12-23T15:28:20.609Z"
   },
   {
    "duration": 471,
    "start_time": "2024-12-23T15:28:21.283Z"
   },
   {
    "duration": 103,
    "start_time": "2024-12-23T15:28:21.756Z"
   },
   {
    "duration": 239,
    "start_time": "2024-12-23T15:28:21.861Z"
   },
   {
    "duration": 252,
    "start_time": "2024-12-23T15:28:22.102Z"
   },
   {
    "duration": 269,
    "start_time": "2024-12-23T15:28:22.355Z"
   },
   {
    "duration": 227,
    "start_time": "2024-12-23T15:28:22.626Z"
   },
   {
    "duration": 3,
    "start_time": "2024-12-23T15:28:22.855Z"
   },
   {
    "duration": 683,
    "start_time": "2024-12-23T15:28:22.860Z"
   },
   {
    "duration": 30,
    "start_time": "2024-12-23T15:28:23.545Z"
   },
   {
    "duration": 18,
    "start_time": "2024-12-23T15:28:23.577Z"
   },
   {
    "duration": 101,
    "start_time": "2024-12-23T15:28:23.596Z"
   },
   {
    "duration": 132,
    "start_time": "2024-12-23T15:28:23.701Z"
   },
   {
    "duration": 35,
    "start_time": "2024-12-23T15:28:23.843Z"
   },
   {
    "duration": 28,
    "start_time": "2024-12-23T15:28:23.880Z"
   },
   {
    "duration": 34,
    "start_time": "2024-12-23T15:28:23.909Z"
   },
   {
    "duration": 124,
    "start_time": "2024-12-23T15:28:23.945Z"
   },
   {
    "duration": 180,
    "start_time": "2024-12-23T15:28:24.071Z"
   },
   {
    "duration": 14,
    "start_time": "2024-12-23T15:28:24.253Z"
   },
   {
    "duration": 117,
    "start_time": "2024-12-23T15:28:24.269Z"
   },
   {
    "duration": 24,
    "start_time": "2024-12-23T15:28:24.387Z"
   },
   {
    "duration": 43,
    "start_time": "2024-12-23T15:28:24.413Z"
   },
   {
    "duration": 174,
    "start_time": "2024-12-23T15:28:24.458Z"
   },
   {
    "duration": 16,
    "start_time": "2024-12-23T15:28:24.642Z"
   },
   {
    "duration": 27,
    "start_time": "2024-12-23T15:28:24.659Z"
   },
   {
    "duration": 24,
    "start_time": "2024-12-23T15:28:24.687Z"
   },
   {
    "duration": 29,
    "start_time": "2024-12-23T15:28:24.712Z"
   },
   {
    "duration": 10,
    "start_time": "2024-12-23T15:28:24.742Z"
   },
   {
    "duration": 5022,
    "start_time": "2024-12-23T15:28:24.753Z"
   },
   {
    "duration": 40,
    "start_time": "2024-12-23T15:28:29.776Z"
   },
   {
    "duration": 35,
    "start_time": "2024-12-23T15:28:29.818Z"
   },
   {
    "duration": 7,
    "start_time": "2024-12-23T15:28:29.854Z"
   },
   {
    "duration": 124,
    "start_time": "2024-12-23T15:28:29.863Z"
   },
   {
    "duration": 29,
    "start_time": "2024-12-23T15:28:29.988Z"
   },
   {
    "duration": 231,
    "start_time": "2024-12-23T15:28:30.019Z"
   },
   {
    "duration": 4,
    "start_time": "2024-12-23T15:28:30.252Z"
   },
   {
    "duration": 49,
    "start_time": "2024-12-23T15:28:30.258Z"
   },
   {
    "duration": 42,
    "start_time": "2024-12-23T15:28:30.309Z"
   },
   {
    "duration": 26,
    "start_time": "2024-12-23T15:28:30.353Z"
   },
   {
    "duration": 52,
    "start_time": "2024-12-23T15:28:30.381Z"
   },
   {
    "duration": 128,
    "start_time": "2024-12-23T15:28:30.443Z"
   },
   {
    "duration": 37727,
    "start_time": "2024-12-23T15:28:30.574Z"
   },
   {
    "duration": 56,
    "start_time": "2024-12-23T15:29:08.303Z"
   },
   {
    "duration": 18,
    "start_time": "2024-12-23T15:29:08.361Z"
   },
   {
    "duration": 1894,
    "start_time": "2024-12-23T15:29:08.380Z"
   },
   {
    "duration": 10,
    "start_time": "2024-12-23T15:29:10.276Z"
   },
   {
    "duration": 0,
    "start_time": "2024-12-23T15:29:10.287Z"
   },
   {
    "duration": 0,
    "start_time": "2024-12-23T15:29:10.288Z"
   },
   {
    "duration": 0,
    "start_time": "2024-12-23T15:29:10.290Z"
   },
   {
    "duration": 0,
    "start_time": "2024-12-23T15:29:10.291Z"
   },
   {
    "duration": 0,
    "start_time": "2024-12-23T15:29:10.293Z"
   },
   {
    "duration": 0,
    "start_time": "2024-12-23T15:29:10.294Z"
   },
   {
    "duration": 0,
    "start_time": "2024-12-23T15:29:10.295Z"
   },
   {
    "duration": 0,
    "start_time": "2024-12-23T15:29:10.296Z"
   },
   {
    "duration": 0,
    "start_time": "2024-12-23T15:29:10.297Z"
   },
   {
    "duration": 339,
    "start_time": "2024-12-23T15:31:36.702Z"
   },
   {
    "duration": 1580,
    "start_time": "2024-12-23T15:32:28.468Z"
   },
   {
    "duration": 103,
    "start_time": "2024-12-23T15:38:25.696Z"
   },
   {
    "duration": 4,
    "start_time": "2024-12-23T15:38:44.401Z"
   },
   {
    "duration": 1602,
    "start_time": "2024-12-23T15:40:01.470Z"
   },
   {
    "duration": 1520,
    "start_time": "2024-12-23T15:40:47.322Z"
   },
   {
    "duration": 19,
    "start_time": "2024-12-23T15:42:42.407Z"
   },
   {
    "duration": 4,
    "start_time": "2024-12-23T15:44:03.552Z"
   },
   {
    "duration": 5,
    "start_time": "2024-12-23T15:44:50.878Z"
   },
   {
    "duration": 1534,
    "start_time": "2024-12-23T15:45:01.031Z"
   },
   {
    "duration": 67,
    "start_time": "2024-12-23T15:47:53.023Z"
   },
   {
    "duration": 3,
    "start_time": "2024-12-23T15:48:19.671Z"
   },
   {
    "duration": 74,
    "start_time": "2024-12-23T15:48:25.691Z"
   },
   {
    "duration": 15,
    "start_time": "2024-12-23T15:49:41.497Z"
   },
   {
    "duration": 2999,
    "start_time": "2024-12-23T15:52:10.052Z"
   },
   {
    "duration": 92,
    "start_time": "2024-12-23T15:52:23.970Z"
   },
   {
    "duration": 3,
    "start_time": "2024-12-23T15:52:31.237Z"
   },
   {
    "duration": 4,
    "start_time": "2024-12-23T15:52:35.686Z"
   },
   {
    "duration": 80,
    "start_time": "2024-12-23T15:52:42.118Z"
   },
   {
    "duration": 4,
    "start_time": "2024-12-23T15:55:19.306Z"
   },
   {
    "duration": 106,
    "start_time": "2024-12-23T15:55:30.192Z"
   },
   {
    "duration": 3,
    "start_time": "2024-12-23T15:56:58.320Z"
   },
   {
    "duration": 132,
    "start_time": "2024-12-23T15:56:59.859Z"
   },
   {
    "duration": 4,
    "start_time": "2024-12-23T15:58:23.902Z"
   },
   {
    "duration": 4,
    "start_time": "2024-12-23T15:58:27.724Z"
   },
   {
    "duration": 36777,
    "start_time": "2024-12-23T15:58:41.916Z"
   },
   {
    "duration": 53,
    "start_time": "2024-12-23T15:59:18.695Z"
   },
   {
    "duration": 16,
    "start_time": "2024-12-23T16:00:31.037Z"
   },
   {
    "duration": 1618,
    "start_time": "2024-12-23T16:00:34.472Z"
   },
   {
    "duration": 2371,
    "start_time": "2024-12-23T16:03:07.494Z"
   },
   {
    "duration": 1897,
    "start_time": "2024-12-23T16:03:09.868Z"
   },
   {
    "duration": 1899,
    "start_time": "2024-12-23T16:03:11.767Z"
   },
   {
    "duration": 1933,
    "start_time": "2024-12-23T16:03:13.669Z"
   },
   {
    "duration": 1543,
    "start_time": "2024-12-23T16:03:15.603Z"
   },
   {
    "duration": 3,
    "start_time": "2024-12-23T16:03:17.148Z"
   },
   {
    "duration": 1189,
    "start_time": "2024-12-23T16:03:17.152Z"
   },
   {
    "duration": 117,
    "start_time": "2024-12-23T16:03:18.343Z"
   },
   {
    "duration": 69,
    "start_time": "2024-12-23T16:03:18.461Z"
   },
   {
    "duration": 105,
    "start_time": "2024-12-23T16:03:18.533Z"
   },
   {
    "duration": 1259,
    "start_time": "2024-12-23T16:03:18.640Z"
   },
   {
    "duration": 172,
    "start_time": "2024-12-23T16:03:19.901Z"
   },
   {
    "duration": 17,
    "start_time": "2024-12-23T16:03:20.074Z"
   },
   {
    "duration": 111,
    "start_time": "2024-12-23T16:03:20.093Z"
   },
   {
    "duration": 69,
    "start_time": "2024-12-23T16:03:20.206Z"
   },
   {
    "duration": 624,
    "start_time": "2024-12-23T16:03:20.277Z"
   },
   {
    "duration": 476,
    "start_time": "2024-12-23T16:03:20.903Z"
   },
   {
    "duration": 99,
    "start_time": "2024-12-23T16:03:21.381Z"
   },
   {
    "duration": 202,
    "start_time": "2024-12-23T16:03:21.482Z"
   },
   {
    "duration": 236,
    "start_time": "2024-12-23T16:03:21.686Z"
   },
   {
    "duration": 234,
    "start_time": "2024-12-23T16:03:21.929Z"
   },
   {
    "duration": 202,
    "start_time": "2024-12-23T16:03:22.167Z"
   },
   {
    "duration": 3,
    "start_time": "2024-12-23T16:03:22.370Z"
   },
   {
    "duration": 639,
    "start_time": "2024-12-23T16:03:22.375Z"
   },
   {
    "duration": 43,
    "start_time": "2024-12-23T16:03:23.016Z"
   },
   {
    "duration": 15,
    "start_time": "2024-12-23T16:03:23.060Z"
   },
   {
    "duration": 97,
    "start_time": "2024-12-23T16:03:23.077Z"
   },
   {
    "duration": 137,
    "start_time": "2024-12-23T16:03:23.178Z"
   },
   {
    "duration": 41,
    "start_time": "2024-12-23T16:03:23.316Z"
   },
   {
    "duration": 35,
    "start_time": "2024-12-23T16:03:23.359Z"
   },
   {
    "duration": 38,
    "start_time": "2024-12-23T16:03:23.395Z"
   },
   {
    "duration": 140,
    "start_time": "2024-12-23T16:03:23.435Z"
   },
   {
    "duration": 186,
    "start_time": "2024-12-23T16:03:23.577Z"
   },
   {
    "duration": 16,
    "start_time": "2024-12-23T16:03:23.765Z"
   },
   {
    "duration": 111,
    "start_time": "2024-12-23T16:03:23.783Z"
   },
   {
    "duration": 38,
    "start_time": "2024-12-23T16:03:23.896Z"
   },
   {
    "duration": 37,
    "start_time": "2024-12-23T16:03:23.936Z"
   },
   {
    "duration": 175,
    "start_time": "2024-12-23T16:03:23.974Z"
   },
   {
    "duration": 15,
    "start_time": "2024-12-23T16:03:24.152Z"
   },
   {
    "duration": 77,
    "start_time": "2024-12-23T16:03:24.168Z"
   },
   {
    "duration": 23,
    "start_time": "2024-12-23T16:03:24.247Z"
   },
   {
    "duration": 4,
    "start_time": "2024-12-23T16:03:24.272Z"
   },
   {
    "duration": 12,
    "start_time": "2024-12-23T16:03:24.277Z"
   },
   {
    "duration": 4905,
    "start_time": "2024-12-23T16:03:24.290Z"
   },
   {
    "duration": 52,
    "start_time": "2024-12-23T16:03:29.196Z"
   },
   {
    "duration": 16,
    "start_time": "2024-12-23T16:03:29.249Z"
   },
   {
    "duration": 7,
    "start_time": "2024-12-23T16:03:29.266Z"
   },
   {
    "duration": 112,
    "start_time": "2024-12-23T16:03:29.275Z"
   },
   {
    "duration": 29,
    "start_time": "2024-12-23T16:03:29.388Z"
   },
   {
    "duration": 49,
    "start_time": "2024-12-23T16:03:29.418Z"
   },
   {
    "duration": 3,
    "start_time": "2024-12-23T16:03:29.469Z"
   },
   {
    "duration": 8,
    "start_time": "2024-12-23T16:03:29.473Z"
   },
   {
    "duration": 12,
    "start_time": "2024-12-23T16:03:29.483Z"
   },
   {
    "duration": 6,
    "start_time": "2024-12-23T16:03:29.496Z"
   },
   {
    "duration": 6,
    "start_time": "2024-12-23T16:03:29.503Z"
   },
   {
    "duration": 4,
    "start_time": "2024-12-23T16:03:29.510Z"
   },
   {
    "duration": 37377,
    "start_time": "2024-12-23T16:03:29.515Z"
   },
   {
    "duration": 47,
    "start_time": "2024-12-23T16:04:06.895Z"
   },
   {
    "duration": 40,
    "start_time": "2024-12-23T16:04:06.944Z"
   },
   {
    "duration": 1962,
    "start_time": "2024-12-23T16:04:06.986Z"
   },
   {
    "duration": 11,
    "start_time": "2024-12-23T16:04:08.950Z"
   },
   {
    "duration": 0,
    "start_time": "2024-12-23T16:04:08.963Z"
   },
   {
    "duration": 0,
    "start_time": "2024-12-23T16:04:08.965Z"
   },
   {
    "duration": 0,
    "start_time": "2024-12-23T16:04:08.967Z"
   },
   {
    "duration": 0,
    "start_time": "2024-12-23T16:04:08.969Z"
   },
   {
    "duration": 0,
    "start_time": "2024-12-23T16:04:08.970Z"
   },
   {
    "duration": 0,
    "start_time": "2024-12-23T16:04:08.971Z"
   },
   {
    "duration": 0,
    "start_time": "2024-12-23T16:04:08.972Z"
   },
   {
    "duration": 0,
    "start_time": "2024-12-23T16:04:08.974Z"
   },
   {
    "duration": 0,
    "start_time": "2024-12-23T16:04:08.975Z"
   },
   {
    "duration": 12,
    "start_time": "2024-12-23T16:05:36.142Z"
   },
   {
    "duration": 4,
    "start_time": "2024-12-23T16:13:11.985Z"
   },
   {
    "duration": 1556,
    "start_time": "2024-12-23T16:13:18.263Z"
   },
   {
    "duration": 538,
    "start_time": "2024-12-23T16:19:38.840Z"
   },
   {
    "duration": 3,
    "start_time": "2024-12-23T16:22:34.969Z"
   },
   {
    "duration": 4,
    "start_time": "2024-12-23T16:22:46.985Z"
   },
   {
    "duration": 1508,
    "start_time": "2024-12-23T16:22:57.668Z"
   },
   {
    "duration": 1505,
    "start_time": "2024-12-23T16:24:15.436Z"
   },
   {
    "duration": 4,
    "start_time": "2024-12-23T16:26:41.873Z"
   },
   {
    "duration": 4,
    "start_time": "2024-12-23T16:26:53.724Z"
   },
   {
    "duration": 4,
    "start_time": "2024-12-23T16:27:01.443Z"
   },
   {
    "duration": 17875,
    "start_time": "2024-12-23T16:27:08.703Z"
   },
   {
    "duration": 18,
    "start_time": "2024-12-23T16:27:55.195Z"
   },
   {
    "duration": 9,
    "start_time": "2024-12-23T16:27:58.202Z"
   },
   {
    "duration": 46,
    "start_time": "2024-12-23T16:29:18.170Z"
   },
   {
    "duration": 17642,
    "start_time": "2024-12-23T16:29:21.851Z"
   },
   {
    "duration": 84,
    "start_time": "2024-12-23T16:30:33.848Z"
   },
   {
    "duration": 4,
    "start_time": "2024-12-23T16:30:37.150Z"
   },
   {
    "duration": 3,
    "start_time": "2024-12-23T16:30:46.903Z"
   },
   {
    "duration": 17662,
    "start_time": "2024-12-23T16:30:51.397Z"
   },
   {
    "duration": 111,
    "start_time": "2024-12-23T16:33:20.339Z"
   },
   {
    "duration": 85,
    "start_time": "2024-12-23T16:33:55.732Z"
   },
   {
    "duration": 10,
    "start_time": "2024-12-23T16:33:57.232Z"
   },
   {
    "duration": 80,
    "start_time": "2024-12-23T16:34:05.908Z"
   },
   {
    "duration": 3,
    "start_time": "2024-12-23T16:34:08.547Z"
   },
   {
    "duration": 517,
    "start_time": "2024-12-23T16:34:12.707Z"
   },
   {
    "duration": 137,
    "start_time": "2024-12-23T16:35:19.005Z"
   },
   {
    "duration": 10,
    "start_time": "2024-12-23T16:36:00.143Z"
   },
   {
    "duration": 125,
    "start_time": "2024-12-23T16:36:01.923Z"
   },
   {
    "duration": 5,
    "start_time": "2024-12-23T16:36:46.312Z"
   },
   {
    "duration": 2104,
    "start_time": "2024-12-23T16:48:42.378Z"
   },
   {
    "duration": 2047,
    "start_time": "2024-12-23T16:48:44.485Z"
   },
   {
    "duration": 1811,
    "start_time": "2024-12-23T16:48:46.534Z"
   },
   {
    "duration": 1793,
    "start_time": "2024-12-23T16:48:48.347Z"
   },
   {
    "duration": 1456,
    "start_time": "2024-12-23T16:48:50.143Z"
   },
   {
    "duration": 3,
    "start_time": "2024-12-23T16:48:51.601Z"
   },
   {
    "duration": 1141,
    "start_time": "2024-12-23T16:48:51.606Z"
   },
   {
    "duration": 119,
    "start_time": "2024-12-23T16:48:52.749Z"
   },
   {
    "duration": 63,
    "start_time": "2024-12-23T16:48:52.869Z"
   },
   {
    "duration": 107,
    "start_time": "2024-12-23T16:48:52.933Z"
   },
   {
    "duration": 1182,
    "start_time": "2024-12-23T16:48:53.041Z"
   },
   {
    "duration": 176,
    "start_time": "2024-12-23T16:48:54.229Z"
   },
   {
    "duration": 24,
    "start_time": "2024-12-23T16:48:54.407Z"
   },
   {
    "duration": 178,
    "start_time": "2024-12-23T16:48:54.434Z"
   },
   {
    "duration": 65,
    "start_time": "2024-12-23T16:48:54.613Z"
   },
   {
    "duration": 532,
    "start_time": "2024-12-23T16:48:54.680Z"
   },
   {
    "duration": 456,
    "start_time": "2024-12-23T16:48:55.215Z"
   },
   {
    "duration": 92,
    "start_time": "2024-12-23T16:48:55.672Z"
   },
   {
    "duration": 196,
    "start_time": "2024-12-23T16:48:55.766Z"
   },
   {
    "duration": 245,
    "start_time": "2024-12-23T16:48:55.964Z"
   },
   {
    "duration": 252,
    "start_time": "2024-12-23T16:48:56.211Z"
   },
   {
    "duration": 181,
    "start_time": "2024-12-23T16:48:56.464Z"
   },
   {
    "duration": 3,
    "start_time": "2024-12-23T16:48:56.647Z"
   },
   {
    "duration": 639,
    "start_time": "2024-12-23T16:48:56.652Z"
   },
   {
    "duration": 42,
    "start_time": "2024-12-23T16:48:57.292Z"
   },
   {
    "duration": 69,
    "start_time": "2024-12-23T16:48:57.335Z"
   },
   {
    "duration": 91,
    "start_time": "2024-12-23T16:48:57.406Z"
   },
   {
    "duration": 132,
    "start_time": "2024-12-23T16:48:57.498Z"
   },
   {
    "duration": 32,
    "start_time": "2024-12-23T16:48:57.631Z"
   },
   {
    "duration": 31,
    "start_time": "2024-12-23T16:48:57.665Z"
   },
   {
    "duration": 40,
    "start_time": "2024-12-23T16:48:57.697Z"
   },
   {
    "duration": 134,
    "start_time": "2024-12-23T16:48:57.738Z"
   },
   {
    "duration": 169,
    "start_time": "2024-12-23T16:48:57.874Z"
   },
   {
    "duration": 13,
    "start_time": "2024-12-23T16:48:58.045Z"
   },
   {
    "duration": 97,
    "start_time": "2024-12-23T16:48:58.059Z"
   },
   {
    "duration": 25,
    "start_time": "2024-12-23T16:48:58.158Z"
   },
   {
    "duration": 52,
    "start_time": "2024-12-23T16:48:58.184Z"
   },
   {
    "duration": 159,
    "start_time": "2024-12-23T16:48:58.238Z"
   },
   {
    "duration": 14,
    "start_time": "2024-12-23T16:48:58.398Z"
   },
   {
    "duration": 39,
    "start_time": "2024-12-23T16:48:58.413Z"
   },
   {
    "duration": 21,
    "start_time": "2024-12-23T16:48:58.456Z"
   },
   {
    "duration": 4,
    "start_time": "2024-12-23T16:48:58.479Z"
   },
   {
    "duration": 17,
    "start_time": "2024-12-23T16:48:58.484Z"
   },
   {
    "duration": 4687,
    "start_time": "2024-12-23T16:48:58.503Z"
   },
   {
    "duration": 51,
    "start_time": "2024-12-23T16:49:03.192Z"
   },
   {
    "duration": 17,
    "start_time": "2024-12-23T16:49:03.245Z"
   },
   {
    "duration": 7,
    "start_time": "2024-12-23T16:49:03.263Z"
   },
   {
    "duration": 135,
    "start_time": "2024-12-23T16:49:03.272Z"
   },
   {
    "duration": 34,
    "start_time": "2024-12-23T16:49:03.409Z"
   },
   {
    "duration": 29,
    "start_time": "2024-12-23T16:49:03.445Z"
   },
   {
    "duration": 4,
    "start_time": "2024-12-23T16:49:03.475Z"
   },
   {
    "duration": 32,
    "start_time": "2024-12-23T16:49:03.480Z"
   },
   {
    "duration": 19,
    "start_time": "2024-12-23T16:49:03.514Z"
   },
   {
    "duration": 11,
    "start_time": "2024-12-23T16:49:03.535Z"
   },
   {
    "duration": 6,
    "start_time": "2024-12-23T16:49:03.548Z"
   },
   {
    "duration": 6,
    "start_time": "2024-12-23T16:49:03.555Z"
   },
   {
    "duration": 37036,
    "start_time": "2024-12-23T16:49:03.562Z"
   },
   {
    "duration": 47,
    "start_time": "2024-12-23T16:49:40.600Z"
   },
   {
    "duration": 17,
    "start_time": "2024-12-23T16:49:40.648Z"
   },
   {
    "duration": 17916,
    "start_time": "2024-12-23T16:49:40.667Z"
   },
   {
    "duration": 21,
    "start_time": "2024-12-23T16:49:58.585Z"
   },
   {
    "duration": 32,
    "start_time": "2024-12-23T16:49:58.608Z"
   },
   {
    "duration": 118,
    "start_time": "2024-12-23T16:49:58.642Z"
   },
   {
    "duration": 3,
    "start_time": "2024-12-23T16:49:58.761Z"
   },
   {
    "duration": 564,
    "start_time": "2024-12-23T16:49:58.766Z"
   },
   {
    "duration": 122,
    "start_time": "2024-12-23T16:49:59.332Z"
   },
   {
    "duration": 4,
    "start_time": "2024-12-23T16:49:59.456Z"
   },
   {
    "duration": 8799,
    "start_time": "2024-12-23T19:29:35.845Z"
   },
   {
    "duration": 3538,
    "start_time": "2024-12-23T19:29:44.648Z"
   },
   {
    "duration": 2591,
    "start_time": "2024-12-23T19:29:48.188Z"
   },
   {
    "duration": 3464,
    "start_time": "2024-12-23T19:29:50.782Z"
   },
   {
    "duration": 1709,
    "start_time": "2024-12-23T19:29:54.249Z"
   },
   {
    "duration": 3,
    "start_time": "2024-12-23T19:29:55.960Z"
   },
   {
    "duration": 3257,
    "start_time": "2024-12-23T19:29:55.965Z"
   },
   {
    "duration": 113,
    "start_time": "2024-12-23T19:29:59.224Z"
   },
   {
    "duration": 57,
    "start_time": "2024-12-23T19:29:59.339Z"
   },
   {
    "duration": 108,
    "start_time": "2024-12-23T19:29:59.398Z"
   },
   {
    "duration": 1519,
    "start_time": "2024-12-23T19:29:59.508Z"
   },
   {
    "duration": 183,
    "start_time": "2024-12-23T19:30:01.029Z"
   },
   {
    "duration": 18,
    "start_time": "2024-12-23T19:30:01.214Z"
   },
   {
    "duration": 125,
    "start_time": "2024-12-23T19:30:01.235Z"
   },
   {
    "duration": 68,
    "start_time": "2024-12-23T19:30:01.361Z"
   },
   {
    "duration": 705,
    "start_time": "2024-12-23T19:30:01.431Z"
   },
   {
    "duration": 465,
    "start_time": "2024-12-23T19:30:02.138Z"
   },
   {
    "duration": 106,
    "start_time": "2024-12-23T19:30:02.605Z"
   },
   {
    "duration": 214,
    "start_time": "2024-12-23T19:30:02.712Z"
   },
   {
    "duration": 233,
    "start_time": "2024-12-23T19:30:02.928Z"
   },
   {
    "duration": 258,
    "start_time": "2024-12-23T19:30:03.170Z"
   },
   {
    "duration": 205,
    "start_time": "2024-12-23T19:30:03.429Z"
   },
   {
    "duration": 3,
    "start_time": "2024-12-23T19:30:03.636Z"
   },
   {
    "duration": 780,
    "start_time": "2024-12-23T19:30:03.640Z"
   },
   {
    "duration": 31,
    "start_time": "2024-12-23T19:30:04.421Z"
   },
   {
    "duration": 31,
    "start_time": "2024-12-23T19:30:04.454Z"
   },
   {
    "duration": 85,
    "start_time": "2024-12-23T19:30:04.487Z"
   },
   {
    "duration": 147,
    "start_time": "2024-12-23T19:30:04.574Z"
   },
   {
    "duration": 47,
    "start_time": "2024-12-23T19:30:04.723Z"
   },
   {
    "duration": 31,
    "start_time": "2024-12-23T19:30:04.772Z"
   },
   {
    "duration": 122,
    "start_time": "2024-12-23T19:30:04.806Z"
   },
   {
    "duration": 140,
    "start_time": "2024-12-23T19:30:04.930Z"
   },
   {
    "duration": 190,
    "start_time": "2024-12-23T19:30:05.072Z"
   },
   {
    "duration": 19,
    "start_time": "2024-12-23T19:30:05.264Z"
   },
   {
    "duration": 107,
    "start_time": "2024-12-23T19:30:05.285Z"
   },
   {
    "duration": 27,
    "start_time": "2024-12-23T19:30:05.394Z"
   },
   {
    "duration": 55,
    "start_time": "2024-12-23T19:30:05.423Z"
   },
   {
    "duration": 177,
    "start_time": "2024-12-23T19:30:05.479Z"
   },
   {
    "duration": 23,
    "start_time": "2024-12-23T19:30:05.658Z"
   },
   {
    "duration": 28,
    "start_time": "2024-12-23T19:30:05.683Z"
   },
   {
    "duration": 60,
    "start_time": "2024-12-23T19:30:05.716Z"
   },
   {
    "duration": 5,
    "start_time": "2024-12-23T19:30:05.779Z"
   },
   {
    "duration": 97,
    "start_time": "2024-12-23T19:30:05.787Z"
   },
   {
    "duration": 5142,
    "start_time": "2024-12-23T19:30:05.887Z"
   },
   {
    "duration": 24,
    "start_time": "2024-12-23T19:30:11.031Z"
   },
   {
    "duration": 30,
    "start_time": "2024-12-23T19:30:11.057Z"
   },
   {
    "duration": 7,
    "start_time": "2024-12-23T19:30:11.089Z"
   },
   {
    "duration": 124,
    "start_time": "2024-12-23T19:30:11.098Z"
   },
   {
    "duration": 33,
    "start_time": "2024-12-23T19:30:11.224Z"
   },
   {
    "duration": 32,
    "start_time": "2024-12-23T19:30:11.271Z"
   },
   {
    "duration": 4,
    "start_time": "2024-12-23T19:30:11.305Z"
   },
   {
    "duration": 10,
    "start_time": "2024-12-23T19:30:11.311Z"
   },
   {
    "duration": 7,
    "start_time": "2024-12-23T19:30:11.323Z"
   },
   {
    "duration": 20,
    "start_time": "2024-12-23T19:30:11.332Z"
   },
   {
    "duration": 21,
    "start_time": "2024-12-23T19:30:11.353Z"
   },
   {
    "duration": 26,
    "start_time": "2024-12-23T19:30:11.376Z"
   },
   {
    "duration": 42431,
    "start_time": "2024-12-23T19:30:11.403Z"
   },
   {
    "duration": 50,
    "start_time": "2024-12-23T19:30:53.836Z"
   },
   {
    "duration": 17,
    "start_time": "2024-12-23T19:30:53.887Z"
   },
   {
    "duration": 61412,
    "start_time": "2024-12-23T19:30:53.906Z"
   },
   {
    "duration": 10,
    "start_time": "2024-12-23T19:31:55.320Z"
   },
   {
    "duration": 0,
    "start_time": "2024-12-23T19:31:55.331Z"
   },
   {
    "duration": 0,
    "start_time": "2024-12-23T19:31:55.332Z"
   },
   {
    "duration": 0,
    "start_time": "2024-12-23T19:31:55.334Z"
   },
   {
    "duration": 0,
    "start_time": "2024-12-23T19:31:55.335Z"
   },
   {
    "duration": 0,
    "start_time": "2024-12-23T19:31:55.336Z"
   },
   {
    "duration": 0,
    "start_time": "2024-12-23T19:31:55.337Z"
   },
   {
    "duration": 98800,
    "start_time": "2024-12-23T19:31:57.579Z"
   },
   {
    "duration": 91,
    "start_time": "2024-12-23T19:33:57.119Z"
   },
   {
    "duration": 5,
    "start_time": "2024-12-23T19:34:21.215Z"
   },
   {
    "duration": 755,
    "start_time": "2024-12-23T19:34:25.086Z"
   },
   {
    "duration": 4,
    "start_time": "2024-12-23T19:36:57.108Z"
   },
   {
    "duration": 749,
    "start_time": "2024-12-23T19:37:04.972Z"
   },
   {
    "duration": 4,
    "start_time": "2024-12-23T19:41:15.493Z"
   },
   {
    "duration": 403738,
    "start_time": "2024-12-23T19:41:18.844Z"
   },
   {
    "duration": 8894,
    "start_time": "2024-12-23T20:32:52.317Z"
   },
   {
    "duration": 3035,
    "start_time": "2024-12-23T20:33:01.213Z"
   },
   {
    "duration": 3018,
    "start_time": "2024-12-23T20:33:04.251Z"
   },
   {
    "duration": 3829,
    "start_time": "2024-12-23T20:33:07.271Z"
   },
   {
    "duration": 1904,
    "start_time": "2024-12-23T20:33:11.102Z"
   },
   {
    "duration": 3,
    "start_time": "2024-12-23T20:33:13.007Z"
   },
   {
    "duration": 3112,
    "start_time": "2024-12-23T20:33:13.011Z"
   },
   {
    "duration": 124,
    "start_time": "2024-12-23T20:33:16.125Z"
   },
   {
    "duration": 59,
    "start_time": "2024-12-23T20:33:16.251Z"
   },
   {
    "duration": 108,
    "start_time": "2024-12-23T20:33:16.312Z"
   },
   {
    "duration": 1448,
    "start_time": "2024-12-23T20:33:16.422Z"
   },
   {
    "duration": 291,
    "start_time": "2024-12-23T20:33:17.872Z"
   },
   {
    "duration": 18,
    "start_time": "2024-12-23T20:33:18.165Z"
   },
   {
    "duration": 116,
    "start_time": "2024-12-23T20:33:18.185Z"
   },
   {
    "duration": 79,
    "start_time": "2024-12-23T20:33:18.303Z"
   },
   {
    "duration": 657,
    "start_time": "2024-12-23T20:33:18.384Z"
   },
   {
    "duration": 478,
    "start_time": "2024-12-23T20:33:19.043Z"
   },
   {
    "duration": 97,
    "start_time": "2024-12-23T20:33:19.522Z"
   },
   {
    "duration": 210,
    "start_time": "2024-12-23T20:33:19.621Z"
   },
   {
    "duration": 238,
    "start_time": "2024-12-23T20:33:19.832Z"
   },
   {
    "duration": 269,
    "start_time": "2024-12-23T20:33:20.072Z"
   },
   {
    "duration": 207,
    "start_time": "2024-12-23T20:33:20.343Z"
   },
   {
    "duration": 3,
    "start_time": "2024-12-23T20:33:20.551Z"
   },
   {
    "duration": 731,
    "start_time": "2024-12-23T20:33:20.555Z"
   },
   {
    "duration": 46,
    "start_time": "2024-12-23T20:33:21.288Z"
   },
   {
    "duration": 45,
    "start_time": "2024-12-23T20:33:21.336Z"
   },
   {
    "duration": 79,
    "start_time": "2024-12-23T20:33:21.382Z"
   },
   {
    "duration": 136,
    "start_time": "2024-12-23T20:33:21.465Z"
   },
   {
    "duration": 42,
    "start_time": "2024-12-23T20:33:21.603Z"
   },
   {
    "duration": 32,
    "start_time": "2024-12-23T20:33:21.647Z"
   },
   {
    "duration": 16,
    "start_time": "2024-12-23T20:33:21.680Z"
   },
   {
    "duration": 158,
    "start_time": "2024-12-23T20:33:21.697Z"
   },
   {
    "duration": 184,
    "start_time": "2024-12-23T20:33:21.856Z"
   },
   {
    "duration": 15,
    "start_time": "2024-12-23T20:33:22.041Z"
   },
   {
    "duration": 111,
    "start_time": "2024-12-23T20:33:22.057Z"
   },
   {
    "duration": 26,
    "start_time": "2024-12-23T20:33:22.169Z"
   },
   {
    "duration": 52,
    "start_time": "2024-12-23T20:33:22.196Z"
   },
   {
    "duration": 182,
    "start_time": "2024-12-23T20:33:22.250Z"
   },
   {
    "duration": 16,
    "start_time": "2024-12-23T20:33:22.433Z"
   },
   {
    "duration": 33,
    "start_time": "2024-12-23T20:33:22.450Z"
   },
   {
    "duration": 22,
    "start_time": "2024-12-23T20:33:22.485Z"
   },
   {
    "duration": 4,
    "start_time": "2024-12-23T20:33:22.530Z"
   },
   {
    "duration": 11,
    "start_time": "2024-12-23T20:33:22.535Z"
   },
   {
    "duration": 5084,
    "start_time": "2024-12-23T20:33:22.548Z"
   },
   {
    "duration": 43,
    "start_time": "2024-12-23T20:33:27.634Z"
   },
   {
    "duration": 16,
    "start_time": "2024-12-23T20:33:27.678Z"
   },
   {
    "duration": 7,
    "start_time": "2024-12-23T20:33:27.696Z"
   },
   {
    "duration": 134,
    "start_time": "2024-12-23T20:33:27.704Z"
   },
   {
    "duration": 35,
    "start_time": "2024-12-23T20:33:27.840Z"
   },
   {
    "duration": 30,
    "start_time": "2024-12-23T20:33:27.877Z"
   },
   {
    "duration": 21,
    "start_time": "2024-12-23T20:33:27.909Z"
   },
   {
    "duration": 84,
    "start_time": "2024-12-23T20:33:27.932Z"
   },
   {
    "duration": 3,
    "start_time": "2024-12-23T20:33:28.031Z"
   },
   {
    "duration": 6,
    "start_time": "2024-12-23T20:33:28.036Z"
   },
   {
    "duration": 4,
    "start_time": "2024-12-23T20:33:28.043Z"
   },
   {
    "duration": 15,
    "start_time": "2024-12-23T20:33:28.049Z"
   },
   {
    "duration": 38420,
    "start_time": "2024-12-23T20:33:28.066Z"
   },
   {
    "duration": 44,
    "start_time": "2024-12-23T20:34:06.487Z"
   },
   {
    "duration": 34,
    "start_time": "2024-12-23T20:34:06.533Z"
   },
   {
    "duration": 38163,
    "start_time": "2024-12-23T20:34:06.568Z"
   },
   {
    "duration": 23,
    "start_time": "2024-12-23T20:35:00.904Z"
   },
   {
    "duration": 22,
    "start_time": "2024-12-23T20:35:08.303Z"
   },
   {
    "duration": 8309,
    "start_time": "2024-12-23T20:35:14.846Z"
   },
   {
    "duration": 62611,
    "start_time": "2024-12-23T20:35:35.223Z"
   },
   {
    "duration": 3,
    "start_time": "2024-12-23T20:36:37.836Z"
   },
   {
    "duration": 40899,
    "start_time": "2024-12-23T20:36:46.239Z"
   },
   {
    "duration": 6,
    "start_time": "2024-12-23T20:38:51.119Z"
   },
   {
    "duration": 7358,
    "start_time": "2024-12-23T21:02:57.346Z"
   },
   {
    "duration": 3321,
    "start_time": "2024-12-23T21:03:04.707Z"
   },
   {
    "duration": 2590,
    "start_time": "2024-12-23T21:03:08.031Z"
   },
   {
    "duration": 2977,
    "start_time": "2024-12-23T21:03:10.623Z"
   },
   {
    "duration": 1623,
    "start_time": "2024-12-23T21:03:13.602Z"
   },
   {
    "duration": 3,
    "start_time": "2024-12-23T21:03:15.227Z"
   },
   {
    "duration": 3149,
    "start_time": "2024-12-23T21:03:15.232Z"
   },
   {
    "duration": 130,
    "start_time": "2024-12-23T21:03:18.384Z"
   },
   {
    "duration": 61,
    "start_time": "2024-12-23T21:03:18.516Z"
   },
   {
    "duration": 104,
    "start_time": "2024-12-23T21:03:18.579Z"
   },
   {
    "duration": 1473,
    "start_time": "2024-12-23T21:03:18.685Z"
   },
   {
    "duration": 175,
    "start_time": "2024-12-23T21:03:20.160Z"
   },
   {
    "duration": 19,
    "start_time": "2024-12-23T21:03:20.337Z"
   },
   {
    "duration": 114,
    "start_time": "2024-12-23T21:03:20.358Z"
   },
   {
    "duration": 70,
    "start_time": "2024-12-23T21:03:20.473Z"
   },
   {
    "duration": 659,
    "start_time": "2024-12-23T21:03:20.545Z"
   },
   {
    "duration": 468,
    "start_time": "2024-12-23T21:03:21.206Z"
   },
   {
    "duration": 101,
    "start_time": "2024-12-23T21:03:21.675Z"
   },
   {
    "duration": 214,
    "start_time": "2024-12-23T21:03:21.778Z"
   },
   {
    "duration": 243,
    "start_time": "2024-12-23T21:03:21.993Z"
   },
   {
    "duration": 261,
    "start_time": "2024-12-23T21:03:22.238Z"
   },
   {
    "duration": 210,
    "start_time": "2024-12-23T21:03:22.501Z"
   },
   {
    "duration": 3,
    "start_time": "2024-12-23T21:03:22.712Z"
   },
   {
    "duration": 703,
    "start_time": "2024-12-23T21:03:22.717Z"
   },
   {
    "duration": 33,
    "start_time": "2024-12-23T21:03:23.429Z"
   },
   {
    "duration": 56,
    "start_time": "2024-12-23T21:03:23.464Z"
   },
   {
    "duration": 79,
    "start_time": "2024-12-23T21:03:23.521Z"
   },
   {
    "duration": 147,
    "start_time": "2024-12-23T21:03:23.604Z"
   },
   {
    "duration": 35,
    "start_time": "2024-12-23T21:03:23.752Z"
   },
   {
    "duration": 47,
    "start_time": "2024-12-23T21:03:23.788Z"
   },
   {
    "duration": 16,
    "start_time": "2024-12-23T21:03:23.837Z"
   },
   {
    "duration": 151,
    "start_time": "2024-12-23T21:03:23.854Z"
   },
   {
    "duration": 184,
    "start_time": "2024-12-23T21:03:24.006Z"
   },
   {
    "duration": 16,
    "start_time": "2024-12-23T21:03:24.191Z"
   },
   {
    "duration": 124,
    "start_time": "2024-12-23T21:03:24.209Z"
   },
   {
    "duration": 27,
    "start_time": "2024-12-23T21:03:24.335Z"
   },
   {
    "duration": 37,
    "start_time": "2024-12-23T21:03:24.363Z"
   },
   {
    "duration": 185,
    "start_time": "2024-12-23T21:03:24.402Z"
   },
   {
    "duration": 16,
    "start_time": "2024-12-23T21:03:24.588Z"
   },
   {
    "duration": 42,
    "start_time": "2024-12-23T21:03:24.605Z"
   },
   {
    "duration": 22,
    "start_time": "2024-12-23T21:03:24.648Z"
   },
   {
    "duration": 81,
    "start_time": "2024-12-23T21:03:24.672Z"
   },
   {
    "duration": 14,
    "start_time": "2024-12-23T21:03:24.754Z"
   },
   {
    "duration": 5059,
    "start_time": "2024-12-23T21:03:24.770Z"
   },
   {
    "duration": 43,
    "start_time": "2024-12-23T21:03:29.831Z"
   },
   {
    "duration": 16,
    "start_time": "2024-12-23T21:03:29.875Z"
   },
   {
    "duration": 8,
    "start_time": "2024-12-23T21:03:29.892Z"
   },
   {
    "duration": 126,
    "start_time": "2024-12-23T21:03:29.901Z"
   },
   {
    "duration": 31,
    "start_time": "2024-12-23T21:03:30.028Z"
   },
   {
    "duration": 62,
    "start_time": "2024-12-23T21:03:30.060Z"
   },
   {
    "duration": 3,
    "start_time": "2024-12-23T21:03:30.123Z"
   },
   {
    "duration": 88,
    "start_time": "2024-12-23T21:03:30.128Z"
   },
   {
    "duration": 57,
    "start_time": "2024-12-23T21:03:30.217Z"
   },
   {
    "duration": 35,
    "start_time": "2024-12-23T21:03:30.276Z"
   },
   {
    "duration": 81,
    "start_time": "2024-12-23T21:03:30.313Z"
   },
   {
    "duration": 39,
    "start_time": "2024-12-23T21:03:30.396Z"
   },
   {
    "duration": 38847,
    "start_time": "2024-12-23T21:03:30.437Z"
   },
   {
    "duration": 51,
    "start_time": "2024-12-23T21:04:09.287Z"
   },
   {
    "duration": 22,
    "start_time": "2024-12-23T21:04:09.340Z"
   },
   {
    "duration": 22,
    "start_time": "2024-12-23T21:04:09.363Z"
   },
   {
    "duration": 43856,
    "start_time": "2024-12-23T21:04:09.387Z"
   },
   {
    "duration": 6,
    "start_time": "2024-12-23T21:04:53.245Z"
   },
   {
    "duration": 81,
    "start_time": "2024-12-23T21:04:53.252Z"
   },
   {
    "duration": 145,
    "start_time": "2024-12-23T21:04:53.335Z"
   },
   {
    "duration": 3,
    "start_time": "2024-12-23T21:04:53.482Z"
   },
   {
    "duration": 1845,
    "start_time": "2024-12-23T21:04:53.486Z"
   },
   {
    "duration": 197,
    "start_time": "2024-12-23T21:04:55.333Z"
   },
   {
    "duration": 5,
    "start_time": "2024-12-23T21:04:55.532Z"
   },
   {
    "duration": 86,
    "start_time": "2024-12-23T21:04:55.542Z"
   },
   {
    "duration": 0,
    "start_time": "2024-12-23T21:04:55.630Z"
   },
   {
    "duration": 10730,
    "start_time": "2024-12-24T06:07:55.360Z"
   },
   {
    "duration": 2939,
    "start_time": "2024-12-24T06:08:06.093Z"
   },
   {
    "duration": 3008,
    "start_time": "2024-12-24T06:08:09.033Z"
   },
   {
    "duration": 3631,
    "start_time": "2024-12-24T06:08:12.043Z"
   },
   {
    "duration": 1539,
    "start_time": "2024-12-24T06:08:15.676Z"
   },
   {
    "duration": 2,
    "start_time": "2024-12-24T06:08:17.216Z"
   },
   {
    "duration": 1182,
    "start_time": "2024-12-24T06:08:17.220Z"
   },
   {
    "duration": 91,
    "start_time": "2024-12-24T06:08:18.403Z"
   },
   {
    "duration": 50,
    "start_time": "2024-12-24T06:08:18.496Z"
   },
   {
    "duration": 72,
    "start_time": "2024-12-24T06:08:18.554Z"
   },
   {
    "duration": 1162,
    "start_time": "2024-12-24T06:08:18.627Z"
   },
   {
    "duration": 159,
    "start_time": "2024-12-24T06:08:19.791Z"
   },
   {
    "duration": 18,
    "start_time": "2024-12-24T06:08:19.951Z"
   },
   {
    "duration": 90,
    "start_time": "2024-12-24T06:08:19.970Z"
   },
   {
    "duration": 52,
    "start_time": "2024-12-24T06:08:20.062Z"
   },
   {
    "duration": 530,
    "start_time": "2024-12-24T06:08:20.116Z"
   },
   {
    "duration": 385,
    "start_time": "2024-12-24T06:08:20.652Z"
   },
   {
    "duration": 78,
    "start_time": "2024-12-24T06:08:21.039Z"
   },
   {
    "duration": 170,
    "start_time": "2024-12-24T06:08:21.119Z"
   },
   {
    "duration": 201,
    "start_time": "2024-12-24T06:08:21.290Z"
   },
   {
    "duration": 228,
    "start_time": "2024-12-24T06:08:21.493Z"
   },
   {
    "duration": 172,
    "start_time": "2024-12-24T06:08:21.723Z"
   },
   {
    "duration": 3,
    "start_time": "2024-12-24T06:08:21.897Z"
   },
   {
    "duration": 592,
    "start_time": "2024-12-24T06:08:21.901Z"
   },
   {
    "duration": 30,
    "start_time": "2024-12-24T06:08:22.494Z"
   },
   {
    "duration": 29,
    "start_time": "2024-12-24T06:08:22.525Z"
   },
   {
    "duration": 64,
    "start_time": "2024-12-24T06:08:22.555Z"
   },
   {
    "duration": 132,
    "start_time": "2024-12-24T06:08:22.622Z"
   },
   {
    "duration": 29,
    "start_time": "2024-12-24T06:08:22.756Z"
   },
   {
    "duration": 31,
    "start_time": "2024-12-24T06:08:22.786Z"
   },
   {
    "duration": 15,
    "start_time": "2024-12-24T06:08:22.818Z"
   },
   {
    "duration": 120,
    "start_time": "2024-12-24T06:08:22.853Z"
   },
   {
    "duration": 162,
    "start_time": "2024-12-24T06:08:22.975Z"
   },
   {
    "duration": 18,
    "start_time": "2024-12-24T06:08:23.138Z"
   },
   {
    "duration": 78,
    "start_time": "2024-12-24T06:08:23.157Z"
   },
   {
    "duration": 35,
    "start_time": "2024-12-24T06:08:23.236Z"
   },
   {
    "duration": 32,
    "start_time": "2024-12-24T06:08:23.272Z"
   },
   {
    "duration": 152,
    "start_time": "2024-12-24T06:08:23.306Z"
   },
   {
    "duration": 13,
    "start_time": "2024-12-24T06:08:23.459Z"
   },
   {
    "duration": 21,
    "start_time": "2024-12-24T06:08:23.474Z"
   },
   {
    "duration": 22,
    "start_time": "2024-12-24T06:08:23.497Z"
   },
   {
    "duration": 3,
    "start_time": "2024-12-24T06:08:23.521Z"
   },
   {
    "duration": 31,
    "start_time": "2024-12-24T06:08:23.525Z"
   },
   {
    "duration": 4302,
    "start_time": "2024-12-24T06:08:23.558Z"
   },
   {
    "duration": 44,
    "start_time": "2024-12-24T06:08:27.861Z"
   },
   {
    "duration": 15,
    "start_time": "2024-12-24T06:08:27.907Z"
   },
   {
    "duration": 6,
    "start_time": "2024-12-24T06:08:27.924Z"
   },
   {
    "duration": 122,
    "start_time": "2024-12-24T06:08:27.931Z"
   },
   {
    "duration": 26,
    "start_time": "2024-12-24T06:08:28.054Z"
   },
   {
    "duration": 89,
    "start_time": "2024-12-24T06:08:28.082Z"
   },
   {
    "duration": 3,
    "start_time": "2024-12-24T06:08:28.172Z"
   },
   {
    "duration": 5,
    "start_time": "2024-12-24T06:08:28.176Z"
   },
   {
    "duration": 11,
    "start_time": "2024-12-24T06:08:28.183Z"
   },
   {
    "duration": 8,
    "start_time": "2024-12-24T06:08:28.195Z"
   },
   {
    "duration": 28,
    "start_time": "2024-12-24T06:08:28.204Z"
   },
   {
    "duration": 13,
    "start_time": "2024-12-24T06:08:28.233Z"
   },
   {
    "duration": 34265,
    "start_time": "2024-12-24T06:08:28.247Z"
   },
   {
    "duration": 47,
    "start_time": "2024-12-24T06:09:02.513Z"
   },
   {
    "duration": 16,
    "start_time": "2024-12-24T06:09:02.561Z"
   },
   {
    "duration": 74,
    "start_time": "2024-12-24T06:09:02.578Z"
   },
   {
    "duration": 47200,
    "start_time": "2024-12-24T06:09:02.654Z"
   },
   {
    "duration": 5,
    "start_time": "2024-12-24T06:09:49.856Z"
   },
   {
    "duration": 24,
    "start_time": "2024-12-24T06:12:27.279Z"
   },
   {
    "duration": 107,
    "start_time": "2024-12-24T06:14:19.271Z"
   }
  ],
  "kernelspec": {
   "display_name": "Python 3 (ipykernel)",
   "language": "python",
   "name": "python3"
  },
  "language_info": {
   "codemirror_mode": {
    "name": "ipython",
    "version": 3
   },
   "file_extension": ".py",
   "mimetype": "text/x-python",
   "name": "python",
   "nbconvert_exporter": "python",
   "pygments_lexer": "ipython3",
   "version": "3.11.9"
  },
  "toc": {
   "base_numbering": 1,
   "nav_menu": {},
   "number_sections": true,
   "sideBar": true,
   "skip_h1_title": true,
   "title_cell": "Table of Contents",
   "title_sidebar": "Contents",
   "toc_cell": false,
   "toc_position": {},
   "toc_section_display": true,
   "toc_window_display": false
  }
 },
 "nbformat": 4,
 "nbformat_minor": 2
}
